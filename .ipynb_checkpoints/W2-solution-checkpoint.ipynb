{
 "cells": [
  {
   "cell_type": "markdown",
   "id": "4cd75b73",
   "metadata": {},
   "source": [
    "# Introduction\n",
    "\n",
    "In this lab, we get some initial experience with using some of the main python tools for this course, including\n",
    "Numpy, Matplotlib and Pandas. We also load some datasets, compute some basic statistics on them and plot\n",
    "them.\n",
    "\n",
    "The lab assumes that you are familiar with Python. Please complete ``Week 01 lab: Introduction to python`` before attempting this lab. \n",
    "\n",
    "The lab can be executed on either your own machine (with anaconda installation) or lab computer. \n",
    "- Please refer canvas for instructions on installing anaconda python and Jupyter Notebook.\n",
    "\n",
    "\n",
    "## Objective\n",
    "- Continue to familiarise with Python and Jupyter Notebook\n",
    "- Load dataset and examine the dataset\n",
    "- Learn to compute basic statistics to understand the dataset more\n",
    "- Plot the datasets to visually investigate the dataset"
   ]
  },
  {
   "cell_type": "markdown",
   "id": "51ec1f0d",
   "metadata": {},
   "source": [
    "## Dataset\n",
    "\n",
    "We examine two regression based datasets in this lab. The first one is to do with house prices, some factors\n",
    "associated with the prices and trying to predict house prices. The second dataset is predicting the amount of\n",
    "share bikes hired every day in Washington D.C., USA, based on time of the year, day of the week and weather\n",
    "factors. These datasets are available in 'housing.data.csv' and 'bikeShareDay.csv' in the code repository. \n",
    "\n",
    "First, ensure the two data files are located within the Jupyter workspace. \n",
    "- If you are on the local machine copy the two data data directories ('BostonHousingPrice','Bike-Sharing-Dataset') to your current folder."
   ]
  },
  {
   "cell_type": "markdown",
   "id": "cff53cae",
   "metadata": {},
   "source": [
    "# Load dataset to Python Notebook\n",
    "\n",
    "Next we examine how to load these into Python and Jupyter notebooks. We will first analyse the House prices dataset, then you’ll repeat the process to analyse the bike hire dataset.\n",
    "\n",
    "First we need to import a few packages that will be used for our data loading and analysis. In python notebook you can load packages just before it is called (no need to load them at the start of the program).\n",
    "\n",
    "Pandas is a great Python package for loading data.  We will use Matplotlib to visualise some of the distributions.  Numpy is a numeric library that has many useful matrices and mathematical functionality."
   ]
  },
  {
   "cell_type": "code",
   "execution_count": 26,
   "id": "4b82ba5b",
   "metadata": {},
   "outputs": [],
   "source": [
    "import pandas as pd"
   ]
  },
  {
   "cell_type": "code",
   "execution_count": 27,
   "id": "f43635d8",
   "metadata": {},
   "outputs": [],
   "source": [
    "import matplotlib.pyplot as plt"
   ]
  },
  {
   "cell_type": "code",
   "execution_count": 28,
   "id": "91768a1e",
   "metadata": {},
   "outputs": [],
   "source": [
    "import numpy as np"
   ]
  },
  {
   "cell_type": "code",
   "execution_count": 29,
   "id": "e3cb9ec5",
   "metadata": {},
   "outputs": [],
   "source": [
    "housedata = pd.read_csv(\"housing.data.csv\", delimiter=\"\\s+\")"
   ]
  },
  {
   "cell_type": "markdown",
   "id": "ccc9f3e7",
   "metadata": {},
   "source": [
    "Replace the filename with the relative or absolute path to your files.  We strongly encourage you to look up the documentation of the functions we use in the lab, in this case examine [Pandas read_csv documentation](https://pandas.pydata.org/pandas-docs/stable/reference/api/pandas.read_csv.html).\n",
    "\n",
    "The `read_csv()` command loads the input file, which is a csv formatted file delimited by tabs, into a **Pandas dataframe** (which can be thought of as a table). A dataframe can store the column names as well as the data.  Examine what has been loaded into the dataframe `housedata`."
   ]
  },
  {
   "cell_type": "code",
   "execution_count": 24,
   "id": "ba299dbf",
   "metadata": {},
   "outputs": [
    {
     "name": "stdout",
     "output_type": "stream",
     "text": [
      "        CRIM    ZN  INDUS  CHAS    NOX     RM   AGE     DIS  RAD    TAX  \\\n",
      "0    0.00632  18.0   2.31     0  0.538  6.575  65.2  4.0900    1  296.0   \n",
      "1    0.02731   0.0   7.07     0  0.469  6.421  78.9  4.9671    2  242.0   \n",
      "2    0.02729   0.0   7.07     0  0.469  7.185  61.1  4.9671    2  242.0   \n",
      "3    0.03237   0.0   2.18     0  0.458  6.998  45.8  6.0622    3  222.0   \n",
      "4    0.06905   0.0   2.18     0  0.458  7.147  54.2  6.0622    3  222.0   \n",
      "..       ...   ...    ...   ...    ...    ...   ...     ...  ...    ...   \n",
      "501  0.06263   0.0  11.93     0  0.573  6.593  69.1  2.4786    1  273.0   \n",
      "502  0.04527   0.0  11.93     0  0.573  6.120  76.7  2.2875    1  273.0   \n",
      "503  0.06076   0.0  11.93     0  0.573  6.976  91.0  2.1675    1  273.0   \n",
      "504  0.10959   0.0  11.93     0  0.573  6.794  89.3  2.3889    1  273.0   \n",
      "505  0.04741   0.0  11.93     0  0.573  6.030  80.8  2.5050    1  273.0   \n",
      "\n",
      "     PTRATIO       B  LSTAT  MEDV  \n",
      "0       15.3  396.90   4.98  24.0  \n",
      "1       17.8  396.90   9.14  21.6  \n",
      "2       17.8  392.83   4.03  34.7  \n",
      "3       18.7  394.63   2.94  33.4  \n",
      "4       18.7  396.90   5.33  36.2  \n",
      "..       ...     ...    ...   ...  \n",
      "501     21.0  391.99   9.67  22.4  \n",
      "502     21.0  396.90   9.08  20.6  \n",
      "503     21.0  396.90   5.64  23.9  \n",
      "504     21.0  393.45   6.48  22.0  \n",
      "505     21.0  396.90   7.88  11.9  \n",
      "\n",
      "[506 rows x 14 columns]\n"
     ]
    }
   ],
   "source": [
    "print(housedata)"
   ]
  },
  {
   "cell_type": "markdown",
   "id": "1899390d",
   "metadata": {},
   "source": [
    "If you are interested in checking only the first few rows of the dataframe to see if you have read the data in correctly, you can use the head method in dataframe."
   ]
  },
  {
   "cell_type": "code",
   "execution_count": 8,
   "id": "0f8f06ec",
   "metadata": {},
   "outputs": [
    {
     "data": {
      "text/html": [
       "<div>\n",
       "<style scoped>\n",
       "    .dataframe tbody tr th:only-of-type {\n",
       "        vertical-align: middle;\n",
       "    }\n",
       "\n",
       "    .dataframe tbody tr th {\n",
       "        vertical-align: top;\n",
       "    }\n",
       "\n",
       "    .dataframe thead th {\n",
       "        text-align: right;\n",
       "    }\n",
       "</style>\n",
       "<table border=\"1\" class=\"dataframe\">\n",
       "  <thead>\n",
       "    <tr style=\"text-align: right;\">\n",
       "      <th></th>\n",
       "      <th>CRIM</th>\n",
       "      <th>ZN</th>\n",
       "      <th>INDUS</th>\n",
       "      <th>CHAS</th>\n",
       "      <th>NOX</th>\n",
       "      <th>RM</th>\n",
       "      <th>AGE</th>\n",
       "      <th>DIS</th>\n",
       "      <th>RAD</th>\n",
       "      <th>TAX</th>\n",
       "      <th>PTRATIO</th>\n",
       "      <th>B</th>\n",
       "      <th>LSTAT</th>\n",
       "      <th>MEDV</th>\n",
       "    </tr>\n",
       "  </thead>\n",
       "  <tbody>\n",
       "    <tr>\n",
       "      <th>0</th>\n",
       "      <td>0.00632</td>\n",
       "      <td>18.0</td>\n",
       "      <td>2.31</td>\n",
       "      <td>0</td>\n",
       "      <td>0.538</td>\n",
       "      <td>6.575</td>\n",
       "      <td>65.2</td>\n",
       "      <td>4.0900</td>\n",
       "      <td>1</td>\n",
       "      <td>296.0</td>\n",
       "      <td>15.3</td>\n",
       "      <td>396.90</td>\n",
       "      <td>4.98</td>\n",
       "      <td>24.0</td>\n",
       "    </tr>\n",
       "    <tr>\n",
       "      <th>1</th>\n",
       "      <td>0.02731</td>\n",
       "      <td>0.0</td>\n",
       "      <td>7.07</td>\n",
       "      <td>0</td>\n",
       "      <td>0.469</td>\n",
       "      <td>6.421</td>\n",
       "      <td>78.9</td>\n",
       "      <td>4.9671</td>\n",
       "      <td>2</td>\n",
       "      <td>242.0</td>\n",
       "      <td>17.8</td>\n",
       "      <td>396.90</td>\n",
       "      <td>9.14</td>\n",
       "      <td>21.6</td>\n",
       "    </tr>\n",
       "    <tr>\n",
       "      <th>2</th>\n",
       "      <td>0.02729</td>\n",
       "      <td>0.0</td>\n",
       "      <td>7.07</td>\n",
       "      <td>0</td>\n",
       "      <td>0.469</td>\n",
       "      <td>7.185</td>\n",
       "      <td>61.1</td>\n",
       "      <td>4.9671</td>\n",
       "      <td>2</td>\n",
       "      <td>242.0</td>\n",
       "      <td>17.8</td>\n",
       "      <td>392.83</td>\n",
       "      <td>4.03</td>\n",
       "      <td>34.7</td>\n",
       "    </tr>\n",
       "    <tr>\n",
       "      <th>3</th>\n",
       "      <td>0.03237</td>\n",
       "      <td>0.0</td>\n",
       "      <td>2.18</td>\n",
       "      <td>0</td>\n",
       "      <td>0.458</td>\n",
       "      <td>6.998</td>\n",
       "      <td>45.8</td>\n",
       "      <td>6.0622</td>\n",
       "      <td>3</td>\n",
       "      <td>222.0</td>\n",
       "      <td>18.7</td>\n",
       "      <td>394.63</td>\n",
       "      <td>2.94</td>\n",
       "      <td>33.4</td>\n",
       "    </tr>\n",
       "    <tr>\n",
       "      <th>4</th>\n",
       "      <td>0.06905</td>\n",
       "      <td>0.0</td>\n",
       "      <td>2.18</td>\n",
       "      <td>0</td>\n",
       "      <td>0.458</td>\n",
       "      <td>7.147</td>\n",
       "      <td>54.2</td>\n",
       "      <td>6.0622</td>\n",
       "      <td>3</td>\n",
       "      <td>222.0</td>\n",
       "      <td>18.7</td>\n",
       "      <td>396.90</td>\n",
       "      <td>5.33</td>\n",
       "      <td>36.2</td>\n",
       "    </tr>\n",
       "  </tbody>\n",
       "</table>\n",
       "</div>"
      ],
      "text/plain": [
       "      CRIM    ZN  INDUS  CHAS    NOX     RM   AGE     DIS  RAD    TAX  \\\n",
       "0  0.00632  18.0   2.31     0  0.538  6.575  65.2  4.0900    1  296.0   \n",
       "1  0.02731   0.0   7.07     0  0.469  6.421  78.9  4.9671    2  242.0   \n",
       "2  0.02729   0.0   7.07     0  0.469  7.185  61.1  4.9671    2  242.0   \n",
       "3  0.03237   0.0   2.18     0  0.458  6.998  45.8  6.0622    3  222.0   \n",
       "4  0.06905   0.0   2.18     0  0.458  7.147  54.2  6.0622    3  222.0   \n",
       "\n",
       "   PTRATIO       B  LSTAT  MEDV  \n",
       "0     15.3  396.90   4.98  24.0  \n",
       "1     17.8  396.90   9.14  21.6  \n",
       "2     17.8  392.83   4.03  34.7  \n",
       "3     18.7  394.63   2.94  33.4  \n",
       "4     18.7  396.90   5.33  36.2  "
      ]
     },
     "execution_count": 8,
     "metadata": {},
     "output_type": "execute_result"
    }
   ],
   "source": [
    "housedata.head()"
   ]
  },
  {
   "cell_type": "markdown",
   "id": "500c873f",
   "metadata": {},
   "source": [
    "Now we have loaded the data into a data frame and printed it out, next we will compute some very basic statistics. The abbreviated column names:\n",
    "- CRIM:      per capita crime rate by town\n",
    "- ZN:        proportion of residential land zoned for lots over 25,000 sq.ft.\n",
    "- INDUS:     proportion of non-retail business acres per town\n",
    "- CHAS:      Charles River dummy variable (= 1 if tract bounds river; 0 otherwise)\n",
    "- NOX:       nitric oxides concentration (parts per 10 million)\n",
    "- RM:        average number of rooms per dwelling\n",
    "- AGE:       proportion of owner-occupied units built prior to 1940\n",
    "- DIS:       weighted distances to five Boston employment centres\n",
    "- RAD:       index of accessibility to radial highways\n",
    "- TAX:      full-value property-tax rate per USD10,000\n",
    "- PTRATIO:  pupil-teacher ratio by town\n",
    "- B:        1000 (Bk - 0.63)^2 where Bk is the proportion of blacks by town\n",
    "- LSTAT:    lower status of the population\n",
    "- MEDV:     Median value of owner-occupied homes in USD1000's\n",
    "\n",
    "\n",
    "<font color='green'> The target column is **MEDV** and all the other columns are attributes. </font>\n",
    "\n",
    "Study the variables carefully and understand what they represent before moving to the next section. "
   ]
  },
  {
   "cell_type": "markdown",
   "id": "f47b335e",
   "metadata": {},
   "source": [
    "# Exploratory Data Analysis (EDA)\n",
    "\n",
    "Often the first step in developing a machine learning solution for a given dataset is the EDA. EDA refers to the critical process of performing initial investigations on data so as to:\n",
    " - Maximize insight into a data set;\n",
    " - Uncover underlying structure;\n",
    " - Extract important variables;\n",
    " - Detect outliers and anomalies;\n",
    " - Test underlying assumptions;\n",
    " - Develop parsimonious models; and\n",
    " - Determine optimal factor settings.\n",
    " \n",
    "with the help of summary statistics and graphical representations. The particular graphical techniques employed in EDA are often quite simple, consisting of various techniques of:\n",
    "\n",
    "- Plotting the raw data (such as data traces, histograms, bi-histograms, probability plots, lag plots, block plots, and Youden plots.\n",
    "- Plotting simple statistics such as mean plots, standard deviation plots, box plots, and main effects plots of the raw data.\n",
    "- Positioning such plots so as to maximize our natural pattern-recognition abilities, such as using multiple plots per page."
   ]
  },
  {
   "cell_type": "markdown",
   "id": "b204f980",
   "metadata": {},
   "source": [
    "> **<span style=\"font-size:1.5em;\">⚠</span> Warning: EDA is a subjective process and will depend on the task & the data you have. There is no globally correct way of doing this.**\n",
    "> Usually you need to have a good understanding of the task before deciding what EDA techniques to use and continuously refine them based on the observations you make in the initial steps. Since we are still at the beginning of the course, let's explore some commonly used techniques. You will understand the significance of these methods and observations in terms of ML in the next couple of weeks."
   ]
  },
  {
   "cell_type": "markdown",
   "id": "8f396e6c",
   "metadata": {},
   "source": [
    "Let's first see the shape of the dataframe."
   ]
  },
  {
   "cell_type": "code",
   "execution_count": 9,
   "id": "2e58d06c",
   "metadata": {},
   "outputs": [
    {
     "data": {
      "text/plain": [
       "(506, 14)"
      ]
     },
     "execution_count": 9,
     "metadata": {},
     "output_type": "execute_result"
    }
   ],
   "source": [
    "housedata.shape"
   ]
  },
  {
   "cell_type": "markdown",
   "id": "6bad0e84",
   "metadata": {},
   "source": [
    "<span style=\"font-size:1.5em;\">�</span> What does the above output tell you?\n",
    "\n",
    "It is also a good practice to know the columns and their corresponding data types, along with finding whether they contain null values or not."
   ]
  },
  {
   "cell_type": "code",
   "execution_count": 10,
   "id": "902cc83b",
   "metadata": {},
   "outputs": [
    {
     "name": "stdout",
     "output_type": "stream",
     "text": [
      "<class 'pandas.core.frame.DataFrame'>\n",
      "RangeIndex: 506 entries, 0 to 505\n",
      "Data columns (total 14 columns):\n",
      " #   Column   Non-Null Count  Dtype  \n",
      "---  ------   --------------  -----  \n",
      " 0   CRIM     506 non-null    float64\n",
      " 1   ZN       506 non-null    float64\n",
      " 2   INDUS    506 non-null    float64\n",
      " 3   CHAS     506 non-null    int64  \n",
      " 4   NOX      506 non-null    float64\n",
      " 5   RM       506 non-null    float64\n",
      " 6   AGE      506 non-null    float64\n",
      " 7   DIS      506 non-null    float64\n",
      " 8   RAD      506 non-null    int64  \n",
      " 9   TAX      506 non-null    float64\n",
      " 10  PTRATIO  506 non-null    float64\n",
      " 11  B        506 non-null    float64\n",
      " 12  LSTAT    506 non-null    float64\n",
      " 13  MEDV     506 non-null    float64\n",
      "dtypes: float64(12), int64(2)\n",
      "memory usage: 55.5 KB\n"
     ]
    }
   ],
   "source": [
    "housedata.info()"
   ]
  },
  {
   "cell_type": "markdown",
   "id": "d5dfa8aa",
   "metadata": {},
   "source": [
    "In pandas, any missing values in the data (your input CSV file) is represented as NaN. \n",
    "\n",
    "<span style=\"font-size:1.5em;\">�</span> Are there any missing values in the dataset? \n",
    "\n",
    "\n",
    "Next let's compute some summary statistics of the data we have read.\n"
   ]
  },
  {
   "cell_type": "code",
   "execution_count": 18,
   "id": "687386c8",
   "metadata": {},
   "outputs": [
    {
     "data": {
      "text/plain": [
       "CRIM         0.00632\n",
       "ZN           0.00000\n",
       "INDUS        0.46000\n",
       "CHAS         0.00000\n",
       "NOX          0.38500\n",
       "RM           3.56100\n",
       "AGE          2.90000\n",
       "DIS          1.12960\n",
       "RAD          1.00000\n",
       "TAX        187.00000\n",
       "PTRATIO     12.60000\n",
       "B            0.32000\n",
       "LSTAT        1.73000\n",
       "MEDV         5.00000\n",
       "dtype: float64"
      ]
     },
     "execution_count": 18,
     "metadata": {},
     "output_type": "execute_result"
    }
   ],
   "source": [
    "pd.DataFrame.min(housedata)"
   ]
  },
  {
   "cell_type": "code",
   "execution_count": 19,
   "id": "94a36af6",
   "metadata": {},
   "outputs": [
    {
     "data": {
      "text/plain": [
       "CRIM        88.9762\n",
       "ZN         100.0000\n",
       "INDUS       27.7400\n",
       "CHAS         1.0000\n",
       "NOX          0.8710\n",
       "RM           8.7800\n",
       "AGE        100.0000\n",
       "DIS         12.1265\n",
       "RAD         24.0000\n",
       "TAX        711.0000\n",
       "PTRATIO     22.0000\n",
       "B          396.9000\n",
       "LSTAT       37.9700\n",
       "MEDV        50.0000\n",
       "dtype: float64"
      ]
     },
     "execution_count": 19,
     "metadata": {},
     "output_type": "execute_result"
    }
   ],
   "source": [
    "pd.DataFrame.max(housedata)"
   ]
  },
  {
   "cell_type": "code",
   "execution_count": 20,
   "id": "1bf9e57f",
   "metadata": {},
   "outputs": [
    {
     "data": {
      "text/plain": [
       "CRIM         3.613524\n",
       "ZN          11.363636\n",
       "INDUS       11.136779\n",
       "CHAS         0.069170\n",
       "NOX          0.554695\n",
       "RM           6.284634\n",
       "AGE         68.574901\n",
       "DIS          3.795043\n",
       "RAD          9.549407\n",
       "TAX        408.237154\n",
       "PTRATIO     18.455534\n",
       "B          356.674032\n",
       "LSTAT       12.653063\n",
       "MEDV        22.532806\n",
       "dtype: float64"
      ]
     },
     "execution_count": 20,
     "metadata": {},
     "output_type": "execute_result"
    }
   ],
   "source": [
    "pd.DataFrame.mean(housedata)"
   ]
  },
  {
   "cell_type": "code",
   "execution_count": 21,
   "id": "af19717a",
   "metadata": {},
   "outputs": [
    {
     "data": {
      "text/plain": [
       "CRIM         0.25651\n",
       "ZN           0.00000\n",
       "INDUS        9.69000\n",
       "CHAS         0.00000\n",
       "NOX          0.53800\n",
       "RM           6.20850\n",
       "AGE         77.50000\n",
       "DIS          3.20745\n",
       "RAD          5.00000\n",
       "TAX        330.00000\n",
       "PTRATIO     19.05000\n",
       "B          391.44000\n",
       "LSTAT       11.36000\n",
       "MEDV        21.20000\n",
       "dtype: float64"
      ]
     },
     "execution_count": 21,
     "metadata": {},
     "output_type": "execute_result"
    }
   ],
   "source": [
    "pd.DataFrame.median(housedata)"
   ]
  },
  {
   "cell_type": "markdown",
   "id": "b80b42f8",
   "metadata": {},
   "source": [
    "The describe() function in pandas is very handy in getting various summary statistics. This function returns the count, mean, standard deviation, minimum and maximum values and the quantiles of the data."
   ]
  },
  {
   "cell_type": "code",
   "execution_count": 11,
   "id": "854da92c",
   "metadata": {},
   "outputs": [
    {
     "data": {
      "text/html": [
       "<div>\n",
       "<style scoped>\n",
       "    .dataframe tbody tr th:only-of-type {\n",
       "        vertical-align: middle;\n",
       "    }\n",
       "\n",
       "    .dataframe tbody tr th {\n",
       "        vertical-align: top;\n",
       "    }\n",
       "\n",
       "    .dataframe thead th {\n",
       "        text-align: right;\n",
       "    }\n",
       "</style>\n",
       "<table border=\"1\" class=\"dataframe\">\n",
       "  <thead>\n",
       "    <tr style=\"text-align: right;\">\n",
       "      <th></th>\n",
       "      <th>CRIM</th>\n",
       "      <th>ZN</th>\n",
       "      <th>INDUS</th>\n",
       "      <th>CHAS</th>\n",
       "      <th>NOX</th>\n",
       "      <th>RM</th>\n",
       "      <th>AGE</th>\n",
       "      <th>DIS</th>\n",
       "      <th>RAD</th>\n",
       "      <th>TAX</th>\n",
       "      <th>PTRATIO</th>\n",
       "      <th>B</th>\n",
       "      <th>LSTAT</th>\n",
       "      <th>MEDV</th>\n",
       "    </tr>\n",
       "  </thead>\n",
       "  <tbody>\n",
       "    <tr>\n",
       "      <th>count</th>\n",
       "      <td>506.000000</td>\n",
       "      <td>506.000000</td>\n",
       "      <td>506.000000</td>\n",
       "      <td>506.000000</td>\n",
       "      <td>506.000000</td>\n",
       "      <td>506.000000</td>\n",
       "      <td>506.000000</td>\n",
       "      <td>506.000000</td>\n",
       "      <td>506.000000</td>\n",
       "      <td>506.000000</td>\n",
       "      <td>506.000000</td>\n",
       "      <td>506.000000</td>\n",
       "      <td>506.000000</td>\n",
       "      <td>506.000000</td>\n",
       "    </tr>\n",
       "    <tr>\n",
       "      <th>mean</th>\n",
       "      <td>3.613524</td>\n",
       "      <td>11.363636</td>\n",
       "      <td>11.136779</td>\n",
       "      <td>0.069170</td>\n",
       "      <td>0.554695</td>\n",
       "      <td>6.284634</td>\n",
       "      <td>68.574901</td>\n",
       "      <td>3.795043</td>\n",
       "      <td>9.549407</td>\n",
       "      <td>408.237154</td>\n",
       "      <td>18.455534</td>\n",
       "      <td>356.674032</td>\n",
       "      <td>12.653063</td>\n",
       "      <td>22.532806</td>\n",
       "    </tr>\n",
       "    <tr>\n",
       "      <th>std</th>\n",
       "      <td>8.601545</td>\n",
       "      <td>23.322453</td>\n",
       "      <td>6.860353</td>\n",
       "      <td>0.253994</td>\n",
       "      <td>0.115878</td>\n",
       "      <td>0.702617</td>\n",
       "      <td>28.148861</td>\n",
       "      <td>2.105710</td>\n",
       "      <td>8.707259</td>\n",
       "      <td>168.537116</td>\n",
       "      <td>2.164946</td>\n",
       "      <td>91.294864</td>\n",
       "      <td>7.141062</td>\n",
       "      <td>9.197104</td>\n",
       "    </tr>\n",
       "    <tr>\n",
       "      <th>min</th>\n",
       "      <td>0.006320</td>\n",
       "      <td>0.000000</td>\n",
       "      <td>0.460000</td>\n",
       "      <td>0.000000</td>\n",
       "      <td>0.385000</td>\n",
       "      <td>3.561000</td>\n",
       "      <td>2.900000</td>\n",
       "      <td>1.129600</td>\n",
       "      <td>1.000000</td>\n",
       "      <td>187.000000</td>\n",
       "      <td>12.600000</td>\n",
       "      <td>0.320000</td>\n",
       "      <td>1.730000</td>\n",
       "      <td>5.000000</td>\n",
       "    </tr>\n",
       "    <tr>\n",
       "      <th>25%</th>\n",
       "      <td>0.082045</td>\n",
       "      <td>0.000000</td>\n",
       "      <td>5.190000</td>\n",
       "      <td>0.000000</td>\n",
       "      <td>0.449000</td>\n",
       "      <td>5.885500</td>\n",
       "      <td>45.025000</td>\n",
       "      <td>2.100175</td>\n",
       "      <td>4.000000</td>\n",
       "      <td>279.000000</td>\n",
       "      <td>17.400000</td>\n",
       "      <td>375.377500</td>\n",
       "      <td>6.950000</td>\n",
       "      <td>17.025000</td>\n",
       "    </tr>\n",
       "    <tr>\n",
       "      <th>50%</th>\n",
       "      <td>0.256510</td>\n",
       "      <td>0.000000</td>\n",
       "      <td>9.690000</td>\n",
       "      <td>0.000000</td>\n",
       "      <td>0.538000</td>\n",
       "      <td>6.208500</td>\n",
       "      <td>77.500000</td>\n",
       "      <td>3.207450</td>\n",
       "      <td>5.000000</td>\n",
       "      <td>330.000000</td>\n",
       "      <td>19.050000</td>\n",
       "      <td>391.440000</td>\n",
       "      <td>11.360000</td>\n",
       "      <td>21.200000</td>\n",
       "    </tr>\n",
       "    <tr>\n",
       "      <th>75%</th>\n",
       "      <td>3.677083</td>\n",
       "      <td>12.500000</td>\n",
       "      <td>18.100000</td>\n",
       "      <td>0.000000</td>\n",
       "      <td>0.624000</td>\n",
       "      <td>6.623500</td>\n",
       "      <td>94.075000</td>\n",
       "      <td>5.188425</td>\n",
       "      <td>24.000000</td>\n",
       "      <td>666.000000</td>\n",
       "      <td>20.200000</td>\n",
       "      <td>396.225000</td>\n",
       "      <td>16.955000</td>\n",
       "      <td>25.000000</td>\n",
       "    </tr>\n",
       "    <tr>\n",
       "      <th>max</th>\n",
       "      <td>88.976200</td>\n",
       "      <td>100.000000</td>\n",
       "      <td>27.740000</td>\n",
       "      <td>1.000000</td>\n",
       "      <td>0.871000</td>\n",
       "      <td>8.780000</td>\n",
       "      <td>100.000000</td>\n",
       "      <td>12.126500</td>\n",
       "      <td>24.000000</td>\n",
       "      <td>711.000000</td>\n",
       "      <td>22.000000</td>\n",
       "      <td>396.900000</td>\n",
       "      <td>37.970000</td>\n",
       "      <td>50.000000</td>\n",
       "    </tr>\n",
       "  </tbody>\n",
       "</table>\n",
       "</div>"
      ],
      "text/plain": [
       "             CRIM          ZN       INDUS        CHAS         NOX          RM  \\\n",
       "count  506.000000  506.000000  506.000000  506.000000  506.000000  506.000000   \n",
       "mean     3.613524   11.363636   11.136779    0.069170    0.554695    6.284634   \n",
       "std      8.601545   23.322453    6.860353    0.253994    0.115878    0.702617   \n",
       "min      0.006320    0.000000    0.460000    0.000000    0.385000    3.561000   \n",
       "25%      0.082045    0.000000    5.190000    0.000000    0.449000    5.885500   \n",
       "50%      0.256510    0.000000    9.690000    0.000000    0.538000    6.208500   \n",
       "75%      3.677083   12.500000   18.100000    0.000000    0.624000    6.623500   \n",
       "max     88.976200  100.000000   27.740000    1.000000    0.871000    8.780000   \n",
       "\n",
       "              AGE         DIS         RAD         TAX     PTRATIO           B  \\\n",
       "count  506.000000  506.000000  506.000000  506.000000  506.000000  506.000000   \n",
       "mean    68.574901    3.795043    9.549407  408.237154   18.455534  356.674032   \n",
       "std     28.148861    2.105710    8.707259  168.537116    2.164946   91.294864   \n",
       "min      2.900000    1.129600    1.000000  187.000000   12.600000    0.320000   \n",
       "25%     45.025000    2.100175    4.000000  279.000000   17.400000  375.377500   \n",
       "50%     77.500000    3.207450    5.000000  330.000000   19.050000  391.440000   \n",
       "75%     94.075000    5.188425   24.000000  666.000000   20.200000  396.225000   \n",
       "max    100.000000   12.126500   24.000000  711.000000   22.000000  396.900000   \n",
       "\n",
       "            LSTAT        MEDV  \n",
       "count  506.000000  506.000000  \n",
       "mean    12.653063   22.532806  \n",
       "std      7.141062    9.197104  \n",
       "min      1.730000    5.000000  \n",
       "25%      6.950000   17.025000  \n",
       "50%     11.360000   21.200000  \n",
       "75%     16.955000   25.000000  \n",
       "max     37.970000   50.000000  "
      ]
     },
     "execution_count": 11,
     "metadata": {},
     "output_type": "execute_result"
    }
   ],
   "source": [
    "housedata.describe()"
   ]
  },
  {
   "cell_type": "markdown",
   "id": "6d9f861a",
   "metadata": {},
   "source": [
    "Data comes in two principle types in statistics, and it is crucial that we recognize the differences between these two types of data.\n",
    "\n",
    "1. Categorical Variables: These are data points that take on a finite number of values, AND whose values do not have a numerical interpretation.\n",
    "\n",
    "    * Ordinal categorical variables take on values which can be logically ordered. For example, the reviews for a product which are given as 0-5 stars. \n",
    "\n",
    "    * Nominal categorical variables cannot be put in any logical order. Examples of this would be the gender, race, etc.\n",
    "    \n",
    " \n",
    "2. Numerical Variables: These are variables which are numerical in nature\n",
    "\n",
    "    * Continuous Variables: Take on a continuous values (no breaks). For example, height, weight.\n",
    "\n",
    "    * Discrete numerical variables take on a set of values which can be counted. For example, the number of rooms in a house.\n",
    "\n",
    "<span style=\"font-size:1.5em;\">�</span>Try to identify what type of data is in the `datahouse` dataframe.  \n",
    "<span style=\"font-size:1.5em;\">�</span>What is the type of data for CHAS and RAD?"
   ]
  },
  {
   "cell_type": "markdown",
   "id": "db068c10",
   "metadata": {},
   "source": [
    "<span style=\"font-size:1.5em;\">�</span> What insights did you get from the above output? \n",
    "Look closely at attributes `ZN`, and `CHAS`, do you see a difference in those two compared to the others. "
   ]
  },
  {
   "cell_type": "markdown",
   "id": "e77dc6d0",
   "metadata": {},
   "source": [
    "## Data Distribution\n",
    "One of the most important step in EDA is estimating the distribution of a variable. Lets begin with histogram plot."
   ]
  },
  {
   "cell_type": "code",
   "execution_count": 12,
   "id": "5cf40d1f",
   "metadata": {},
   "outputs": [
    {
     "data": {
      "text/plain": [
       "<Figure size 1600x1600 with 0 Axes>"
      ]
     },
     "metadata": {},
     "output_type": "display_data"
    },
    {
     "data": {
      "image/png": "[encoded data removed]",
      "text/plain": [
       "<Figure size 432x288 with 16 Axes>"
      ]
     },
     "metadata": {
      "needs_background": "light"
     },
     "output_type": "display_data"
    }
   ],
   "source": [
    "plt.figure(figsize=(20, 20), dpi=80)\n",
    "housedata.hist()\n",
    "plt.show()"
   ]
  },
  {
   "cell_type": "code",
   "execution_count": 15,
   "id": "d61d3d99",
   "metadata": {},
   "outputs": [
    {
     "data": {
      "image/png": "[encoded data removed]",
      "text/plain": [
       "<Figure size 1440x1440 with 14 Axes>"
      ]
     },
     "metadata": {
      "needs_background": "light"
     },
     "output_type": "display_data"
    }
   ],
   "source": [
    "plt.figure(figsize=(20,20))\n",
    "for i, col in enumerate(housedata.columns):\n",
    "    plt.subplot(4,5,i+1)\n",
    "    plt.hist(housedata[col], alpha=0.3, color='r', density=True)\n",
    "    plt.title(col)\n",
    "    plt.xticks(rotation='vertical')"
   ]
  },
  {
   "cell_type": "markdown",
   "id": "701703df",
   "metadata": {},
   "source": [
    "> <span style=\"font-size:1.5em;\">⚠</span> **Warning: Always question the bin sizes** of a histogram to see whether they are appropriate for the plot being presented. If you see a histogram with illogically large or small bin sizes and/or uneven bin sizes beware of the results being presented!"
   ]
  },
  {
   "cell_type": "markdown",
   "id": "fd84488c",
   "metadata": {},
   "source": [
    "<span style=\"font-size:1.5em;\">�</span> What observations did you make?\n",
    "\n"
   ]
  },
  {
   "cell_type": "markdown",
   "id": "9b09d584",
   "metadata": {},
   "source": [
    "> <span style=\"font-size:1em;\">✔</span> **Observations:** \n",
    "> - Attribute CHAS is a categorical variable. Most data instances are from class 0 and only a few instances are from class 1. \n",
    "> - Many attributes are heavily skewed. e.g. CRIM, ZN, DIS, AGE, B ...\n",
    "> - Attributes RAD and TAX has values that are far from the majority values. Further investigations are needed. \n",
    "> - Target variable MEDV is distributed around 22 with some extreme values around 50.\n",
    "> - ..."
   ]
  },
  {
   "cell_type": "markdown",
   "id": "46d9af1e",
   "metadata": {},
   "source": [
    "Box plot is another useful tool in examining the data. Lets use a box plot to observe our data."
   ]
  },
  {
   "cell_type": "code",
   "execution_count": 46,
   "id": "42ff4dcb",
   "metadata": {},
   "outputs": [
    {
     "data": {
      "image/png": "[encoded data removed]",
      "text/plain": [
       "<Figure size 432x288 with 16 Axes>"
      ]
     },
     "metadata": {
      "needs_background": "light"
     },
     "output_type": "display_data"
    }
   ],
   "source": [
    "housedata.plot(kind='box', subplots=True, layout=(4,4), sharex=False, sharey=False)\n",
    "plt.show()"
   ]
  },
  {
   "cell_type": "markdown",
   "id": "f24321e6",
   "metadata": {},
   "source": [
    "You can focus on only one variable. Lets use a box plot to observe our target variable `MEDV`."
   ]
  },
  {
   "cell_type": "code",
   "execution_count": 25,
   "id": "ceb333aa",
   "metadata": {},
   "outputs": [
    {
     "data": {
      "image/png": "[encoded data removed]",
      "text/plain": [
       "<Figure size 432x288 with 1 Axes>"
      ]
     },
     "metadata": {
      "needs_background": "light"
     },
     "output_type": "display_data"
    }
   ],
   "source": [
    "plt.boxplot(housedata['TAX'])\n",
    "plt.title('Median House Price')\n",
    "plt.show()"
   ]
  },
  {
   "cell_type": "markdown",
   "id": "283d8390",
   "metadata": {},
   "source": [
    "**How to read Box Plots:**\n",
    "\n",
    "- The thick line in the middle of the box gives the median value.\n",
    "- The top of the box shows  Quantile-.75\n",
    "- The bottom of the box shows  Quantile-.25\n",
    "- So the height of the box in the Inter Quantile Range (IQR)\n",
    "- The top whisker —| shows  Q0.75+1.5∗IQR, the upper cutoff for outliers using Tukey’s rule\n",
    "- The bottom whisker —| shows  Q0.25−1.5∗IQR, the lower cutoff for outliers using Tukey’s rule\n",
    "- Any data points (circles) show outlier values\n",
    "\n",
    "*An outlier is an observation that lies an abnormal distance from other values in a random sample from a population. In a sense, this definition leaves it up to the analyst (or a consensus process) to decide what will be considered abnormal. Before abnormal observations can be singled out, it is necessary to characterize normal observations.*"
   ]
  },
  {
   "cell_type": "markdown",
   "id": "0bf058e2",
   "metadata": {},
   "source": [
    "Are there any outliers in datahouse???"
   ]
  },
  {
   "cell_type": "markdown",
   "id": "76bba10c",
   "metadata": {},
   "source": [
    "## Relationship between variable\n",
    "\n",
    "In the previous section we observed each attribute (data column) independently. Sometimes it is also useful to observe the relationship between two variables. There are several techniques that we can use for this purpose. One of the key techniques is a scatter plot. \n",
    "\n",
    "Since our task is to predict MEDV (target variable) using all other attributes, let's plot the relationship between MEDV and other columns.\n",
    "\n",
    "For this we can use matplotlib. However there is another python package called seaborn that plots nice looking figures. Seaborn is a Python data visualization library based on matplotlib. It provides a high-level interface for drawing attractive and informative statistical graphics. You can learn more about seaborn at [seaborn: statistical data visualization](https://seaborn.pydata.org/) "
   ]
  },
  {
   "cell_type": "markdown",
   "id": "c5c2180c",
   "metadata": {},
   "source": [
    "Correlation is another important statistic when developing ML models. Lets plot the correlation matrix for the numerical data we have:"
   ]
  },
  {
   "cell_type": "code",
   "execution_count": 43,
   "id": "6f11b22f",
   "metadata": {},
   "outputs": [
    {
     "data": {
      "image/png": "[encoded data removed]",
      "text/plain": [
       "<Figure size 1280x1280 with 2 Axes>"
      ]
     },
     "metadata": {
      "needs_background": "light"
     },
     "output_type": "display_data"
    }
   ],
   "source": [
    "correlation = housedata.corr()\n",
    "fig = plt.figure(figsize=(16, 16), dpi=80)\n",
    "ax = fig.add_subplot(111)\n",
    "cax = ax.matshow(correlation, vmin=-1, vmax=1, cmap=plt.cm.PuBu)\n",
    "fig.colorbar(cax)\n",
    "ticks = np.arange(0,14,1)\n",
    "ax.set_xticks(ticks)\n",
    "ax.set_yticks(ticks)\n",
    "ax.set_xticklabels(housedata.columns)\n",
    "ax.set_yticklabels(housedata.columns)\n",
    "plt.show()"
   ]
  },
  {
   "cell_type": "markdown",
   "id": "08b4eee3",
   "metadata": {},
   "source": [
    "<span style=\"font-size:1.5em;\">�</span> What observations did you make?"
   ]
  },
  {
   "cell_type": "markdown",
   "id": "d6bb6eaf",
   "metadata": {},
   "source": [
    "> <span style=\"font-size:1em;\">✔</span> **Observations:** \n",
    "> - There seems to be a good linear relationship between MEDV and RM.\n",
    "> - The relationship between MEDV and some variables appears to be nonlinier (e.g. LSAT).\n",
    "> - ..."
   ]
  },
  {
   "cell_type": "markdown",
   "id": "4361757c",
   "metadata": {},
   "source": [
    "If you want to use seaborn, you can try"
   ]
  },
  {
   "cell_type": "code",
   "execution_count": 17,
   "id": "1e1febd4",
   "metadata": {},
   "outputs": [
    {
     "data": {
      "image/png": "[encoded data removed]",
      "text/plain": [
       "<Figure size 792x648 with 2 Axes>"
      ]
     },
     "metadata": {
      "needs_background": "light"
     },
     "output_type": "display_data"
    }
   ],
   "source": [
    "import seaborn as sns\n",
    "\n",
    "f, ax = plt.subplots(figsize=(11, 9))\n",
    "corr = housedata.corr()\n",
    "ax = sns.heatmap(\n",
    "    corr, \n",
    "    vmin=-1, vmax=1, center=0,\n",
    "    cmap=sns.diverging_palette(20, 220, n=200),\n",
    "    square=True\n",
    ")\n",
    "ax.set_xticklabels(\n",
    "    ax.get_xticklabels(),\n",
    "    rotation=90,\n",
    "    horizontalalignment='right'\n",
    ");"
   ]
  },
  {
   "cell_type": "markdown",
   "id": "eaac849f",
   "metadata": {},
   "source": [
    "# Exercise: Analyse the Bike Share Data"
   ]
  },
  {
   "cell_type": "markdown",
   "id": "cfec65dc",
   "metadata": {},
   "source": [
    "> **<font color='red'><span style=\"font-size:1.5em;\">☞</span> Task: Analyse the Bike Share Data.</font>**  \n",
    "> Now you seen how to do this task for the Bike Sharing (rentals) dataset. Repeat the same process for the Daily\n",
    "Bike Share rental data.\n",
    "\n",
    "> Answer the following questions and discuss this with your lab demonstrator. Please do attempt this, and don’t wait to see if solutions are released (they will not be!)\n",
    "> - What is the range of some of the attributes?\n",
    "> - Which of the features have a very different average to the others?\n",
    "> - Which feature is skewed (hint examine the histogram)?\n",
    "> - Which features are highly correlated?  \n",
    "\n",
    "> Relate above questions back to the domain of the dataset (bike sharing) and see if you can come up with\n",
    "explanations for the observed data."
   ]
  },
  {
   "cell_type": "code",
   "execution_count": null,
   "id": "b29f8ea8",
   "metadata": {},
   "outputs": [],
   "source": []
  }
 ],
 "metadata": {
  "kernelspec": {
   "display_name": "Python 3 (ipykernel)",
   "language": "python",
   "name": "python3"
  },
  "language_info": {
   "codemirror_mode": {
    "name": "ipython",
    "version": 3
   },
   "file_extension": ".py",
   "mimetype": "text/x-python",
   "name": "python",
   "nbconvert_exporter": "python",
   "pygments_lexer": "ipython3",
   "version": "3.9.7"
  }
 },
 "nbformat": 4,
 "nbformat_minor": 5
}
