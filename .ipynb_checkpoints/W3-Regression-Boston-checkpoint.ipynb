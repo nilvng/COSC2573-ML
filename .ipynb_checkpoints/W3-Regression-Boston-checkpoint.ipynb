{
 "cells": [
  {
   "cell_type": "code",
   "execution_count": 2,
   "id": "f9d2d4b8-311b-46f8-80b6-3ef1ea9ccfde",
   "metadata": {},
   "outputs": [],
   "source": [
    "import sklearn as sk\n",
    "import pandas as pd\n",
    "import matplotlib.pyplot as plt\n",
    "import numpy as np\n",
    "import seaborn as sns"
   ]
  },
  {
   "cell_type": "code",
   "execution_count": 12,
   "id": "07127587-3c90-44c6-b849-2f6e196f65e4",
   "metadata": {},
   "outputs": [],
   "source": [
    "boston_df = pd.read_csv(\"housing.data.csv\", delimiter=\"\\s+\")"
   ]
  },
  {
   "cell_type": "markdown",
   "id": "5a164ef2-f177-4e46-bc34-3588aae9c8bb",
   "metadata": {},
   "source": [
    "The Boston data frame has 506 rows and 14 columns.\n",
    "\n",
    "This data frame contains the following columns:\n",
    "\n",
    "crim: per capita crime rate by town.\n",
    "\n",
    "zn: proportion of residential land zoned for lots over 25,000 sq.ft.\n",
    "\n",
    "indus: proportion of non-retail business acres per town.\n",
    "\n",
    "chas: Charles River dummy variable (= 1 if tract bounds river; 0 otherwise).\n",
    "\n",
    "nox: nitrogen oxides concentration (parts per 10 million).\n",
    "\n",
    "rm: average number of rooms per dwelling.\n",
    "\n",
    "age: proportion of owner-occupied units built prior to 1940.\n",
    "\n",
    "dis: weighted mean of distances to five Boston employment centres.\n",
    "\n",
    "rad: index of accessibility to radial highways.\n",
    "\n",
    "tax: full-value property-tax rate per \\$10,000.\n",
    "\n",
    "ptratio: pupil-teacher ratio by town.\n",
    "\n",
    "black: 1000(Bk - 0.63)^2 where Bk is the proportion of blacks by town.\n",
    "\n",
    "lstat: lower status of the population (percent).\n",
    "\n",
    "medv: median value of owner-occupied homes in \\$1000s"
   ]
  },
  {
   "cell_type": "code",
   "execution_count": 13,
   "id": "f2e0bdb1-554d-49d5-ab87-f261368df3cd",
   "metadata": {},
   "outputs": [
    {
     "data": {
      "text/html": [
       "<div>\n",
       "<style scoped>\n",
       "    .dataframe tbody tr th:only-of-type {\n",
       "        vertical-align: middle;\n",
       "    }\n",
       "\n",
       "    .dataframe tbody tr th {\n",
       "        vertical-align: top;\n",
       "    }\n",
       "\n",
       "    .dataframe thead th {\n",
       "        text-align: right;\n",
       "    }\n",
       "</style>\n",
       "<table border=\"1\" class=\"dataframe\">\n",
       "  <thead>\n",
       "    <tr style=\"text-align: right;\">\n",
       "      <th></th>\n",
       "      <th>CRIM</th>\n",
       "      <th>ZN</th>\n",
       "      <th>INDUS</th>\n",
       "      <th>CHAS</th>\n",
       "      <th>NOX</th>\n",
       "      <th>RM</th>\n",
       "      <th>AGE</th>\n",
       "      <th>DIS</th>\n",
       "      <th>RAD</th>\n",
       "      <th>TAX</th>\n",
       "      <th>PTRATIO</th>\n",
       "      <th>B</th>\n",
       "      <th>LSTAT</th>\n",
       "      <th>MEDV</th>\n",
       "    </tr>\n",
       "  </thead>\n",
       "  <tbody>\n",
       "    <tr>\n",
       "      <th>0</th>\n",
       "      <td>0.00632</td>\n",
       "      <td>18.0</td>\n",
       "      <td>2.31</td>\n",
       "      <td>0</td>\n",
       "      <td>0.538</td>\n",
       "      <td>6.575</td>\n",
       "      <td>65.2</td>\n",
       "      <td>4.0900</td>\n",
       "      <td>1</td>\n",
       "      <td>296.0</td>\n",
       "      <td>15.3</td>\n",
       "      <td>396.90</td>\n",
       "      <td>4.98</td>\n",
       "      <td>24.0</td>\n",
       "    </tr>\n",
       "    <tr>\n",
       "      <th>1</th>\n",
       "      <td>0.02731</td>\n",
       "      <td>0.0</td>\n",
       "      <td>7.07</td>\n",
       "      <td>0</td>\n",
       "      <td>0.469</td>\n",
       "      <td>6.421</td>\n",
       "      <td>78.9</td>\n",
       "      <td>4.9671</td>\n",
       "      <td>2</td>\n",
       "      <td>242.0</td>\n",
       "      <td>17.8</td>\n",
       "      <td>396.90</td>\n",
       "      <td>9.14</td>\n",
       "      <td>21.6</td>\n",
       "    </tr>\n",
       "    <tr>\n",
       "      <th>2</th>\n",
       "      <td>0.02729</td>\n",
       "      <td>0.0</td>\n",
       "      <td>7.07</td>\n",
       "      <td>0</td>\n",
       "      <td>0.469</td>\n",
       "      <td>7.185</td>\n",
       "      <td>61.1</td>\n",
       "      <td>4.9671</td>\n",
       "      <td>2</td>\n",
       "      <td>242.0</td>\n",
       "      <td>17.8</td>\n",
       "      <td>392.83</td>\n",
       "      <td>4.03</td>\n",
       "      <td>34.7</td>\n",
       "    </tr>\n",
       "    <tr>\n",
       "      <th>3</th>\n",
       "      <td>0.03237</td>\n",
       "      <td>0.0</td>\n",
       "      <td>2.18</td>\n",
       "      <td>0</td>\n",
       "      <td>0.458</td>\n",
       "      <td>6.998</td>\n",
       "      <td>45.8</td>\n",
       "      <td>6.0622</td>\n",
       "      <td>3</td>\n",
       "      <td>222.0</td>\n",
       "      <td>18.7</td>\n",
       "      <td>394.63</td>\n",
       "      <td>2.94</td>\n",
       "      <td>33.4</td>\n",
       "    </tr>\n",
       "    <tr>\n",
       "      <th>4</th>\n",
       "      <td>0.06905</td>\n",
       "      <td>0.0</td>\n",
       "      <td>2.18</td>\n",
       "      <td>0</td>\n",
       "      <td>0.458</td>\n",
       "      <td>7.147</td>\n",
       "      <td>54.2</td>\n",
       "      <td>6.0622</td>\n",
       "      <td>3</td>\n",
       "      <td>222.0</td>\n",
       "      <td>18.7</td>\n",
       "      <td>396.90</td>\n",
       "      <td>5.33</td>\n",
       "      <td>36.2</td>\n",
       "    </tr>\n",
       "  </tbody>\n",
       "</table>\n",
       "</div>"
      ],
      "text/plain": [
       "      CRIM    ZN  INDUS  CHAS    NOX     RM   AGE     DIS  RAD    TAX  \\\n",
       "0  0.00632  18.0   2.31     0  0.538  6.575  65.2  4.0900    1  296.0   \n",
       "1  0.02731   0.0   7.07     0  0.469  6.421  78.9  4.9671    2  242.0   \n",
       "2  0.02729   0.0   7.07     0  0.469  7.185  61.1  4.9671    2  242.0   \n",
       "3  0.03237   0.0   2.18     0  0.458  6.998  45.8  6.0622    3  222.0   \n",
       "4  0.06905   0.0   2.18     0  0.458  7.147  54.2  6.0622    3  222.0   \n",
       "\n",
       "   PTRATIO       B  LSTAT  MEDV  \n",
       "0     15.3  396.90   4.98  24.0  \n",
       "1     17.8  396.90   9.14  21.6  \n",
       "2     17.8  392.83   4.03  34.7  \n",
       "3     18.7  394.63   2.94  33.4  \n",
       "4     18.7  396.90   5.33  36.2  "
      ]
     },
     "execution_count": 13,
     "metadata": {},
     "output_type": "execute_result"
    }
   ],
   "source": [
    "boston_df.head()"
   ]
  },
  {
   "cell_type": "code",
   "execution_count": 14,
   "id": "c3f607ec-ec52-4b9f-9ef8-a8b31f4bf3ac",
   "metadata": {},
   "outputs": [
    {
     "data": {
      "text/plain": [
       "CRIM       float64\n",
       "ZN         float64\n",
       "INDUS      float64\n",
       "CHAS         int64\n",
       "NOX        float64\n",
       "RM         float64\n",
       "AGE        float64\n",
       "DIS        float64\n",
       "RAD          int64\n",
       "TAX        float64\n",
       "PTRATIO    float64\n",
       "B          float64\n",
       "LSTAT      float64\n",
       "MEDV       float64\n",
       "dtype: object"
      ]
     },
     "execution_count": 14,
     "metadata": {},
     "output_type": "execute_result"
    }
   ],
   "source": [
    "# Try to print all data types of dataset\n",
    "boston_df.dtypes"
   ]
  },
  {
   "cell_type": "markdown",
   "id": "0d6da30c-43e8-4fae-80c1-700da6e81b33",
   "metadata": {},
   "source": [
    "## 1.Univariate Regression\n",
    "We will create a model to predict house price (MEDV) using number of rooms (RM)\n",
    "### 1a. Extract feature we use to predict \n",
    "1. using square brackets []\n",
    "2. using the pandas function .loc, and \n",
    "3. using the pandas function .iloc. \n",
    "\n",
    "What are the differences?"
   ]
  },
  {
   "cell_type": "code",
   "execution_count": 24,
   "id": "6177f80a-e1e0-4f31-ae1d-1f05fe1283d7",
   "metadata": {},
   "outputs": [
    {
     "name": "stdout",
     "output_type": "stream",
     "text": [
      "0      24.0\n",
      "1      21.6\n",
      "2      34.7\n",
      "3      33.4\n",
      "4      36.2\n",
      "       ... \n",
      "501    22.4\n",
      "502    20.6\n",
      "503    23.9\n",
      "504    22.0\n",
      "505    11.9\n",
      "Name: MEDV, Length: 506, dtype: float64\n",
      "(506,)\n"
     ]
    }
   ],
   "source": [
    "rm_x = boston_df['RM']\n",
    "medv_y = boston_df['MEDV']\n",
    "print(medv_y)\n",
    "print(rm_x.shape)"
   ]
  },
  {
   "cell_type": "markdown",
   "id": "3526311f-ad8c-49c7-b7e8-1c294ee7eed7",
   "metadata": {},
   "source": [
    "### 1b. Split dataset into training set and testing set"
   ]
  },
  {
   "cell_type": "code",
   "execution_count": 20,
   "id": "5e4afc82-04da-4383-acd6-50ea8dd669dd",
   "metadata": {},
   "outputs": [
    {
     "name": "stdout",
     "output_type": "stream",
     "text": [
      "Training:  404\n",
      "Testing:  102\n"
     ]
    }
   ],
   "source": [
    "from sklearn.model_selection import train_test_split\n",
    "with pd.option_context(\"mode.chained_assignment\", None):\n",
    "    boston_training, boston_testing = train_test_split(boston_df, test_size=0.2, shuffle=True)\n",
    "    \n",
    "# print out the size of testing and training sets\n",
    "print(\"Training: \", boston_training.shape[0]) \n",
    "print(\"Testing: \", boston_testing.shape[0])"
   ]
  },
  {
   "cell_type": "markdown",
   "id": "592ed170-8957-4209-b389-9cd702baa837",
   "metadata": {},
   "source": [
    "### 1c. Train model"
   ]
  },
  {
   "cell_type": "code",
   "execution_count": null,
   "id": "a9d3cf49-3d4e-427c-9709-c2c879ba7ca2",
   "metadata": {},
   "outputs": [],
   "source": []
  },
  {
   "cell_type": "markdown",
   "id": "6fc93c50-eead-40ee-9a6a-2242f93bc0d7",
   "metadata": {},
   "source": [
    "### 1d. Evaluate Trained Model\n",
    "- Use MSE to estimate the error\n",
    "- Plotting the testing data against the model/hypothesis\n",
    "- the residual plot, which shows what is the difference in predicted and actual values, across different X values, for the testing data"
   ]
  },
  {
   "cell_type": "code",
   "execution_count": null,
   "id": "fd21c13f-0018-4500-b478-e3e1ac8b2957",
   "metadata": {},
   "outputs": [],
   "source": []
  },
  {
   "cell_type": "markdown",
   "id": "bc01428d-6206-47e1-bb2a-d6c9e81dd12b",
   "metadata": {},
   "source": [
    "**With your dataframe slicing skill, can you count the number of residuals that are larger than zero and those that are smaller than zero?**"
   ]
  },
  {
   "cell_type": "code",
   "execution_count": null,
   "id": "a0e0c65b-2039-4baf-9018-bab204c5d7ec",
   "metadata": {},
   "outputs": [],
   "source": []
  },
  {
   "cell_type": "markdown",
   "id": "e51e5079-f0b2-4439-9cb6-3494b01448ec",
   "metadata": {},
   "source": [
    "**Use the seaborn package to visualise the correlation plot and identify the next potential predictor of the house price. You should identify 'LSTAT' as the next potential predictor. Why is it?**"
   ]
  },
  {
   "cell_type": "code",
   "execution_count": null,
   "id": "fcc640d6-f82a-46fe-bd53-b140cc77aa6c",
   "metadata": {},
   "outputs": [],
   "source": []
  }
 ],
 "metadata": {
  "kernelspec": {
   "display_name": "Python 3 (ipykernel)",
   "language": "python",
   "name": "python3"
  },
  "language_info": {
   "codemirror_mode": {
    "name": "ipython",
    "version": 3
   },
   "file_extension": ".py",
   "mimetype": "text/x-python",
   "name": "python",
   "nbconvert_exporter": "python",
   "pygments_lexer": "ipython3",
   "version": "3.9.7"
  }
 },
 "nbformat": 4,
 "nbformat_minor": 5
}
