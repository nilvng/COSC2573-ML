{
 "cells": [
  {
   "cell_type": "code",
   "execution_count": 1,
   "metadata": {},
   "outputs": [],
   "source": [
    "import sklearn as sk\n",
    "import pandas as pd\n",
    "import matplotlib.pyplot as plt\n",
    "import numpy as np\n",
    "import seaborn as sns\n"
   ]
  },
  {
   "cell_type": "markdown",
   "metadata": {},
   "source": [
    "# 0. Introduction\n",
    "Sepsis is a kind severe medical condition that is very difficult to predict and such that can cause a huge consequence if the diagnose is wrong. Every late hour of detecting sepsis decrease 10% survial rate.[] The experiement is carried out as an attempt to use Machine Learning  to assist the doctor in detecting the sepsis case promptly. Particularly, the objective of this experiment is to accurately detect sepsis to save as much life as possible and also save costs of using ICU only for a true sepsis case. The paper describes the process of developing Machine Learning model to predict Sepsis. First, we will analysis the dataset to come up with a Machine Learning pipeline, or techniques designed specifically for the dataset so that we can learn the most of it. Then we will actually implements the technique, and fine-tune models to its best state. Later, we will decide which one has the best performance and the most suitable to the domain.\n"
   ]
  },
  {
   "cell_type": "markdown",
   "metadata": {},
   "source": [
    "# 1. EDA\n",
    "The dataset published by John Hopskin University consists of 599 entries and 10 features, namely patient ID, plasma glucose, blood work result 1-4, body mass index (BMI), patient's age and their insurance status. However, we don't use all of them because patient ID and their insurance is irrelevant to predict Sepsis, so we will remove them from the dataset.\n",
    "\n",
    "I rename the columns so it will be easier to interpret and refer to later in the experiment."
   ]
  },
  {
   "cell_type": "code",
   "execution_count": 2,
   "metadata": {},
   "outputs": [
    {
     "data": {
      "text/html": [
       "<div>\n",
       "<style scoped>\n",
       "    .dataframe tbody tr th:only-of-type {\n",
       "        vertical-align: middle;\n",
       "    }\n",
       "\n",
       "    .dataframe tbody tr th {\n",
       "        vertical-align: top;\n",
       "    }\n",
       "\n",
       "    .dataframe thead th {\n",
       "        text-align: right;\n",
       "    }\n",
       "</style>\n",
       "<table border=\"1\" class=\"dataframe\">\n",
       "  <thead>\n",
       "    <tr style=\"text-align: right;\">\n",
       "      <th></th>\n",
       "      <th>ID</th>\n",
       "      <th>PRG</th>\n",
       "      <th>PL</th>\n",
       "      <th>PR</th>\n",
       "      <th>SK</th>\n",
       "      <th>TS</th>\n",
       "      <th>M11</th>\n",
       "      <th>BD2</th>\n",
       "      <th>Age</th>\n",
       "      <th>Insurance</th>\n",
       "      <th>Sepssis</th>\n",
       "    </tr>\n",
       "  </thead>\n",
       "  <tbody>\n",
       "    <tr>\n",
       "      <th>0</th>\n",
       "      <td>ICU200010</td>\n",
       "      <td>6</td>\n",
       "      <td>148</td>\n",
       "      <td>72</td>\n",
       "      <td>35</td>\n",
       "      <td>0</td>\n",
       "      <td>33.6</td>\n",
       "      <td>0.627</td>\n",
       "      <td>50</td>\n",
       "      <td>0</td>\n",
       "      <td>Positive</td>\n",
       "    </tr>\n",
       "    <tr>\n",
       "      <th>1</th>\n",
       "      <td>ICU200011</td>\n",
       "      <td>1</td>\n",
       "      <td>85</td>\n",
       "      <td>66</td>\n",
       "      <td>29</td>\n",
       "      <td>0</td>\n",
       "      <td>26.6</td>\n",
       "      <td>0.351</td>\n",
       "      <td>31</td>\n",
       "      <td>0</td>\n",
       "      <td>Negative</td>\n",
       "    </tr>\n",
       "    <tr>\n",
       "      <th>2</th>\n",
       "      <td>ICU200012</td>\n",
       "      <td>8</td>\n",
       "      <td>183</td>\n",
       "      <td>64</td>\n",
       "      <td>0</td>\n",
       "      <td>0</td>\n",
       "      <td>23.3</td>\n",
       "      <td>0.672</td>\n",
       "      <td>32</td>\n",
       "      <td>1</td>\n",
       "      <td>Positive</td>\n",
       "    </tr>\n",
       "    <tr>\n",
       "      <th>3</th>\n",
       "      <td>ICU200013</td>\n",
       "      <td>1</td>\n",
       "      <td>89</td>\n",
       "      <td>66</td>\n",
       "      <td>23</td>\n",
       "      <td>94</td>\n",
       "      <td>28.1</td>\n",
       "      <td>0.167</td>\n",
       "      <td>21</td>\n",
       "      <td>1</td>\n",
       "      <td>Negative</td>\n",
       "    </tr>\n",
       "    <tr>\n",
       "      <th>4</th>\n",
       "      <td>ICU200014</td>\n",
       "      <td>0</td>\n",
       "      <td>137</td>\n",
       "      <td>40</td>\n",
       "      <td>35</td>\n",
       "      <td>168</td>\n",
       "      <td>43.1</td>\n",
       "      <td>2.288</td>\n",
       "      <td>33</td>\n",
       "      <td>1</td>\n",
       "      <td>Positive</td>\n",
       "    </tr>\n",
       "  </tbody>\n",
       "</table>\n",
       "</div>"
      ],
      "text/plain": [
       "          ID  PRG   PL  PR  SK   TS   M11    BD2  Age  Insurance   Sepssis\n",
       "0  ICU200010    6  148  72  35    0  33.6  0.627   50          0  Positive\n",
       "1  ICU200011    1   85  66  29    0  26.6  0.351   31          0  Negative\n",
       "2  ICU200012    8  183  64   0    0  23.3  0.672   32          1  Positive\n",
       "3  ICU200013    1   89  66  23   94  28.1  0.167   21          1  Negative\n",
       "4  ICU200014    0  137  40  35  168  43.1  2.288   33          1  Positive"
      ]
     },
     "execution_count": 2,
     "metadata": {},
     "output_type": "execute_result"
    }
   ],
   "source": [
    "# Loading data and check if it's loaded properly\n",
    "df = pd.read_csv(\"Paitients_Files_Train.csv\", delimiter=\",\")\n",
    "df.head()"
   ]
  },
  {
   "cell_type": "code",
   "execution_count": 3,
   "metadata": {},
   "outputs": [],
   "source": [
    "# drop 2 irrelevant columns: ID and Insurance\n",
    "df.drop(columns=\"ID\", inplace=True)\n",
    "df.drop(columns=\"Insurance\", inplace=True)"
   ]
  },
  {
   "cell_type": "code",
   "execution_count": 4,
   "metadata": {},
   "outputs": [],
   "source": [
    "# rename the column so that it's easier to evaluate them later\n",
    "column_names = {\n",
    "    \"PRG\": \"BGlucose\",\n",
    "    \"PR\": \"BPressure\",\n",
    "    \"PL\": \"B1\",\n",
    "    \"SK\": \"B2\",\n",
    "    \"TS\": \"B3\",\n",
    "    \"BD2\": \"B4\",\n",
    "    \"M11\": \"BMI\"\n",
    "}\n",
    "df = df.rename(columns= column_names)"
   ]
  },
  {
   "cell_type": "markdown",
   "metadata": {},
   "source": [
    "## 1.2 Imbalanced classes\n",
    "Based on the total number of positive and negative cases, the dataset has imbalanced classes, with a ratio of 1:2 positive to negative respectively. The imbalanced-class dataset adversely effect the performance of the model as it will tend to favor the majority. Since the bias given to class negative, the imbalance would also stop us from predicting class positive, which will go against the objective of the experiment. There are many ways to combat this challenge:\n",
    "- **Class weight**: We can tune the class weight so that, the model will gravitate toward class 1 when features appeared in both classes. This technique is quick and easy to deploy but as it favors class positive too much, it will produce lots of false positive and we have to be cautious of applying the technique. The recommended  number to start with is a reversed ratio of classes, which mean if our ratio is 1 positive over 2 negative, we will set the weight of class positive to 2 and of class negative to 1.\n",
    "- **Resampling**: it's a technique to create more samples for the minority, which is called oversampling, or remove samples of the majority class and so it's called undersampling. However, we not going to use it because it will only show clear improvement if the dataset is severely imbalanced, while our ratio is only 1:2. So, it's better to keep experiment simple by tuning the class weight.\n",
    "\n",
    "We have to keep in mind the imbalance of classes when will evaluate the performance of model, specifically when accuracy score is no longer a valid metric to grade model's accuracy. Instead, we will use F1-score as it's more stable to measure of the accuracy of detecting class positive."
   ]
  },
  {
   "cell_type": "code",
   "execution_count": 5,
   "metadata": {},
   "outputs": [
    {
     "name": "stdout",
     "output_type": "stream",
     "text": [
      "<class 'pandas.core.frame.DataFrame'>\n",
      "RangeIndex: 599 entries, 0 to 598\n",
      "Data columns (total 9 columns):\n",
      " #   Column     Non-Null Count  Dtype  \n",
      "---  ------     --------------  -----  \n",
      " 0   BGlucose   599 non-null    int64  \n",
      " 1   B1         599 non-null    int64  \n",
      " 2   BPressure  599 non-null    int64  \n",
      " 3   B2         599 non-null    int64  \n",
      " 4   B3         599 non-null    int64  \n",
      " 5   BMI        599 non-null    float64\n",
      " 6   B4         599 non-null    float64\n",
      " 7   Age        599 non-null    int64  \n",
      " 8   Sepssis    599 non-null    object \n",
      "dtypes: float64(2), int64(6), object(1)\n",
      "memory usage: 42.2+ KB\n"
     ]
    }
   ],
   "source": [
    "# Inspect data types of the dataset\n",
    "df.info()"
   ]
  },
  {
   "cell_type": "code",
   "execution_count": 6,
   "metadata": {},
   "outputs": [
    {
     "data": {
      "text/plain": [
       "Negative    391\n",
       "Positive    208\n",
       "Name: Sepssis, dtype: int64"
      ]
     },
     "execution_count": 6,
     "metadata": {},
     "output_type": "execute_result"
    }
   ],
   "source": [
    "df[\"Sepssis\"].value_counts()"
   ]
  },
  {
   "cell_type": "markdown",
   "metadata": {},
   "source": [
    "## 1.3 Skewness\n",
    "As we can see from the histogram, B1, BMI and Blood Pressure are normal distributed while Blood Glucose, B2, B3, B4 is heavily skewed. Skewness can prevent our models from generalize the prediction and so may perform very bad in the real world context. As mentioned, the problem of skewness mostly depend on the domain and we will need to consult with experts of the field to justify the acceptable range of those features. Therefore, there is no action taken to handle this problem yet."
   ]
  },
  {
   "cell_type": "code",
   "execution_count": 7,
   "metadata": {},
   "outputs": [
    {
     "data": {
      "text/html": [
       "<div>\n",
       "<style scoped>\n",
       "    .dataframe tbody tr th:only-of-type {\n",
       "        vertical-align: middle;\n",
       "    }\n",
       "\n",
       "    .dataframe tbody tr th {\n",
       "        vertical-align: top;\n",
       "    }\n",
       "\n",
       "    .dataframe thead th {\n",
       "        text-align: right;\n",
       "    }\n",
       "</style>\n",
       "<table border=\"1\" class=\"dataframe\">\n",
       "  <thead>\n",
       "    <tr style=\"text-align: right;\">\n",
       "      <th></th>\n",
       "      <th>BGlucose</th>\n",
       "      <th>B1</th>\n",
       "      <th>BPressure</th>\n",
       "      <th>B2</th>\n",
       "      <th>B3</th>\n",
       "      <th>BMI</th>\n",
       "      <th>B4</th>\n",
       "      <th>Age</th>\n",
       "    </tr>\n",
       "  </thead>\n",
       "  <tbody>\n",
       "    <tr>\n",
       "      <th>count</th>\n",
       "      <td>599.000000</td>\n",
       "      <td>599.000000</td>\n",
       "      <td>599.000000</td>\n",
       "      <td>599.000000</td>\n",
       "      <td>599.000000</td>\n",
       "      <td>599.000000</td>\n",
       "      <td>599.000000</td>\n",
       "      <td>599.000000</td>\n",
       "    </tr>\n",
       "    <tr>\n",
       "      <th>mean</th>\n",
       "      <td>3.824708</td>\n",
       "      <td>120.153589</td>\n",
       "      <td>68.732888</td>\n",
       "      <td>20.562604</td>\n",
       "      <td>79.460768</td>\n",
       "      <td>31.920033</td>\n",
       "      <td>0.481187</td>\n",
       "      <td>33.290484</td>\n",
       "    </tr>\n",
       "    <tr>\n",
       "      <th>std</th>\n",
       "      <td>3.362839</td>\n",
       "      <td>32.682364</td>\n",
       "      <td>19.335675</td>\n",
       "      <td>16.017622</td>\n",
       "      <td>116.576176</td>\n",
       "      <td>8.008227</td>\n",
       "      <td>0.337552</td>\n",
       "      <td>11.828446</td>\n",
       "    </tr>\n",
       "    <tr>\n",
       "      <th>min</th>\n",
       "      <td>0.000000</td>\n",
       "      <td>0.000000</td>\n",
       "      <td>0.000000</td>\n",
       "      <td>0.000000</td>\n",
       "      <td>0.000000</td>\n",
       "      <td>0.000000</td>\n",
       "      <td>0.078000</td>\n",
       "      <td>21.000000</td>\n",
       "    </tr>\n",
       "    <tr>\n",
       "      <th>25%</th>\n",
       "      <td>1.000000</td>\n",
       "      <td>99.000000</td>\n",
       "      <td>64.000000</td>\n",
       "      <td>0.000000</td>\n",
       "      <td>0.000000</td>\n",
       "      <td>27.100000</td>\n",
       "      <td>0.248000</td>\n",
       "      <td>24.000000</td>\n",
       "    </tr>\n",
       "    <tr>\n",
       "      <th>50%</th>\n",
       "      <td>3.000000</td>\n",
       "      <td>116.000000</td>\n",
       "      <td>70.000000</td>\n",
       "      <td>23.000000</td>\n",
       "      <td>36.000000</td>\n",
       "      <td>32.000000</td>\n",
       "      <td>0.383000</td>\n",
       "      <td>29.000000</td>\n",
       "    </tr>\n",
       "    <tr>\n",
       "      <th>75%</th>\n",
       "      <td>6.000000</td>\n",
       "      <td>140.000000</td>\n",
       "      <td>80.000000</td>\n",
       "      <td>32.000000</td>\n",
       "      <td>123.500000</td>\n",
       "      <td>36.550000</td>\n",
       "      <td>0.647000</td>\n",
       "      <td>40.000000</td>\n",
       "    </tr>\n",
       "    <tr>\n",
       "      <th>max</th>\n",
       "      <td>17.000000</td>\n",
       "      <td>198.000000</td>\n",
       "      <td>122.000000</td>\n",
       "      <td>99.000000</td>\n",
       "      <td>846.000000</td>\n",
       "      <td>67.100000</td>\n",
       "      <td>2.420000</td>\n",
       "      <td>81.000000</td>\n",
       "    </tr>\n",
       "  </tbody>\n",
       "</table>\n",
       "</div>"
      ],
      "text/plain": [
       "         BGlucose          B1   BPressure          B2          B3         BMI  \\\n",
       "count  599.000000  599.000000  599.000000  599.000000  599.000000  599.000000   \n",
       "mean     3.824708  120.153589   68.732888   20.562604   79.460768   31.920033   \n",
       "std      3.362839   32.682364   19.335675   16.017622  116.576176    8.008227   \n",
       "min      0.000000    0.000000    0.000000    0.000000    0.000000    0.000000   \n",
       "25%      1.000000   99.000000   64.000000    0.000000    0.000000   27.100000   \n",
       "50%      3.000000  116.000000   70.000000   23.000000   36.000000   32.000000   \n",
       "75%      6.000000  140.000000   80.000000   32.000000  123.500000   36.550000   \n",
       "max     17.000000  198.000000  122.000000   99.000000  846.000000   67.100000   \n",
       "\n",
       "               B4         Age  \n",
       "count  599.000000  599.000000  \n",
       "mean     0.481187   33.290484  \n",
       "std      0.337552   11.828446  \n",
       "min      0.078000   21.000000  \n",
       "25%      0.248000   24.000000  \n",
       "50%      0.383000   29.000000  \n",
       "75%      0.647000   40.000000  \n",
       "max      2.420000   81.000000  "
      ]
     },
     "execution_count": 7,
     "metadata": {},
     "output_type": "execute_result"
    }
   ],
   "source": [
    "df.describe()"
   ]
  },
  {
   "cell_type": "code",
   "execution_count": 8,
   "metadata": {},
   "outputs": [
    {
     "data": {
      "image/png": "[encoded data removed]",
      "text/plain": [
       "<Figure size 1080x1080 with 9 Axes>"
      ]
     },
     "metadata": {
      "needs_background": "light"
     },
     "output_type": "display_data"
    }
   ],
   "source": [
    "# More visualization to analysis dataset\n",
    "plt.figure(figsize= (15,15))\n",
    "n = len(df.columns)\n",
    "\n",
    "for i, col in enumerate(df.columns):\n",
    "    plt.subplot(4,5,i+1)\n",
    "    plt.hist(df[col], alpha=0.3, color=\"r\")\n",
    "    plt.title(col)"
   ]
  },
  {
   "cell_type": "code",
   "execution_count": 9,
   "metadata": {},
   "outputs": [],
   "source": [
    "df[\"Sepssis\"] = np.where(df[\"Sepssis\"].str.contains(\"Positive\"), 1, 0)"
   ]
  },
  {
   "cell_type": "markdown",
   "metadata": {},
   "source": [
    "## 1.4 Non-Linear relationship\n",
    "According to the correlation diagram, we can conclude that there is no linear relationship to describe the prediction and the features. Although this information is useless to tree-style Machine Learning model, it's very handy for Logistic Regression that later we will design polynomial features to train it."
   ]
  },
  {
   "cell_type": "code",
   "execution_count": 10,
   "metadata": {},
   "outputs": [
    {
     "data": {
      "image/png": "[encoded data removed]",
      "text/plain": [
       "<Figure size 800x800 with 2 Axes>"
      ]
     },
     "metadata": {
      "needs_background": "light"
     },
     "output_type": "display_data"
    }
   ],
   "source": [
    "# heatmap\n",
    "correlations = df.corr()\n",
    "fig = plt.figure(figsize=(10, 10), dpi=80)\n",
    "ax = fig.add_subplot(111)\n",
    "cax = ax.matshow(correlations, vmin=-1, vmax=1, cmap=plt.cm.coolwarm)\n",
    "fig.colorbar(cax)\n",
    "ticks = np.arange(0,n,1)\n",
    "ax.set_xticks(ticks)\n",
    "ax.set_yticks(ticks)\n",
    "ax.set_xticklabels(df.columns)\n",
    "ax.set_yticklabels(df.columns)\n",
    "plt.show()"
   ]
  },
  {
   "cell_type": "code",
   "execution_count": 11,
   "metadata": {},
   "outputs": [
    {
     "name": "stdout",
     "output_type": "stream",
     "text": [
      "(599, 8)\n",
      "(599, 1)\n"
     ]
    }
   ],
   "source": [
    "X = df.drop(columns=\"Sepssis\")\n",
    "\n",
    "Y = df[['Sepssis']]\n",
    "\n",
    "print(X.shape)\n",
    "print(Y.shape)"
   ]
  },
  {
   "cell_type": "markdown",
   "metadata": {},
   "source": [
    "## 1.5 Strange BMI values\n",
    "It's because BMI is widely known to have a relatively low 18 and up to 39.9 and yet we have 9 entries has BMI = 0. An unacceptable value like such may be resulted from a bad data collection, one way to compensate this loss is to use value of other features to estimate a possible value of this feature BMI, This technique is called K-nearest neighbors, it's believed that variable k approximately equals to the square root of the number of entries, For this experiment it will roughly be 24 and so, 24 data points that are nearest to the missing BMI value is used to estimate the missing.\n",
    "## 1.6 Outliers\n",
    "Looking at the boxplot, we can see that our dataset is contaminated by outliers. There's also many methods to deal with this problem, I choose to replace them with 1st percentile for low-bound outliers and 99th percentile for upper-bound outlier, this technique is often known as Winsorization. It's because comparing with a BMI case, we don't have any information about the presence of these outliers so, capping technique is a safe strategy."
   ]
  },
  {
   "cell_type": "code",
   "execution_count": 12,
   "metadata": {},
   "outputs": [
    {
     "data": {
      "image/png": "[encoded data removed]",
      "text/plain": [
       "<Figure size 720x720 with 8 Axes>"
      ]
     },
     "metadata": {
      "needs_background": "light"
     },
     "output_type": "display_data"
    }
   ],
   "source": [
    "\n",
    "# Boxplot for a range of value\n",
    "import math\n",
    "def draw_boxplot(df):\n",
    "    fig, ax = plt.subplots(2,4,figsize=(10,10))\n",
    "    for i, col in enumerate(df.columns):\n",
    "        if math.floor(i / 4) >= len(ax):\n",
    "            continue\n",
    "        ax_col = ax[math.floor(i / 4), i % 4]\n",
    "        ax_col.boxplot(df[col])\n",
    "        ax_col.set_title(col)\n",
    "    plt.show()\n",
    "\n",
    "draw_boxplot(X)"
   ]
  },
  {
   "cell_type": "markdown",
   "metadata": {},
   "source": [
    "## 1.7 Maximum number of features needed to predict data\n",
    "PCA analysis proposes that 3 features may already be able to predict 99% accuracy, However, it's very risky to just rely on this information to completely remove features, it recommended to consult with the expert before making decision.\n",
    "This information will be useful to tune maximum of features of Decision Tree."
   ]
  },
  {
   "cell_type": "code",
   "execution_count": 13,
   "metadata": {},
   "outputs": [
    {
     "data": {
      "text/plain": [
       "[<matplotlib.lines.Line2D at 0x7f7bbc809610>]"
      ]
     },
     "execution_count": 13,
     "metadata": {},
     "output_type": "execute_result"
    },
    {
     "data": {
      "image/png": "[encoded data removed]",
      "text/plain": [
       "<Figure size 432x288 with 1 Axes>"
      ]
     },
     "metadata": {
      "needs_background": "light"
     },
     "output_type": "display_data"
    }
   ],
   "source": [
    "from sklearn.decomposition import PCA\n",
    "pca = PCA(n_components=8)\n",
    "pca.fit(X)\n",
    "#The amount of variance that each PC explains\n",
    "var= pca.explained_variance_ratio_\n",
    "\n",
    "#Cumulative Variance explains\n",
    "var1=np.cumsum(np.round(pca.explained_variance_ratio_, decimals=4)*100)\n",
    "\n",
    "plt.plot(var1)"
   ]
  },
  {
   "cell_type": "markdown",
   "metadata": {},
   "source": [
    "# 2. Data Wrangling\n",
    "Given the previous analysis of the dataset, we will perform these steps:\n",
    "1. Spliting dataset into dependent-variable dataframe Y and independent-variable dataframe X\n",
    "2. Capping outliers to 1st and 99th percentile values\n",
    "3. Impute strange BMI=0 using KNN"
   ]
  },
  {
   "cell_type": "code",
   "execution_count": 14,
   "metadata": {},
   "outputs": [],
   "source": [
    "def print_no_0(df):\n",
    "    for col in df.columns:\n",
    "        print(f\"{col}: {df[col].isin([0]).sum()}\")\n"
   ]
  },
  {
   "cell_type": "markdown",
   "metadata": {},
   "source": [
    "## Spliting depedent and independent variables"
   ]
  },
  {
   "cell_type": "code",
   "execution_count": 15,
   "metadata": {},
   "outputs": [
    {
     "name": "stdout",
     "output_type": "stream",
     "text": [
      "[1 0 1 0 1]\n"
     ]
    }
   ],
   "source": [
    "# Encode target value\n",
    "\n",
    "from sklearn.preprocessing import LabelEncoder\n",
    "\n",
    "label_encoder = LabelEncoder()\n",
    "Y = label_encoder.fit_transform(Y.values.ravel())\n",
    "\n",
    "\n",
    "print(Y[:5])"
   ]
  },
  {
   "cell_type": "markdown",
   "metadata": {},
   "source": [
    "## Outliers"
   ]
  },
  {
   "cell_type": "code",
   "execution_count": 16,
   "metadata": {},
   "outputs": [
    {
     "name": "stdout",
     "output_type": "stream",
     "text": [
      "BGlucose \t 1st percentile= 0.000 \t 99th percentile= 13.000\n",
      "B1 \t 1st percentile= 56.740 \t 99th percentile= 196.000\n",
      "BPressure \t 1st percentile= 0.000 \t 99th percentile= 104.080\n",
      "B2 \t 1st percentile= 0.000 \t 99th percentile= 52.040\n",
      "B3 \t 1st percentile= 0.000 \t 99th percentile= 543.040\n",
      "BMI \t 1st percentile= 0.000 \t 99th percentile= 52.300\n",
      "B4 \t 1st percentile= 0.089 \t 99th percentile= 1.732\n",
      "Age \t 1st percentile= 21.000 \t 99th percentile= 66.020\n"
     ]
    }
   ],
   "source": [
    "import numpy as np\n",
    "for col in X.columns:\n",
    "    percentiles = X[col].quantile([0.01, 0.99]).values\n",
    "    print(f\"{col} \\t 1st percentile= {percentiles[0]:.3f} \\t 99th percentile= {percentiles[1]:.3f}\")\n",
    "    X[col] = np.clip(X[col], percentiles[0], percentiles[1])"
   ]
  },
  {
   "cell_type": "code",
   "execution_count": 17,
   "metadata": {},
   "outputs": [
    {
     "name": "stdout",
     "output_type": "stream",
     "text": [
      "BGlucose: 93\n",
      "B1: 0\n",
      "BPressure: 28\n",
      "B2: 175\n",
      "B3: 289\n",
      "BMI: 9\n",
      "B4: 0\n",
      "Age: 0\n"
     ]
    }
   ],
   "source": [
    "# After capping outliers, how many zero do we have left?\n",
    "print_no_0(X)"
   ]
  },
  {
   "cell_type": "markdown",
   "metadata": {},
   "source": [
    "We successfully remove outliers 0 of B1. However there are still weird 0 in BMI so, we will try to imput those missing value using K-NN."
   ]
  },
  {
   "cell_type": "code",
   "execution_count": 18,
   "metadata": {},
   "outputs": [],
   "source": [
    "from sklearn.impute import KNNImputer\n",
    "from math import sqrt\n",
    "from sklearn.compose import ColumnTransformer\n",
    "\n",
    "X[\"BMI\"].replace({0:np.nan}, inplace=True)\n",
    "\n",
    "no_neighbors = int(sqrt(len(X)))\n",
    "imputer = KNNImputer(n_neighbors=no_neighbors)\n",
    "\n",
    "\n",
    "X_imput = imputer.fit_transform(X)\n",
    "X = pd.DataFrame(X_imput, columns=[\"BGlucose\",\"B1\",\"BPressure\", \"B2\", \"B3\", \"BMI\",\"B4\", \"Age\"])\n"
   ]
  },
  {
   "cell_type": "code",
   "execution_count": 38,
   "metadata": {},
   "outputs": [
    {
     "data": {
      "image/png": "[encoded data removed]",
      "text/plain": [
       "<Figure size 720x720 with 8 Axes>"
      ]
     },
     "metadata": {
      "needs_background": "light"
     },
     "output_type": "display_data"
    }
   ],
   "source": [
    "draw_boxplot(X)\n",
    "# After removing outliers"
   ]
  },
  {
   "cell_type": "markdown",
   "metadata": {},
   "source": [
    "# 3. Models Developments\n",
    "We develop 4 Machine Learning models for this experiments and a general process of developing can be described in 3 main steps:\n",
    "1. Use GridSearch to find hyperparameters for our models that can yield the highest f1 micro score. The cross validation is a 10-fold validation and the process is repeated 3 times. \n",
    "2. After finding out the best settings for the model, we will try to compare them together by train it with a same training set and validate with the same validation set. We will use 3 metrics to illustrate a potential peformance of models:\n",
    "\t1. Confusion matrix\n",
    "\t2. ROC-AUC score\n",
    "\t3. Precision-recall curve and its AUC score\n",
    "4 Machine Learning algorithms we used consist of\n",
    "2 classic algorithm for classification problems:\n",
    "1. Logistic Regression\n",
    "2. Decision Tree\n",
    "And 2 improved version of Decision Tree\n",
    "4. Random Forest: overcome Decision Tree's weakness using bagging technique\n",
    "5. Gradient Boosting: overcome Decision Tree's weakness using boosting technique"
   ]
  },
  {
   "cell_type": "markdown",
   "metadata": {},
   "source": [
    "**Utils functions**"
   ]
  },
  {
   "cell_type": "code",
   "execution_count": 39,
   "metadata": {},
   "outputs": [],
   "source": [
    "from sklearn.linear_model import LogisticRegression\n",
    "from sklearn.preprocessing import RobustScaler, MinMaxScaler, StandardScaler\n",
    "from imblearn.pipeline import Pipeline as ImPipeline"
   ]
  },
  {
   "cell_type": "code",
   "execution_count": 40,
   "metadata": {},
   "outputs": [],
   "source": [
    "def draw_confusion_matrix(cnf_matrix):\n",
    "    class_names=[\"Positive\",\"Negative\"] # name  of classes\n",
    "    fig, ax = plt.subplots()\n",
    "    tick_marks = np.arange(len(class_names))\n",
    "    plt.xticks(tick_marks, class_names)\n",
    "    plt.yticks(tick_marks, class_names)\n",
    "    # create heatmap\n",
    "    sns.heatmap(pd.DataFrame(cnf_matrix), annot=True, cmap=\"YlGnBu\" ,fmt='g')\n",
    "    ax.xaxis.set_label_position(\"top\")\n",
    "    plt.tight_layout()\n",
    "    plt.title('Confusion matrix', y=1.1)\n",
    "    plt.ylabel('Actual label')\n",
    "    plt.xlabel('Predicted label')\n",
    "    plt.show()"
   ]
  },
  {
   "cell_type": "code",
   "execution_count": 41,
   "metadata": {},
   "outputs": [],
   "source": [
    "def print_evaluate_score(y_test, y_pred):\n",
    "    cnf = confusion_matrix(y_test, y_pred)\n",
    "    print(classification_report(y_test, y_pred))\n",
    "    draw_confusion_matrix(cnf)"
   ]
  },
  {
   "cell_type": "code",
   "execution_count": 42,
   "metadata": {},
   "outputs": [],
   "source": [
    "from sklearn.metrics import make_scorer, accuracy_score, precision_score, recall_score, f1_score\n",
    "from sklearn.model_selection import RepeatedKFold, RepeatedStratifiedKFold, cross_validate\n",
    "\n",
    "from sklearn import model_selection\n",
    "def print_cross_validate(model):\n",
    "    scoring = {\n",
    "              'f1_score' : make_scorer(f1_score),\n",
    "              'recall' : make_scorer(recall_score), \n",
    "              'precision' : make_scorer(precision_score),}\n",
    "\n",
    "    kfold = RepeatedStratifiedKFold(n_splits=8, n_repeats=5, random_state=42)\n",
    "\n",
    "    results = cross_validate(estimator=model,\n",
    "                                            X=X,\n",
    "                                            y=Y,\n",
    "                                            cv=kfold,\n",
    "                                            scoring=scoring, return_train_score=False)\n",
    "                                            \n",
    "    print(\"F1-score: %.3f\"%results[\"test_f1_score\"].mean())\n",
    "    print(\"Precision score: %.3f\"%results[\"test_precision\"].mean())\n",
    "    print(\"Recall score: %.3f\"%results[\"test_recall\"].mean())"
   ]
  },
  {
   "cell_type": "code",
   "execution_count": 43,
   "metadata": {},
   "outputs": [],
   "source": [
    "from sklearn.metrics import roc_curve\n",
    "def plot_roc_curve(test_y,model_probs):\n",
    "\t\"\"\"\n",
    "\t\tPlot ROC curve.\n",
    "\t\"\"\"\n",
    "\t# plot model roc curve\n",
    "\tfpr, tpr, _ = roc_curve(test_y, model_probs)\n",
    "\tplt.plot(fpr, tpr, marker='.', label='Logistic')\n",
    "\t# axis labels\n",
    "\tplt.xlabel('False Positive Rate')\n",
    "\tplt.ylabel('True Positive Rate')\n",
    "\t# show the legend\n",
    "\tplt.legend()\n",
    "\t# show the plot\n",
    "\tplt.show()"
   ]
  },
  {
   "cell_type": "code",
   "execution_count": 44,
   "metadata": {},
   "outputs": [],
   "source": [
    "from sklearn.metrics import precision_recall_curve, PrecisionRecallDisplay\n",
    "def plot_pr_curve(test_y,model_probs):\n",
    "\t\"\"\"\n",
    "\tPlot the precision-recall curve.\n",
    "\tTry to find the threshold that returns the best F1 score\n",
    "\t\"\"\"\n",
    "\t# # plot model roc curve\n",
    "\tprecision, recall, thresholds = precision_recall_curve(test_y, model_probs)\n",
    "\t# ...\n",
    "\t# # convert to f score\n",
    "\tfscore = (2 * precision * recall) / (precision + recall)\n",
    "\t# locate the index of the largest f score\n",
    "\tix = np.argmax(fscore)\n",
    "\tprint('Best Threshold=%f, F-Score=%.3f' % (thresholds[ix], fscore[ix]))\n",
    "\n",
    "\tdisplay = PrecisionRecallDisplay.from_predictions(test_y, model_probs, name=\"Model A\")\n",
    "\t_ = display.ax_.set_title(\"2-class Precision-Recall curve\")"
   ]
  },
  {
   "cell_type": "code",
   "execution_count": 45,
   "metadata": {},
   "outputs": [],
   "source": [
    "from sklearn.metrics import confusion_matrix,f1_score, classification_report, roc_auc_score\n",
    "from sklearn.model_selection import train_test_split\n",
    "\n",
    "\n",
    "def print_hold_out_evaluation(model, X, Y):\n",
    "    \"\"\"\n",
    "    Perform a hold-out evaluation using a splits that still keeps the ratio 1:2 of the original dataset \n",
    "    so that we can get the closest approximation of model performance \n",
    "    when it later train on the original dataset to predict the test dataset.\n",
    "    \"\"\" \n",
    "    X_train, X_test, y_train, y_test = train_test_split(X, Y, random_state=6, test_size=0.2, stratify=Y) # \n",
    "    model.fit(X_train, y_train)\n",
    "    pred = model.predict(X_test)\n",
    "    print_evaluate_score(y_test, pred)\n",
    "\n",
    "    propa = model.predict_proba(X_test)[:,1]\n",
    "    roc_auc = roc_auc_score(y_test, propa)\n",
    "    print('Model ROC-AUC score: %.3f' % roc_auc)\n",
    "    # plot roc curves\n",
    "    # plot_roc_curve(y_test, propa)\n",
    "    plot_pr_curve(y_test, propa)\n",
    "\n"
   ]
  },
  {
   "cell_type": "code",
   "execution_count": 46,
   "metadata": {},
   "outputs": [],
   "source": [
    "def print_searchResult(search):\n",
    "    \"\"\"\n",
    "    \n",
    "    \"\"\"\n",
    "    results_df = pd.DataFrame(search.cv_results_)\n",
    "    results_df = results_df.sort_values(by=[\"rank_test_score\"])\n",
    "    results_df = results_df.set_index(\n",
    "        results_df[\"params\"].apply(lambda x: \"_\".join(str(val) for val in x.values()))\n",
    "    ).rename_axis(\"kernel\")\n",
    "    display(results_df[[\"params\", \"rank_test_score\", \"mean_test_score\", \"std_test_score\"]][:10])"
   ]
  },
  {
   "cell_type": "markdown",
   "metadata": {},
   "source": [
    "## 1. Logistic Regression"
   ]
  },
  {
   "cell_type": "markdown",
   "metadata": {},
   "source": [
    "From the EDA phase we have learned that there is no linear relationship exists among the features we used to train our model; therefore, I will use a polynomial logistic regression. And because we use polynomial features, we can't underestimate the chance of overfitting, I will also use regularization technique to overcome that problem.\n",
    "\n",
    "I designed baseline logistic regression model:\n",
    "- solver=\"liblinear\"\n",
    "    - it's because this algorithm works best for a small dataset\n",
    "\n",
    "\n",
    "The Machine learning pipeline for Logistic Regression model consists of:\n",
    "1. Transform inputs to polynomial features. Its degree is a hyperparameter that we will going to use GridSearch to find the best value.\n",
    "2. Normalize the input value using sklearn's RobustScaler() because it's said to handle outliers well and our dataset happened to have a lots of it.\n",
    "3. the model\n"
   ]
  },
  {
   "cell_type": "code",
   "execution_count": 47,
   "metadata": {},
   "outputs": [],
   "source": [
    "# use polynomial to improve model fitting\n",
    "from sklearn.preprocessing import PolynomialFeatures, RobustScaler\n",
    "from sklearn.linear_model import LogisticRegression\n",
    "from sklearn.pipeline import Pipeline\n",
    "poly = PolynomialFeatures(degree=1)\n",
    "\n",
    "# instantiate the model (using the default parameters)\n",
    "solver = \"liblinear\"\n",
    "lr_model = LogisticRegression(C=1, solver= solver, \n",
    "max_iter=7000, tol=1e-3,\n",
    "penalty=\"l2\", random_state=4)\n",
    "\n",
    "scaler = RobustScaler()\n",
    "\n",
    "lr_pipe = Pipeline(steps=[(\"poly\",poly),\n",
    "                            (\"scaler\",scaler),\n",
    "                            (\"logistic\",lr_model)])"
   ]
  },
  {
   "cell_type": "code",
   "execution_count": 64,
   "metadata": {},
   "outputs": [
    {
     "name": "stdout",
     "output_type": "stream",
     "text": [
      "Best parameter (CV score=0.772):\n",
      "{'logistic__C': 0.2782559402207124, 'logistic__penalty': 'l1', 'poly__degree': 2}\n"
     ]
    }
   ],
   "source": [
    "# SearchGrid CV\n",
    "from sklearn.model_selection import GridSearchCV, RepeatedKFold\n",
    "param_grid = {\n",
    "    \"logistic__C\":np.logspace(-1, 1, 10),\n",
    "    \"logistic__penalty\":[\"l1\",\"l2\"],\n",
    "    \"poly__degree\":[2,3,4]\n",
    "\n",
    "}\n",
    "cv = RepeatedKFold(n_splits=10, n_repeats=3, random_state=4)\n",
    "search = GridSearchCV(lr_pipe, param_grid, scoring=\"f1_micro\",cv=cv)\n",
    "search.fit(X, Y)\n",
    "print(\"Best parameter (CV score=%0.3f):\" % search.best_score_)\n",
    "print(search.best_params_)"
   ]
  },
  {
   "cell_type": "code",
   "execution_count": 67,
   "metadata": {},
   "outputs": [
    {
     "data": {
      "text/html": [
       "<div>\n",
       "<style scoped>\n",
       "    .dataframe tbody tr th:only-of-type {\n",
       "        vertical-align: middle;\n",
       "    }\n",
       "\n",
       "    .dataframe tbody tr th {\n",
       "        vertical-align: top;\n",
       "    }\n",
       "\n",
       "    .dataframe thead th {\n",
       "        text-align: right;\n",
       "    }\n",
       "</style>\n",
       "<table border=\"1\" class=\"dataframe\">\n",
       "  <thead>\n",
       "    <tr style=\"text-align: right;\">\n",
       "      <th></th>\n",
       "      <th>params</th>\n",
       "      <th>rank_test_score</th>\n",
       "      <th>mean_test_score</th>\n",
       "      <th>std_test_score</th>\n",
       "    </tr>\n",
       "    <tr>\n",
       "      <th>kernel</th>\n",
       "      <th></th>\n",
       "      <th></th>\n",
       "      <th></th>\n",
       "      <th></th>\n",
       "    </tr>\n",
       "  </thead>\n",
       "  <tbody>\n",
       "    <tr>\n",
       "      <th>0.2782559402207124_l1_2</th>\n",
       "      <td>{'logistic__C': 0.2782559402207124, 'logistic_...</td>\n",
       "      <td>1</td>\n",
       "      <td>0.772373</td>\n",
       "      <td>0.050385</td>\n",
       "    </tr>\n",
       "    <tr>\n",
       "      <th>0.16681005372000587_l1_2</th>\n",
       "      <td>{'logistic__C': 0.16681005372000587, 'logistic...</td>\n",
       "      <td>2</td>\n",
       "      <td>0.770725</td>\n",
       "      <td>0.045142</td>\n",
       "    </tr>\n",
       "    <tr>\n",
       "      <th>0.16681005372000587_l1_3</th>\n",
       "      <td>{'logistic__C': 0.16681005372000587, 'logistic...</td>\n",
       "      <td>3</td>\n",
       "      <td>0.770716</td>\n",
       "      <td>0.039729</td>\n",
       "    </tr>\n",
       "    <tr>\n",
       "      <th>0.1_l1_3</th>\n",
       "      <td>{'logistic__C': 0.1, 'logistic__penalty': 'l1'...</td>\n",
       "      <td>4</td>\n",
       "      <td>0.770151</td>\n",
       "      <td>0.044135</td>\n",
       "    </tr>\n",
       "    <tr>\n",
       "      <th>0.2782559402207124_l1_3</th>\n",
       "      <td>{'logistic__C': 0.2782559402207124, 'logistic_...</td>\n",
       "      <td>5</td>\n",
       "      <td>0.770132</td>\n",
       "      <td>0.046297</td>\n",
       "    </tr>\n",
       "    <tr>\n",
       "      <th>0.46415888336127786_l2_2</th>\n",
       "      <td>{'logistic__C': 0.46415888336127786, 'logistic...</td>\n",
       "      <td>6</td>\n",
       "      <td>0.769567</td>\n",
       "      <td>0.050142</td>\n",
       "    </tr>\n",
       "    <tr>\n",
       "      <th>0.1_l1_2</th>\n",
       "      <td>{'logistic__C': 0.1, 'logistic__penalty': 'l1'...</td>\n",
       "      <td>7</td>\n",
       "      <td>0.769049</td>\n",
       "      <td>0.043528</td>\n",
       "    </tr>\n",
       "    <tr>\n",
       "      <th>0.46415888336127786_l1_2</th>\n",
       "      <td>{'logistic__C': 0.46415888336127786, 'logistic...</td>\n",
       "      <td>8</td>\n",
       "      <td>0.768456</td>\n",
       "      <td>0.048683</td>\n",
       "    </tr>\n",
       "    <tr>\n",
       "      <th>0.774263682681127_l1_2</th>\n",
       "      <td>{'logistic__C': 0.774263682681127, 'logistic__...</td>\n",
       "      <td>9</td>\n",
       "      <td>0.767900</td>\n",
       "      <td>0.048808</td>\n",
       "    </tr>\n",
       "    <tr>\n",
       "      <th>0.16681005372000587_l2_2</th>\n",
       "      <td>{'logistic__C': 0.16681005372000587, 'logistic...</td>\n",
       "      <td>10</td>\n",
       "      <td>0.766234</td>\n",
       "      <td>0.047960</td>\n",
       "    </tr>\n",
       "  </tbody>\n",
       "</table>\n",
       "</div>"
      ],
      "text/plain": [
       "                                                                     params  \\\n",
       "kernel                                                                        \n",
       "0.2782559402207124_l1_2   {'logistic__C': 0.2782559402207124, 'logistic_...   \n",
       "0.16681005372000587_l1_2  {'logistic__C': 0.16681005372000587, 'logistic...   \n",
       "0.16681005372000587_l1_3  {'logistic__C': 0.16681005372000587, 'logistic...   \n",
       "0.1_l1_3                  {'logistic__C': 0.1, 'logistic__penalty': 'l1'...   \n",
       "0.2782559402207124_l1_3   {'logistic__C': 0.2782559402207124, 'logistic_...   \n",
       "0.46415888336127786_l2_2  {'logistic__C': 0.46415888336127786, 'logistic...   \n",
       "0.1_l1_2                  {'logistic__C': 0.1, 'logistic__penalty': 'l1'...   \n",
       "0.46415888336127786_l1_2  {'logistic__C': 0.46415888336127786, 'logistic...   \n",
       "0.774263682681127_l1_2    {'logistic__C': 0.774263682681127, 'logistic__...   \n",
       "0.16681005372000587_l2_2  {'logistic__C': 0.16681005372000587, 'logistic...   \n",
       "\n",
       "                          rank_test_score  mean_test_score  std_test_score  \n",
       "kernel                                                                      \n",
       "0.2782559402207124_l1_2                 1         0.772373        0.050385  \n",
       "0.16681005372000587_l1_2                2         0.770725        0.045142  \n",
       "0.16681005372000587_l1_3                3         0.770716        0.039729  \n",
       "0.1_l1_3                                4         0.770151        0.044135  \n",
       "0.2782559402207124_l1_3                 5         0.770132        0.046297  \n",
       "0.46415888336127786_l2_2                6         0.769567        0.050142  \n",
       "0.1_l1_2                                7         0.769049        0.043528  \n",
       "0.46415888336127786_l1_2                8         0.768456        0.048683  \n",
       "0.774263682681127_l1_2                  9         0.767900        0.048808  \n",
       "0.16681005372000587_l2_2               10         0.766234        0.047960  "
      ]
     },
     "metadata": {},
     "output_type": "display_data"
    }
   ],
   "source": [
    "print_searchResult(search)"
   ]
  },
  {
   "cell_type": "code",
   "execution_count": 48,
   "metadata": {},
   "outputs": [
    {
     "name": "stdout",
     "output_type": "stream",
     "text": [
      "LogisticRegression(C=0.2782559402207124, max_iter=7000, penalty='l1',\n",
      "                   random_state=4, solver='liblinear')\n"
     ]
    }
   ],
   "source": [
    "# logistic__C = search.best_params_[\"logistic__C\"]\n",
    "# logistic__class_weight = search.best_params_[\"logistic__class_weight\"]\n",
    "# logistic__penalty = search.best_params_[\"logistic__penalty\"]\n",
    "# poly_degree = search.best_params_[\"poly__degree\"]\n",
    "# best_logisticReg = LogisticRegression(\n",
    "#     penalty= logistic__penalty,\n",
    "#     C= logistic__C,\n",
    "#     class_weight=logistic__class_weight,\n",
    "#     random_state=4,\n",
    "#     solver= solver,\n",
    "#     max_iter=7000\n",
    "# )\n",
    "# poly = PolynomialFeatures(degree=poly_degree)\n",
    "\n",
    "best_logisticReg = LogisticRegression(\n",
    "    penalty= \"l1\",\n",
    "    C=0.2782559402207124,\n",
    "    random_state=4,\n",
    "    solver= solver,\n",
    "    max_iter=7000\n",
    ")\n",
    "poly = PolynomialFeatures(degree=2)\n",
    "print(best_logisticReg)"
   ]
  },
  {
   "cell_type": "code",
   "execution_count": 49,
   "metadata": {},
   "outputs": [],
   "source": [
    "logistic_pipe = Pipeline(steps=[(\"poly\",poly),(\"scaler\", scaler), (\"model\",best_logisticReg)])"
   ]
  },
  {
   "cell_type": "markdown",
   "metadata": {},
   "source": [
    "## 2. Decision Tree"
   ]
  },
  {
   "cell_type": "code",
   "execution_count": 50,
   "metadata": {},
   "outputs": [],
   "source": [
    "from sklearn.tree import DecisionTreeClassifier\n",
    "from imblearn.pipeline import Pipeline\n",
    "\n",
    "\n",
    "dtree_model = DecisionTreeClassifier(max_features=\"sqrt\", random_state=4, ccp_alpha=0.0032, min_samples_split=2)\n",
    "steps = [('model', dtree_model)]\n",
    "dtree_pipe = Pipeline(steps=steps)"
   ]
  },
  {
   "cell_type": "code",
   "execution_count": 81,
   "metadata": {},
   "outputs": [
    {
     "name": "stdout",
     "output_type": "stream",
     "text": [
      "Best parameter (CV score=0.708):\n",
      "{'model__ccp_alpha': 0.007742636826811269, 'model__class_weight': {0: 1, 1: 1.9}, 'model__max_depth': 4, 'model__min_samples_split': 2}\n"
     ]
    }
   ],
   "source": [
    "from sklearn.model_selection import RepeatedKFold, GridSearchCV\n",
    "param_grid = {\n",
    "    # \"model__class_weight\": [{0:0.4,1:0.6}, {0:0.42,1:0.58},{0:0.45,1:0.55},{0:0.5,1:0.5}],\n",
    "    \"model__class_weight\": [{0:1, 1:1.9}, \"balanced\", {0:0.5,1:0.5}],\n",
    "    \"model__ccp_alpha\": np.logspace(-3,1,10),\n",
    "    \"model__max_depth\": [2,3,4],\n",
    "    \"model__min_samples_split\": [2,3,4,5],\n",
    "\n",
    "}\n",
    "cv = RepeatedKFold(n_splits=10, n_repeats=3, random_state=4)\n",
    "search = GridSearchCV(dtree_pipe, param_grid, scoring=\"f1_micro\",cv=cv, error_score=\"raise\")\n",
    "search.fit(X, Y)\n",
    "print(\"Best parameter (CV score=%0.3f):\" % search.best_score_)\n",
    "print(search.best_params_)"
   ]
  },
  {
   "cell_type": "code",
   "execution_count": 82,
   "metadata": {},
   "outputs": [
    {
     "data": {
      "text/html": [
       "<div>\n",
       "<style scoped>\n",
       "    .dataframe tbody tr th:only-of-type {\n",
       "        vertical-align: middle;\n",
       "    }\n",
       "\n",
       "    .dataframe tbody tr th {\n",
       "        vertical-align: top;\n",
       "    }\n",
       "\n",
       "    .dataframe thead th {\n",
       "        text-align: right;\n",
       "    }\n",
       "</style>\n",
       "<table border=\"1\" class=\"dataframe\">\n",
       "  <thead>\n",
       "    <tr style=\"text-align: right;\">\n",
       "      <th></th>\n",
       "      <th>params</th>\n",
       "      <th>rank_test_score</th>\n",
       "      <th>mean_test_score</th>\n",
       "      <th>std_test_score</th>\n",
       "    </tr>\n",
       "    <tr>\n",
       "      <th>kernel</th>\n",
       "      <th></th>\n",
       "      <th></th>\n",
       "      <th></th>\n",
       "      <th></th>\n",
       "    </tr>\n",
       "  </thead>\n",
       "  <tbody>\n",
       "    <tr>\n",
       "      <th>0.007742636826811269_{0: 1, 1: 1.9}_4_3</th>\n",
       "      <td>{'model__ccp_alpha': 0.007742636826811269, 'mo...</td>\n",
       "      <td>1</td>\n",
       "      <td>0.708390</td>\n",
       "      <td>0.060061</td>\n",
       "    </tr>\n",
       "    <tr>\n",
       "      <th>0.007742636826811269_{0: 1, 1: 1.9}_4_2</th>\n",
       "      <td>{'model__ccp_alpha': 0.007742636826811269, 'mo...</td>\n",
       "      <td>1</td>\n",
       "      <td>0.708390</td>\n",
       "      <td>0.060061</td>\n",
       "    </tr>\n",
       "    <tr>\n",
       "      <th>0.007742636826811269_{0: 1, 1: 1.9}_4_5</th>\n",
       "      <td>{'model__ccp_alpha': 0.007742636826811269, 'mo...</td>\n",
       "      <td>3</td>\n",
       "      <td>0.707834</td>\n",
       "      <td>0.059283</td>\n",
       "    </tr>\n",
       "    <tr>\n",
       "      <th>0.007742636826811269_{0: 1, 1: 1.9}_4_4</th>\n",
       "      <td>{'model__ccp_alpha': 0.007742636826811269, 'mo...</td>\n",
       "      <td>3</td>\n",
       "      <td>0.707834</td>\n",
       "      <td>0.059283</td>\n",
       "    </tr>\n",
       "    <tr>\n",
       "      <th>0.007742636826811269_balanced_4_2</th>\n",
       "      <td>{'model__ccp_alpha': 0.007742636826811269, 'mo...</td>\n",
       "      <td>5</td>\n",
       "      <td>0.707815</td>\n",
       "      <td>0.059351</td>\n",
       "    </tr>\n",
       "    <tr>\n",
       "      <th>0.007742636826811269_balanced_4_3</th>\n",
       "      <td>{'model__ccp_alpha': 0.007742636826811269, 'mo...</td>\n",
       "      <td>5</td>\n",
       "      <td>0.707815</td>\n",
       "      <td>0.059351</td>\n",
       "    </tr>\n",
       "    <tr>\n",
       "      <th>0.007742636826811269_balanced_4_5</th>\n",
       "      <td>{'model__ccp_alpha': 0.007742636826811269, 'mo...</td>\n",
       "      <td>7</td>\n",
       "      <td>0.707260</td>\n",
       "      <td>0.058558</td>\n",
       "    </tr>\n",
       "    <tr>\n",
       "      <th>0.007742636826811269_balanced_4_4</th>\n",
       "      <td>{'model__ccp_alpha': 0.007742636826811269, 'mo...</td>\n",
       "      <td>7</td>\n",
       "      <td>0.707260</td>\n",
       "      <td>0.058558</td>\n",
       "    </tr>\n",
       "    <tr>\n",
       "      <th>0.0027825594022071257_{0: 0.5, 1: 0.5}_2_3</th>\n",
       "      <td>{'model__ccp_alpha': 0.0027825594022071257, 'm...</td>\n",
       "      <td>9</td>\n",
       "      <td>0.705019</td>\n",
       "      <td>0.053265</td>\n",
       "    </tr>\n",
       "    <tr>\n",
       "      <th>0.001_{0: 0.5, 1: 0.5}_2_4</th>\n",
       "      <td>{'model__ccp_alpha': 0.001, 'model__class_weig...</td>\n",
       "      <td>9</td>\n",
       "      <td>0.705019</td>\n",
       "      <td>0.053265</td>\n",
       "    </tr>\n",
       "  </tbody>\n",
       "</table>\n",
       "</div>"
      ],
      "text/plain": [
       "                                                                                       params  \\\n",
       "kernel                                                                                          \n",
       "0.007742636826811269_{0: 1, 1: 1.9}_4_3     {'model__ccp_alpha': 0.007742636826811269, 'mo...   \n",
       "0.007742636826811269_{0: 1, 1: 1.9}_4_2     {'model__ccp_alpha': 0.007742636826811269, 'mo...   \n",
       "0.007742636826811269_{0: 1, 1: 1.9}_4_5     {'model__ccp_alpha': 0.007742636826811269, 'mo...   \n",
       "0.007742636826811269_{0: 1, 1: 1.9}_4_4     {'model__ccp_alpha': 0.007742636826811269, 'mo...   \n",
       "0.007742636826811269_balanced_4_2           {'model__ccp_alpha': 0.007742636826811269, 'mo...   \n",
       "0.007742636826811269_balanced_4_3           {'model__ccp_alpha': 0.007742636826811269, 'mo...   \n",
       "0.007742636826811269_balanced_4_5           {'model__ccp_alpha': 0.007742636826811269, 'mo...   \n",
       "0.007742636826811269_balanced_4_4           {'model__ccp_alpha': 0.007742636826811269, 'mo...   \n",
       "0.0027825594022071257_{0: 0.5, 1: 0.5}_2_3  {'model__ccp_alpha': 0.0027825594022071257, 'm...   \n",
       "0.001_{0: 0.5, 1: 0.5}_2_4                  {'model__ccp_alpha': 0.001, 'model__class_weig...   \n",
       "\n",
       "                                            rank_test_score  mean_test_score  \\\n",
       "kernel                                                                         \n",
       "0.007742636826811269_{0: 1, 1: 1.9}_4_3                   1         0.708390   \n",
       "0.007742636826811269_{0: 1, 1: 1.9}_4_2                   1         0.708390   \n",
       "0.007742636826811269_{0: 1, 1: 1.9}_4_5                   3         0.707834   \n",
       "0.007742636826811269_{0: 1, 1: 1.9}_4_4                   3         0.707834   \n",
       "0.007742636826811269_balanced_4_2                         5         0.707815   \n",
       "0.007742636826811269_balanced_4_3                         5         0.707815   \n",
       "0.007742636826811269_balanced_4_5                         7         0.707260   \n",
       "0.007742636826811269_balanced_4_4                         7         0.707260   \n",
       "0.0027825594022071257_{0: 0.5, 1: 0.5}_2_3                9         0.705019   \n",
       "0.001_{0: 0.5, 1: 0.5}_2_4                                9         0.705019   \n",
       "\n",
       "                                            std_test_score  \n",
       "kernel                                                      \n",
       "0.007742636826811269_{0: 1, 1: 1.9}_4_3           0.060061  \n",
       "0.007742636826811269_{0: 1, 1: 1.9}_4_2           0.060061  \n",
       "0.007742636826811269_{0: 1, 1: 1.9}_4_5           0.059283  \n",
       "0.007742636826811269_{0: 1, 1: 1.9}_4_4           0.059283  \n",
       "0.007742636826811269_balanced_4_2                 0.059351  \n",
       "0.007742636826811269_balanced_4_3                 0.059351  \n",
       "0.007742636826811269_balanced_4_5                 0.058558  \n",
       "0.007742636826811269_balanced_4_4                 0.058558  \n",
       "0.0027825594022071257_{0: 0.5, 1: 0.5}_2_3        0.053265  \n",
       "0.001_{0: 0.5, 1: 0.5}_2_4                        0.053265  "
      ]
     },
     "metadata": {},
     "output_type": "display_data"
    }
   ],
   "source": [
    "print_searchResult(search)"
   ]
  },
  {
   "cell_type": "code",
   "execution_count": 51,
   "metadata": {},
   "outputs": [],
   "source": [
    "# b_params = search.best_params_\n",
    "# model__class_weight = b_params[\"model__class_weight\"]\n",
    "# model__ccp_alpha = b_params[\"model__ccp_alpha\"]\n",
    "# model__max_depth = b_params[\"model__max_depth\"]\n",
    "# model__min_samples_leaf = b_params[\"model__min_samples_leaf\"]\n",
    "\n",
    "# dtree_model = DecisionTreeClassifier(max_features=\"sqrt\",\n",
    "# class_weight=model__class_weight, \n",
    "# random_state=4, \n",
    "# ccp_alpha=model__ccp_alpha,\n",
    "# max_depth=model__max_depth,\n",
    "# min_samples_leaf=model__min_samples_leaf)\n",
    "\n",
    "dtree_model = DecisionTreeClassifier(max_features=\"sqrt\",\n",
    "class_weight={0: 1, 1: 1.9}, \n",
    "random_state=4, \n",
    "ccp_alpha=0.007742636826811269,\n",
    "max_depth=4,\n",
    "min_samples_split=2)\n",
    "\n",
    "steps = [('model', dtree_model)]\n",
    "\n",
    "dtree_pipe = Pipeline(steps=steps)\n"
   ]
  },
  {
   "cell_type": "markdown",
   "metadata": {},
   "source": [
    "## 4. Random Forest"
   ]
  },
  {
   "cell_type": "code",
   "execution_count": 20,
   "metadata": {},
   "outputs": [],
   "source": [
    "from sklearn.ensemble import RandomForestClassifier\n",
    "rf_model = RandomForestClassifier(max_features=\"sqrt\",random_state=3,class_weight={0:0.22, 1: 0.78}, n_jobs=-1)"
   ]
  },
  {
   "cell_type": "code",
   "execution_count": 283,
   "metadata": {},
   "outputs": [
    {
     "name": "stdout",
     "output_type": "stream",
     "text": [
      "Best parameter (CV score=0.763):\n",
      "{'class_weight': {0: 0.5, 1: 0.5}, 'max_depth': 4, 'max_features': 'sqrt', 'min_samples_split': 2, 'n_estimators': 100}\n"
     ]
    }
   ],
   "source": [
    "from sklearn.model_selection import RepeatedKFold, GridSearchCV\n",
    "param_grid = {\n",
    "    \"n_estimators\": [100,120,130],\n",
    "    \"class_weight\": [{0:1, 1:1.9},\"balanced\",{0:0.5,1:0.5}],\n",
    "    \"max_depth\": [2,3,4, None],\n",
    "    \"min_samples_split\": [2,3,],\n",
    "    \"max_features\":[\"sqrt\"]\n",
    "\n",
    "}\n",
    "cv = RepeatedKFold(n_splits=10, n_repeats=3, random_state=4)\n",
    "search = GridSearchCV(rf_model, param_grid, scoring=\"f1_micro\",cv=cv, error_score=\"raise\")\n",
    "search.fit(X, Y)\n",
    "print(\"Best parameter (CV score=%0.3f):\" % search.best_score_)\n",
    "print(search.best_params_)"
   ]
  },
  {
   "cell_type": "code",
   "execution_count": 21,
   "metadata": {},
   "outputs": [],
   "source": [
    "# b_params = search.best_params_\n",
    "# n_estimators = b_params[\"n_estimators\"]\n",
    "# class_weight = b_params[\"class_weight\"]\n",
    "# ccp_alpha = b_params[\"ccp_alpha\"]\n",
    "# max_depth = b_params[\"max_depth\"]\n",
    "# min_samples_leaf = b_params[\"min_samples_leaf\"]\n",
    "# min_samples_split = b_params[\"min_samples_split\"]\n",
    "\n",
    "# rf_model = RandomForestClassifier(max_features=\"sqrt\",\n",
    "#                             random_state=3,\n",
    "#                             class_weight=class_weight, \n",
    "#                             ccp_alpha= ccp_alpha,\n",
    "#                             max_depth= max_depth,\n",
    "#                             min_samples_leaf= min_samples_leaf,\n",
    "#                             min_samples_split= min_samples_split,\n",
    "#                             n_jobs=-1)\n",
    "\n",
    "rf_model = RandomForestClassifier(\n",
    "                            max_features=\"sqrt\",\n",
    "                            random_state=3,\n",
    "                            n_estimators=100,\n",
    "                            class_weight={0: 0.5, 1: 0.5}, \n",
    "                            max_depth= 4,\n",
    "                            min_samples_split= 3,\n",
    "                            n_jobs=-1)"
   ]
  },
  {
   "cell_type": "code",
   "execution_count": 105,
   "metadata": {},
   "outputs": [
    {
     "data": {
      "text/html": [
       "<div>\n",
       "<style scoped>\n",
       "    .dataframe tbody tr th:only-of-type {\n",
       "        vertical-align: middle;\n",
       "    }\n",
       "\n",
       "    .dataframe tbody tr th {\n",
       "        vertical-align: top;\n",
       "    }\n",
       "\n",
       "    .dataframe thead th {\n",
       "        text-align: right;\n",
       "    }\n",
       "</style>\n",
       "<table border=\"1\" class=\"dataframe\">\n",
       "  <thead>\n",
       "    <tr style=\"text-align: right;\">\n",
       "      <th></th>\n",
       "      <th>params</th>\n",
       "      <th>rank_test_score</th>\n",
       "      <th>mean_test_score</th>\n",
       "      <th>std_test_score</th>\n",
       "    </tr>\n",
       "    <tr>\n",
       "      <th>kernel</th>\n",
       "      <th></th>\n",
       "      <th></th>\n",
       "      <th></th>\n",
       "      <th></th>\n",
       "    </tr>\n",
       "  </thead>\n",
       "  <tbody>\n",
       "    <tr>\n",
       "      <th>{0: 0.5, 1: 0.5}_4_sqrt_3_100</th>\n",
       "      <td>{'class_weight': {0: 0.5, 1: 0.5}, 'max_depth'...</td>\n",
       "      <td>1</td>\n",
       "      <td>0.762881</td>\n",
       "      <td>0.045352</td>\n",
       "    </tr>\n",
       "    <tr>\n",
       "      <th>{0: 0.5, 1: 0.5}_4_sqrt_2_130</th>\n",
       "      <td>{'class_weight': {0: 0.5, 1: 0.5}, 'max_depth'...</td>\n",
       "      <td>2</td>\n",
       "      <td>0.761780</td>\n",
       "      <td>0.047204</td>\n",
       "    </tr>\n",
       "    <tr>\n",
       "      <th>{0: 0.5, 1: 0.5}_4_sqrt_2_120</th>\n",
       "      <td>{'class_weight': {0: 0.5, 1: 0.5}, 'max_depth'...</td>\n",
       "      <td>3</td>\n",
       "      <td>0.761215</td>\n",
       "      <td>0.046295</td>\n",
       "    </tr>\n",
       "    <tr>\n",
       "      <th>{0: 0.5, 1: 0.5}_4_sqrt_3_120</th>\n",
       "      <td>{'class_weight': {0: 0.5, 1: 0.5}, 'max_depth'...</td>\n",
       "      <td>4</td>\n",
       "      <td>0.761215</td>\n",
       "      <td>0.044459</td>\n",
       "    </tr>\n",
       "    <tr>\n",
       "      <th>{0: 0.5, 1: 0.5}_4_sqrt_3_130</th>\n",
       "      <td>{'class_weight': {0: 0.5, 1: 0.5}, 'max_depth'...</td>\n",
       "      <td>5</td>\n",
       "      <td>0.760669</td>\n",
       "      <td>0.048624</td>\n",
       "    </tr>\n",
       "    <tr>\n",
       "      <th>{0: 0.5, 1: 0.5}_4_sqrt_2_100</th>\n",
       "      <td>{'class_weight': {0: 0.5, 1: 0.5}, 'max_depth'...</td>\n",
       "      <td>6</td>\n",
       "      <td>0.760650</td>\n",
       "      <td>0.047580</td>\n",
       "    </tr>\n",
       "    <tr>\n",
       "      <th>{0: 0.5, 1: 0.5}_None_sqrt_3_100</th>\n",
       "      <td>{'class_weight': {0: 0.5, 1: 0.5}, 'max_depth'...</td>\n",
       "      <td>7</td>\n",
       "      <td>0.756224</td>\n",
       "      <td>0.048982</td>\n",
       "    </tr>\n",
       "    <tr>\n",
       "      <th>{0: 0.5, 1: 0.5}_None_sqrt_2_120</th>\n",
       "      <td>{'class_weight': {0: 0.5, 1: 0.5}, 'max_depth'...</td>\n",
       "      <td>8</td>\n",
       "      <td>0.756205</td>\n",
       "      <td>0.049296</td>\n",
       "    </tr>\n",
       "    <tr>\n",
       "      <th>{0: 1, 1: 1.9}_None_sqrt_2_120</th>\n",
       "      <td>{'class_weight': {0: 1, 1: 1.9}, 'max_depth': ...</td>\n",
       "      <td>9</td>\n",
       "      <td>0.755687</td>\n",
       "      <td>0.047911</td>\n",
       "    </tr>\n",
       "    <tr>\n",
       "      <th>{0: 1, 1: 1.9}_None_sqrt_2_130</th>\n",
       "      <td>{'class_weight': {0: 1, 1: 1.9}, 'max_depth': ...</td>\n",
       "      <td>10</td>\n",
       "      <td>0.755141</td>\n",
       "      <td>0.046660</td>\n",
       "    </tr>\n",
       "  </tbody>\n",
       "</table>\n",
       "</div>"
      ],
      "text/plain": [
       "                                                                             params  \\\n",
       "kernel                                                                                \n",
       "{0: 0.5, 1: 0.5}_4_sqrt_3_100     {'class_weight': {0: 0.5, 1: 0.5}, 'max_depth'...   \n",
       "{0: 0.5, 1: 0.5}_4_sqrt_2_130     {'class_weight': {0: 0.5, 1: 0.5}, 'max_depth'...   \n",
       "{0: 0.5, 1: 0.5}_4_sqrt_2_120     {'class_weight': {0: 0.5, 1: 0.5}, 'max_depth'...   \n",
       "{0: 0.5, 1: 0.5}_4_sqrt_3_120     {'class_weight': {0: 0.5, 1: 0.5}, 'max_depth'...   \n",
       "{0: 0.5, 1: 0.5}_4_sqrt_3_130     {'class_weight': {0: 0.5, 1: 0.5}, 'max_depth'...   \n",
       "{0: 0.5, 1: 0.5}_4_sqrt_2_100     {'class_weight': {0: 0.5, 1: 0.5}, 'max_depth'...   \n",
       "{0: 0.5, 1: 0.5}_None_sqrt_3_100  {'class_weight': {0: 0.5, 1: 0.5}, 'max_depth'...   \n",
       "{0: 0.5, 1: 0.5}_None_sqrt_2_120  {'class_weight': {0: 0.5, 1: 0.5}, 'max_depth'...   \n",
       "{0: 1, 1: 1.9}_None_sqrt_2_120    {'class_weight': {0: 1, 1: 1.9}, 'max_depth': ...   \n",
       "{0: 1, 1: 1.9}_None_sqrt_2_130    {'class_weight': {0: 1, 1: 1.9}, 'max_depth': ...   \n",
       "\n",
       "                                  rank_test_score  mean_test_score  \\\n",
       "kernel                                                               \n",
       "{0: 0.5, 1: 0.5}_4_sqrt_3_100                   1         0.762881   \n",
       "{0: 0.5, 1: 0.5}_4_sqrt_2_130                   2         0.761780   \n",
       "{0: 0.5, 1: 0.5}_4_sqrt_2_120                   3         0.761215   \n",
       "{0: 0.5, 1: 0.5}_4_sqrt_3_120                   4         0.761215   \n",
       "{0: 0.5, 1: 0.5}_4_sqrt_3_130                   5         0.760669   \n",
       "{0: 0.5, 1: 0.5}_4_sqrt_2_100                   6         0.760650   \n",
       "{0: 0.5, 1: 0.5}_None_sqrt_3_100                7         0.756224   \n",
       "{0: 0.5, 1: 0.5}_None_sqrt_2_120                8         0.756205   \n",
       "{0: 1, 1: 1.9}_None_sqrt_2_120                  9         0.755687   \n",
       "{0: 1, 1: 1.9}_None_sqrt_2_130                 10         0.755141   \n",
       "\n",
       "                                  std_test_score  \n",
       "kernel                                            \n",
       "{0: 0.5, 1: 0.5}_4_sqrt_3_100           0.045352  \n",
       "{0: 0.5, 1: 0.5}_4_sqrt_2_130           0.047204  \n",
       "{0: 0.5, 1: 0.5}_4_sqrt_2_120           0.046295  \n",
       "{0: 0.5, 1: 0.5}_4_sqrt_3_120           0.044459  \n",
       "{0: 0.5, 1: 0.5}_4_sqrt_3_130           0.048624  \n",
       "{0: 0.5, 1: 0.5}_4_sqrt_2_100           0.047580  \n",
       "{0: 0.5, 1: 0.5}_None_sqrt_3_100        0.048982  \n",
       "{0: 0.5, 1: 0.5}_None_sqrt_2_120        0.049296  \n",
       "{0: 1, 1: 1.9}_None_sqrt_2_120          0.047911  \n",
       "{0: 1, 1: 1.9}_None_sqrt_2_130          0.046660  "
      ]
     },
     "metadata": {},
     "output_type": "display_data"
    }
   ],
   "source": [
    "print_searchResult(search)"
   ]
  },
  {
   "cell_type": "markdown",
   "metadata": {},
   "source": [
    "## 5. Boosting\n"
   ]
  },
  {
   "cell_type": "code",
   "execution_count": 37,
   "metadata": {},
   "outputs": [],
   "source": [
    "from sklearn.ensemble import GradientBoostingClassifier\n",
    "\n",
    "clf = GradientBoostingClassifier(n_estimators=250, learning_rate=0.4, max_depth=1, random_state=0)\n"
   ]
  },
  {
   "cell_type": "code",
   "execution_count": 113,
   "metadata": {},
   "outputs": [
    {
     "name": "stdout",
     "output_type": "stream",
     "text": [
      "Best parameter (CV score=0.755):\n",
      "{'max_depth': 1, 'max_features': 'sqrt', 'min_samples_split': 2, 'n_estimators': 70}\n"
     ]
    }
   ],
   "source": [
    "from sklearn.model_selection import RepeatedKFold, GridSearchCV\n",
    "param_grid = {\n",
    "    \"n_estimators\": [50,70, 100],\n",
    "    \"max_features\": [\"sqrt\",],\n",
    "    \"min_samples_split\": [2,3,4],\n",
    "    \"max_depth\": [1,2]\n",
    "    \n",
    "}\n",
    "cv = RepeatedKFold(n_splits=10, n_repeats=3, random_state=4)\n",
    "search = GridSearchCV(clf, param_grid, scoring=\"f1_micro\",cv=cv, error_score=\"raise\")\n",
    "search.fit(X, Y)\n",
    "print(\"Best parameter (CV score=%0.3f):\" % search.best_score_)\n",
    "print(search.best_params_)"
   ]
  },
  {
   "cell_type": "code",
   "execution_count": 114,
   "metadata": {},
   "outputs": [
    {
     "data": {
      "text/html": [
       "<div>\n",
       "<style scoped>\n",
       "    .dataframe tbody tr th:only-of-type {\n",
       "        vertical-align: middle;\n",
       "    }\n",
       "\n",
       "    .dataframe tbody tr th {\n",
       "        vertical-align: top;\n",
       "    }\n",
       "\n",
       "    .dataframe thead th {\n",
       "        text-align: right;\n",
       "    }\n",
       "</style>\n",
       "<table border=\"1\" class=\"dataframe\">\n",
       "  <thead>\n",
       "    <tr style=\"text-align: right;\">\n",
       "      <th></th>\n",
       "      <th>params</th>\n",
       "      <th>rank_test_score</th>\n",
       "      <th>mean_test_score</th>\n",
       "      <th>std_test_score</th>\n",
       "    </tr>\n",
       "    <tr>\n",
       "      <th>kernel</th>\n",
       "      <th></th>\n",
       "      <th></th>\n",
       "      <th></th>\n",
       "      <th></th>\n",
       "    </tr>\n",
       "  </thead>\n",
       "  <tbody>\n",
       "    <tr>\n",
       "      <th>1_sqrt_2_70</th>\n",
       "      <td>{'max_depth': 1, 'max_features': 'sqrt', 'min_...</td>\n",
       "      <td>1</td>\n",
       "      <td>0.754567</td>\n",
       "      <td>0.045546</td>\n",
       "    </tr>\n",
       "    <tr>\n",
       "      <th>1_sqrt_4_70</th>\n",
       "      <td>{'max_depth': 1, 'max_features': 'sqrt', 'min_...</td>\n",
       "      <td>1</td>\n",
       "      <td>0.754567</td>\n",
       "      <td>0.045546</td>\n",
       "    </tr>\n",
       "    <tr>\n",
       "      <th>1_sqrt_3_70</th>\n",
       "      <td>{'max_depth': 1, 'max_features': 'sqrt', 'min_...</td>\n",
       "      <td>1</td>\n",
       "      <td>0.754567</td>\n",
       "      <td>0.045546</td>\n",
       "    </tr>\n",
       "    <tr>\n",
       "      <th>1_sqrt_2_50</th>\n",
       "      <td>{'max_depth': 1, 'max_features': 'sqrt', 'min_...</td>\n",
       "      <td>4</td>\n",
       "      <td>0.753437</td>\n",
       "      <td>0.043657</td>\n",
       "    </tr>\n",
       "    <tr>\n",
       "      <th>1_sqrt_3_50</th>\n",
       "      <td>{'max_depth': 1, 'max_features': 'sqrt', 'min_...</td>\n",
       "      <td>4</td>\n",
       "      <td>0.753437</td>\n",
       "      <td>0.043657</td>\n",
       "    </tr>\n",
       "    <tr>\n",
       "      <th>1_sqrt_4_50</th>\n",
       "      <td>{'max_depth': 1, 'max_features': 'sqrt', 'min_...</td>\n",
       "      <td>4</td>\n",
       "      <td>0.753437</td>\n",
       "      <td>0.043657</td>\n",
       "    </tr>\n",
       "    <tr>\n",
       "      <th>1_sqrt_4_100</th>\n",
       "      <td>{'max_depth': 1, 'max_features': 'sqrt', 'min_...</td>\n",
       "      <td>7</td>\n",
       "      <td>0.751243</td>\n",
       "      <td>0.045083</td>\n",
       "    </tr>\n",
       "    <tr>\n",
       "      <th>1_sqrt_2_100</th>\n",
       "      <td>{'max_depth': 1, 'max_features': 'sqrt', 'min_...</td>\n",
       "      <td>7</td>\n",
       "      <td>0.751243</td>\n",
       "      <td>0.045083</td>\n",
       "    </tr>\n",
       "    <tr>\n",
       "      <th>1_sqrt_3_100</th>\n",
       "      <td>{'max_depth': 1, 'max_features': 'sqrt', 'min_...</td>\n",
       "      <td>7</td>\n",
       "      <td>0.751243</td>\n",
       "      <td>0.045083</td>\n",
       "    </tr>\n",
       "    <tr>\n",
       "      <th>2_sqrt_2_50</th>\n",
       "      <td>{'max_depth': 2, 'max_features': 'sqrt', 'min_...</td>\n",
       "      <td>10</td>\n",
       "      <td>0.741196</td>\n",
       "      <td>0.043254</td>\n",
       "    </tr>\n",
       "  </tbody>\n",
       "</table>\n",
       "</div>"
      ],
      "text/plain": [
       "                                                         params  \\\n",
       "kernel                                                            \n",
       "1_sqrt_2_70   {'max_depth': 1, 'max_features': 'sqrt', 'min_...   \n",
       "1_sqrt_4_70   {'max_depth': 1, 'max_features': 'sqrt', 'min_...   \n",
       "1_sqrt_3_70   {'max_depth': 1, 'max_features': 'sqrt', 'min_...   \n",
       "1_sqrt_2_50   {'max_depth': 1, 'max_features': 'sqrt', 'min_...   \n",
       "1_sqrt_3_50   {'max_depth': 1, 'max_features': 'sqrt', 'min_...   \n",
       "1_sqrt_4_50   {'max_depth': 1, 'max_features': 'sqrt', 'min_...   \n",
       "1_sqrt_4_100  {'max_depth': 1, 'max_features': 'sqrt', 'min_...   \n",
       "1_sqrt_2_100  {'max_depth': 1, 'max_features': 'sqrt', 'min_...   \n",
       "1_sqrt_3_100  {'max_depth': 1, 'max_features': 'sqrt', 'min_...   \n",
       "2_sqrt_2_50   {'max_depth': 2, 'max_features': 'sqrt', 'min_...   \n",
       "\n",
       "              rank_test_score  mean_test_score  std_test_score  \n",
       "kernel                                                          \n",
       "1_sqrt_2_70                 1         0.754567        0.045546  \n",
       "1_sqrt_4_70                 1         0.754567        0.045546  \n",
       "1_sqrt_3_70                 1         0.754567        0.045546  \n",
       "1_sqrt_2_50                 4         0.753437        0.043657  \n",
       "1_sqrt_3_50                 4         0.753437        0.043657  \n",
       "1_sqrt_4_50                 4         0.753437        0.043657  \n",
       "1_sqrt_4_100                7         0.751243        0.045083  \n",
       "1_sqrt_2_100                7         0.751243        0.045083  \n",
       "1_sqrt_3_100                7         0.751243        0.045083  \n",
       "2_sqrt_2_50                10         0.741196        0.043254  "
      ]
     },
     "metadata": {},
     "output_type": "display_data"
    }
   ],
   "source": [
    "print_searchResult(search)\n",
    "# Confidence interval of the model is reasonably good."
   ]
  },
  {
   "cell_type": "code",
   "execution_count": 38,
   "metadata": {},
   "outputs": [],
   "source": [
    "gb_model = GradientBoostingClassifier(\n",
    "        n_estimators=70, \n",
    "        learning_rate=0.4, \n",
    "        max_depth=1, \n",
    "        random_state=0, \n",
    "        max_features=\"sqrt\",\n",
    "        min_samples_split=2,\n",
    "        )"
   ]
  },
  {
   "cell_type": "markdown",
   "metadata": {},
   "source": [
    "# 3. Model Comparison"
   ]
  },
  {
   "cell_type": "code",
   "execution_count": 56,
   "metadata": {},
   "outputs": [
    {
     "name": "stdout",
     "output_type": "stream",
     "text": [
      "===LOGISTIC REGRESSION===\n",
      "              precision    recall  f1-score   support\n",
      "\n",
      "           0       0.80      0.94      0.86        78\n",
      "           1       0.83      0.57      0.68        42\n",
      "\n",
      "    accuracy                           0.81       120\n",
      "   macro avg       0.81      0.75      0.77       120\n",
      "weighted avg       0.81      0.81      0.80       120\n",
      "\n"
     ]
    },
    {
     "data": {
      "image/png": "[encoded data removed]",
      "text/plain": [
       "<Figure size 432x288 with 2 Axes>"
      ]
     },
     "metadata": {
      "needs_background": "light"
     },
     "output_type": "display_data"
    },
    {
     "name": "stdout",
     "output_type": "stream",
     "text": [
      "Model ROC-AUC score: 0.888\n",
      "Best Threshold=0.384281, F-Score=0.744\n"
     ]
    },
    {
     "data": {
      "image/png": "[encoded data removed]",
      "text/plain": [
       "<Figure size 432x288 with 1 Axes>"
      ]
     },
     "metadata": {
      "needs_background": "light"
     },
     "output_type": "display_data"
    }
   ],
   "source": [
    "print(\"===LOGISTIC REGRESSION===\")\n",
    "print_hold_out_evaluation(logistic_pipe, X, Y)"
   ]
  },
  {
   "cell_type": "code",
   "execution_count": 57,
   "metadata": {},
   "outputs": [
    {
     "name": "stdout",
     "output_type": "stream",
     "text": [
      "===DECISION TREE===\n",
      "              precision    recall  f1-score   support\n",
      "\n",
      "           0       0.84      0.74      0.79        78\n",
      "           1       0.61      0.74      0.67        42\n",
      "\n",
      "    accuracy                           0.74       120\n",
      "   macro avg       0.72      0.74      0.73       120\n",
      "weighted avg       0.76      0.74      0.75       120\n",
      "\n"
     ]
    },
    {
     "data": {
      "image/png": "[encoded data removed]",
      "text/plain": [
       "<Figure size 432x288 with 2 Axes>"
      ]
     },
     "metadata": {
      "needs_background": "light"
     },
     "output_type": "display_data"
    },
    {
     "name": "stdout",
     "output_type": "stream",
     "text": [
      "Model ROC-AUC score: 0.783\n",
      "Best Threshold=0.399399, F-Score=0.694\n"
     ]
    },
    {
     "data": {
      "image/png": "[encoded data removed]",
      "text/plain": [
       "<Figure size 432x288 with 1 Axes>"
      ]
     },
     "metadata": {
      "needs_background": "light"
     },
     "output_type": "display_data"
    }
   ],
   "source": [
    "\n",
    "print(\"===DECISION TREE===\")\n",
    "print_hold_out_evaluation(dtree_pipe, X, Y)\n"
   ]
  },
  {
   "cell_type": "code",
   "execution_count": 58,
   "metadata": {},
   "outputs": [
    {
     "name": "stdout",
     "output_type": "stream",
     "text": [
      "===RANDOM FOREST===\n",
      "              precision    recall  f1-score   support\n",
      "\n",
      "           0       0.79      0.95      0.86        78\n",
      "           1       0.85      0.52      0.65        42\n",
      "\n",
      "    accuracy                           0.80       120\n",
      "   macro avg       0.82      0.74      0.75       120\n",
      "weighted avg       0.81      0.80      0.79       120\n",
      "\n"
     ]
    },
    {
     "data": {
      "image/png": "[encoded data removed]",
      "text/plain": [
       "<Figure size 432x288 with 2 Axes>"
      ]
     },
     "metadata": {
      "needs_background": "light"
     },
     "output_type": "display_data"
    },
    {
     "name": "stdout",
     "output_type": "stream",
     "text": [
      "Model ROC-AUC score: 0.897\n",
      "Best Threshold=0.345814, F-Score=0.787\n"
     ]
    },
    {
     "data": {
      "image/png": "[encoded data removed]",
      "text/plain": [
       "<Figure size 432x288 with 1 Axes>"
      ]
     },
     "metadata": {
      "needs_background": "light"
     },
     "output_type": "display_data"
    }
   ],
   "source": [
    "\n",
    "print(\"===RANDOM FOREST===\")\n",
    "print_hold_out_evaluation(rf_model, X, Y)"
   ]
  },
  {
   "cell_type": "code",
   "execution_count": 59,
   "metadata": {},
   "outputs": [
    {
     "name": "stdout",
     "output_type": "stream",
     "text": [
      "===GRADIENT BOOSTING DECISION TREE===\n",
      "              precision    recall  f1-score   support\n",
      "\n",
      "           0       0.81      0.95      0.88        78\n",
      "           1       0.86      0.60      0.70        42\n",
      "\n",
      "    accuracy                           0.82       120\n",
      "   macro avg       0.84      0.77      0.79       120\n",
      "weighted avg       0.83      0.82      0.82       120\n",
      "\n"
     ]
    },
    {
     "data": {
      "image/png": "[encoded data removed]",
      "text/plain": [
       "<Figure size 432x288 with 2 Axes>"
      ]
     },
     "metadata": {
      "needs_background": "light"
     },
     "output_type": "display_data"
    },
    {
     "name": "stdout",
     "output_type": "stream",
     "text": [
      "Model ROC-AUC score: 0.855\n",
      "Best Threshold=0.257375, F-Score=0.742\n"
     ]
    },
    {
     "data": {
      "image/png": "[encoded data removed]",
      "text/plain": [
       "<Figure size 432x288 with 1 Axes>"
      ]
     },
     "metadata": {
      "needs_background": "light"
     },
     "output_type": "display_data"
    }
   ],
   "source": [
    "\n",
    "print(\"===GRADIENT BOOSTING DECISION TREE===\")\n",
    "print_hold_out_evaluation(gb_model, X, Y)"
   ]
  },
  {
   "cell_type": "markdown",
   "metadata": {},
   "source": [
    "# 4. Evaluation\n",
    "\n",
    "| Metrics     | Logistic                                                | Decision Tree           | Random Forest                                | Gradient Boost                             |\n",
    "| ----------- | ------------------------------------------------------- | ----------------------- | -------------------------------------------- | ------------------------------------------ |\n",
    "| cv-f1-micro | 0772 (+- 0.050)                                         | 0.708  (+- 0.060)       | 0.763   (+- 0.045)                           | 0.755 (+- 0.045)                           |\n",
    "| roc-auc     | 0.888                                                   | 0.783                   | 0.897   (Very confident with its prediction) | 0.855                                      |\n",
    "| pr-auc      | 0.83                                                    | 0.583 (struggling)      | 0.830                                        | 0.777                                      |\n",
    "| Pros        | Excellent at predicting (-) class, and precise with (+) | Suprisingly good at (+) | (-) is excellent while (+) is very precise   | Short training time, Best average F1 score |\n",
    "| Cons        | Slow tuning, and high false negative (top-2)               | High false positive     | High false negative (top-1)                     | High false negative  (top-2)                  |\n",
    "|             |                                                         |                         |                                              |                                            |\n",
    "\n",
    "\n",
    "**Disclaimer**: the hold-out dataset is not a representative of the real training set and testing set, but I tried to get as close as possible to it so we can have a general idea of these candidate models' performance.\n",
    "\n",
    "## Ultimate Judgement\n",
    "Overall, the Random Forest model is the best model I developed due to its consistently good performance. Although according the last evaluation, it seems to suffer quite high false negative rate, its excellent prediction of class negative and precise prediction of class positive is a key attribute that let it become our final model. Logistic Regression model and Gradient Boosting model also produce a competitive numbers but based on the AUC score, Random Forest is believed to get a well balance of sensitivity and specificity."
   ]
  },
  {
   "cell_type": "markdown",
   "metadata": {},
   "source": [
    "# Generate Test Result"
   ]
  },
  {
   "cell_type": "code",
   "execution_count": 39,
   "metadata": {},
   "outputs": [],
   "source": [
    "the_best = gb_model"
   ]
  },
  {
   "cell_type": "code",
   "execution_count": 40,
   "metadata": {},
   "outputs": [
    {
     "data": {
      "text/html": [
       "<div>\n",
       "<style scoped>\n",
       "    .dataframe tbody tr th:only-of-type {\n",
       "        vertical-align: middle;\n",
       "    }\n",
       "\n",
       "    .dataframe tbody tr th {\n",
       "        vertical-align: top;\n",
       "    }\n",
       "\n",
       "    .dataframe thead th {\n",
       "        text-align: right;\n",
       "    }\n",
       "</style>\n",
       "<table border=\"1\" class=\"dataframe\">\n",
       "  <thead>\n",
       "    <tr style=\"text-align: right;\">\n",
       "      <th></th>\n",
       "      <th>BGlucose</th>\n",
       "      <th>B1</th>\n",
       "      <th>BPressure</th>\n",
       "      <th>B2</th>\n",
       "      <th>B3</th>\n",
       "      <th>BMI</th>\n",
       "      <th>B4</th>\n",
       "      <th>Age</th>\n",
       "    </tr>\n",
       "  </thead>\n",
       "  <tbody>\n",
       "    <tr>\n",
       "      <th>0</th>\n",
       "      <td>1</td>\n",
       "      <td>109</td>\n",
       "      <td>38</td>\n",
       "      <td>18</td>\n",
       "      <td>120</td>\n",
       "      <td>23.1</td>\n",
       "      <td>0.407</td>\n",
       "      <td>26</td>\n",
       "    </tr>\n",
       "    <tr>\n",
       "      <th>1</th>\n",
       "      <td>1</td>\n",
       "      <td>108</td>\n",
       "      <td>88</td>\n",
       "      <td>19</td>\n",
       "      <td>0</td>\n",
       "      <td>27.1</td>\n",
       "      <td>0.400</td>\n",
       "      <td>24</td>\n",
       "    </tr>\n",
       "    <tr>\n",
       "      <th>2</th>\n",
       "      <td>6</td>\n",
       "      <td>96</td>\n",
       "      <td>0</td>\n",
       "      <td>0</td>\n",
       "      <td>0</td>\n",
       "      <td>23.7</td>\n",
       "      <td>0.190</td>\n",
       "      <td>28</td>\n",
       "    </tr>\n",
       "    <tr>\n",
       "      <th>3</th>\n",
       "      <td>1</td>\n",
       "      <td>124</td>\n",
       "      <td>74</td>\n",
       "      <td>36</td>\n",
       "      <td>0</td>\n",
       "      <td>27.8</td>\n",
       "      <td>0.100</td>\n",
       "      <td>30</td>\n",
       "    </tr>\n",
       "    <tr>\n",
       "      <th>4</th>\n",
       "      <td>7</td>\n",
       "      <td>150</td>\n",
       "      <td>78</td>\n",
       "      <td>29</td>\n",
       "      <td>126</td>\n",
       "      <td>35.2</td>\n",
       "      <td>0.692</td>\n",
       "      <td>54</td>\n",
       "    </tr>\n",
       "  </tbody>\n",
       "</table>\n",
       "</div>"
      ],
      "text/plain": [
       "   BGlucose   B1  BPressure  B2   B3   BMI     B4  Age\n",
       "0         1  109         38  18  120  23.1  0.407   26\n",
       "1         1  108         88  19    0  27.1  0.400   24\n",
       "2         6   96          0   0    0  23.7  0.190   28\n",
       "3         1  124         74  36    0  27.8  0.100   30\n",
       "4         7  150         78  29  126  35.2  0.692   54"
      ]
     },
     "execution_count": 40,
     "metadata": {},
     "output_type": "execute_result"
    }
   ],
   "source": [
    "import pandas as pd\n",
    "testset = pd.read_csv(\"Paitients_Files_Test.csv\")\n",
    "testset.rename(columns=column_names, inplace=True)\n",
    "id_col = testset[\"ID\"]\n",
    "testset.drop(columns=[\"ID\",\"Insurance\"], inplace=True)\n",
    "testset.head()"
   ]
  },
  {
   "cell_type": "code",
   "execution_count": 41,
   "metadata": {},
   "outputs": [
    {
     "data": {
      "text/plain": [
       "GradientBoostingClassifier(learning_rate=0.4, max_depth=1, max_features='sqrt',\n",
       "                           n_estimators=70, random_state=0)"
      ]
     },
     "execution_count": 41,
     "metadata": {},
     "output_type": "execute_result"
    }
   ],
   "source": [
    "the_best.fit(X, Y)\n"
   ]
  },
  {
   "cell_type": "code",
   "execution_count": 42,
   "metadata": {},
   "outputs": [],
   "source": [
    "pred_test = the_best.predict(testset)"
   ]
  },
  {
   "cell_type": "code",
   "execution_count": 26,
   "metadata": {},
   "outputs": [
    {
     "data": {
      "text/plain": [
       "array([0, 0, 0, 0, 1, 1, 0, 1, 0, 1, 0, 0, 1, 1, 0, 1, 0, 0, 0, 0, 0, 1,\n",
       "       0, 1, 0, 0, 0, 0, 0, 1, 0, 0, 0, 0, 0, 0, 0, 0, 0, 1, 0, 0, 0, 0,\n",
       "       0, 0, 1, 1, 1, 1, 0, 0, 0, 0, 0, 0, 1, 0, 1, 1, 0, 1, 1, 1, 1, 0,\n",
       "       0, 1, 0, 0, 1, 1, 0, 0, 1, 0, 1, 0, 0, 0, 0, 0, 1, 0, 0, 0, 1, 0,\n",
       "       0, 0, 1, 0, 1, 0, 1, 0, 1, 1, 0, 1, 0, 0, 0, 1, 1, 0, 0, 0, 0, 1,\n",
       "       0, 1, 0, 1, 0, 0, 1, 1, 0, 0, 0, 0, 0, 0, 0, 0, 0, 0, 1, 1, 0, 0,\n",
       "       0, 1, 0, 0, 0, 0, 0, 0, 0, 1, 0, 0, 1, 1, 1, 1, 0, 1, 0, 1, 0, 0,\n",
       "       1, 1, 1, 1, 0, 0, 1, 0, 1, 0, 1, 0, 0, 0, 0])"
      ]
     },
     "execution_count": 26,
     "metadata": {},
     "output_type": "execute_result"
    }
   ],
   "source": [
    "mythreshold = 0.4\n",
    "decisions = (the_best.predict_proba(testset)[:,1] >= mythreshold).astype(int)\n",
    "decisions\n"
   ]
  },
  {
   "cell_type": "code",
   "execution_count": null,
   "metadata": {},
   "outputs": [],
   "source": [
    "result_to_csv = pd.DataFrame(decisions)\n"
   ]
  },
  {
   "cell_type": "code",
   "execution_count": 44,
   "metadata": {},
   "outputs": [
    {
     "data": {
      "text/html": [
       "<div>\n",
       "<style scoped>\n",
       "    .dataframe tbody tr th:only-of-type {\n",
       "        vertical-align: middle;\n",
       "    }\n",
       "\n",
       "    .dataframe tbody tr th {\n",
       "        vertical-align: top;\n",
       "    }\n",
       "\n",
       "    .dataframe thead th {\n",
       "        text-align: right;\n",
       "    }\n",
       "</style>\n",
       "<table border=\"1\" class=\"dataframe\">\n",
       "  <thead>\n",
       "    <tr style=\"text-align: right;\">\n",
       "      <th></th>\n",
       "      <th>ID</th>\n",
       "      <th>Sepssis</th>\n",
       "    </tr>\n",
       "  </thead>\n",
       "  <tbody>\n",
       "    <tr>\n",
       "      <th>0</th>\n",
       "      <td>ICU200609</td>\n",
       "      <td>0</td>\n",
       "    </tr>\n",
       "    <tr>\n",
       "      <th>1</th>\n",
       "      <td>ICU200610</td>\n",
       "      <td>0</td>\n",
       "    </tr>\n",
       "    <tr>\n",
       "      <th>2</th>\n",
       "      <td>ICU200611</td>\n",
       "      <td>0</td>\n",
       "    </tr>\n",
       "    <tr>\n",
       "      <th>3</th>\n",
       "      <td>ICU200612</td>\n",
       "      <td>0</td>\n",
       "    </tr>\n",
       "    <tr>\n",
       "      <th>4</th>\n",
       "      <td>ICU200613</td>\n",
       "      <td>1</td>\n",
       "    </tr>\n",
       "  </tbody>\n",
       "</table>\n",
       "</div>"
      ],
      "text/plain": [
       "          ID  Sepssis\n",
       "0  ICU200609        0\n",
       "1  ICU200610        0\n",
       "2  ICU200611        0\n",
       "3  ICU200612        0\n",
       "4  ICU200613        1"
      ]
     },
     "execution_count": 44,
     "metadata": {},
     "output_type": "execute_result"
    }
   ],
   "source": [
    "result_to_csv = pd.concat([id_col, pd.Series(pred_test)], axis=1)\n",
    "result_to_csv.rename(columns={0: \"Sepssis\"}, inplace=True)\n",
    "result_to_csv.head()"
   ]
  },
  {
   "cell_type": "code",
   "execution_count": 45,
   "metadata": {},
   "outputs": [
    {
     "data": {
      "text/html": [
       "<div>\n",
       "<style scoped>\n",
       "    .dataframe tbody tr th:only-of-type {\n",
       "        vertical-align: middle;\n",
       "    }\n",
       "\n",
       "    .dataframe tbody tr th {\n",
       "        vertical-align: top;\n",
       "    }\n",
       "\n",
       "    .dataframe thead th {\n",
       "        text-align: right;\n",
       "    }\n",
       "</style>\n",
       "<table border=\"1\" class=\"dataframe\">\n",
       "  <thead>\n",
       "    <tr style=\"text-align: right;\">\n",
       "      <th></th>\n",
       "      <th>ID</th>\n",
       "    </tr>\n",
       "    <tr>\n",
       "      <th>Sepssis</th>\n",
       "      <th></th>\n",
       "    </tr>\n",
       "  </thead>\n",
       "  <tbody>\n",
       "    <tr>\n",
       "      <th>0</th>\n",
       "      <td>115</td>\n",
       "    </tr>\n",
       "    <tr>\n",
       "      <th>1</th>\n",
       "      <td>54</td>\n",
       "    </tr>\n",
       "  </tbody>\n",
       "</table>\n",
       "</div>"
      ],
      "text/plain": [
       "          ID\n",
       "Sepssis     \n",
       "0        115\n",
       "1         54"
      ]
     },
     "execution_count": 45,
     "metadata": {},
     "output_type": "execute_result"
    }
   ],
   "source": [
    "result_to_csv.groupby(\"Sepssis\").count()"
   ]
  },
  {
   "cell_type": "code",
   "execution_count": 26,
   "metadata": {},
   "outputs": [],
   "source": [
    "result_to_csv.to_csv(\"COSC2753_A1_Predictions_S3804803.csv\", index=False)"
   ]
  },
  {
   "cell_type": "markdown",
   "metadata": {},
   "source": [
    "# Reference\n",
    "- [Optimize Sepsis managment in ICU](https://www.radiometer.com/en/about-radiometer/news/optimizing-sepsis-management-in-the-intensive-care-unit)\n",
    "- [BMI](https://www.nhs.uk/common-health-questions/lifestyle/what-is-the-body-mass-index-bmi/)\n",
    "- [Robust Scaler](https://scikit-learn.org/stable/auto_examples/preprocessing/plot_all_scaling.html)\n",
    "- [Winsorization](https://www.listendata.com/2015/01/detecting-and-solving-problem-of-outlier.html)\n",
    "- [Cost sensitive Decision tree](https://machinelearningmastery.com/cost-sensitive-decision-trees-for-imbalanced-classification/)\n",
    "- [Gradient Boosting of sklearn](https://www.machinelearningplus.com/machine-learning/an-introduction-to-gradient-boosting-decision-trees/#Gradient-Boosting-Decision-Trees)"
   ]
  },
  {
   "cell_type": "markdown",
   "metadata": {},
   "source": []
  }
 ],
 "metadata": {
  "interpreter": {
   "hash": "3c1a2142b08d95de69327be0de44667eac47bb927009047124a79e569957d679"
  },
  "kernelspec": {
   "display_name": "Python 3.9.10 64-bit",
   "language": "python",
   "name": "python3"
  },
  "language_info": {
   "codemirror_mode": {
    "name": "ipython",
    "version": 3
   },
   "file_extension": ".py",
   "mimetype": "text/x-python",
   "name": "python",
   "nbconvert_exporter": "python",
   "pygments_lexer": "ipython3",
   "version": "3.9.7"
  },
  "orig_nbformat": 4
 },
 "nbformat": 4,
 "nbformat_minor": 2
}
