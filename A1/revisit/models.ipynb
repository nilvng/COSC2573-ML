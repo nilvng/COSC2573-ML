{
 "cells": [
  {
   "cell_type": "code",
   "execution_count": 61,
   "metadata": {},
   "outputs": [],
   "source": [
    "import pandas as pd\n",
    "import matplotlib.pyplot as plt\n",
    "import numpy as np"
   ]
  },
  {
   "cell_type": "code",
   "execution_count": 62,
   "metadata": {},
   "outputs": [
    {
     "data": {
      "text/html": [
       "<div>\n",
       "<style scoped>\n",
       "    .dataframe tbody tr th:only-of-type {\n",
       "        vertical-align: middle;\n",
       "    }\n",
       "\n",
       "    .dataframe tbody tr th {\n",
       "        vertical-align: top;\n",
       "    }\n",
       "\n",
       "    .dataframe thead th {\n",
       "        text-align: right;\n",
       "    }\n",
       "</style>\n",
       "<table border=\"1\" class=\"dataframe\">\n",
       "  <thead>\n",
       "    <tr style=\"text-align: right;\">\n",
       "      <th></th>\n",
       "      <th>PRG</th>\n",
       "      <th>PL</th>\n",
       "      <th>PR</th>\n",
       "      <th>SK</th>\n",
       "      <th>TS</th>\n",
       "      <th>M11</th>\n",
       "      <th>BD2</th>\n",
       "      <th>Age</th>\n",
       "      <th>Sepssis</th>\n",
       "    </tr>\n",
       "  </thead>\n",
       "  <tbody>\n",
       "    <tr>\n",
       "      <th>0</th>\n",
       "      <td>6</td>\n",
       "      <td>148</td>\n",
       "      <td>72</td>\n",
       "      <td>35</td>\n",
       "      <td>0</td>\n",
       "      <td>33.6</td>\n",
       "      <td>0.627</td>\n",
       "      <td>50</td>\n",
       "      <td>Positive</td>\n",
       "    </tr>\n",
       "    <tr>\n",
       "      <th>1</th>\n",
       "      <td>1</td>\n",
       "      <td>85</td>\n",
       "      <td>66</td>\n",
       "      <td>29</td>\n",
       "      <td>0</td>\n",
       "      <td>26.6</td>\n",
       "      <td>0.351</td>\n",
       "      <td>31</td>\n",
       "      <td>Negative</td>\n",
       "    </tr>\n",
       "    <tr>\n",
       "      <th>2</th>\n",
       "      <td>8</td>\n",
       "      <td>183</td>\n",
       "      <td>64</td>\n",
       "      <td>0</td>\n",
       "      <td>0</td>\n",
       "      <td>23.3</td>\n",
       "      <td>0.672</td>\n",
       "      <td>32</td>\n",
       "      <td>Positive</td>\n",
       "    </tr>\n",
       "    <tr>\n",
       "      <th>3</th>\n",
       "      <td>1</td>\n",
       "      <td>89</td>\n",
       "      <td>66</td>\n",
       "      <td>23</td>\n",
       "      <td>94</td>\n",
       "      <td>28.1</td>\n",
       "      <td>0.167</td>\n",
       "      <td>21</td>\n",
       "      <td>Negative</td>\n",
       "    </tr>\n",
       "    <tr>\n",
       "      <th>4</th>\n",
       "      <td>0</td>\n",
       "      <td>137</td>\n",
       "      <td>40</td>\n",
       "      <td>35</td>\n",
       "      <td>168</td>\n",
       "      <td>43.1</td>\n",
       "      <td>2.288</td>\n",
       "      <td>33</td>\n",
       "      <td>Positive</td>\n",
       "    </tr>\n",
       "  </tbody>\n",
       "</table>\n",
       "</div>"
      ],
      "text/plain": [
       "   PRG   PL  PR  SK   TS   M11    BD2  Age   Sepssis\n",
       "0    6  148  72  35    0  33.6  0.627   50  Positive\n",
       "1    1   85  66  29    0  26.6  0.351   31  Negative\n",
       "2    8  183  64   0    0  23.3  0.672   32  Positive\n",
       "3    1   89  66  23   94  28.1  0.167   21  Negative\n",
       "4    0  137  40  35  168  43.1  2.288   33  Positive"
      ]
     },
     "execution_count": 62,
     "metadata": {},
     "output_type": "execute_result"
    }
   ],
   "source": [
    "df = pd.read_csv(\"../Paitients_Files_Train.csv\",delimiter=\",\").drop(columns=[\"ID\",\"Insurance\"])\n",
    "df.head()"
   ]
  },
  {
   "cell_type": "code",
   "execution_count": 63,
   "metadata": {},
   "outputs": [],
   "source": [
    "df[\"Sepssis\"] = np.where(df[\"Sepssis\"].str.contains(\"Positive\"), 1, 0)"
   ]
  },
  {
   "cell_type": "markdown",
   "metadata": {},
   "source": [
    "# Feature Engineering"
   ]
  },
  {
   "cell_type": "code",
   "execution_count": 64,
   "metadata": {},
   "outputs": [
    {
     "data": {
      "text/html": [
       "<div>\n",
       "<style scoped>\n",
       "    .dataframe tbody tr th:only-of-type {\n",
       "        vertical-align: middle;\n",
       "    }\n",
       "\n",
       "    .dataframe tbody tr th {\n",
       "        vertical-align: top;\n",
       "    }\n",
       "\n",
       "    .dataframe thead th {\n",
       "        text-align: right;\n",
       "    }\n",
       "</style>\n",
       "<table border=\"1\" class=\"dataframe\">\n",
       "  <thead>\n",
       "    <tr style=\"text-align: right;\">\n",
       "      <th></th>\n",
       "      <th>PRG</th>\n",
       "      <th>PL</th>\n",
       "      <th>PR</th>\n",
       "      <th>SK</th>\n",
       "      <th>TS</th>\n",
       "      <th>M11</th>\n",
       "      <th>BD2</th>\n",
       "      <th>Age</th>\n",
       "      <th>Sepssis</th>\n",
       "    </tr>\n",
       "  </thead>\n",
       "  <tbody>\n",
       "    <tr>\n",
       "      <th>0</th>\n",
       "      <td>6</td>\n",
       "      <td>148</td>\n",
       "      <td>72</td>\n",
       "      <td>35</td>\n",
       "      <td>0</td>\n",
       "      <td>33.6</td>\n",
       "      <td>0.627</td>\n",
       "      <td>50</td>\n",
       "      <td>1</td>\n",
       "    </tr>\n",
       "    <tr>\n",
       "      <th>1</th>\n",
       "      <td>1</td>\n",
       "      <td>85</td>\n",
       "      <td>66</td>\n",
       "      <td>29</td>\n",
       "      <td>0</td>\n",
       "      <td>26.6</td>\n",
       "      <td>0.351</td>\n",
       "      <td>31</td>\n",
       "      <td>0</td>\n",
       "    </tr>\n",
       "    <tr>\n",
       "      <th>2</th>\n",
       "      <td>8</td>\n",
       "      <td>183</td>\n",
       "      <td>64</td>\n",
       "      <td>0</td>\n",
       "      <td>0</td>\n",
       "      <td>23.3</td>\n",
       "      <td>0.672</td>\n",
       "      <td>32</td>\n",
       "      <td>1</td>\n",
       "    </tr>\n",
       "    <tr>\n",
       "      <th>3</th>\n",
       "      <td>1</td>\n",
       "      <td>89</td>\n",
       "      <td>66</td>\n",
       "      <td>23</td>\n",
       "      <td>94</td>\n",
       "      <td>28.1</td>\n",
       "      <td>0.167</td>\n",
       "      <td>21</td>\n",
       "      <td>0</td>\n",
       "    </tr>\n",
       "    <tr>\n",
       "      <th>4</th>\n",
       "      <td>0</td>\n",
       "      <td>137</td>\n",
       "      <td>40</td>\n",
       "      <td>35</td>\n",
       "      <td>168</td>\n",
       "      <td>43.1</td>\n",
       "      <td>2.288</td>\n",
       "      <td>33</td>\n",
       "      <td>1</td>\n",
       "    </tr>\n",
       "    <tr>\n",
       "      <th>...</th>\n",
       "      <td>...</td>\n",
       "      <td>...</td>\n",
       "      <td>...</td>\n",
       "      <td>...</td>\n",
       "      <td>...</td>\n",
       "      <td>...</td>\n",
       "      <td>...</td>\n",
       "      <td>...</td>\n",
       "      <td>...</td>\n",
       "    </tr>\n",
       "    <tr>\n",
       "      <th>594</th>\n",
       "      <td>6</td>\n",
       "      <td>123</td>\n",
       "      <td>72</td>\n",
       "      <td>45</td>\n",
       "      <td>230</td>\n",
       "      <td>33.6</td>\n",
       "      <td>0.733</td>\n",
       "      <td>34</td>\n",
       "      <td>0</td>\n",
       "    </tr>\n",
       "    <tr>\n",
       "      <th>595</th>\n",
       "      <td>0</td>\n",
       "      <td>188</td>\n",
       "      <td>82</td>\n",
       "      <td>14</td>\n",
       "      <td>185</td>\n",
       "      <td>32.0</td>\n",
       "      <td>0.682</td>\n",
       "      <td>22</td>\n",
       "      <td>1</td>\n",
       "    </tr>\n",
       "    <tr>\n",
       "      <th>596</th>\n",
       "      <td>0</td>\n",
       "      <td>67</td>\n",
       "      <td>76</td>\n",
       "      <td>0</td>\n",
       "      <td>0</td>\n",
       "      <td>45.3</td>\n",
       "      <td>0.194</td>\n",
       "      <td>46</td>\n",
       "      <td>0</td>\n",
       "    </tr>\n",
       "    <tr>\n",
       "      <th>597</th>\n",
       "      <td>1</td>\n",
       "      <td>89</td>\n",
       "      <td>24</td>\n",
       "      <td>19</td>\n",
       "      <td>25</td>\n",
       "      <td>27.8</td>\n",
       "      <td>0.559</td>\n",
       "      <td>21</td>\n",
       "      <td>0</td>\n",
       "    </tr>\n",
       "    <tr>\n",
       "      <th>598</th>\n",
       "      <td>1</td>\n",
       "      <td>173</td>\n",
       "      <td>74</td>\n",
       "      <td>0</td>\n",
       "      <td>0</td>\n",
       "      <td>36.8</td>\n",
       "      <td>0.088</td>\n",
       "      <td>38</td>\n",
       "      <td>1</td>\n",
       "    </tr>\n",
       "  </tbody>\n",
       "</table>\n",
       "<p>599 rows × 9 columns</p>\n",
       "</div>"
      ],
      "text/plain": [
       "     PRG   PL  PR  SK   TS   M11    BD2  Age  Sepssis\n",
       "0      6  148  72  35    0  33.6  0.627   50        1\n",
       "1      1   85  66  29    0  26.6  0.351   31        0\n",
       "2      8  183  64   0    0  23.3  0.672   32        1\n",
       "3      1   89  66  23   94  28.1  0.167   21        0\n",
       "4      0  137  40  35  168  43.1  2.288   33        1\n",
       "..   ...  ...  ..  ..  ...   ...    ...  ...      ...\n",
       "594    6  123  72  45  230  33.6  0.733   34        0\n",
       "595    0  188  82  14  185  32.0  0.682   22        1\n",
       "596    0   67  76   0    0  45.3  0.194   46        0\n",
       "597    1   89  24  19   25  27.8  0.559   21        0\n",
       "598    1  173  74   0    0  36.8  0.088   38        1\n",
       "\n",
       "[599 rows x 9 columns]"
      ]
     },
     "execution_count": 64,
     "metadata": {},
     "output_type": "execute_result"
    }
   ],
   "source": [
    "df"
   ]
  },
  {
   "cell_type": "code",
   "execution_count": 65,
   "metadata": {},
   "outputs": [
    {
     "data": {
      "text/html": [
       "<div>\n",
       "<style scoped>\n",
       "    .dataframe tbody tr th:only-of-type {\n",
       "        vertical-align: middle;\n",
       "    }\n",
       "\n",
       "    .dataframe tbody tr th {\n",
       "        vertical-align: top;\n",
       "    }\n",
       "\n",
       "    .dataframe thead th {\n",
       "        text-align: right;\n",
       "    }\n",
       "</style>\n",
       "<table border=\"1\" class=\"dataframe\">\n",
       "  <thead>\n",
       "    <tr style=\"text-align: right;\">\n",
       "      <th></th>\n",
       "      <th>PRG</th>\n",
       "      <th>PL</th>\n",
       "      <th>PR</th>\n",
       "      <th>SK</th>\n",
       "      <th>TS</th>\n",
       "      <th>M11</th>\n",
       "      <th>BD2</th>\n",
       "      <th>Age</th>\n",
       "      <th>Sepssis</th>\n",
       "    </tr>\n",
       "  </thead>\n",
       "  <tbody>\n",
       "  </tbody>\n",
       "</table>\n",
       "</div>"
      ],
      "text/plain": [
       "Empty DataFrame\n",
       "Columns: [PRG, PL, PR, SK, TS, M11, BD2, Age, Sepssis]\n",
       "Index: []"
      ]
     },
     "execution_count": 65,
     "metadata": {},
     "output_type": "execute_result"
    }
   ],
   "source": [
    "df[df.duplicated()]"
   ]
  },
  {
   "cell_type": "markdown",
   "metadata": {},
   "source": [
    "## Clean BMI values: weird 0, and binning"
   ]
  },
  {
   "cell_type": "code",
   "execution_count": 66,
   "metadata": {},
   "outputs": [],
   "source": [
    "from sklearn.impute import KNNImputer\n",
    "from math import sqrt\n",
    "from sklearn.compose import ColumnTransformer\n",
    "\n",
    "df[\"M11\"].replace({0:np.nan}, inplace=True)\n",
    "\n",
    "no_neighbors = int(sqrt(len(df)))\n",
    "imputer = KNNImputer(n_neighbors=no_neighbors)\n",
    "\n",
    "\n",
    "X_imput = imputer.fit_transform(df)\n",
    "column_names = [\"BGlucose\",\"B1\",\"BPressure\", \"B2\", \"B3\", \"BMI\",\"B4\", \"Age\", \"Sepsis\"]\n",
    "df = pd.DataFrame(X_imput, columns= column_names)"
   ]
  },
  {
   "cell_type": "code",
   "execution_count": 67,
   "metadata": {},
   "outputs": [
    {
     "name": "stdout",
     "output_type": "stream",
     "text": [
      "<class 'pandas.core.frame.DataFrame'>\n",
      "RangeIndex: 599 entries, 0 to 598\n",
      "Data columns (total 9 columns):\n",
      " #   Column     Non-Null Count  Dtype  \n",
      "---  ------     --------------  -----  \n",
      " 0   BGlucose   599 non-null    float64\n",
      " 1   B1         599 non-null    float64\n",
      " 2   BPressure  599 non-null    float64\n",
      " 3   B2         599 non-null    float64\n",
      " 4   B3         599 non-null    float64\n",
      " 5   BMI        599 non-null    float64\n",
      " 6   B4         599 non-null    float64\n",
      " 7   Age        599 non-null    float64\n",
      " 8   Sepsis     599 non-null    float64\n",
      "dtypes: float64(9)\n",
      "memory usage: 42.2 KB\n"
     ]
    }
   ],
   "source": [
    "df.info()"
   ]
  },
  {
   "cell_type": "code",
   "execution_count": 68,
   "metadata": {},
   "outputs": [
    {
     "data": {
      "text/plain": [
       "4    367\n",
       "3    144\n",
       "2     84\n",
       "1      4\n",
       "Name: BMI, dtype: int64"
      ]
     },
     "execution_count": 68,
     "metadata": {},
     "output_type": "execute_result"
    }
   ],
   "source": [
    "#Creating bins and labels\n",
    "bins = [1,18.5,25.0,30.0,100]\n",
    "labels = [1,2,3,4]\n",
    "\n",
    "df['BMI'] = pd.cut(df['BMI'],bins = bins, labels = labels)\n",
    "df.BMI.value_counts()"
   ]
  },
  {
   "cell_type": "markdown",
   "metadata": {},
   "source": [
    "## Clean Age: binning"
   ]
  },
  {
   "cell_type": "code",
   "execution_count": 35,
   "metadata": {},
   "outputs": [
    {
     "data": {
      "text/plain": [
       "2    323\n",
       "3    209\n",
       "4     67\n",
       "1      0\n",
       "Name: Age, dtype: int64"
      ]
     },
     "execution_count": 35,
     "metadata": {},
     "output_type": "execute_result"
    }
   ],
   "source": [
    "#Creating bins and labels\n",
    "bins = [1,19,30,50,100]\n",
    "labels = [1,2,3,4]\n",
    "\n",
    "df['Age'] = pd.cut(df['Age'],bins = bins, labels = labels)\n",
    "df.Age.value_counts()"
   ]
  },
  {
   "cell_type": "markdown",
   "metadata": {},
   "source": [
    "# Chi-square test"
   ]
  },
  {
   "cell_type": "code",
   "execution_count": 36,
   "metadata": {},
   "outputs": [],
   "source": [
    "from sklearn.feature_selection import chi2\n",
    "from sklearn.impute import SimpleImputer\n",
    "\n",
    "X_chi = df.drop(columns=\"Sepsis\")\n",
    "Y = df[[\"Sepsis\"]]\n",
    "imputer = SimpleImputer(strategy=\"median\")\n",
    "X_chi = imputer.fit_transform(X_chi)\n",
    "\n",
    "chis = chi2(X_chi, Y)\n",
    "\n",
    "len(column_names)\n",
    "chis[0].reshape(len(column_names)-1,1)\n",
    "\n",
    "chi_dict = {}\n",
    "p_dict = {}\n",
    "for i in range(len(column_names)-1):\n",
    "    chi_dict[column_names[i]] = chis[0][i]\n",
    "    p_dict[column_names[i]] = chis[1][i]"
   ]
  },
  {
   "cell_type": "code",
   "execution_count": 37,
   "metadata": {},
   "outputs": [
    {
     "data": {
      "text/plain": [
       "{'BGlucose': 3.0653427633619102e-18,\n",
       " 'B1': 8.26169197335336e-236,\n",
       " 'BPressure': 0.0004940613252836382,\n",
       " 'B2': 6.621416488443324e-11,\n",
       " 'B3': 0.0,\n",
       " 'BMI': 0.0009681675840254796,\n",
       " 'B4': 0.030732554868312577,\n",
       " 'Age': 0.014062406490152684}"
      ]
     },
     "execution_count": 37,
     "metadata": {},
     "output_type": "execute_result"
    }
   ],
   "source": [
    "p_dict"
   ]
  },
  {
   "cell_type": "markdown",
   "metadata": {},
   "source": [
    "# Models"
   ]
  },
  {
   "cell_type": "code",
   "execution_count": 38,
   "metadata": {},
   "outputs": [],
   "source": [
    "Y = df[[\"Sepsis\"]].to_numpy().ravel()\n",
    "X = df.drop(columns=[\"Sepsis\"])"
   ]
  },
  {
   "cell_type": "code",
   "execution_count": 39,
   "metadata": {},
   "outputs": [
    {
     "data": {
      "text/html": [
       "<div>\n",
       "<style scoped>\n",
       "    .dataframe tbody tr th:only-of-type {\n",
       "        vertical-align: middle;\n",
       "    }\n",
       "\n",
       "    .dataframe tbody tr th {\n",
       "        vertical-align: top;\n",
       "    }\n",
       "\n",
       "    .dataframe thead th {\n",
       "        text-align: right;\n",
       "    }\n",
       "</style>\n",
       "<table border=\"1\" class=\"dataframe\">\n",
       "  <thead>\n",
       "    <tr style=\"text-align: right;\">\n",
       "      <th></th>\n",
       "      <th>BGlucose</th>\n",
       "      <th>B1</th>\n",
       "      <th>BPressure</th>\n",
       "      <th>B2</th>\n",
       "      <th>B3</th>\n",
       "      <th>BMI</th>\n",
       "      <th>B4</th>\n",
       "      <th>Age</th>\n",
       "      <th>Sepsis</th>\n",
       "    </tr>\n",
       "  </thead>\n",
       "  <tbody>\n",
       "    <tr>\n",
       "      <th>0</th>\n",
       "      <td>6.0</td>\n",
       "      <td>148.0</td>\n",
       "      <td>72.0</td>\n",
       "      <td>35.0</td>\n",
       "      <td>0.0</td>\n",
       "      <td>4</td>\n",
       "      <td>0.627</td>\n",
       "      <td>3</td>\n",
       "      <td>1.0</td>\n",
       "    </tr>\n",
       "    <tr>\n",
       "      <th>1</th>\n",
       "      <td>1.0</td>\n",
       "      <td>85.0</td>\n",
       "      <td>66.0</td>\n",
       "      <td>29.0</td>\n",
       "      <td>0.0</td>\n",
       "      <td>3</td>\n",
       "      <td>0.351</td>\n",
       "      <td>3</td>\n",
       "      <td>0.0</td>\n",
       "    </tr>\n",
       "    <tr>\n",
       "      <th>2</th>\n",
       "      <td>8.0</td>\n",
       "      <td>183.0</td>\n",
       "      <td>64.0</td>\n",
       "      <td>0.0</td>\n",
       "      <td>0.0</td>\n",
       "      <td>2</td>\n",
       "      <td>0.672</td>\n",
       "      <td>3</td>\n",
       "      <td>1.0</td>\n",
       "    </tr>\n",
       "    <tr>\n",
       "      <th>3</th>\n",
       "      <td>1.0</td>\n",
       "      <td>89.0</td>\n",
       "      <td>66.0</td>\n",
       "      <td>23.0</td>\n",
       "      <td>94.0</td>\n",
       "      <td>3</td>\n",
       "      <td>0.167</td>\n",
       "      <td>2</td>\n",
       "      <td>0.0</td>\n",
       "    </tr>\n",
       "    <tr>\n",
       "      <th>4</th>\n",
       "      <td>0.0</td>\n",
       "      <td>137.0</td>\n",
       "      <td>40.0</td>\n",
       "      <td>35.0</td>\n",
       "      <td>168.0</td>\n",
       "      <td>4</td>\n",
       "      <td>2.288</td>\n",
       "      <td>3</td>\n",
       "      <td>1.0</td>\n",
       "    </tr>\n",
       "    <tr>\n",
       "      <th>...</th>\n",
       "      <td>...</td>\n",
       "      <td>...</td>\n",
       "      <td>...</td>\n",
       "      <td>...</td>\n",
       "      <td>...</td>\n",
       "      <td>...</td>\n",
       "      <td>...</td>\n",
       "      <td>...</td>\n",
       "      <td>...</td>\n",
       "    </tr>\n",
       "    <tr>\n",
       "      <th>594</th>\n",
       "      <td>6.0</td>\n",
       "      <td>123.0</td>\n",
       "      <td>72.0</td>\n",
       "      <td>45.0</td>\n",
       "      <td>230.0</td>\n",
       "      <td>4</td>\n",
       "      <td>0.733</td>\n",
       "      <td>3</td>\n",
       "      <td>0.0</td>\n",
       "    </tr>\n",
       "    <tr>\n",
       "      <th>595</th>\n",
       "      <td>0.0</td>\n",
       "      <td>188.0</td>\n",
       "      <td>82.0</td>\n",
       "      <td>14.0</td>\n",
       "      <td>185.0</td>\n",
       "      <td>4</td>\n",
       "      <td>0.682</td>\n",
       "      <td>2</td>\n",
       "      <td>1.0</td>\n",
       "    </tr>\n",
       "    <tr>\n",
       "      <th>596</th>\n",
       "      <td>0.0</td>\n",
       "      <td>67.0</td>\n",
       "      <td>76.0</td>\n",
       "      <td>0.0</td>\n",
       "      <td>0.0</td>\n",
       "      <td>4</td>\n",
       "      <td>0.194</td>\n",
       "      <td>3</td>\n",
       "      <td>0.0</td>\n",
       "    </tr>\n",
       "    <tr>\n",
       "      <th>597</th>\n",
       "      <td>1.0</td>\n",
       "      <td>89.0</td>\n",
       "      <td>24.0</td>\n",
       "      <td>19.0</td>\n",
       "      <td>25.0</td>\n",
       "      <td>3</td>\n",
       "      <td>0.559</td>\n",
       "      <td>2</td>\n",
       "      <td>0.0</td>\n",
       "    </tr>\n",
       "    <tr>\n",
       "      <th>598</th>\n",
       "      <td>1.0</td>\n",
       "      <td>173.0</td>\n",
       "      <td>74.0</td>\n",
       "      <td>0.0</td>\n",
       "      <td>0.0</td>\n",
       "      <td>4</td>\n",
       "      <td>0.088</td>\n",
       "      <td>3</td>\n",
       "      <td>1.0</td>\n",
       "    </tr>\n",
       "  </tbody>\n",
       "</table>\n",
       "<p>599 rows × 9 columns</p>\n",
       "</div>"
      ],
      "text/plain": [
       "     BGlucose     B1  BPressure    B2     B3 BMI     B4 Age  Sepsis\n",
       "0         6.0  148.0       72.0  35.0    0.0   4  0.627   3     1.0\n",
       "1         1.0   85.0       66.0  29.0    0.0   3  0.351   3     0.0\n",
       "2         8.0  183.0       64.0   0.0    0.0   2  0.672   3     1.0\n",
       "3         1.0   89.0       66.0  23.0   94.0   3  0.167   2     0.0\n",
       "4         0.0  137.0       40.0  35.0  168.0   4  2.288   3     1.0\n",
       "..        ...    ...        ...   ...    ...  ..    ...  ..     ...\n",
       "594       6.0  123.0       72.0  45.0  230.0   4  0.733   3     0.0\n",
       "595       0.0  188.0       82.0  14.0  185.0   4  0.682   2     1.0\n",
       "596       0.0   67.0       76.0   0.0    0.0   4  0.194   3     0.0\n",
       "597       1.0   89.0       24.0  19.0   25.0   3  0.559   2     0.0\n",
       "598       1.0  173.0       74.0   0.0    0.0   4  0.088   3     1.0\n",
       "\n",
       "[599 rows x 9 columns]"
      ]
     },
     "execution_count": 39,
     "metadata": {},
     "output_type": "execute_result"
    }
   ],
   "source": [
    "df"
   ]
  },
  {
   "cell_type": "code",
   "execution_count": 40,
   "metadata": {},
   "outputs": [],
   "source": [
    "result_dict_train = {}"
   ]
  },
  {
   "cell_type": "markdown",
   "metadata": {},
   "source": [
    "# KNN"
   ]
  },
  {
   "cell_type": "code",
   "execution_count": 49,
   "metadata": {},
   "outputs": [
    {
     "name": "stdout",
     "output_type": "stream",
     "text": [
      "Train Score: 0.690\n"
     ]
    }
   ],
   "source": [
    "from sklearn.neighbors import KNeighborsClassifier\n",
    "from sklearn.model_selection import cross_val_score\n",
    "\n",
    "knn = KNeighborsClassifier()\n",
    "\n",
    "train_score = cross_val_score(knn, X, Y, cv=10, scoring=\"f1_micro\")\n",
    "\n",
    "print(\"Train Score: %.3f\" % np.mean(train_score))\n"
   ]
  },
  {
   "cell_type": "code",
   "execution_count": 50,
   "metadata": {},
   "outputs": [
    {
     "name": "stdout",
     "output_type": "stream",
     "text": [
      "Hyperparameters: {'n_neighbors': 13, 'p': 1, 'weights': 'uniform'}\n",
      "Train Score: 0.7430225988700566\n"
     ]
    }
   ],
   "source": [
    "from sklearn.model_selection import GridSearchCV\n",
    "grid = {'n_neighbors':np.arange(1,120),\n",
    "        'p':np.arange(1,3),\n",
    "        'weights':['uniform','distance']\n",
    "       }\n",
    "\n",
    "knn = KNeighborsClassifier(algorithm = \"auto\")\n",
    "knn_cv = GridSearchCV(knn,grid,cv=10, scoring=\"f1_micro\")\n",
    "knn_cv.fit(X,Y)\n",
    "\n",
    "print(\"Hyperparameters:\",knn_cv.best_params_)\n",
    "print(\"Train Score:\",knn_cv.best_score_)"
   ]
  },
  {
   "cell_type": "code",
   "execution_count": 43,
   "metadata": {},
   "outputs": [
    {
     "data": {
      "text/plain": [
       "{'KNN Default settings': 0.6895762711864407,\n",
       " 'KNN GridSearch Train Score': 0.7430225988700565}"
      ]
     },
     "execution_count": 43,
     "metadata": {},
     "output_type": "execute_result"
    }
   ],
   "source": [
    "result_dict_train[\"KNN Default settings\"] = np.mean(train_score)\n",
    "result_dict_train[\"KNN GridSearch Train Score\"] = knn_cv.best_score_\n",
    "result_dict_train"
   ]
  },
  {
   "cell_type": "markdown",
   "metadata": {},
   "source": [
    "# Random Forest"
   ]
  },
  {
   "cell_type": "code",
   "execution_count": 47,
   "metadata": {},
   "outputs": [
    {
     "name": "stdout",
     "output_type": "stream",
     "text": [
      "Train Score: 0.7629943502824859\n"
     ]
    }
   ],
   "source": [
    "from sklearn.ensemble import RandomForestClassifier\n",
    "rfc = RandomForestClassifier(random_state=4)\n",
    "train_score = cross_val_score(rfc, X, Y, cv=10, scoring=\"f1_micro\")\n",
    "print(\"Train Score:\",np.mean(train_score))"
   ]
  },
  {
   "cell_type": "code",
   "execution_count": 46,
   "metadata": {},
   "outputs": [
    {
     "name": "stdout",
     "output_type": "stream",
     "text": [
      "Hyperparameters: {'n_estimators': 50}\n",
      "Train Score: 0.7663559322033898\n"
     ]
    }
   ],
   "source": [
    "grid = {'n_estimators':np.arange(50,1000,100),\n",
    "       }\n",
    "\n",
    "rf = RandomForestClassifier(random_state = 4, max_features=\"sqrt\", class_weight=\"balanced\")\n",
    "rf_cv = GridSearchCV(rf,grid,cv=10, scoring=\"f1_micro\")\n",
    "rf_cv.fit(X,Y)\n",
    "\n",
    "print(\"Hyperparameters:\",rf_cv.best_params_)\n",
    "print(\"Train Score:\",rf_cv.best_score_)"
   ]
  },
  {
   "cell_type": "code",
   "execution_count": 48,
   "metadata": {},
   "outputs": [
    {
     "data": {
      "text/plain": [
       "{'KNN Default settings': 0.6895762711864407,\n",
       " 'KNN GridSearch Train Score': 0.7430225988700565,\n",
       " 'Random Forest Default': 0.7629943502824859,\n",
       " 'Random Forest GridSearch Train Score': 0.7663559322033898}"
      ]
     },
     "execution_count": 48,
     "metadata": {},
     "output_type": "execute_result"
    }
   ],
   "source": [
    "result_dict_train[\"Random Forest Default\"] = np.mean(train_score)\n",
    "result_dict_train[\"Random Forest GridSearch Train Score\"] = rf_cv.best_score_\n",
    "result_dict_train"
   ]
  },
  {
   "cell_type": "markdown",
   "metadata": {},
   "source": [
    "# SVM"
   ]
  },
  {
   "cell_type": "code",
   "execution_count": 51,
   "metadata": {},
   "outputs": [
    {
     "name": "stdout",
     "output_type": "stream",
     "text": [
      "Train Score: 0.7345762711864406\n"
     ]
    }
   ],
   "source": [
    "from sklearn.svm import SVC\n",
    "from sklearn.model_selection import cross_val_score\n",
    "svc = SVC(random_state = 42)\n",
    "accuracies = cross_val_score(svc, X, Y, cv=10, scoring=\"f1_micro\")\n",
    "# svc.fit(x_train,y_train)\n",
    "\n",
    "print(\"Train Score:\",np.mean(accuracies))"
   ]
  },
  {
   "cell_type": "code",
   "execution_count": 84,
   "metadata": {},
   "outputs": [],
   "source": [
    "from sklearn.preprocessing import RobustScaler\n",
    "from sklearn.pipeline import Pipeline\n",
    "from sklearn.model_selection import GridSearchCV\n",
    "scaler = RobustScaler()\n",
    "svm  = SVC()\n",
    "\n",
    "svm_pipe = Pipeline(steps=[\n",
    "                            (\"scaler\",scaler),\n",
    "                            (\"svm\",svm)])\n",
    "grid = {\n",
    "    'svm__C':[0.01,0.1,1,10],\n",
    "    'svm__kernel' : [\"linear\",\"poly\",\"sigmoid\",\"rbf\"],\n",
    "    'svm__degree' : [1,3,5,7],\n",
    "    'svm__gamma' : [0.01,1]\n",
    "}\n",
    "\n",
    "svm_cv = GridSearchCV(svm_pipe, grid, cv = 5, scoring=\"f1_micro\")\n",
    "svm_cv.fit(X,Y)\n",
    "svm_cv_std = svm_cv.cv_results_['std_test_score']\n"
   ]
  },
  {
   "cell_type": "code",
   "execution_count": 85,
   "metadata": {},
   "outputs": [
    {
     "name": "stdout",
     "output_type": "stream",
     "text": [
      "Best: 0.771359 using {'svm__C': 10, 'svm__degree': 1, 'svm__gamma': 0.01, 'svm__kernel': 'linear'}\n"
     ]
    }
   ],
   "source": [
    "print(\"Best: %f using %s\" % (svm_cv.best_score_, svm_cv.best_params_))"
   ]
  },
  {
   "cell_type": "code",
   "execution_count": 86,
   "metadata": {},
   "outputs": [
    {
     "name": "stdout",
     "output_type": "stream",
     "text": [
      "0.749622 (0.025462) with: {'svm__C': 0.01, 'svm__degree': 1, 'svm__gamma': 0.01, 'svm__kernel': 'linear'}\n",
      "0.652759 (0.003499) with: {'svm__C': 0.01, 'svm__degree': 1, 'svm__gamma': 0.01, 'svm__kernel': 'poly'}\n",
      "0.652759 (0.003499) with: {'svm__C': 0.01, 'svm__degree': 1, 'svm__gamma': 0.01, 'svm__kernel': 'sigmoid'}\n",
      "0.652759 (0.003499) with: {'svm__C': 0.01, 'svm__degree': 1, 'svm__gamma': 0.01, 'svm__kernel': 'rbf'}\n",
      "0.749622 (0.025462) with: {'svm__C': 0.01, 'svm__degree': 1, 'svm__gamma': 1, 'svm__kernel': 'linear'}\n",
      "0.749622 (0.025462) with: {'svm__C': 0.01, 'svm__degree': 1, 'svm__gamma': 1, 'svm__kernel': 'poly'}\n",
      "0.652759 (0.003499) with: {'svm__C': 0.01, 'svm__degree': 1, 'svm__gamma': 1, 'svm__kernel': 'sigmoid'}\n",
      "0.652759 (0.003499) with: {'svm__C': 0.01, 'svm__degree': 1, 'svm__gamma': 1, 'svm__kernel': 'rbf'}\n",
      "0.749622 (0.025462) with: {'svm__C': 0.01, 'svm__degree': 3, 'svm__gamma': 0.01, 'svm__kernel': 'linear'}\n",
      "0.652759 (0.003499) with: {'svm__C': 0.01, 'svm__degree': 3, 'svm__gamma': 0.01, 'svm__kernel': 'poly'}\n",
      "0.652759 (0.003499) with: {'svm__C': 0.01, 'svm__degree': 3, 'svm__gamma': 0.01, 'svm__kernel': 'sigmoid'}\n",
      "0.652759 (0.003499) with: {'svm__C': 0.01, 'svm__degree': 3, 'svm__gamma': 0.01, 'svm__kernel': 'rbf'}\n",
      "0.749622 (0.025462) with: {'svm__C': 0.01, 'svm__degree': 3, 'svm__gamma': 1, 'svm__kernel': 'linear'}\n",
      "0.737997 (0.032113) with: {'svm__C': 0.01, 'svm__degree': 3, 'svm__gamma': 1, 'svm__kernel': 'poly'}\n",
      "0.652759 (0.003499) with: {'svm__C': 0.01, 'svm__degree': 3, 'svm__gamma': 1, 'svm__kernel': 'sigmoid'}\n",
      "0.652759 (0.003499) with: {'svm__C': 0.01, 'svm__degree': 3, 'svm__gamma': 1, 'svm__kernel': 'rbf'}\n",
      "0.749622 (0.025462) with: {'svm__C': 0.01, 'svm__degree': 5, 'svm__gamma': 0.01, 'svm__kernel': 'linear'}\n",
      "0.652759 (0.003499) with: {'svm__C': 0.01, 'svm__degree': 5, 'svm__gamma': 0.01, 'svm__kernel': 'poly'}\n",
      "0.652759 (0.003499) with: {'svm__C': 0.01, 'svm__degree': 5, 'svm__gamma': 0.01, 'svm__kernel': 'sigmoid'}\n",
      "0.652759 (0.003499) with: {'svm__C': 0.01, 'svm__degree': 5, 'svm__gamma': 0.01, 'svm__kernel': 'rbf'}\n",
      "0.749622 (0.025462) with: {'svm__C': 0.01, 'svm__degree': 5, 'svm__gamma': 1, 'svm__kernel': 'linear'}\n",
      "0.709580 (0.032581) with: {'svm__C': 0.01, 'svm__degree': 5, 'svm__gamma': 1, 'svm__kernel': 'poly'}\n",
      "0.652759 (0.003499) with: {'svm__C': 0.01, 'svm__degree': 5, 'svm__gamma': 1, 'svm__kernel': 'sigmoid'}\n",
      "0.652759 (0.003499) with: {'svm__C': 0.01, 'svm__degree': 5, 'svm__gamma': 1, 'svm__kernel': 'rbf'}\n",
      "0.749622 (0.025462) with: {'svm__C': 0.01, 'svm__degree': 7, 'svm__gamma': 0.01, 'svm__kernel': 'linear'}\n",
      "0.652759 (0.003499) with: {'svm__C': 0.01, 'svm__degree': 7, 'svm__gamma': 0.01, 'svm__kernel': 'poly'}\n",
      "0.652759 (0.003499) with: {'svm__C': 0.01, 'svm__degree': 7, 'svm__gamma': 0.01, 'svm__kernel': 'sigmoid'}\n",
      "0.652759 (0.003499) with: {'svm__C': 0.01, 'svm__degree': 7, 'svm__gamma': 0.01, 'svm__kernel': 'rbf'}\n",
      "0.749622 (0.025462) with: {'svm__C': 0.01, 'svm__degree': 7, 'svm__gamma': 1, 'svm__kernel': 'linear'}\n",
      "0.692759 (0.038692) with: {'svm__C': 0.01, 'svm__degree': 7, 'svm__gamma': 1, 'svm__kernel': 'poly'}\n",
      "0.652759 (0.003499) with: {'svm__C': 0.01, 'svm__degree': 7, 'svm__gamma': 1, 'svm__kernel': 'sigmoid'}\n",
      "0.652759 (0.003499) with: {'svm__C': 0.01, 'svm__degree': 7, 'svm__gamma': 1, 'svm__kernel': 'rbf'}\n",
      "0.766331 (0.040555) with: {'svm__C': 0.1, 'svm__degree': 1, 'svm__gamma': 0.01, 'svm__kernel': 'linear'}\n",
      "0.652759 (0.003499) with: {'svm__C': 0.1, 'svm__degree': 1, 'svm__gamma': 0.01, 'svm__kernel': 'poly'}\n",
      "0.652759 (0.003499) with: {'svm__C': 0.1, 'svm__degree': 1, 'svm__gamma': 0.01, 'svm__kernel': 'sigmoid'}\n",
      "0.652759 (0.003499) with: {'svm__C': 0.1, 'svm__degree': 1, 'svm__gamma': 0.01, 'svm__kernel': 'rbf'}\n",
      "0.766331 (0.040555) with: {'svm__C': 0.1, 'svm__degree': 1, 'svm__gamma': 1, 'svm__kernel': 'linear'}\n",
      "0.766331 (0.040555) with: {'svm__C': 0.1, 'svm__degree': 1, 'svm__gamma': 1, 'svm__kernel': 'poly'}\n",
      "0.651022 (0.047750) with: {'svm__C': 0.1, 'svm__degree': 1, 'svm__gamma': 1, 'svm__kernel': 'sigmoid'}\n",
      "0.652759 (0.003499) with: {'svm__C': 0.1, 'svm__degree': 1, 'svm__gamma': 1, 'svm__kernel': 'rbf'}\n",
      "0.766331 (0.040555) with: {'svm__C': 0.1, 'svm__degree': 3, 'svm__gamma': 0.01, 'svm__kernel': 'linear'}\n",
      "0.652759 (0.003499) with: {'svm__C': 0.1, 'svm__degree': 3, 'svm__gamma': 0.01, 'svm__kernel': 'poly'}\n",
      "0.652759 (0.003499) with: {'svm__C': 0.1, 'svm__degree': 3, 'svm__gamma': 0.01, 'svm__kernel': 'sigmoid'}\n",
      "0.652759 (0.003499) with: {'svm__C': 0.1, 'svm__degree': 3, 'svm__gamma': 0.01, 'svm__kernel': 'rbf'}\n",
      "0.766331 (0.040555) with: {'svm__C': 0.1, 'svm__degree': 3, 'svm__gamma': 1, 'svm__kernel': 'linear'}\n",
      "0.721246 (0.026754) with: {'svm__C': 0.1, 'svm__degree': 3, 'svm__gamma': 1, 'svm__kernel': 'poly'}\n",
      "0.651022 (0.047750) with: {'svm__C': 0.1, 'svm__degree': 3, 'svm__gamma': 1, 'svm__kernel': 'sigmoid'}\n",
      "0.652759 (0.003499) with: {'svm__C': 0.1, 'svm__degree': 3, 'svm__gamma': 1, 'svm__kernel': 'rbf'}\n",
      "0.766331 (0.040555) with: {'svm__C': 0.1, 'svm__degree': 5, 'svm__gamma': 0.01, 'svm__kernel': 'linear'}\n",
      "0.652759 (0.003499) with: {'svm__C': 0.1, 'svm__degree': 5, 'svm__gamma': 0.01, 'svm__kernel': 'poly'}\n",
      "0.652759 (0.003499) with: {'svm__C': 0.1, 'svm__degree': 5, 'svm__gamma': 0.01, 'svm__kernel': 'sigmoid'}\n",
      "0.652759 (0.003499) with: {'svm__C': 0.1, 'svm__degree': 5, 'svm__gamma': 0.01, 'svm__kernel': 'rbf'}\n",
      "0.766331 (0.040555) with: {'svm__C': 0.1, 'svm__degree': 5, 'svm__gamma': 1, 'svm__kernel': 'linear'}\n",
      "0.691092 (0.028100) with: {'svm__C': 0.1, 'svm__degree': 5, 'svm__gamma': 1, 'svm__kernel': 'poly'}\n",
      "0.651022 (0.047750) with: {'svm__C': 0.1, 'svm__degree': 5, 'svm__gamma': 1, 'svm__kernel': 'sigmoid'}\n",
      "0.652759 (0.003499) with: {'svm__C': 0.1, 'svm__degree': 5, 'svm__gamma': 1, 'svm__kernel': 'rbf'}\n",
      "0.766331 (0.040555) with: {'svm__C': 0.1, 'svm__degree': 7, 'svm__gamma': 0.01, 'svm__kernel': 'linear'}\n",
      "0.652759 (0.003499) with: {'svm__C': 0.1, 'svm__degree': 7, 'svm__gamma': 0.01, 'svm__kernel': 'poly'}\n",
      "0.652759 (0.003499) with: {'svm__C': 0.1, 'svm__degree': 7, 'svm__gamma': 0.01, 'svm__kernel': 'sigmoid'}\n",
      "0.652759 (0.003499) with: {'svm__C': 0.1, 'svm__degree': 7, 'svm__gamma': 0.01, 'svm__kernel': 'rbf'}\n",
      "0.766331 (0.040555) with: {'svm__C': 0.1, 'svm__degree': 7, 'svm__gamma': 1, 'svm__kernel': 'linear'}\n",
      "0.649370 (0.047782) with: {'svm__C': 0.1, 'svm__degree': 7, 'svm__gamma': 1, 'svm__kernel': 'poly'}\n",
      "0.651022 (0.047750) with: {'svm__C': 0.1, 'svm__degree': 7, 'svm__gamma': 1, 'svm__kernel': 'sigmoid'}\n",
      "0.652759 (0.003499) with: {'svm__C': 0.1, 'svm__degree': 7, 'svm__gamma': 1, 'svm__kernel': 'rbf'}\n",
      "0.768025 (0.047534) with: {'svm__C': 1, 'svm__degree': 1, 'svm__gamma': 0.01, 'svm__kernel': 'linear'}\n",
      "0.749622 (0.025462) with: {'svm__C': 1, 'svm__degree': 1, 'svm__gamma': 0.01, 'svm__kernel': 'poly'}\n",
      "0.751289 (0.022843) with: {'svm__C': 1, 'svm__degree': 1, 'svm__gamma': 0.01, 'svm__kernel': 'sigmoid'}\n",
      "0.771289 (0.027147) with: {'svm__C': 1, 'svm__degree': 1, 'svm__gamma': 0.01, 'svm__kernel': 'rbf'}\n",
      "0.768025 (0.047534) with: {'svm__C': 1, 'svm__degree': 1, 'svm__gamma': 1, 'svm__kernel': 'linear'}\n",
      "0.768025 (0.047534) with: {'svm__C': 1, 'svm__degree': 1, 'svm__gamma': 1, 'svm__kernel': 'poly'}\n",
      "0.599300 (0.033711) with: {'svm__C': 1, 'svm__degree': 1, 'svm__gamma': 1, 'svm__kernel': 'sigmoid'}\n",
      "0.746261 (0.039187) with: {'svm__C': 1, 'svm__degree': 1, 'svm__gamma': 1, 'svm__kernel': 'rbf'}\n",
      "0.768025 (0.047534) with: {'svm__C': 1, 'svm__degree': 3, 'svm__gamma': 0.01, 'svm__kernel': 'linear'}\n",
      "0.652759 (0.003499) with: {'svm__C': 1, 'svm__degree': 3, 'svm__gamma': 0.01, 'svm__kernel': 'poly'}\n",
      "0.751289 (0.022843) with: {'svm__C': 1, 'svm__degree': 3, 'svm__gamma': 0.01, 'svm__kernel': 'sigmoid'}\n",
      "0.771289 (0.027147) with: {'svm__C': 1, 'svm__degree': 3, 'svm__gamma': 0.01, 'svm__kernel': 'rbf'}\n",
      "0.768025 (0.047534) with: {'svm__C': 1, 'svm__degree': 3, 'svm__gamma': 1, 'svm__kernel': 'linear'}\n",
      "0.707857 (0.016454) with: {'svm__C': 1, 'svm__degree': 3, 'svm__gamma': 1, 'svm__kernel': 'poly'}\n",
      "0.599300 (0.033711) with: {'svm__C': 1, 'svm__degree': 3, 'svm__gamma': 1, 'svm__kernel': 'sigmoid'}\n",
      "0.746261 (0.039187) with: {'svm__C': 1, 'svm__degree': 3, 'svm__gamma': 1, 'svm__kernel': 'rbf'}\n",
      "0.768025 (0.047534) with: {'svm__C': 1, 'svm__degree': 5, 'svm__gamma': 0.01, 'svm__kernel': 'linear'}\n",
      "0.652759 (0.003499) with: {'svm__C': 1, 'svm__degree': 5, 'svm__gamma': 0.01, 'svm__kernel': 'poly'}\n",
      "0.751289 (0.022843) with: {'svm__C': 1, 'svm__degree': 5, 'svm__gamma': 0.01, 'svm__kernel': 'sigmoid'}\n",
      "0.771289 (0.027147) with: {'svm__C': 1, 'svm__degree': 5, 'svm__gamma': 0.01, 'svm__kernel': 'rbf'}\n",
      "0.768025 (0.047534) with: {'svm__C': 1, 'svm__degree': 5, 'svm__gamma': 1, 'svm__kernel': 'linear'}\n",
      "0.656036 (0.045306) with: {'svm__C': 1, 'svm__degree': 5, 'svm__gamma': 1, 'svm__kernel': 'poly'}\n",
      "0.599300 (0.033711) with: {'svm__C': 1, 'svm__degree': 5, 'svm__gamma': 1, 'svm__kernel': 'sigmoid'}\n",
      "0.746261 (0.039187) with: {'svm__C': 1, 'svm__degree': 5, 'svm__gamma': 1, 'svm__kernel': 'rbf'}\n",
      "0.768025 (0.047534) with: {'svm__C': 1, 'svm__degree': 7, 'svm__gamma': 0.01, 'svm__kernel': 'linear'}\n",
      "0.652759 (0.003499) with: {'svm__C': 1, 'svm__degree': 7, 'svm__gamma': 0.01, 'svm__kernel': 'poly'}\n",
      "0.751289 (0.022843) with: {'svm__C': 1, 'svm__degree': 7, 'svm__gamma': 0.01, 'svm__kernel': 'sigmoid'}\n",
      "0.771289 (0.027147) with: {'svm__C': 1, 'svm__degree': 7, 'svm__gamma': 0.01, 'svm__kernel': 'rbf'}\n",
      "0.768025 (0.047534) with: {'svm__C': 1, 'svm__degree': 7, 'svm__gamma': 1, 'svm__kernel': 'linear'}\n",
      "0.664440 (0.035893) with: {'svm__C': 1, 'svm__degree': 7, 'svm__gamma': 1, 'svm__kernel': 'poly'}\n",
      "0.599300 (0.033711) with: {'svm__C': 1, 'svm__degree': 7, 'svm__gamma': 1, 'svm__kernel': 'sigmoid'}\n",
      "0.746261 (0.039187) with: {'svm__C': 1, 'svm__degree': 7, 'svm__gamma': 1, 'svm__kernel': 'rbf'}\n",
      "0.771359 (0.045830) with: {'svm__C': 10, 'svm__degree': 1, 'svm__gamma': 0.01, 'svm__kernel': 'linear'}\n",
      "0.766331 (0.040555) with: {'svm__C': 10, 'svm__degree': 1, 'svm__gamma': 0.01, 'svm__kernel': 'poly'}\n",
      "0.771345 (0.041421) with: {'svm__C': 10, 'svm__degree': 1, 'svm__gamma': 0.01, 'svm__kernel': 'sigmoid'}\n",
      "0.766317 (0.033494) with: {'svm__C': 10, 'svm__degree': 1, 'svm__gamma': 0.01, 'svm__kernel': 'rbf'}\n",
      "0.771359 (0.045830) with: {'svm__C': 10, 'svm__degree': 1, 'svm__gamma': 1, 'svm__kernel': 'linear'}\n",
      "0.771359 (0.045830) with: {'svm__C': 10, 'svm__degree': 1, 'svm__gamma': 1, 'svm__kernel': 'poly'}\n",
      "0.600966 (0.037784) with: {'svm__C': 10, 'svm__degree': 1, 'svm__gamma': 1, 'svm__kernel': 'sigmoid'}\n",
      "0.716261 (0.044661) with: {'svm__C': 10, 'svm__degree': 1, 'svm__gamma': 1, 'svm__kernel': 'rbf'}\n",
      "0.771359 (0.045830) with: {'svm__C': 10, 'svm__degree': 3, 'svm__gamma': 0.01, 'svm__kernel': 'linear'}\n",
      "0.651092 (0.005705) with: {'svm__C': 10, 'svm__degree': 3, 'svm__gamma': 0.01, 'svm__kernel': 'poly'}\n",
      "0.771345 (0.041421) with: {'svm__C': 10, 'svm__degree': 3, 'svm__gamma': 0.01, 'svm__kernel': 'sigmoid'}\n",
      "0.766317 (0.033494) with: {'svm__C': 10, 'svm__degree': 3, 'svm__gamma': 0.01, 'svm__kernel': 'rbf'}\n",
      "0.771359 (0.045830) with: {'svm__C': 10, 'svm__degree': 3, 'svm__gamma': 1, 'svm__kernel': 'linear'}\n",
      "0.684482 (0.036965) with: {'svm__C': 10, 'svm__degree': 3, 'svm__gamma': 1, 'svm__kernel': 'poly'}\n",
      "0.600966 (0.037784) with: {'svm__C': 10, 'svm__degree': 3, 'svm__gamma': 1, 'svm__kernel': 'sigmoid'}\n",
      "0.716261 (0.044661) with: {'svm__C': 10, 'svm__degree': 3, 'svm__gamma': 1, 'svm__kernel': 'rbf'}\n",
      "0.771359 (0.045830) with: {'svm__C': 10, 'svm__degree': 5, 'svm__gamma': 0.01, 'svm__kernel': 'linear'}\n",
      "0.652759 (0.003499) with: {'svm__C': 10, 'svm__degree': 5, 'svm__gamma': 0.01, 'svm__kernel': 'poly'}\n",
      "0.771345 (0.041421) with: {'svm__C': 10, 'svm__degree': 5, 'svm__gamma': 0.01, 'svm__kernel': 'sigmoid'}\n",
      "0.766317 (0.033494) with: {'svm__C': 10, 'svm__degree': 5, 'svm__gamma': 0.01, 'svm__kernel': 'rbf'}\n",
      "0.771359 (0.045830) with: {'svm__C': 10, 'svm__degree': 5, 'svm__gamma': 1, 'svm__kernel': 'linear'}\n",
      "0.659384 (0.042700) with: {'svm__C': 10, 'svm__degree': 5, 'svm__gamma': 1, 'svm__kernel': 'poly'}\n",
      "0.600966 (0.037784) with: {'svm__C': 10, 'svm__degree': 5, 'svm__gamma': 1, 'svm__kernel': 'sigmoid'}\n",
      "0.716261 (0.044661) with: {'svm__C': 10, 'svm__degree': 5, 'svm__gamma': 1, 'svm__kernel': 'rbf'}\n",
      "0.771359 (0.045830) with: {'svm__C': 10, 'svm__degree': 7, 'svm__gamma': 0.01, 'svm__kernel': 'linear'}\n",
      "0.652759 (0.003499) with: {'svm__C': 10, 'svm__degree': 7, 'svm__gamma': 0.01, 'svm__kernel': 'poly'}\n",
      "0.771345 (0.041421) with: {'svm__C': 10, 'svm__degree': 7, 'svm__gamma': 0.01, 'svm__kernel': 'sigmoid'}\n",
      "0.766317 (0.033494) with: {'svm__C': 10, 'svm__degree': 7, 'svm__gamma': 0.01, 'svm__kernel': 'rbf'}\n",
      "0.771359 (0.045830) with: {'svm__C': 10, 'svm__degree': 7, 'svm__gamma': 1, 'svm__kernel': 'linear'}\n",
      "0.646078 (0.033956) with: {'svm__C': 10, 'svm__degree': 7, 'svm__gamma': 1, 'svm__kernel': 'poly'}\n",
      "0.600966 (0.037784) with: {'svm__C': 10, 'svm__degree': 7, 'svm__gamma': 1, 'svm__kernel': 'sigmoid'}\n",
      "0.716261 (0.044661) with: {'svm__C': 10, 'svm__degree': 7, 'svm__gamma': 1, 'svm__kernel': 'rbf'}\n"
     ]
    }
   ],
   "source": [
    "means = svm_cv.cv_results_['mean_test_score']\n",
    "stds = svm_cv.cv_results_['std_test_score']\n",
    "params = svm_cv.cv_results_['params']\n",
    "for mean, stdev, param in zip(means, stds, params):\n",
    "    print(\"%f (%f) with: %r\" % (mean, stdev, param))"
   ]
  },
  {
   "cell_type": "code",
   "execution_count": 87,
   "metadata": {},
   "outputs": [
    {
     "data": {
      "text/plain": [
       "{'KNN Default settings': 0.6895762711864407,\n",
       " 'KNN GridSearch Train Score': 0.7430225988700565,\n",
       " 'Random Forest Default': 0.7629943502824859,\n",
       " 'Random Forest GridSearch Train Score': 0.7680225988700565,\n",
       " 'SVM Default': 0.7629943502824859,\n",
       " 'SVM GridSearch Train Score': 0.771358543417367}"
      ]
     },
     "execution_count": 87,
     "metadata": {},
     "output_type": "execute_result"
    }
   ],
   "source": [
    "result_dict_train[\"SVM Default\"] = np.mean(train_score)\n",
    "result_dict_train[\"SVM GridSearch Train Score\"] = svm_cv.best_score_\n",
    "result_dict_train"
   ]
  },
  {
   "cell_type": "markdown",
   "metadata": {},
   "source": [
    "# AdaBoost"
   ]
  },
  {
   "cell_type": "code",
   "execution_count": 52,
   "metadata": {},
   "outputs": [
    {
     "name": "stdout",
     "output_type": "stream",
     "text": [
      "0.7646610169491525\n"
     ]
    }
   ],
   "source": [
    "from sklearn.ensemble import AdaBoostClassifier\n",
    "adbc = AdaBoostClassifier(random_state=4)\n",
    "score = cross_val_score(adbc, X, Y,scoring=\"f1_micro\", cv=10)\n",
    "print(np.mean(score))"
   ]
  },
  {
   "cell_type": "code",
   "execution_count": 53,
   "metadata": {},
   "outputs": [
    {
     "name": "stdout",
     "output_type": "stream",
     "text": [
      "Best: 0.772994 using {'learning_rate': 0.01, 'n_estimators': 500}\n"
     ]
    }
   ],
   "source": [
    "grid = {}\n",
    "grid['n_estimators'] = [10, 50, 100, 500]\n",
    "grid['learning_rate'] = [0.0001, 0.001, 0.01, 0.1, 1.0]\n",
    "# define the evaluation procedure\n",
    "# define the grid search procedure\n",
    "grid_search = GridSearchCV(estimator=adbc, param_grid=grid, n_jobs=-1, cv=10, scoring='f1_micro')\n",
    "# execute the grid search\n",
    "grid_result = grid_search.fit(X, Y)\n",
    "# summarize the best score and configuration\n",
    "print(\"Best: %f using %s\" % (grid_result.best_score_, grid_result.best_params_))\n"
   ]
  },
  {
   "cell_type": "code",
   "execution_count": 90,
   "metadata": {},
   "outputs": [
    {
     "data": {
      "text/plain": [
       "{'KNN Default settings': 0.6895762711864407,\n",
       " 'KNN GridSearch Train Score': 0.7430225988700565,\n",
       " 'Random Forest Default': 0.7629943502824859,\n",
       " 'Random Forest GridSearch Train Score': 0.7680225988700565,\n",
       " 'SVM Default': 0.7629943502824859,\n",
       " 'SVM GridSearch Train Score': 0.771358543417367,\n",
       " 'AdaBoost Default': 0.7646610169491525,\n",
       " 'AdaBoost GridSearch': 0.7729943502824858}"
      ]
     },
     "execution_count": 90,
     "metadata": {},
     "output_type": "execute_result"
    }
   ],
   "source": [
    "result_dict_train[\"AdaBoost Default\"] = np.mean(score)\n",
    "result_dict_train[\"AdaBoost GridSearch\"] = grid_result.best_score_\n",
    "result_dict_train"
   ]
  },
  {
   "cell_type": "markdown",
   "metadata": {},
   "source": [
    "# Logistic Regression"
   ]
  },
  {
   "cell_type": "code",
   "execution_count": 54,
   "metadata": {},
   "outputs": [
    {
     "name": "stdout",
     "output_type": "stream",
     "text": [
      "Logistic Regression default: 0.773\n"
     ]
    }
   ],
   "source": [
    "# use polynomial to improve model fitting\n",
    "from sklearn.preprocessing import PolynomialFeatures, RobustScaler\n",
    "from sklearn.linear_model import LogisticRegression\n",
    "from sklearn.pipeline import Pipeline\n",
    "from sklearn.model_selection import cross_val_score\n",
    "poly = PolynomialFeatures(degree=1)\n",
    "\n",
    "# instantiate the model (using the default parameters)\n",
    "solver = \"saga\"\n",
    "lr_model = LogisticRegression(solver= solver, \n",
    "max_iter=7000, tol=1e-3,\n",
    "random_state=4)\n",
    "\n",
    "scaler = RobustScaler()\n",
    "\n",
    "lr_pipe = Pipeline(steps=[(\"poly\",poly),\n",
    "                            (\"scaler\",scaler),\n",
    "                            (\"logistic\",lr_model)])\n",
    "lr_score = cross_val_score(lr_pipe,X,Y,scoring=\"f1_micro\",cv=10)\n",
    "print(\"Logistic Regression default: %.3f\"%np.mean(lr_score))"
   ]
  },
  {
   "cell_type": "code",
   "execution_count": 57,
   "metadata": {},
   "outputs": [
    {
     "name": "stdout",
     "output_type": "stream",
     "text": [
      "Best parameter (CV score=0.785):\n",
      "{'logistic__C': 0.027825594022071243, 'logistic__penalty': 'l1', 'poly__degree': 3}\n"
     ]
    }
   ],
   "source": [
    "# SearchGrid CV\n",
    "from sklearn.model_selection import GridSearchCV, RepeatedKFold\n",
    "param_grid = {\n",
    "    \"logistic__C\":np.logspace(-3, 10, 10),\n",
    "    \"logistic__penalty\":[\"l2\",\"l1\"],\n",
    "    \"poly__degree\":[1,2,3,4]\n",
    "\n",
    "}\n",
    "cv = RepeatedKFold(n_splits=10, n_repeats=3, random_state=4)\n",
    "search = GridSearchCV(lr_pipe, param_grid, scoring=\"f1_micro\",cv=10)\n",
    "search.fit(X, Y)\n",
    "print(\"Best parameter (CV score=%0.3f):\" % search.best_score_)\n",
    "print(search.best_params_)"
   ]
  },
  {
   "cell_type": "code",
   "execution_count": 58,
   "metadata": {},
   "outputs": [
    {
     "data": {
      "text/plain": [
       "{'KNN Default settings': 0.6895762711864407,\n",
       " 'KNN GridSearch Train Score': 0.7430225988700565,\n",
       " 'Random Forest Default': 0.7629943502824859,\n",
       " 'Random Forest GridSearch Train Score': 0.7663559322033898,\n",
       " 'Logistic Regression Default': 0.7730508474576272,\n",
       " 'Logistic Regression GridSearch': 0.7847175141242937}"
      ]
     },
     "execution_count": 58,
     "metadata": {},
     "output_type": "execute_result"
    }
   ],
   "source": [
    "result_dict_train[\"Logistic Regression Default\"] = np.mean(lr_score)\n",
    "result_dict_train[\"Logistic Regression GridSearch\"] = search.best_score_\n",
    "result_dict_train"
   ]
  },
  {
   "cell_type": "markdown",
   "metadata": {},
   "source": [
    "# Comparison"
   ]
  },
  {
   "cell_type": "code",
   "execution_count": 59,
   "metadata": {},
   "outputs": [
    {
     "data": {
      "text/html": [
       "<div>\n",
       "<style scoped>\n",
       "    .dataframe tbody tr th:only-of-type {\n",
       "        vertical-align: middle;\n",
       "    }\n",
       "\n",
       "    .dataframe tbody tr th {\n",
       "        vertical-align: top;\n",
       "    }\n",
       "\n",
       "    .dataframe thead th {\n",
       "        text-align: right;\n",
       "    }\n",
       "</style>\n",
       "<table border=\"1\" class=\"dataframe\">\n",
       "  <thead>\n",
       "    <tr style=\"text-align: right;\">\n",
       "      <th></th>\n",
       "      <th>Score</th>\n",
       "    </tr>\n",
       "  </thead>\n",
       "  <tbody>\n",
       "    <tr>\n",
       "      <th>KNN Default settings</th>\n",
       "      <td>0.689576</td>\n",
       "    </tr>\n",
       "    <tr>\n",
       "      <th>KNN GridSearch Train Score</th>\n",
       "      <td>0.743023</td>\n",
       "    </tr>\n",
       "    <tr>\n",
       "      <th>Random Forest Default</th>\n",
       "      <td>0.762994</td>\n",
       "    </tr>\n",
       "    <tr>\n",
       "      <th>Random Forest GridSearch Train Score</th>\n",
       "      <td>0.766356</td>\n",
       "    </tr>\n",
       "    <tr>\n",
       "      <th>Logistic Regression Default</th>\n",
       "      <td>0.773051</td>\n",
       "    </tr>\n",
       "    <tr>\n",
       "      <th>Logistic Regression GridSearch</th>\n",
       "      <td>0.784718</td>\n",
       "    </tr>\n",
       "  </tbody>\n",
       "</table>\n",
       "</div>"
      ],
      "text/plain": [
       "                                         Score\n",
       "KNN Default settings                  0.689576\n",
       "KNN GridSearch Train Score            0.743023\n",
       "Random Forest Default                 0.762994\n",
       "Random Forest GridSearch Train Score  0.766356\n",
       "Logistic Regression Default           0.773051\n",
       "Logistic Regression GridSearch        0.784718"
      ]
     },
     "execution_count": 59,
     "metadata": {},
     "output_type": "execute_result"
    }
   ],
   "source": [
    "df_result_train = pd.DataFrame.from_dict(result_dict_train,orient = \"index\",columns=[\"Score\"])\n",
    "df_result_train"
   ]
  },
  {
   "cell_type": "code",
   "execution_count": 60,
   "metadata": {},
   "outputs": [
    {
     "data": {
      "image/png": "[encoded data removed]",
      "text/plain": [
       "<Figure size 504x360 with 1 Axes>"
      ]
     },
     "metadata": {
      "needs_background": "light"
     },
     "output_type": "display_data"
    }
   ],
   "source": [
    "# fig,ax = plt.subplots(1,2,figsize=(20,5))\n",
    "import seaborn as sns\n",
    "fig, ax = plt.subplots(figsize=(7,5))\n",
    "sns.barplot(x = df_result_train.index,y = df_result_train.Score)\n",
    "ax.set_xticklabels(df_result_train.index,rotation = 75)\n",
    "plt.show()"
   ]
  },
  {
   "cell_type": "markdown",
   "metadata": {},
   "source": [
    "# Testing"
   ]
  },
  {
   "cell_type": "code",
   "execution_count": 20,
   "metadata": {},
   "outputs": [
    {
     "data": {
      "text/html": [
       "<div>\n",
       "<style scoped>\n",
       "    .dataframe tbody tr th:only-of-type {\n",
       "        vertical-align: middle;\n",
       "    }\n",
       "\n",
       "    .dataframe tbody tr th {\n",
       "        vertical-align: top;\n",
       "    }\n",
       "\n",
       "    .dataframe thead th {\n",
       "        text-align: right;\n",
       "    }\n",
       "</style>\n",
       "<table border=\"1\" class=\"dataframe\">\n",
       "  <thead>\n",
       "    <tr style=\"text-align: right;\">\n",
       "      <th></th>\n",
       "      <th>PRG</th>\n",
       "      <th>PL</th>\n",
       "      <th>PR</th>\n",
       "      <th>SK</th>\n",
       "      <th>TS</th>\n",
       "      <th>M11</th>\n",
       "      <th>BD2</th>\n",
       "      <th>Age</th>\n",
       "    </tr>\n",
       "  </thead>\n",
       "  <tbody>\n",
       "    <tr>\n",
       "      <th>0</th>\n",
       "      <td>1</td>\n",
       "      <td>109</td>\n",
       "      <td>38</td>\n",
       "      <td>18</td>\n",
       "      <td>120</td>\n",
       "      <td>23.1</td>\n",
       "      <td>0.407</td>\n",
       "      <td>26</td>\n",
       "    </tr>\n",
       "    <tr>\n",
       "      <th>1</th>\n",
       "      <td>1</td>\n",
       "      <td>108</td>\n",
       "      <td>88</td>\n",
       "      <td>19</td>\n",
       "      <td>0</td>\n",
       "      <td>27.1</td>\n",
       "      <td>0.400</td>\n",
       "      <td>24</td>\n",
       "    </tr>\n",
       "    <tr>\n",
       "      <th>2</th>\n",
       "      <td>6</td>\n",
       "      <td>96</td>\n",
       "      <td>0</td>\n",
       "      <td>0</td>\n",
       "      <td>0</td>\n",
       "      <td>23.7</td>\n",
       "      <td>0.190</td>\n",
       "      <td>28</td>\n",
       "    </tr>\n",
       "    <tr>\n",
       "      <th>3</th>\n",
       "      <td>1</td>\n",
       "      <td>124</td>\n",
       "      <td>74</td>\n",
       "      <td>36</td>\n",
       "      <td>0</td>\n",
       "      <td>27.8</td>\n",
       "      <td>0.100</td>\n",
       "      <td>30</td>\n",
       "    </tr>\n",
       "    <tr>\n",
       "      <th>4</th>\n",
       "      <td>7</td>\n",
       "      <td>150</td>\n",
       "      <td>78</td>\n",
       "      <td>29</td>\n",
       "      <td>126</td>\n",
       "      <td>35.2</td>\n",
       "      <td>0.692</td>\n",
       "      <td>54</td>\n",
       "    </tr>\n",
       "  </tbody>\n",
       "</table>\n",
       "</div>"
      ],
      "text/plain": [
       "   PRG   PL  PR  SK   TS   M11    BD2  Age\n",
       "0    1  109  38  18  120  23.1  0.407   26\n",
       "1    1  108  88  19    0  27.1  0.400   24\n",
       "2    6   96   0   0    0  23.7  0.190   28\n",
       "3    1  124  74  36    0  27.8  0.100   30\n",
       "4    7  150  78  29  126  35.2  0.692   54"
      ]
     },
     "execution_count": 20,
     "metadata": {},
     "output_type": "execute_result"
    }
   ],
   "source": [
    "patients_df_test = pd.read_csv(\"../Paitients_Files_Test.csv\").drop(columns=[\"ID\",\"Insurance\"])\n",
    "patients_df_test.head()"
   ]
  },
  {
   "cell_type": "code",
   "execution_count": 21,
   "metadata": {},
   "outputs": [],
   "source": [
    "column_names = {\n",
    "    \"PRG\": \"BGlucose\",\n",
    "    \"PR\": \"BPressure\",\n",
    "    \"PL\": \"B1\",\n",
    "    \"SK\": \"B2\",\n",
    "    \"TS\": \"B3\",\n",
    "    \"BD2\": \"B4\",\n",
    "    \"M11\": \"BMI\"\n",
    "}\n",
    "patients_df_test = patients_df_test.rename(columns= column_names)"
   ]
  },
  {
   "cell_type": "code",
   "execution_count": 22,
   "metadata": {},
   "outputs": [
    {
     "data": {
      "text/plain": [
       "BGlucose     0\n",
       "B1           0\n",
       "BPressure    0\n",
       "B2           0\n",
       "B3           0\n",
       "BMI          0\n",
       "B4           0\n",
       "Age          0\n",
       "dtype: int64"
      ]
     },
     "execution_count": 22,
     "metadata": {},
     "output_type": "execute_result"
    }
   ],
   "source": [
    "patients_df_test.isna().sum()"
   ]
  },
  {
   "cell_type": "code",
   "execution_count": 23,
   "metadata": {},
   "outputs": [
    {
     "data": {
      "text/html": [
       "<div>\n",
       "<style scoped>\n",
       "    .dataframe tbody tr th:only-of-type {\n",
       "        vertical-align: middle;\n",
       "    }\n",
       "\n",
       "    .dataframe tbody tr th {\n",
       "        vertical-align: top;\n",
       "    }\n",
       "\n",
       "    .dataframe thead th {\n",
       "        text-align: right;\n",
       "    }\n",
       "</style>\n",
       "<table border=\"1\" class=\"dataframe\">\n",
       "  <thead>\n",
       "    <tr style=\"text-align: right;\">\n",
       "      <th></th>\n",
       "      <th>BGlucose</th>\n",
       "      <th>B1</th>\n",
       "      <th>BPressure</th>\n",
       "      <th>B2</th>\n",
       "      <th>B3</th>\n",
       "      <th>BMI</th>\n",
       "      <th>B4</th>\n",
       "      <th>Age</th>\n",
       "    </tr>\n",
       "  </thead>\n",
       "  <tbody>\n",
       "    <tr>\n",
       "      <th>count</th>\n",
       "      <td>169.000000</td>\n",
       "      <td>169.000000</td>\n",
       "      <td>169.000000</td>\n",
       "      <td>169.000000</td>\n",
       "      <td>169.000000</td>\n",
       "      <td>169.000000</td>\n",
       "      <td>169.000000</td>\n",
       "      <td>169.000000</td>\n",
       "    </tr>\n",
       "    <tr>\n",
       "      <th>mean</th>\n",
       "      <td>3.917160</td>\n",
       "      <td>123.520710</td>\n",
       "      <td>70.426036</td>\n",
       "      <td>20.443787</td>\n",
       "      <td>81.000000</td>\n",
       "      <td>32.249704</td>\n",
       "      <td>0.438876</td>\n",
       "      <td>33.065089</td>\n",
       "    </tr>\n",
       "    <tr>\n",
       "      <th>std</th>\n",
       "      <td>3.402415</td>\n",
       "      <td>29.259123</td>\n",
       "      <td>19.426805</td>\n",
       "      <td>15.764962</td>\n",
       "      <td>110.720852</td>\n",
       "      <td>7.444886</td>\n",
       "      <td>0.306935</td>\n",
       "      <td>11.548110</td>\n",
       "    </tr>\n",
       "    <tr>\n",
       "      <th>min</th>\n",
       "      <td>0.000000</td>\n",
       "      <td>56.000000</td>\n",
       "      <td>0.000000</td>\n",
       "      <td>0.000000</td>\n",
       "      <td>0.000000</td>\n",
       "      <td>0.000000</td>\n",
       "      <td>0.100000</td>\n",
       "      <td>21.000000</td>\n",
       "    </tr>\n",
       "    <tr>\n",
       "      <th>25%</th>\n",
       "      <td>1.000000</td>\n",
       "      <td>102.000000</td>\n",
       "      <td>62.000000</td>\n",
       "      <td>0.000000</td>\n",
       "      <td>0.000000</td>\n",
       "      <td>27.600000</td>\n",
       "      <td>0.223000</td>\n",
       "      <td>24.000000</td>\n",
       "    </tr>\n",
       "    <tr>\n",
       "      <th>50%</th>\n",
       "      <td>3.000000</td>\n",
       "      <td>120.000000</td>\n",
       "      <td>74.000000</td>\n",
       "      <td>23.000000</td>\n",
       "      <td>0.000000</td>\n",
       "      <td>32.400000</td>\n",
       "      <td>0.343000</td>\n",
       "      <td>28.000000</td>\n",
       "    </tr>\n",
       "    <tr>\n",
       "      <th>75%</th>\n",
       "      <td>6.000000</td>\n",
       "      <td>141.000000</td>\n",
       "      <td>80.000000</td>\n",
       "      <td>32.000000</td>\n",
       "      <td>135.000000</td>\n",
       "      <td>36.600000</td>\n",
       "      <td>0.587000</td>\n",
       "      <td>42.000000</td>\n",
       "    </tr>\n",
       "    <tr>\n",
       "      <th>max</th>\n",
       "      <td>13.000000</td>\n",
       "      <td>199.000000</td>\n",
       "      <td>114.000000</td>\n",
       "      <td>49.000000</td>\n",
       "      <td>540.000000</td>\n",
       "      <td>57.300000</td>\n",
       "      <td>1.698000</td>\n",
       "      <td>70.000000</td>\n",
       "    </tr>\n",
       "  </tbody>\n",
       "</table>\n",
       "</div>"
      ],
      "text/plain": [
       "         BGlucose          B1   BPressure          B2          B3         BMI  \\\n",
       "count  169.000000  169.000000  169.000000  169.000000  169.000000  169.000000   \n",
       "mean     3.917160  123.520710   70.426036   20.443787   81.000000   32.249704   \n",
       "std      3.402415   29.259123   19.426805   15.764962  110.720852    7.444886   \n",
       "min      0.000000   56.000000    0.000000    0.000000    0.000000    0.000000   \n",
       "25%      1.000000  102.000000   62.000000    0.000000    0.000000   27.600000   \n",
       "50%      3.000000  120.000000   74.000000   23.000000    0.000000   32.400000   \n",
       "75%      6.000000  141.000000   80.000000   32.000000  135.000000   36.600000   \n",
       "max     13.000000  199.000000  114.000000   49.000000  540.000000   57.300000   \n",
       "\n",
       "               B4         Age  \n",
       "count  169.000000  169.000000  \n",
       "mean     0.438876   33.065089  \n",
       "std      0.306935   11.548110  \n",
       "min      0.100000   21.000000  \n",
       "25%      0.223000   24.000000  \n",
       "50%      0.343000   28.000000  \n",
       "75%      0.587000   42.000000  \n",
       "max      1.698000   70.000000  "
      ]
     },
     "execution_count": 23,
     "metadata": {},
     "output_type": "execute_result"
    }
   ],
   "source": [
    "patients_df_test.describe()"
   ]
  },
  {
   "cell_type": "code",
   "execution_count": 24,
   "metadata": {},
   "outputs": [
    {
     "name": "stdout",
     "output_type": "stream",
     "text": [
      "BMI Bins\n"
     ]
    },
    {
     "data": {
      "text/plain": [
       "4    103\n",
       "3     40\n",
       "2     24\n",
       "1      2\n",
       "Name: BMI, dtype: int64"
      ]
     },
     "metadata": {},
     "output_type": "display_data"
    },
    {
     "name": "stdout",
     "output_type": "stream",
     "text": [
      "Age Bins\n"
     ]
    },
    {
     "data": {
      "text/plain": [
       "2    94\n",
       "3    61\n",
       "4    14\n",
       "1     0\n",
       "Name: Age, dtype: int64"
      ]
     },
     "metadata": {},
     "output_type": "display_data"
    }
   ],
   "source": [
    "#Creating bins and labels\n",
    "bins = [-1,18.5,25.0,30.0,100]\n",
    "labels = [1,2,3,4]\n",
    "\n",
    "patients_df_test['BMI'] = pd.cut(patients_df_test['BMI'],bins = bins, labels = labels)\n",
    "print(\"BMI Bins\")\n",
    "display(patients_df_test.BMI.value_counts())\n",
    "#Creating bins and labels\n",
    "bins = [1,19,30,50,100]\n",
    "labels = [1,2,3,4]\n",
    "\n",
    "patients_df_test['Age'] = pd.cut(patients_df_test['Age'],bins = bins, labels = labels)\n",
    "print(\"Age Bins\")\n",
    "display(patients_df_test.Age.value_counts())"
   ]
  },
  {
   "cell_type": "code",
   "execution_count": 25,
   "metadata": {},
   "outputs": [
    {
     "data": {
      "text/plain": [
       "BGlucose     0\n",
       "B1           0\n",
       "BPressure    0\n",
       "B2           0\n",
       "B3           0\n",
       "BMI          0\n",
       "B4           0\n",
       "Age          0\n",
       "dtype: int64"
      ]
     },
     "execution_count": 25,
     "metadata": {},
     "output_type": "execute_result"
    }
   ],
   "source": [
    "patients_df_test.isna().sum()"
   ]
  },
  {
   "cell_type": "code",
   "execution_count": 26,
   "metadata": {},
   "outputs": [
    {
     "name": "stderr",
     "output_type": "stream",
     "text": [
      "/Users/lap11353-local/opt/anaconda3/lib/python3.9/site-packages/sklearn/linear_model/_sag.py:352: ConvergenceWarning: The max_iter was reached which means the coef_ did not converge\n",
      "  warnings.warn(\n"
     ]
    },
    {
     "data": {
      "text/plain": [
       "Pipeline(steps=[('poly', PolynomialFeatures(degree=3)),\n",
       "                ('scaler', RobustScaler()),\n",
       "                ('logistic',\n",
       "                 LogisticRegression(C=0.027825594022071243, penalty='l1',\n",
       "                                    solver='saga'))])"
      ]
     },
     "execution_count": 26,
     "metadata": {},
     "output_type": "execute_result"
    }
   ],
   "source": [
    "# my model\n",
    "# best_model = AdaBoostClassifier(n_estimators=500, learning_rate=0.01)\n",
    "lr_model = LogisticRegression(\n",
    "    penalty=\"l1\",\n",
    "    solver=\"saga\",\n",
    "    C=0.027825594022071243\n",
    ")\n",
    "poly = PolynomialFeatures(degree=3)\n",
    "best_model = Pipeline(steps=[(\"poly\",poly),\n",
    "                            (\"scaler\",scaler),\n",
    "                            (\"logistic\",lr_model)])\n",
    "\n",
    "best_model.fit(X,Y)"
   ]
  },
  {
   "cell_type": "code",
   "execution_count": 27,
   "metadata": {},
   "outputs": [],
   "source": [
    "pred = best_model.predict(patients_df_test)\n",
    "pred = pd.DataFrame(pred)"
   ]
  },
  {
   "cell_type": "code",
   "execution_count": 28,
   "metadata": {},
   "outputs": [
    {
     "data": {
      "text/plain": [
       "0.0    104\n",
       "1.0     65\n",
       "dtype: int64"
      ]
     },
     "execution_count": 28,
     "metadata": {},
     "output_type": "execute_result"
    }
   ],
   "source": [
    "pred.value_counts()"
   ]
  },
  {
   "cell_type": "code",
   "execution_count": null,
   "metadata": {},
   "outputs": [],
   "source": []
  }
 ],
 "metadata": {
  "interpreter": {
   "hash": "ae5e6dd5896681063d24cbfb179503b398deae949aacdf9655b1a7be467fbaeb"
  },
  "kernelspec": {
   "display_name": "Python 3.9.7 64-bit ('base': conda)",
   "language": "python",
   "name": "python3"
  },
  "language_info": {
   "codemirror_mode": {
    "name": "ipython",
    "version": 3
   },
   "file_extension": ".py",
   "mimetype": "text/x-python",
   "name": "python",
   "nbconvert_exporter": "python",
   "pygments_lexer": "ipython3",
   "version": "3.9.7"
  },
  "orig_nbformat": 4
 },
 "nbformat": 4,
 "nbformat_minor": 2
}
