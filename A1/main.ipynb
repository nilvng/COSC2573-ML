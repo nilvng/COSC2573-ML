{
 "cells": [
  {
   "cell_type": "markdown",
   "id": "abc51e76-4ba4-49f5-95af-e1c9f92553a8",
   "metadata": {},
   "source": [
    "# Students info\n",
    "- Student number: s3804803\n",
    "- Student name: Nguyen Bao Ngan"
   ]
  },
  {
   "cell_type": "markdown",
   "id": "7db478be-309a-4e94-a858-9343dcd46011",
   "metadata": {},
   "source": [
    "# 1. Preprocessing"
   ]
  },
  {
   "cell_type": "code",
   "execution_count": 9,
   "id": "20518618-aec9-44b6-8da0-c2805b756e90",
   "metadata": {},
   "outputs": [],
   "source": [
    "import sklearn as sk\n",
    "import pandas as pd\n",
    "import matplotlib.pyplot as plt\n",
    "import numpy as np\n",
    "import seaborn as sns"
   ]
  },
  {
   "cell_type": "code",
   "execution_count": 10,
   "id": "8016d210-f413-4f44-a2c3-3a1debd99824",
   "metadata": {},
   "outputs": [
    {
     "data": {
      "text/html": [
       "<div>\n",
       "<style scoped>\n",
       "    .dataframe tbody tr th:only-of-type {\n",
       "        vertical-align: middle;\n",
       "    }\n",
       "\n",
       "    .dataframe tbody tr th {\n",
       "        vertical-align: top;\n",
       "    }\n",
       "\n",
       "    .dataframe thead th {\n",
       "        text-align: right;\n",
       "    }\n",
       "</style>\n",
       "<table border=\"1\" class=\"dataframe\">\n",
       "  <thead>\n",
       "    <tr style=\"text-align: right;\">\n",
       "      <th></th>\n",
       "      <th>ID</th>\n",
       "      <th>PRG</th>\n",
       "      <th>PL</th>\n",
       "      <th>PR</th>\n",
       "      <th>SK</th>\n",
       "      <th>TS</th>\n",
       "      <th>M11</th>\n",
       "      <th>BD2</th>\n",
       "      <th>Age</th>\n",
       "      <th>Insurance</th>\n",
       "      <th>Sepssis</th>\n",
       "    </tr>\n",
       "  </thead>\n",
       "  <tbody>\n",
       "    <tr>\n",
       "      <th>0</th>\n",
       "      <td>ICU200010</td>\n",
       "      <td>6</td>\n",
       "      <td>148</td>\n",
       "      <td>72</td>\n",
       "      <td>35</td>\n",
       "      <td>0</td>\n",
       "      <td>33.6</td>\n",
       "      <td>0.627</td>\n",
       "      <td>50</td>\n",
       "      <td>0</td>\n",
       "      <td>Positive</td>\n",
       "    </tr>\n",
       "    <tr>\n",
       "      <th>1</th>\n",
       "      <td>ICU200011</td>\n",
       "      <td>1</td>\n",
       "      <td>85</td>\n",
       "      <td>66</td>\n",
       "      <td>29</td>\n",
       "      <td>0</td>\n",
       "      <td>26.6</td>\n",
       "      <td>0.351</td>\n",
       "      <td>31</td>\n",
       "      <td>0</td>\n",
       "      <td>Negative</td>\n",
       "    </tr>\n",
       "    <tr>\n",
       "      <th>2</th>\n",
       "      <td>ICU200012</td>\n",
       "      <td>8</td>\n",
       "      <td>183</td>\n",
       "      <td>64</td>\n",
       "      <td>0</td>\n",
       "      <td>0</td>\n",
       "      <td>23.3</td>\n",
       "      <td>0.672</td>\n",
       "      <td>32</td>\n",
       "      <td>1</td>\n",
       "      <td>Positive</td>\n",
       "    </tr>\n",
       "    <tr>\n",
       "      <th>3</th>\n",
       "      <td>ICU200013</td>\n",
       "      <td>1</td>\n",
       "      <td>89</td>\n",
       "      <td>66</td>\n",
       "      <td>23</td>\n",
       "      <td>94</td>\n",
       "      <td>28.1</td>\n",
       "      <td>0.167</td>\n",
       "      <td>21</td>\n",
       "      <td>1</td>\n",
       "      <td>Negative</td>\n",
       "    </tr>\n",
       "    <tr>\n",
       "      <th>4</th>\n",
       "      <td>ICU200014</td>\n",
       "      <td>0</td>\n",
       "      <td>137</td>\n",
       "      <td>40</td>\n",
       "      <td>35</td>\n",
       "      <td>168</td>\n",
       "      <td>43.1</td>\n",
       "      <td>2.288</td>\n",
       "      <td>33</td>\n",
       "      <td>1</td>\n",
       "      <td>Positive</td>\n",
       "    </tr>\n",
       "    <tr>\n",
       "      <th>5</th>\n",
       "      <td>ICU200015</td>\n",
       "      <td>5</td>\n",
       "      <td>116</td>\n",
       "      <td>74</td>\n",
       "      <td>0</td>\n",
       "      <td>0</td>\n",
       "      <td>25.6</td>\n",
       "      <td>0.201</td>\n",
       "      <td>30</td>\n",
       "      <td>1</td>\n",
       "      <td>Negative</td>\n",
       "    </tr>\n",
       "    <tr>\n",
       "      <th>6</th>\n",
       "      <td>ICU200016</td>\n",
       "      <td>3</td>\n",
       "      <td>78</td>\n",
       "      <td>50</td>\n",
       "      <td>32</td>\n",
       "      <td>88</td>\n",
       "      <td>31.0</td>\n",
       "      <td>0.248</td>\n",
       "      <td>26</td>\n",
       "      <td>0</td>\n",
       "      <td>Positive</td>\n",
       "    </tr>\n",
       "    <tr>\n",
       "      <th>7</th>\n",
       "      <td>ICU200017</td>\n",
       "      <td>10</td>\n",
       "      <td>115</td>\n",
       "      <td>0</td>\n",
       "      <td>0</td>\n",
       "      <td>0</td>\n",
       "      <td>35.3</td>\n",
       "      <td>0.134</td>\n",
       "      <td>29</td>\n",
       "      <td>1</td>\n",
       "      <td>Negative</td>\n",
       "    </tr>\n",
       "    <tr>\n",
       "      <th>8</th>\n",
       "      <td>ICU200018</td>\n",
       "      <td>2</td>\n",
       "      <td>197</td>\n",
       "      <td>70</td>\n",
       "      <td>45</td>\n",
       "      <td>543</td>\n",
       "      <td>30.5</td>\n",
       "      <td>0.158</td>\n",
       "      <td>53</td>\n",
       "      <td>1</td>\n",
       "      <td>Positive</td>\n",
       "    </tr>\n",
       "    <tr>\n",
       "      <th>9</th>\n",
       "      <td>ICU200019</td>\n",
       "      <td>8</td>\n",
       "      <td>125</td>\n",
       "      <td>96</td>\n",
       "      <td>0</td>\n",
       "      <td>0</td>\n",
       "      <td>0.0</td>\n",
       "      <td>0.232</td>\n",
       "      <td>54</td>\n",
       "      <td>1</td>\n",
       "      <td>Positive</td>\n",
       "    </tr>\n",
       "  </tbody>\n",
       "</table>\n",
       "</div>"
      ],
      "text/plain": [
       "          ID  PRG   PL  PR  SK   TS   M11    BD2  Age  Insurance   Sepssis\n",
       "0  ICU200010    6  148  72  35    0  33.6  0.627   50          0  Positive\n",
       "1  ICU200011    1   85  66  29    0  26.6  0.351   31          0  Negative\n",
       "2  ICU200012    8  183  64   0    0  23.3  0.672   32          1  Positive\n",
       "3  ICU200013    1   89  66  23   94  28.1  0.167   21          1  Negative\n",
       "4  ICU200014    0  137  40  35  168  43.1  2.288   33          1  Positive\n",
       "5  ICU200015    5  116  74   0    0  25.6  0.201   30          1  Negative\n",
       "6  ICU200016    3   78  50  32   88  31.0  0.248   26          0  Positive\n",
       "7  ICU200017   10  115   0   0    0  35.3  0.134   29          1  Negative\n",
       "8  ICU200018    2  197  70  45  543  30.5  0.158   53          1  Positive\n",
       "9  ICU200019    8  125  96   0    0   0.0  0.232   54          1  Positive"
      ]
     },
     "execution_count": 10,
     "metadata": {},
     "output_type": "execute_result"
    }
   ],
   "source": [
    "# Loading data and check if it's loaded properly\n",
    "df = pd.read_csv(\"Paitients_Files_Train.csv\", delimiter=\",\")\n",
    "df.head(10) "
   ]
  },
  {
   "cell_type": "code",
   "execution_count": 11,
   "id": "ebf0ea31-0e04-430c-9539-f096ec8a56d9",
   "metadata": {},
   "outputs": [],
   "source": [
    "# drop 2 irrelevant columns: ID and Insurance\n",
    "df.drop(columns=\"ID\", inplace=True)\n",
    "df.drop(columns=\"Insurance\", inplace=True)"
   ]
  },
  {
   "cell_type": "code",
   "execution_count": 12,
   "id": "718d095d-b3fb-4909-ace7-152c70659591",
   "metadata": {},
   "outputs": [],
   "source": [
    "# rename the column so that it's easier to evaluate them later\n",
    "df = df.rename(columns={\n",
    "    \"PRG\": \"BGlucose\",\n",
    "    \"PR\": \"BPressure\",\n",
    "    \"PL\": \"B1\",\n",
    "    \"SK\": \"B2\",\n",
    "    \"TS\": \"B3\",\n",
    "    \"BD2\": \"B4\",\n",
    "    \"M11\": \"BMI\"\n",
    "})"
   ]
  },
  {
   "cell_type": "markdown",
   "id": "df146150-36d1-4cf4-8ce8-eff6e0473d5e",
   "metadata": {
    "tags": []
   },
   "source": [
    "## 1.1 Check data types, null values\n",
    "- According to the below table, 10 features don't have any missing values, 599 out 599 is non-null. However, in the first 15 records, we see that there are some value = 0 ?, so we need look it up to see if 0 is valid value for those columns."
   ]
  },
  {
   "cell_type": "code",
   "execution_count": 13,
   "id": "6eac7212-bbd1-4e0e-b373-407c814fe77c",
   "metadata": {},
   "outputs": [
    {
     "name": "stdout",
     "output_type": "stream",
     "text": [
      "<class 'pandas.core.frame.DataFrame'>\n",
      "RangeIndex: 599 entries, 0 to 598\n",
      "Data columns (total 9 columns):\n",
      " #   Column     Non-Null Count  Dtype  \n",
      "---  ------     --------------  -----  \n",
      " 0   BGlucose   599 non-null    int64  \n",
      " 1   B1         599 non-null    int64  \n",
      " 2   BPressure  599 non-null    int64  \n",
      " 3   B2         599 non-null    int64  \n",
      " 4   B3         599 non-null    int64  \n",
      " 5   BMI        599 non-null    float64\n",
      " 6   B4         599 non-null    float64\n",
      " 7   Age        599 non-null    int64  \n",
      " 8   Sepssis    599 non-null    object \n",
      "dtypes: float64(2), int64(6), object(1)\n",
      "memory usage: 42.2+ KB\n"
     ]
    }
   ],
   "source": [
    "# Inspect data types of the dataset\n",
    "df.info()"
   ]
  },
  {
   "cell_type": "code",
   "execution_count": 14,
   "id": "f713e5d8",
   "metadata": {},
   "outputs": [
    {
     "data": {
      "text/plain": [
       "BGlucose     0\n",
       "B1           0\n",
       "BPressure    0\n",
       "B2           0\n",
       "B3           0\n",
       "BMI          0\n",
       "B4           0\n",
       "Age          0\n",
       "Sepssis      0\n",
       "dtype: int64"
      ]
     },
     "execution_count": 14,
     "metadata": {},
     "output_type": "execute_result"
    }
   ],
   "source": [
    "pd.isna(df).sum()"
   ]
  },
  {
   "cell_type": "code",
   "execution_count": 15,
   "id": "2aaf7bc5-1b12-43cf-9ebd-44750cd18536",
   "metadata": {},
   "outputs": [
    {
     "data": {
      "text/html": [
       "<div>\n",
       "<style scoped>\n",
       "    .dataframe tbody tr th:only-of-type {\n",
       "        vertical-align: middle;\n",
       "    }\n",
       "\n",
       "    .dataframe tbody tr th {\n",
       "        vertical-align: top;\n",
       "    }\n",
       "\n",
       "    .dataframe thead th {\n",
       "        text-align: right;\n",
       "    }\n",
       "</style>\n",
       "<table border=\"1\" class=\"dataframe\">\n",
       "  <thead>\n",
       "    <tr style=\"text-align: right;\">\n",
       "      <th></th>\n",
       "      <th>BGlucose</th>\n",
       "      <th>B1</th>\n",
       "      <th>BPressure</th>\n",
       "      <th>B2</th>\n",
       "      <th>B3</th>\n",
       "      <th>BMI</th>\n",
       "      <th>B4</th>\n",
       "      <th>Age</th>\n",
       "    </tr>\n",
       "  </thead>\n",
       "  <tbody>\n",
       "    <tr>\n",
       "      <th>count</th>\n",
       "      <td>599.000000</td>\n",
       "      <td>599.000000</td>\n",
       "      <td>599.000000</td>\n",
       "      <td>599.000000</td>\n",
       "      <td>599.000000</td>\n",
       "      <td>599.000000</td>\n",
       "      <td>599.000000</td>\n",
       "      <td>599.000000</td>\n",
       "    </tr>\n",
       "    <tr>\n",
       "      <th>mean</th>\n",
       "      <td>3.824708</td>\n",
       "      <td>120.153589</td>\n",
       "      <td>68.732888</td>\n",
       "      <td>20.562604</td>\n",
       "      <td>79.460768</td>\n",
       "      <td>31.920033</td>\n",
       "      <td>0.481187</td>\n",
       "      <td>33.290484</td>\n",
       "    </tr>\n",
       "    <tr>\n",
       "      <th>std</th>\n",
       "      <td>3.362839</td>\n",
       "      <td>32.682364</td>\n",
       "      <td>19.335675</td>\n",
       "      <td>16.017622</td>\n",
       "      <td>116.576176</td>\n",
       "      <td>8.008227</td>\n",
       "      <td>0.337552</td>\n",
       "      <td>11.828446</td>\n",
       "    </tr>\n",
       "    <tr>\n",
       "      <th>min</th>\n",
       "      <td>0.000000</td>\n",
       "      <td>0.000000</td>\n",
       "      <td>0.000000</td>\n",
       "      <td>0.000000</td>\n",
       "      <td>0.000000</td>\n",
       "      <td>0.000000</td>\n",
       "      <td>0.078000</td>\n",
       "      <td>21.000000</td>\n",
       "    </tr>\n",
       "    <tr>\n",
       "      <th>25%</th>\n",
       "      <td>1.000000</td>\n",
       "      <td>99.000000</td>\n",
       "      <td>64.000000</td>\n",
       "      <td>0.000000</td>\n",
       "      <td>0.000000</td>\n",
       "      <td>27.100000</td>\n",
       "      <td>0.248000</td>\n",
       "      <td>24.000000</td>\n",
       "    </tr>\n",
       "    <tr>\n",
       "      <th>50%</th>\n",
       "      <td>3.000000</td>\n",
       "      <td>116.000000</td>\n",
       "      <td>70.000000</td>\n",
       "      <td>23.000000</td>\n",
       "      <td>36.000000</td>\n",
       "      <td>32.000000</td>\n",
       "      <td>0.383000</td>\n",
       "      <td>29.000000</td>\n",
       "    </tr>\n",
       "    <tr>\n",
       "      <th>75%</th>\n",
       "      <td>6.000000</td>\n",
       "      <td>140.000000</td>\n",
       "      <td>80.000000</td>\n",
       "      <td>32.000000</td>\n",
       "      <td>123.500000</td>\n",
       "      <td>36.550000</td>\n",
       "      <td>0.647000</td>\n",
       "      <td>40.000000</td>\n",
       "    </tr>\n",
       "    <tr>\n",
       "      <th>max</th>\n",
       "      <td>17.000000</td>\n",
       "      <td>198.000000</td>\n",
       "      <td>122.000000</td>\n",
       "      <td>99.000000</td>\n",
       "      <td>846.000000</td>\n",
       "      <td>67.100000</td>\n",
       "      <td>2.420000</td>\n",
       "      <td>81.000000</td>\n",
       "    </tr>\n",
       "  </tbody>\n",
       "</table>\n",
       "</div>"
      ],
      "text/plain": [
       "         BGlucose          B1   BPressure          B2          B3         BMI  \\\n",
       "count  599.000000  599.000000  599.000000  599.000000  599.000000  599.000000   \n",
       "mean     3.824708  120.153589   68.732888   20.562604   79.460768   31.920033   \n",
       "std      3.362839   32.682364   19.335675   16.017622  116.576176    8.008227   \n",
       "min      0.000000    0.000000    0.000000    0.000000    0.000000    0.000000   \n",
       "25%      1.000000   99.000000   64.000000    0.000000    0.000000   27.100000   \n",
       "50%      3.000000  116.000000   70.000000   23.000000   36.000000   32.000000   \n",
       "75%      6.000000  140.000000   80.000000   32.000000  123.500000   36.550000   \n",
       "max     17.000000  198.000000  122.000000   99.000000  846.000000   67.100000   \n",
       "\n",
       "               B4         Age  \n",
       "count  599.000000  599.000000  \n",
       "mean     0.481187   33.290484  \n",
       "std      0.337552   11.828446  \n",
       "min      0.078000   21.000000  \n",
       "25%      0.248000   24.000000  \n",
       "50%      0.383000   29.000000  \n",
       "75%      0.647000   40.000000  \n",
       "max      2.420000   81.000000  "
      ]
     },
     "execution_count": 15,
     "metadata": {},
     "output_type": "execute_result"
    }
   ],
   "source": [
    "df.describe()"
   ]
  },
  {
   "cell_type": "markdown",
   "id": "304fa796-11ee-45d0-ae8f-ea42413e441f",
   "metadata": {},
   "source": [
    "### Data Analysis\n",
    "- There is lots of missing values that need to be replaced.\n",
    "\n",
    "- **Mass Index**:Mostly overweight.\n",
    "- **Age**: very young age group. Usually sepsis is detected in patient over 50 years"
   ]
  },
  {
   "cell_type": "code",
   "execution_count": 16,
   "id": "4e380a69-1587-4d66-baa2-3438c607cda7",
   "metadata": {},
   "outputs": [
    {
     "data": {
      "image/png": "[encoded data removed]",
      "text/plain": [
       "<Figure size 1440x1440 with 9 Axes>"
      ]
     },
     "metadata": {
      "needs_background": "light"
     },
     "output_type": "display_data"
    }
   ],
   "source": [
    "# More visualization to analysis dataset\n",
    "plt.figure(figsize= (20,20))\n",
    "n = len(df.columns)\n",
    "\n",
    "for i, col in enumerate(df.columns):\n",
    "    plt.subplot(4,5,i+1)\n",
    "    plt.hist(df[col], alpha=0.3, color=\"r\")\n",
    "    plt.title(col)"
   ]
  },
  {
   "cell_type": "code",
   "execution_count": 17,
   "id": "b80ee345-eff2-474f-b248-077f50ec48c5",
   "metadata": {},
   "outputs": [
    {
     "name": "stdout",
     "output_type": "stream",
     "text": [
      "[1 0 1 0 1]\n"
     ]
    }
   ],
   "source": [
    "# Encode target value\n",
    "\n",
    "from sklearn.preprocessing import LabelEncoder\n",
    "\n",
    "Y = df.values[:, -1].astype(str)\n",
    "label_encoder = LabelEncoder()\n",
    "Y = label_encoder.fit_transform(Y)\n",
    "\n",
    "print(Y[:5])"
   ]
  },
  {
   "cell_type": "code",
   "execution_count": 18,
   "id": "4ed17aa3-75f7-4047-a36e-5623cc7d8466",
   "metadata": {},
   "outputs": [],
   "source": [
    "# drop target column\n",
    "target = df.drop(columns=\"Sepssis\", inplace=True)\n",
    "\n"
   ]
  },
  {
   "cell_type": "code",
   "execution_count": 19,
   "id": "96d9dbf5-43cf-4465-9a42-92e84f7085f3",
   "metadata": {},
   "outputs": [
    {
     "data": {
      "image/png": "[encoded data removed]",
      "text/plain": [
       "<Figure size 720x720 with 8 Axes>"
      ]
     },
     "metadata": {
      "needs_background": "light"
     },
     "output_type": "display_data"
    }
   ],
   "source": [
    "\n",
    "# Boxplot for a range of value\n",
    "import math\n",
    "fig, ax = plt.subplots(2,4,figsize=(10,10))\n",
    "\n",
    "n = len(df.columns)\n",
    "for i, col in enumerate(df.columns):\n",
    "    if math.floor(i / 4) >= len(ax):\n",
    "        continue\n",
    "    ax_col = ax[math.floor(i / 4), i % 4]\n",
    "    ax_col.boxplot(df[col])\n",
    "    ax_col.set_title(col)\n"
   ]
  },
  {
   "cell_type": "markdown",
   "id": "78058c53-1e3c-46bf-9b81-b74ee7b76869",
   "metadata": {},
   "source": [
    "Why there are so many outliers...? How should we handle them, because they also appear in test file..."
   ]
  },
  {
   "cell_type": "code",
   "execution_count": 20,
   "id": "860d0623-d109-4e13-9ede-d673ee9e1d76",
   "metadata": {},
   "outputs": [
    {
     "data": {
      "image/png": "[encoded data removed]",
      "text/plain": [
       "<Figure size 800x800 with 2 Axes>"
      ]
     },
     "metadata": {
      "needs_background": "light"
     },
     "output_type": "display_data"
    }
   ],
   "source": [
    "# heatmap\n",
    "correlations = df.corr()\n",
    "fig = plt.figure(figsize=(10, 10), dpi=80)\n",
    "ax = fig.add_subplot(111)\n",
    "cax = ax.matshow(correlations, vmin=-1, vmax=1, cmap=plt.cm.PuBu)\n",
    "fig.colorbar(cax)\n",
    "ticks = np.arange(0,n,1)\n",
    "ax.set_xticks(ticks)\n",
    "ax.set_yticks(ticks)\n",
    "ax.set_xticklabels(df.columns)\n",
    "ax.set_yticklabels(df.columns)\n",
    "plt.show()"
   ]
  },
  {
   "cell_type": "markdown",
   "id": "c40517d8-88cd-46a8-aaf0-88d93f34e598",
   "metadata": {},
   "source": [
    "Comment: No depedence detected"
   ]
  },
  {
   "cell_type": "markdown",
   "id": "ae213461-c10a-4178-992f-69c913258560",
   "metadata": {},
   "source": [
    "# 2. Model Development"
   ]
  },
  {
   "cell_type": "markdown",
   "id": "50aafc82-6dba-41a8-905c-27fa9570555d",
   "metadata": {},
   "source": [
    "## 2.1 Logistic Regression"
   ]
  },
  {
   "cell_type": "code",
   "execution_count": 21,
   "id": "2cb888e4-05aa-43c6-a131-489f231671f0",
   "metadata": {},
   "outputs": [
    {
     "name": "stdout",
     "output_type": "stream",
     "text": [
      "Training Accuracy: 82.305 \n"
     ]
    }
   ],
   "source": [
    "from sklearn.model_selection import train_test_split\n",
    "from sklearn.linear_model import LogisticRegressionCV\n",
    "from sklearn.preprocessing import StandardScaler\n",
    "# instantiate the model (using the default parameters)\n",
    "raw_scaler = StandardScaler()\n",
    "raw_scaler.fit(df)\n",
    "X_scaled = raw_scaler.transform(df)\n",
    "X_train, X_test, y_train, y_test = train_test_split(X_scaled, Y, random_state=6)\n",
    "\n",
    "lr_model = LogisticRegressionCV(cv=10, solver=\"sag\",Cs= 4, n_jobs=-1, scoring=\"roc_auc\")\n",
    "\n",
    "lr_model.fit(X_train, y_train)\n",
    "accuracy_train = lr_model.score(X_train, y_train)\n",
    "print(\"Training Accuracy: %0.3f \" % (accuracy_train * 100))\n",
    "\n",
    "lr_pred = lr_model.predict(X_test)"
   ]
  },
  {
   "cell_type": "code",
   "execution_count": 22,
   "id": "95ee0628-64cf-464c-90c4-7977095c7c5b",
   "metadata": {},
   "outputs": [],
   "source": [
    "from sklearn.metrics import confusion_matrix\n",
    "cnf_matrix = confusion_matrix(y_test, lr_pred)"
   ]
  },
  {
   "cell_type": "code",
   "execution_count": 23,
   "id": "00fb86e1-8648-4270-8d7d-a61b52b00fe7",
   "metadata": {},
   "outputs": [
    {
     "data": {
      "text/plain": [
       "Text(0.5, 257.44, 'Predicted label')"
      ]
     },
     "execution_count": 23,
     "metadata": {},
     "output_type": "execute_result"
    },
    {
     "data": {
      "image/png": "[encoded data removed]",
      "text/plain": [
       "<Figure size 432x288 with 2 Axes>"
      ]
     },
     "metadata": {
      "needs_background": "light"
     },
     "output_type": "display_data"
    }
   ],
   "source": [
    "class_names=[\"Positive\",\"Negative\"] # name  of classes\n",
    "fig, ax = plt.subplots()\n",
    "tick_marks = np.arange(len(class_names))\n",
    "plt.xticks(tick_marks, class_names)\n",
    "plt.yticks(tick_marks, class_names)\n",
    "# create heatmap\n",
    "sns.heatmap(pd.DataFrame(cnf_matrix), annot=True, cmap=\"YlGnBu\" ,fmt='g')\n",
    "ax.xaxis.set_label_position(\"top\")\n",
    "plt.tight_layout()\n",
    "plt.title('Confusion matrix', y=1.1)\n",
    "plt.ylabel('Actual label')\n",
    "plt.xlabel('Predicted label')"
   ]
  },
  {
   "cell_type": "code",
   "execution_count": 24,
   "id": "70ac3fe1-3e5c-417e-a636-a016bc40d2d5",
   "metadata": {},
   "outputs": [
    {
     "name": "stdout",
     "output_type": "stream",
     "text": [
      "              precision    recall  f1-score   support\n",
      "\n",
      "           0       0.81      0.84      0.82        99\n",
      "           1       0.66      0.61      0.63        51\n",
      "\n",
      "    accuracy                           0.76       150\n",
      "   macro avg       0.73      0.72      0.73       150\n",
      "weighted avg       0.76      0.76      0.76       150\n",
      "\n"
     ]
    }
   ],
   "source": [
    "# Evaluation framework\n",
    "from sklearn import metrics\n",
    "# print(\"Accuracy:\",metrics.accuracy_score(y_test, lr_pred))\n",
    "# print(\"Precision:\",metrics.precision_score(y_test, lr_pred))\n",
    "# print(\"Recall:\",metrics.recall_score(y_test, lr_pred))\n",
    "print(metrics.classification_report(y_test, lr_pred))"
   ]
  },
  {
   "cell_type": "markdown",
   "id": "6ca31629-b2c9-4d43-978b-57ac2852e099",
   "metadata": {},
   "source": [
    "**Comments**: \n",
    "- The accuracy of the model on validation data set is 76%. \n",
    "- The model is better in predict negative sepsis than the positive one. Is that a good thing?"
   ]
  },
  {
   "cell_type": "code",
   "execution_count": 25,
   "id": "1982a520-60d6-4e14-821b-f64bd9d3dcf4",
   "metadata": {},
   "outputs": [
    {
     "data": {
      "text/plain": [
       "<matplotlib.legend.Legend at 0x7ff123276f70>"
      ]
     },
     "execution_count": 25,
     "metadata": {},
     "output_type": "execute_result"
    },
    {
     "data": {
      "image/png": "[encoded data removed]",
      "text/plain": [
       "<Figure size 432x288 with 1 Axes>"
      ]
     },
     "metadata": {
      "needs_background": "light"
     },
     "output_type": "display_data"
    }
   ],
   "source": [
    "# plot auc, roc\n",
    "from sklearn.metrics import roc_auc_score, roc_curve\n",
    "model_probs = lr_model.predict_proba(X_test)\n",
    "y_score = model_probs[:, 1]\n",
    "fpr, tpr, _ = roc_curve(y_test, y_score)\n",
    "auc = roc_auc_score(y_test, y_score)\n",
    "\n",
    "plt.plot(fpr, tpr, marker='.', label= 'ROC curve (area = %0.2f)' % auc)\n",
    "plt.xlabel('False Positive Rate')\n",
    "plt.ylabel('True Positive Rate')\n",
    "plt.legend(loc='lower right')"
   ]
  },
  {
   "cell_type": "markdown",
   "id": "b23276bb-addc-4737-801c-86861dab8b2c",
   "metadata": {},
   "source": [
    "## 2.2 Ridge Regression\n"
   ]
  },
  {
   "cell_type": "code",
   "execution_count": 26,
   "id": "3e48e660-de76-4ecc-9eb6-61f3e24b66e8",
   "metadata": {},
   "outputs": [
    {
     "name": "stdout",
     "output_type": "stream",
     "text": [
      "Training Accuracy:  0.7839643652561247\n"
     ]
    }
   ],
   "source": [
    "from sklearn.linear_model import RidgeClassifier\n",
    "ridge_model = RidgeClassifier().fit(X_train, y_train)\n",
    "print(\"Training Accuracy: \", ridge_model.score(X_train, y_train))"
   ]
  },
  {
   "cell_type": "code",
   "execution_count": 27,
   "id": "16e2d725-8c64-4413-a5c3-2114d7caef19",
   "metadata": {},
   "outputs": [
    {
     "name": "stdout",
     "output_type": "stream",
     "text": [
      "Accuracy: 0.76\n",
      "Precision: 0.6666666666666666\n",
      "Recall: 0.5882352941176471\n",
      "              precision    recall  f1-score   support\n",
      "\n",
      "           0       0.80      0.85      0.82        99\n",
      "           1       0.67      0.59      0.62        51\n",
      "\n",
      "    accuracy                           0.76       150\n",
      "   macro avg       0.73      0.72      0.72       150\n",
      "weighted avg       0.75      0.76      0.76       150\n",
      "\n"
     ]
    }
   ],
   "source": [
    "ridge_pred = ridge_model.predict(X_test)\n",
    "print(\"Accuracy:\",metrics.accuracy_score(y_test, ridge_pred))\n",
    "print(\"Precision:\",metrics.precision_score(y_test, ridge_pred))\n",
    "print(\"Recall:\",metrics.recall_score(y_test, ridge_pred))\n",
    "print(metrics.classification_report(y_test, ridge_pred))"
   ]
  },
  {
   "cell_type": "markdown",
   "id": "29dd06ad-bac3-4916-a125-3e3ee6ec5f1b",
   "metadata": {},
   "source": [
    "## 2.3 Decision Tree Classifier"
   ]
  },
  {
   "cell_type": "code",
   "execution_count": 28,
   "id": "b70c6ba5-e665-4cc3-8124-537438dd3adf",
   "metadata": {},
   "outputs": [
    {
     "name": "stdout",
     "output_type": "stream",
     "text": [
      "Accuracy: 0.667\n"
     ]
    }
   ],
   "source": [
    "from sklearn.tree import DecisionTreeClassifier\n",
    "from sklearn import tree\n",
    "\n",
    "dtf = DecisionTreeClassifier(criterion=\"gini\",max_features=\"auto\", max_depth=3, random_state=3, class_weight=\"balanced\")\n",
    "# fit model\n",
    "\n",
    "dtf.fit(X_train, y_train)\n",
    "\n",
    "# make predictions\n",
    "\n",
    "yhat = dtf.predict(X_test)\n",
    "\n",
    "# calculate accuracy\n",
    "\n",
    "accuracy = metrics.accuracy_score(y_test, yhat)\n",
    "\n",
    "print('Accuracy: %.3f' % dtf.score(X_test, y_test))"
   ]
  },
  {
   "cell_type": "code",
   "execution_count": 29,
   "id": "17a96c7f-bbce-4f16-9be2-88959c6dc774",
   "metadata": {},
   "outputs": [
    {
     "data": {
      "text/plain": [
       "[Text(167.4, 190.26, 'X[4] <= 0.421\\ngini = 0.5\\nsamples = 449\\nvalue = [224.5, 224.5]'),\n",
       " Text(83.7, 135.9, 'X[7] <= -0.744\\ngini = 0.489\\nsamples = 340\\nvalue = [186.827, 138.704]'),\n",
       " Text(41.85, 81.53999999999999, 'X[3] <= 0.871\\ngini = 0.361\\nsamples = 98\\nvalue = [64.582, 20.019]'),\n",
       " Text(20.925, 27.180000000000007, 'gini = 0.269\\nsamples = 86\\nvalue = [59.969, 11.439]'),\n",
       " Text(62.775000000000006, 27.180000000000007, 'gini = 0.455\\nsamples = 12\\nvalue = [4.613, 8.58]'),\n",
       " Text(125.55000000000001, 81.53999999999999, 'X[0] <= 2.88\\ngini = 0.5\\nsamples = 242\\nvalue = [122.245, 118.685]'),\n",
       " Text(104.625, 27.180000000000007, 'gini = 0.499\\nsamples = 239\\nvalue = [122.245, 114.395]'),\n",
       " Text(146.475, 27.180000000000007, 'gini = 0.0\\nsamples = 3\\nvalue = [0.0, 4.29]'),\n",
       " Text(251.10000000000002, 135.9, 'X[6] <= -0.872\\ngini = 0.424\\nsamples = 109\\nvalue = [37.673, 85.796]'),\n",
       " Text(209.25, 81.53999999999999, 'X[3] <= 0.652\\ngini = 0.433\\nsamples = 10\\nvalue = [6.151, 2.86]'),\n",
       " Text(188.32500000000002, 27.180000000000007, 'gini = 0.0\\nsamples = 4\\nvalue = [3.075, 0.0]'),\n",
       " Text(230.175, 27.180000000000007, 'gini = 0.499\\nsamples = 6\\nvalue = [3.075, 2.86]'),\n",
       " Text(292.95, 81.53999999999999, 'X[7] <= -0.828\\ngini = 0.399\\nsamples = 99\\nvalue = [31.522, 82.936]'),\n",
       " Text(272.02500000000003, 27.180000000000007, 'gini = 0.395\\nsamples = 18\\nvalue = [11.533, 4.29]'),\n",
       " Text(313.875, 27.180000000000007, 'gini = 0.323\\nsamples = 81\\nvalue = [19.99, 78.646]')]"
      ]
     },
     "execution_count": 29,
     "metadata": {},
     "output_type": "execute_result"
    },
    {
     "data": {
      "image/png": "[encoded data removed]",
      "text/plain": [
       "<Figure size 432x288 with 1 Axes>"
      ]
     },
     "metadata": {
      "needs_background": "light"
     },
     "output_type": "display_data"
    }
   ],
   "source": [
    "# plot tree\n",
    "tree.plot_tree(dtf)"
   ]
  },
  {
   "cell_type": "code",
   "execution_count": 38,
   "id": "b7a85133-a75c-40e2-89b8-c4f98da6c8d8",
   "metadata": {},
   "outputs": [
    {
     "name": "stdout",
     "output_type": "stream",
     "text": [
      "|--- B3 <= 0.42\n",
      "|   |--- Age <= -0.74\n",
      "|   |   |--- B2 <= 0.87\n",
      "|   |   |   |--- class: 0\n",
      "|   |   |--- B2 >  0.87\n",
      "|   |   |   |--- class: 1\n",
      "|   |--- Age >  -0.74\n",
      "|   |   |--- BGlucose <= 2.88\n",
      "|   |   |   |--- class: 0\n",
      "|   |   |--- BGlucose >  2.88\n",
      "|   |   |   |--- class: 1\n",
      "|--- B3 >  0.42\n",
      "|   |--- B4 <= -0.87\n",
      "|   |   |--- B2 <= 0.65\n",
      "|   |   |   |--- class: 0\n",
      "|   |   |--- B2 >  0.65\n",
      "|   |   |   |--- class: 0\n",
      "|   |--- B4 >  -0.87\n",
      "|   |   |--- Age <= -0.83\n",
      "|   |   |   |--- class: 0\n",
      "|   |   |--- Age >  -0.83\n",
      "|   |   |   |--- class: 1\n",
      "\n"
     ]
    }
   ],
   "source": [
    "text_ = tree.export_text(dtf,feature_names=['BGlucose', 'B1', 'BPressure', 'B2', 'B3', 'BMI', 'B4', 'Age'])\n",
    "print(text_)"
   ]
  },
  {
   "cell_type": "markdown",
   "id": "1cc3a6e6-f40a-4466-a4df-2573540160cd",
   "metadata": {},
   "source": [
    "## 2.4 Random Forrest and Gaussian\n",
    "- source: https://github.com/dataprofessor/code/blob/master/python/ROC_curve.ipynb"
   ]
  },
  {
   "cell_type": "code",
   "execution_count": null,
   "id": "9796951f-d775-4927-9274-85603be9b935",
   "metadata": {},
   "outputs": [],
   "source": [
    "from sklearn.ensemble import RandomForestClassifier\n",
    "from sklearn.naive_bayes import GaussianNB"
   ]
  },
  {
   "cell_type": "code",
   "execution_count": null,
   "id": "ca98895f-df76-4fdf-872f-90056e02b174",
   "metadata": {},
   "outputs": [
    {
     "data": {
      "text/plain": [
       "RandomForestClassifier(max_depth=5, max_features=8, n_estimators=500)"
      ]
     },
     "execution_count": 21,
     "metadata": {},
     "output_type": "execute_result"
    }
   ],
   "source": [
    "# random forrest\n",
    "rf = RandomForestClassifier(max_depth=5,max_features=8, n_estimators=500)\n",
    "rf.fit(X_train, y_train)"
   ]
  },
  {
   "cell_type": "code",
   "execution_count": null,
   "id": "61a43628-229f-4e31-8920-881f68002e65",
   "metadata": {},
   "outputs": [
    {
     "data": {
      "text/plain": [
       "GaussianNB()"
      ]
     },
     "execution_count": 22,
     "metadata": {},
     "output_type": "execute_result"
    }
   ],
   "source": [
    "# Gaussian Naive Bayes\n",
    "nb = GaussianNB()\n",
    "nb.fit(X_train, y_train)"
   ]
  },
  {
   "cell_type": "markdown",
   "id": "781749f6-e18e-4ae2-b4dd-74649d613be6",
   "metadata": {},
   "source": [
    "### Use AUC to compare models"
   ]
  },
  {
   "cell_type": "code",
   "execution_count": null,
   "id": "9434e017-2ad9-4887-9ce1-cf81009bdcee",
   "metadata": {},
   "outputs": [],
   "source": [
    "from sklearn.metrics import roc_curve, roc_auc_score"
   ]
  },
  {
   "cell_type": "code",
   "execution_count": null,
   "id": "c7c02aac-d043-4e7b-ac6a-03d44b748292",
   "metadata": {},
   "outputs": [],
   "source": [
    "r_probs = [0 for _ in range(len(y_test))]\n",
    "rf_probs = rf.predict_proba(X_test)\n",
    "nb_probs = nb.predict_proba(X_test)\n",
    "\n",
    "rf_probs = rf_probs[:, 1]\n",
    "nb_probs = nb_probs[:, 1]"
   ]
  },
  {
   "cell_type": "code",
   "execution_count": null,
   "id": "6f3536f6-772b-43a4-9421-6db4a839cd7c",
   "metadata": {},
   "outputs": [
    {
     "name": "stdout",
     "output_type": "stream",
     "text": [
      "Random (chance) Prediction: AUROC = 0.500\n",
      "Random Forest: AUROC = 0.852\n",
      "Naive Bayes: AUROC = 0.838\n"
     ]
    }
   ],
   "source": [
    "r_auc = roc_auc_score(y_test, r_probs)\n",
    "rf_auc = roc_auc_score(y_test, rf_probs)\n",
    "nb_auc = roc_auc_score(y_test, nb_probs)\n",
    "\n",
    "print('Random (chance) Prediction: AUROC = %.3f' % (r_auc))\n",
    "print('Random Forest: AUROC = %.3f' % (rf_auc))\n",
    "print('Naive Bayes: AUROC = %.3f' % (nb_auc))"
   ]
  },
  {
   "cell_type": "code",
   "execution_count": null,
   "id": "ce389c10-9ee4-4a46-87b4-ea926432921e",
   "metadata": {},
   "outputs": [
    {
     "data": {
      "image/png": "[encoded data removed]",
      "text/plain": [
       "<Figure size 432x288 with 1 Axes>"
      ]
     },
     "metadata": {
      "needs_background": "light"
     },
     "output_type": "display_data"
    }
   ],
   "source": [
    "# Plot curves\n",
    "r_fpr, r_tpr, _ = roc_curve(y_test, r_probs)\n",
    "rf_fpr, rf_tpr, _ = roc_curve(y_test, rf_probs)\n",
    "nb_fpr, nb_tpr, _ = roc_curve(y_test, nb_probs)\n",
    "\n",
    "plt.plot(r_fpr, r_tpr, linestyle='--', label='Random prediction (AUROC = %0.3f)' % r_auc)\n",
    "plt.plot(rf_fpr, rf_tpr, marker='.', label='Random Forest (AUROC = %0.3f)' % rf_auc)\n",
    "plt.plot(nb_fpr, nb_tpr, marker='.', label='Naive Bayes (AUROC = %0.3f)' % nb_auc)\n",
    "\n",
    "# Title\n",
    "plt.title('ROC Plot')\n",
    "# Axis labels\n",
    "plt.xlabel('False Positive Rate')\n",
    "plt.ylabel('True Positive Rate')\n",
    "# Show legend\n",
    "plt.legend() # \n",
    "# Show plot\n",
    "plt.show()"
   ]
  },
  {
   "cell_type": "code",
   "execution_count": null,
   "id": "80bbb40e-8cf2-44a5-b380-d9fc7cc22dbb",
   "metadata": {},
   "outputs": [],
   "source": []
  }
 ],
 "metadata": {
  "kernelspec": {
   "display_name": "Python 3 (ipykernel)",
   "language": "python",
   "name": "python3"
  },
  "language_info": {
   "codemirror_mode": {
    "name": "ipython",
    "version": 3
   },
   "file_extension": ".py",
   "mimetype": "text/x-python",
   "name": "python",
   "nbconvert_exporter": "python",
   "pygments_lexer": "ipython3",
   "version": "3.9.7"
  }
 },
 "nbformat": 4,
 "nbformat_minor": 5
}
