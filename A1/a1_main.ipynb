{
 "cells": [
  {
   "cell_type": "code",
   "execution_count": 51,
   "metadata": {},
   "outputs": [],
   "source": [
    "import sklearn as sk\n",
    "import pandas as pd\n",
    "import matplotlib.pyplot as plt\n",
    "import numpy as np\n",
    "import seaborn as sns"
   ]
  },
  {
   "cell_type": "code",
   "execution_count": 52,
   "metadata": {},
   "outputs": [
    {
     "name": "stdout",
     "output_type": "stream",
     "text": [
      "Requirement already satisfied: imblearn in /Users/lap11353-local/opt/anaconda3/lib/python3.9/site-packages (0.0)\n",
      "Requirement already satisfied: imbalanced-learn in /Users/lap11353-local/opt/anaconda3/lib/python3.9/site-packages (from imblearn) (0.9.0)\n",
      "Requirement already satisfied: threadpoolctl>=2.0.0 in /Users/lap11353-local/opt/anaconda3/lib/python3.9/site-packages (from imbalanced-learn->imblearn) (2.2.0)\n",
      "Requirement already satisfied: joblib>=0.11 in /Users/lap11353-local/opt/anaconda3/lib/python3.9/site-packages (from imbalanced-learn->imblearn) (1.1.0)\n",
      "Requirement already satisfied: scikit-learn>=1.0.1 in /Users/lap11353-local/opt/anaconda3/lib/python3.9/site-packages (from imbalanced-learn->imblearn) (1.0.2)\n",
      "Requirement already satisfied: numpy>=1.14.6 in /Users/lap11353-local/opt/anaconda3/lib/python3.9/site-packages (from imbalanced-learn->imblearn) (1.20.3)\n",
      "Requirement already satisfied: scipy>=1.1.0 in /Users/lap11353-local/opt/anaconda3/lib/python3.9/site-packages (from imbalanced-learn->imblearn) (1.7.1)\n",
      "Note: you may need to restart the kernel to use updated packages.\n"
     ]
    }
   ],
   "source": [
    "%pip install imblearn"
   ]
  },
  {
   "cell_type": "code",
   "execution_count": 53,
   "metadata": {},
   "outputs": [
    {
     "data": {
      "text/html": [
       "<div>\n",
       "<style scoped>\n",
       "    .dataframe tbody tr th:only-of-type {\n",
       "        vertical-align: middle;\n",
       "    }\n",
       "\n",
       "    .dataframe tbody tr th {\n",
       "        vertical-align: top;\n",
       "    }\n",
       "\n",
       "    .dataframe thead th {\n",
       "        text-align: right;\n",
       "    }\n",
       "</style>\n",
       "<table border=\"1\" class=\"dataframe\">\n",
       "  <thead>\n",
       "    <tr style=\"text-align: right;\">\n",
       "      <th></th>\n",
       "      <th>ID</th>\n",
       "      <th>PRG</th>\n",
       "      <th>PL</th>\n",
       "      <th>PR</th>\n",
       "      <th>SK</th>\n",
       "      <th>TS</th>\n",
       "      <th>M11</th>\n",
       "      <th>BD2</th>\n",
       "      <th>Age</th>\n",
       "      <th>Insurance</th>\n",
       "      <th>Sepssis</th>\n",
       "    </tr>\n",
       "  </thead>\n",
       "  <tbody>\n",
       "    <tr>\n",
       "      <th>0</th>\n",
       "      <td>ICU200010</td>\n",
       "      <td>6</td>\n",
       "      <td>148</td>\n",
       "      <td>72</td>\n",
       "      <td>35</td>\n",
       "      <td>0</td>\n",
       "      <td>33.6</td>\n",
       "      <td>0.627</td>\n",
       "      <td>50</td>\n",
       "      <td>0</td>\n",
       "      <td>Positive</td>\n",
       "    </tr>\n",
       "    <tr>\n",
       "      <th>1</th>\n",
       "      <td>ICU200011</td>\n",
       "      <td>1</td>\n",
       "      <td>85</td>\n",
       "      <td>66</td>\n",
       "      <td>29</td>\n",
       "      <td>0</td>\n",
       "      <td>26.6</td>\n",
       "      <td>0.351</td>\n",
       "      <td>31</td>\n",
       "      <td>0</td>\n",
       "      <td>Negative</td>\n",
       "    </tr>\n",
       "    <tr>\n",
       "      <th>2</th>\n",
       "      <td>ICU200012</td>\n",
       "      <td>8</td>\n",
       "      <td>183</td>\n",
       "      <td>64</td>\n",
       "      <td>0</td>\n",
       "      <td>0</td>\n",
       "      <td>23.3</td>\n",
       "      <td>0.672</td>\n",
       "      <td>32</td>\n",
       "      <td>1</td>\n",
       "      <td>Positive</td>\n",
       "    </tr>\n",
       "    <tr>\n",
       "      <th>3</th>\n",
       "      <td>ICU200013</td>\n",
       "      <td>1</td>\n",
       "      <td>89</td>\n",
       "      <td>66</td>\n",
       "      <td>23</td>\n",
       "      <td>94</td>\n",
       "      <td>28.1</td>\n",
       "      <td>0.167</td>\n",
       "      <td>21</td>\n",
       "      <td>1</td>\n",
       "      <td>Negative</td>\n",
       "    </tr>\n",
       "    <tr>\n",
       "      <th>4</th>\n",
       "      <td>ICU200014</td>\n",
       "      <td>0</td>\n",
       "      <td>137</td>\n",
       "      <td>40</td>\n",
       "      <td>35</td>\n",
       "      <td>168</td>\n",
       "      <td>43.1</td>\n",
       "      <td>2.288</td>\n",
       "      <td>33</td>\n",
       "      <td>1</td>\n",
       "      <td>Positive</td>\n",
       "    </tr>\n",
       "  </tbody>\n",
       "</table>\n",
       "</div>"
      ],
      "text/plain": [
       "          ID  PRG   PL  PR  SK   TS   M11    BD2  Age  Insurance   Sepssis\n",
       "0  ICU200010    6  148  72  35    0  33.6  0.627   50          0  Positive\n",
       "1  ICU200011    1   85  66  29    0  26.6  0.351   31          0  Negative\n",
       "2  ICU200012    8  183  64   0    0  23.3  0.672   32          1  Positive\n",
       "3  ICU200013    1   89  66  23   94  28.1  0.167   21          1  Negative\n",
       "4  ICU200014    0  137  40  35  168  43.1  2.288   33          1  Positive"
      ]
     },
     "execution_count": 53,
     "metadata": {},
     "output_type": "execute_result"
    }
   ],
   "source": [
    "# Loading data and check if it's loaded properly\n",
    "df = pd.read_csv(\"Paitients_Files_Train.csv\", delimiter=\",\")\n",
    "df.head()"
   ]
  },
  {
   "cell_type": "code",
   "execution_count": 54,
   "metadata": {},
   "outputs": [],
   "source": [
    "# drop 2 irrelevant columns: ID and Insurance\n",
    "df.drop(columns=\"ID\", inplace=True)\n",
    "df.drop(columns=\"Insurance\", inplace=True)"
   ]
  },
  {
   "cell_type": "code",
   "execution_count": 94,
   "metadata": {},
   "outputs": [],
   "source": [
    "# rename the column so that it's easier to evaluate them later\n",
    "column_names = {\n",
    "    \"PRG\": \"BGlucose\",\n",
    "    \"PR\": \"BPressure\",\n",
    "    \"PL\": \"B1\",\n",
    "    \"SK\": \"B2\",\n",
    "    \"TS\": \"B3\",\n",
    "    \"BD2\": \"B4\",\n",
    "    \"M11\": \"BMI\"\n",
    "}\n",
    "df = df.rename(columns= column_names)"
   ]
  },
  {
   "cell_type": "markdown",
   "metadata": {},
   "source": [
    "# EDA"
   ]
  },
  {
   "cell_type": "code",
   "execution_count": 56,
   "metadata": {},
   "outputs": [
    {
     "name": "stdout",
     "output_type": "stream",
     "text": [
      "<class 'pandas.core.frame.DataFrame'>\n",
      "RangeIndex: 599 entries, 0 to 598\n",
      "Data columns (total 9 columns):\n",
      " #   Column     Non-Null Count  Dtype  \n",
      "---  ------     --------------  -----  \n",
      " 0   BGlucose   599 non-null    int64  \n",
      " 1   B1         599 non-null    int64  \n",
      " 2   BPressure  599 non-null    int64  \n",
      " 3   B2         599 non-null    int64  \n",
      " 4   B3         599 non-null    int64  \n",
      " 5   BMI        599 non-null    float64\n",
      " 6   B4         599 non-null    float64\n",
      " 7   Age        599 non-null    int64  \n",
      " 8   Sepssis    599 non-null    object \n",
      "dtypes: float64(2), int64(6), object(1)\n",
      "memory usage: 42.2+ KB\n"
     ]
    }
   ],
   "source": [
    "# Inspect data types of the dataset\n",
    "df.info()"
   ]
  },
  {
   "cell_type": "code",
   "execution_count": 57,
   "metadata": {},
   "outputs": [
    {
     "data": {
      "text/plain": [
       "BGlucose     0\n",
       "B1           0\n",
       "BPressure    0\n",
       "B2           0\n",
       "B3           0\n",
       "BMI          0\n",
       "B4           0\n",
       "Age          0\n",
       "Sepssis      0\n",
       "dtype: int64"
      ]
     },
     "execution_count": 57,
     "metadata": {},
     "output_type": "execute_result"
    }
   ],
   "source": [
    "pd.isna(df).sum()"
   ]
  },
  {
   "cell_type": "code",
   "execution_count": 58,
   "metadata": {},
   "outputs": [
    {
     "data": {
      "text/html": [
       "<div>\n",
       "<style scoped>\n",
       "    .dataframe tbody tr th:only-of-type {\n",
       "        vertical-align: middle;\n",
       "    }\n",
       "\n",
       "    .dataframe tbody tr th {\n",
       "        vertical-align: top;\n",
       "    }\n",
       "\n",
       "    .dataframe thead th {\n",
       "        text-align: right;\n",
       "    }\n",
       "</style>\n",
       "<table border=\"1\" class=\"dataframe\">\n",
       "  <thead>\n",
       "    <tr style=\"text-align: right;\">\n",
       "      <th></th>\n",
       "      <th>BGlucose</th>\n",
       "      <th>B1</th>\n",
       "      <th>BPressure</th>\n",
       "      <th>B2</th>\n",
       "      <th>B3</th>\n",
       "      <th>BMI</th>\n",
       "      <th>B4</th>\n",
       "      <th>Age</th>\n",
       "    </tr>\n",
       "  </thead>\n",
       "  <tbody>\n",
       "    <tr>\n",
       "      <th>count</th>\n",
       "      <td>599.000000</td>\n",
       "      <td>599.000000</td>\n",
       "      <td>599.000000</td>\n",
       "      <td>599.000000</td>\n",
       "      <td>599.000000</td>\n",
       "      <td>599.000000</td>\n",
       "      <td>599.000000</td>\n",
       "      <td>599.000000</td>\n",
       "    </tr>\n",
       "    <tr>\n",
       "      <th>mean</th>\n",
       "      <td>3.824708</td>\n",
       "      <td>120.153589</td>\n",
       "      <td>68.732888</td>\n",
       "      <td>20.562604</td>\n",
       "      <td>79.460768</td>\n",
       "      <td>31.920033</td>\n",
       "      <td>0.481187</td>\n",
       "      <td>33.290484</td>\n",
       "    </tr>\n",
       "    <tr>\n",
       "      <th>std</th>\n",
       "      <td>3.362839</td>\n",
       "      <td>32.682364</td>\n",
       "      <td>19.335675</td>\n",
       "      <td>16.017622</td>\n",
       "      <td>116.576176</td>\n",
       "      <td>8.008227</td>\n",
       "      <td>0.337552</td>\n",
       "      <td>11.828446</td>\n",
       "    </tr>\n",
       "    <tr>\n",
       "      <th>min</th>\n",
       "      <td>0.000000</td>\n",
       "      <td>0.000000</td>\n",
       "      <td>0.000000</td>\n",
       "      <td>0.000000</td>\n",
       "      <td>0.000000</td>\n",
       "      <td>0.000000</td>\n",
       "      <td>0.078000</td>\n",
       "      <td>21.000000</td>\n",
       "    </tr>\n",
       "    <tr>\n",
       "      <th>25%</th>\n",
       "      <td>1.000000</td>\n",
       "      <td>99.000000</td>\n",
       "      <td>64.000000</td>\n",
       "      <td>0.000000</td>\n",
       "      <td>0.000000</td>\n",
       "      <td>27.100000</td>\n",
       "      <td>0.248000</td>\n",
       "      <td>24.000000</td>\n",
       "    </tr>\n",
       "    <tr>\n",
       "      <th>50%</th>\n",
       "      <td>3.000000</td>\n",
       "      <td>116.000000</td>\n",
       "      <td>70.000000</td>\n",
       "      <td>23.000000</td>\n",
       "      <td>36.000000</td>\n",
       "      <td>32.000000</td>\n",
       "      <td>0.383000</td>\n",
       "      <td>29.000000</td>\n",
       "    </tr>\n",
       "    <tr>\n",
       "      <th>75%</th>\n",
       "      <td>6.000000</td>\n",
       "      <td>140.000000</td>\n",
       "      <td>80.000000</td>\n",
       "      <td>32.000000</td>\n",
       "      <td>123.500000</td>\n",
       "      <td>36.550000</td>\n",
       "      <td>0.647000</td>\n",
       "      <td>40.000000</td>\n",
       "    </tr>\n",
       "    <tr>\n",
       "      <th>max</th>\n",
       "      <td>17.000000</td>\n",
       "      <td>198.000000</td>\n",
       "      <td>122.000000</td>\n",
       "      <td>99.000000</td>\n",
       "      <td>846.000000</td>\n",
       "      <td>67.100000</td>\n",
       "      <td>2.420000</td>\n",
       "      <td>81.000000</td>\n",
       "    </tr>\n",
       "  </tbody>\n",
       "</table>\n",
       "</div>"
      ],
      "text/plain": [
       "         BGlucose          B1   BPressure          B2          B3         BMI  \\\n",
       "count  599.000000  599.000000  599.000000  599.000000  599.000000  599.000000   \n",
       "mean     3.824708  120.153589   68.732888   20.562604   79.460768   31.920033   \n",
       "std      3.362839   32.682364   19.335675   16.017622  116.576176    8.008227   \n",
       "min      0.000000    0.000000    0.000000    0.000000    0.000000    0.000000   \n",
       "25%      1.000000   99.000000   64.000000    0.000000    0.000000   27.100000   \n",
       "50%      3.000000  116.000000   70.000000   23.000000   36.000000   32.000000   \n",
       "75%      6.000000  140.000000   80.000000   32.000000  123.500000   36.550000   \n",
       "max     17.000000  198.000000  122.000000   99.000000  846.000000   67.100000   \n",
       "\n",
       "               B4         Age  \n",
       "count  599.000000  599.000000  \n",
       "mean     0.481187   33.290484  \n",
       "std      0.337552   11.828446  \n",
       "min      0.078000   21.000000  \n",
       "25%      0.248000   24.000000  \n",
       "50%      0.383000   29.000000  \n",
       "75%      0.647000   40.000000  \n",
       "max      2.420000   81.000000  "
      ]
     },
     "execution_count": 58,
     "metadata": {},
     "output_type": "execute_result"
    }
   ],
   "source": [
    "df.describe()"
   ]
  },
  {
   "cell_type": "code",
   "execution_count": 59,
   "metadata": {},
   "outputs": [],
   "source": [
    "def print_no_0(df):\n",
    "    for col in df.columns:\n",
    "        print(f\"{col}: {df[col].isin([0]).sum()}\")\n"
   ]
  },
  {
   "cell_type": "markdown",
   "metadata": {},
   "source": [
    "# Preprocessing"
   ]
  },
  {
   "cell_type": "markdown",
   "metadata": {},
   "source": [
    "## Spliting depedent and independent variables"
   ]
  },
  {
   "cell_type": "code",
   "execution_count": 60,
   "metadata": {},
   "outputs": [
    {
     "name": "stdout",
     "output_type": "stream",
     "text": [
      "(599, 8)\n",
      "(599, 1)\n"
     ]
    }
   ],
   "source": [
    "X = df.drop(columns=\"Sepssis\")\n",
    "X = X.reset_index(drop=True)\n",
    "\n",
    "Y = df[['Sepssis']]\n",
    "\n",
    "print(X.shape)\n",
    "print(Y.shape)"
   ]
  },
  {
   "cell_type": "code",
   "execution_count": 61,
   "metadata": {},
   "outputs": [
    {
     "name": "stdout",
     "output_type": "stream",
     "text": [
      "[1 0 1 0 1]\n"
     ]
    }
   ],
   "source": [
    "# Encode target value\n",
    "\n",
    "from sklearn.preprocessing import LabelEncoder\n",
    "\n",
    "label_encoder = LabelEncoder()\n",
    "Y = label_encoder.fit_transform(Y.values.ravel())\n",
    "\n",
    "\n",
    "print(Y[:5])"
   ]
  },
  {
   "cell_type": "markdown",
   "metadata": {},
   "source": [
    "## Outliers"
   ]
  },
  {
   "cell_type": "code",
   "execution_count": 62,
   "metadata": {},
   "outputs": [
    {
     "name": "stdout",
     "output_type": "stream",
     "text": [
      "BGlucose - 1tile: 0.0 - 99tile: 13.0\n",
      "B1 - 1tile: 56.74000000000001 - 99tile: 196.0\n",
      "BPressure - 1tile: 0.0 - 99tile: 104.07999999999993\n",
      "B2 - 1tile: 0.0 - 99tile: 52.039999999999964\n",
      "B3 - 1tile: 0.0 - 99tile: 543.04\n",
      "BMI - 1tile: 0.0 - 99tile: 52.3\n",
      "B4 - 1tile: 0.08897999999999999 - 99tile: 1.731999999999999\n",
      "Age - 1tile: 21.0 - 99tile: 66.01999999999998\n"
     ]
    }
   ],
   "source": [
    "import numpy as np\n",
    "for col in X.columns:\n",
    "    percentiles = X[col].quantile([0.01, 0.99]).values\n",
    "    print(f\"{col} - 1tile: {percentiles[0]} - 99tile: {percentiles[1]}\")\n",
    "    X[col] = np.clip(X[col], percentiles[0], percentiles[1])"
   ]
  },
  {
   "cell_type": "code",
   "execution_count": 63,
   "metadata": {},
   "outputs": [
    {
     "name": "stdout",
     "output_type": "stream",
     "text": [
      "BGlucose: 93\n",
      "B1: 0\n",
      "BPressure: 28\n",
      "B2: 175\n",
      "B3: 289\n",
      "BMI: 9\n",
      "B4: 0\n",
      "Age: 0\n"
     ]
    }
   ],
   "source": [
    "# After capping outliers, how many zero do we have left?\n",
    "print_no_0(X)"
   ]
  },
  {
   "cell_type": "markdown",
   "metadata": {},
   "source": [
    "We successfully remove outliers 0 of B1. However there are still weird 0 in BMI so, we will try to imput those missing value using K-NN."
   ]
  },
  {
   "cell_type": "code",
   "execution_count": 64,
   "metadata": {},
   "outputs": [],
   "source": [
    "from sklearn.impute import KNNImputer\n",
    "from sklearn.compose import ColumnTransformer\n",
    "\n",
    "X[\"BMI\"].replace({0:np.nan}, inplace=True)\n",
    "\n",
    "imputer = KNNImputer(n_neighbors=23,)\n",
    "\n",
    "\n",
    "X_imput = imputer.fit_transform(X)\n",
    "X = pd.DataFrame(X_imput, columns=[\"BGlucose\",\"B1\",\"BPressure\", \"B2\", \"B3\", \"BMI\",\"B4\", \"Age\"])\n"
   ]
  },
  {
   "cell_type": "code",
   "execution_count": 65,
   "metadata": {},
   "outputs": [
    {
     "data": {
      "text/html": [
       "<div>\n",
       "<style scoped>\n",
       "    .dataframe tbody tr th:only-of-type {\n",
       "        vertical-align: middle;\n",
       "    }\n",
       "\n",
       "    .dataframe tbody tr th {\n",
       "        vertical-align: top;\n",
       "    }\n",
       "\n",
       "    .dataframe thead th {\n",
       "        text-align: right;\n",
       "    }\n",
       "</style>\n",
       "<table border=\"1\" class=\"dataframe\">\n",
       "  <thead>\n",
       "    <tr style=\"text-align: right;\">\n",
       "      <th></th>\n",
       "      <th>BGlucose</th>\n",
       "      <th>B1</th>\n",
       "      <th>BPressure</th>\n",
       "      <th>B2</th>\n",
       "      <th>B3</th>\n",
       "      <th>BMI</th>\n",
       "      <th>B4</th>\n",
       "      <th>Age</th>\n",
       "    </tr>\n",
       "  </thead>\n",
       "  <tbody>\n",
       "    <tr>\n",
       "      <th>count</th>\n",
       "      <td>599.000000</td>\n",
       "      <td>599.000000</td>\n",
       "      <td>599.000000</td>\n",
       "      <td>599.000000</td>\n",
       "      <td>599.000000</td>\n",
       "      <td>599.000000</td>\n",
       "      <td>599.000000</td>\n",
       "      <td>599.000000</td>\n",
       "    </tr>\n",
       "    <tr>\n",
       "      <th>mean</th>\n",
       "      <td>3.811352</td>\n",
       "      <td>120.638464</td>\n",
       "      <td>68.660234</td>\n",
       "      <td>20.439466</td>\n",
       "      <td>78.232454</td>\n",
       "      <td>32.328054</td>\n",
       "      <td>0.477130</td>\n",
       "      <td>33.245609</td>\n",
       "    </tr>\n",
       "    <tr>\n",
       "      <th>std</th>\n",
       "      <td>3.320576</td>\n",
       "      <td>31.245890</td>\n",
       "      <td>19.182127</td>\n",
       "      <td>15.644498</td>\n",
       "      <td>110.398214</td>\n",
       "      <td>6.817732</td>\n",
       "      <td>0.318419</td>\n",
       "      <td>11.683879</td>\n",
       "    </tr>\n",
       "    <tr>\n",
       "      <th>min</th>\n",
       "      <td>0.000000</td>\n",
       "      <td>56.740000</td>\n",
       "      <td>0.000000</td>\n",
       "      <td>0.000000</td>\n",
       "      <td>0.000000</td>\n",
       "      <td>18.200000</td>\n",
       "      <td>0.088980</td>\n",
       "      <td>21.000000</td>\n",
       "    </tr>\n",
       "    <tr>\n",
       "      <th>25%</th>\n",
       "      <td>1.000000</td>\n",
       "      <td>99.000000</td>\n",
       "      <td>64.000000</td>\n",
       "      <td>0.000000</td>\n",
       "      <td>0.000000</td>\n",
       "      <td>27.400000</td>\n",
       "      <td>0.248000</td>\n",
       "      <td>24.000000</td>\n",
       "    </tr>\n",
       "    <tr>\n",
       "      <th>50%</th>\n",
       "      <td>3.000000</td>\n",
       "      <td>116.000000</td>\n",
       "      <td>70.000000</td>\n",
       "      <td>23.000000</td>\n",
       "      <td>36.000000</td>\n",
       "      <td>32.000000</td>\n",
       "      <td>0.383000</td>\n",
       "      <td>29.000000</td>\n",
       "    </tr>\n",
       "    <tr>\n",
       "      <th>75%</th>\n",
       "      <td>6.000000</td>\n",
       "      <td>140.000000</td>\n",
       "      <td>80.000000</td>\n",
       "      <td>32.000000</td>\n",
       "      <td>123.500000</td>\n",
       "      <td>36.550000</td>\n",
       "      <td>0.647000</td>\n",
       "      <td>40.000000</td>\n",
       "    </tr>\n",
       "    <tr>\n",
       "      <th>max</th>\n",
       "      <td>13.000000</td>\n",
       "      <td>196.000000</td>\n",
       "      <td>104.080000</td>\n",
       "      <td>52.040000</td>\n",
       "      <td>543.040000</td>\n",
       "      <td>52.300000</td>\n",
       "      <td>1.732000</td>\n",
       "      <td>66.020000</td>\n",
       "    </tr>\n",
       "  </tbody>\n",
       "</table>\n",
       "</div>"
      ],
      "text/plain": [
       "         BGlucose          B1   BPressure          B2          B3         BMI  \\\n",
       "count  599.000000  599.000000  599.000000  599.000000  599.000000  599.000000   \n",
       "mean     3.811352  120.638464   68.660234   20.439466   78.232454   32.328054   \n",
       "std      3.320576   31.245890   19.182127   15.644498  110.398214    6.817732   \n",
       "min      0.000000   56.740000    0.000000    0.000000    0.000000   18.200000   \n",
       "25%      1.000000   99.000000   64.000000    0.000000    0.000000   27.400000   \n",
       "50%      3.000000  116.000000   70.000000   23.000000   36.000000   32.000000   \n",
       "75%      6.000000  140.000000   80.000000   32.000000  123.500000   36.550000   \n",
       "max     13.000000  196.000000  104.080000   52.040000  543.040000   52.300000   \n",
       "\n",
       "               B4         Age  \n",
       "count  599.000000  599.000000  \n",
       "mean     0.477130   33.245609  \n",
       "std      0.318419   11.683879  \n",
       "min      0.088980   21.000000  \n",
       "25%      0.248000   24.000000  \n",
       "50%      0.383000   29.000000  \n",
       "75%      0.647000   40.000000  \n",
       "max      1.732000   66.020000  "
      ]
     },
     "execution_count": 65,
     "metadata": {},
     "output_type": "execute_result"
    }
   ],
   "source": [
    "X.describe()"
   ]
  },
  {
   "cell_type": "code",
   "execution_count": 17,
   "metadata": {},
   "outputs": [
    {
     "data": {
      "text/plain": [
       "[<matplotlib.lines.Line2D at 0x7ff4372cda60>]"
      ]
     },
     "execution_count": 17,
     "metadata": {},
     "output_type": "execute_result"
    },
    {
     "data": {
      "image/png": "[encoded data removed]",
      "text/plain": [
       "<Figure size 432x288 with 1 Axes>"
      ]
     },
     "metadata": {
      "needs_background": "light"
     },
     "output_type": "display_data"
    }
   ],
   "source": [
    "from sklearn.decomposition import PCA\n",
    "# df[\"Sepssis\"] = np.where(df[\"Sepssis\"].str.contains(\"Positive\"), 1, 0)\n",
    "pca = PCA(n_components=8)\n",
    "pca.fit(X)\n",
    "#The amount of variance that each PC explains\n",
    "var= pca.explained_variance_ratio_\n",
    "\n",
    "#Cumulative Variance explains\n",
    "var1=np.cumsum(np.round(pca.explained_variance_ratio_, decimals=4)*100)\n",
    "\n",
    "plt.plot(var1)"
   ]
  },
  {
   "cell_type": "markdown",
   "metadata": {},
   "source": [
    "# Models Development"
   ]
  },
  {
   "cell_type": "markdown",
   "metadata": {},
   "source": [
    "**Miscelleous codes**"
   ]
  },
  {
   "cell_type": "code",
   "execution_count": 66,
   "metadata": {},
   "outputs": [],
   "source": [
    "from sklearn.linear_model import LogisticRegression\n",
    "from sklearn.preprocessing import RobustScaler, MinMaxScaler, StandardScaler\n",
    "from imblearn.pipeline import Pipeline as ImPipeline"
   ]
  },
  {
   "cell_type": "code",
   "execution_count": 67,
   "metadata": {},
   "outputs": [],
   "source": [
    "def draw_confusion_matrix(cnf_matrix):\n",
    "    class_names=[\"Positive\",\"Negative\"] # name  of classes\n",
    "    fig, ax = plt.subplots()\n",
    "    tick_marks = np.arange(len(class_names))\n",
    "    plt.xticks(tick_marks, class_names)\n",
    "    plt.yticks(tick_marks, class_names)\n",
    "    # create heatmap\n",
    "    sns.heatmap(pd.DataFrame(cnf_matrix), annot=True, cmap=\"YlGnBu\" ,fmt='g')\n",
    "    ax.xaxis.set_label_position(\"top\")\n",
    "    plt.tight_layout()\n",
    "    plt.title('Confusion matrix', y=1.1)\n",
    "    plt.ylabel('Actual label')\n",
    "    plt.xlabel('Predicted label')\n",
    "    plt.show()"
   ]
  },
  {
   "cell_type": "code",
   "execution_count": 20,
   "metadata": {},
   "outputs": [],
   "source": [
    "def print_evaluate_score(y_test, y_pred):\n",
    "    cnf = confusion_matrix(y_test, y_pred)\n",
    "    print(classification_report(y_test, y_pred))\n",
    "    draw_confusion_matrix(cnf)"
   ]
  },
  {
   "cell_type": "code",
   "execution_count": 49,
   "metadata": {},
   "outputs": [],
   "source": [
    "from sklearn.metrics import make_scorer, accuracy_score, precision_score, recall_score, f1_score\n",
    "from sklearn.model_selection import RepeatedKFold, cross_validate\n",
    "\n",
    "from sklearn import model_selection\n",
    "def print_cross_validate(model):\n",
    "    scoring = {\n",
    "           'precision' : make_scorer(precision_score),\n",
    "           'recall' : make_scorer(recall_score), \n",
    "           'f1_score' : make_scorer(f1_score)}\n",
    "\n",
    "    kfold = RepeatedKFold(n_splits=8, n_repeats=5, random_state=42)\n",
    "\n",
    "    results = cross_validate(estimator=model,\n",
    "                                            X=X,\n",
    "                                            y=Y,\n",
    "                                            cv=kfold,\n",
    "                                            scoring=scoring, return_train_score=False)\n",
    "                                            \n",
    "    print(\"F1-score: %.3f\"%results[\"test_f1_score\"].mean())\n",
    "    print(\"Precision score: %.3f\"%results[\"test_precision\"].mean())\n",
    "    print(\"Recall score: %.3f\"%results[\"test_recall\"].mean())"
   ]
  },
  {
   "cell_type": "code",
   "execution_count": 22,
   "metadata": {},
   "outputs": [],
   "source": [
    "from sklearn.metrics import roc_curve\n",
    "def plot_roc_curve(test_y,model_probs):\n",
    "\n",
    "\t# plot model roc curve\n",
    "\tfpr, tpr, _ = roc_curve(test_y, model_probs)\n",
    "\tplt.plot(fpr, tpr, marker='.', label='Logistic')\n",
    "\t# axis labels\n",
    "\tplt.xlabel('False Positive Rate')\n",
    "\tplt.ylabel('True Positive Rate')\n",
    "\t# show the legend\n",
    "\tplt.legend()\n",
    "\t# show the plot\n",
    "\tplt.show()"
   ]
  },
  {
   "cell_type": "code",
   "execution_count": 23,
   "metadata": {},
   "outputs": [],
   "source": [
    "from sklearn.metrics import confusion_matrix,f1_score, classification_report, roc_auc_score\n",
    "from sklearn.model_selection import train_test_split\n",
    "\n",
    "\n",
    "def print_hold_out_evaluation(model, X, Y):\n",
    "# spliting\n",
    "    X_train, X_test, y_train, y_test = train_test_split(X, Y, random_state=6, test_size=0.2)\n",
    "    model.fit(X_train, y_train)\n",
    "    pred = model.predict(X_test)\n",
    "    print_evaluate_score(y_test, pred)\n",
    "    propa = model.predict_proba(X_test)[:,1]\n",
    "    roc_auc = roc_auc_score(y_test, propa)\n",
    "    print('Model AUC score: %.3f' % roc_auc)\n",
    "    # plot roc curves\n",
    "    plot_roc_curve(y_test, propa)\n",
    "\n"
   ]
  },
  {
   "cell_type": "markdown",
   "metadata": {},
   "source": [
    "## 1. Logistic Regression"
   ]
  },
  {
   "cell_type": "markdown",
   "metadata": {},
   "source": [
    "From the EDA phase we have learned that there is no linear relationship exists among the features we used to train our model; therefore, I will use a polynomial logistic regression. And because we use polynomial features, we can't underestimate the chance of overfitting, I will also use regularization technique to overcome that problem.\n",
    "\n",
    "I designed baseline logistic regression model:\n",
    "- solver=\"liblinear\"\n",
    "    - it's because this algorithm works best for a small dataset\n",
    "- class-weight=\"balanced\"\n",
    "    - It's an attempt to compensate the imblanced issue of the training dataset\n",
    "- penalty=\"l2\"\n",
    "    - It's because feature selection is not neccessary for this dataset\n"
   ]
  },
  {
   "cell_type": "code",
   "execution_count": 68,
   "metadata": {},
   "outputs": [],
   "source": [
    "# use polynomial to improve model fitting\n",
    "from sklearn.preprocessing import PolynomialFeatures, RobustScaler\n",
    "from sklearn.linear_model import LogisticRegression\n",
    "from sklearn.pipeline import Pipeline\n",
    "poly = PolynomialFeatures(degree=1)\n",
    "\n",
    "# instantiate the model (using the default parameters)\n",
    "solver = \"liblinear\"\n",
    "lr_model = LogisticRegression(C=1, solver= solver, \n",
    "max_iter=7000, tol=1e-3,\n",
    "penalty=\"l2\", random_state=4)\n",
    "\n",
    "scaler = RobustScaler()\n",
    "\n",
    "lr_pipe = Pipeline(steps=[(\"poly\",poly),\n",
    "                            (\"scaler\",scaler),\n",
    "                            (\"logistic\",lr_model)])"
   ]
  },
  {
   "cell_type": "code",
   "execution_count": 69,
   "metadata": {},
   "outputs": [
    {
     "name": "stdout",
     "output_type": "stream",
     "text": [
      "Best parameter (CV score=0.772):\n",
      "{'logistic__C': 0.46415888336127786, 'poly__degree': 2}\n"
     ]
    }
   ],
   "source": [
    "# SearchGrid CV\n",
    "from sklearn.model_selection import GridSearchCV, RepeatedKFold, RepeatedStratifiedKFold\n",
    "param_grid = {\n",
    "    \"logistic__C\":np.logspace(-1, 1, 10),\n",
    "    # \"logistic__penalty\":[\"l1\",\"l2\"],\n",
    "    \"poly__degree\":[2,3,4]\n",
    "\n",
    "}\n",
    "cv = RepeatedKFold(n_splits=5, n_repeats=5, random_state=4)\n",
    "search = GridSearchCV(lr_pipe, param_grid, scoring=\"f1_micro\",cv=cv)\n",
    "search.fit(X, Y)\n",
    "print(\"Best parameter (CV score=%0.3f):\" % search.best_score_)\n",
    "print(search.best_params_)"
   ]
  },
  {
   "cell_type": "code",
   "execution_count": 70,
   "metadata": {},
   "outputs": [
    {
     "name": "stdout",
     "output_type": "stream",
     "text": [
      "Grid scores on development set:\n",
      "\n",
      "0.769 (+/-0.064) for {'logistic__C': 0.1, 'poly__degree': 2}\n",
      "0.767 (+/-0.062) for {'logistic__C': 0.1, 'poly__degree': 3}\n",
      "0.747 (+/-0.069) for {'logistic__C': 0.1, 'poly__degree': 4}\n",
      "0.769 (+/-0.061) for {'logistic__C': 0.16681005372000587, 'poly__degree': 2}\n",
      "0.762 (+/-0.061) for {'logistic__C': 0.16681005372000587, 'poly__degree': 3}\n",
      "0.744 (+/-0.070) for {'logistic__C': 0.16681005372000587, 'poly__degree': 4}\n",
      "0.768 (+/-0.066) for {'logistic__C': 0.2782559402207124, 'poly__degree': 2}\n",
      "0.754 (+/-0.060) for {'logistic__C': 0.2782559402207124, 'poly__degree': 3}\n",
      "0.737 (+/-0.069) for {'logistic__C': 0.2782559402207124, 'poly__degree': 4}\n",
      "0.772 (+/-0.068) for {'logistic__C': 0.46415888336127786, 'poly__degree': 2}\n",
      "0.752 (+/-0.065) for {'logistic__C': 0.46415888336127786, 'poly__degree': 3}\n",
      "0.734 (+/-0.079) for {'logistic__C': 0.46415888336127786, 'poly__degree': 4}\n",
      "0.770 (+/-0.066) for {'logistic__C': 0.774263682681127, 'poly__degree': 2}\n",
      "0.743 (+/-0.061) for {'logistic__C': 0.774263682681127, 'poly__degree': 3}\n",
      "0.730 (+/-0.081) for {'logistic__C': 0.774263682681127, 'poly__degree': 4}\n",
      "0.768 (+/-0.067) for {'logistic__C': 1.291549665014884, 'poly__degree': 2}\n",
      "0.738 (+/-0.066) for {'logistic__C': 1.291549665014884, 'poly__degree': 3}\n",
      "0.722 (+/-0.075) for {'logistic__C': 1.291549665014884, 'poly__degree': 4}\n",
      "0.767 (+/-0.064) for {'logistic__C': 2.1544346900318834, 'poly__degree': 2}\n",
      "0.736 (+/-0.065) for {'logistic__C': 2.1544346900318834, 'poly__degree': 3}\n",
      "0.719 (+/-0.068) for {'logistic__C': 2.1544346900318834, 'poly__degree': 4}\n",
      "0.762 (+/-0.062) for {'logistic__C': 3.593813663804626, 'poly__degree': 2}\n",
      "0.729 (+/-0.067) for {'logistic__C': 3.593813663804626, 'poly__degree': 3}\n",
      "0.710 (+/-0.065) for {'logistic__C': 3.593813663804626, 'poly__degree': 4}\n",
      "0.759 (+/-0.057) for {'logistic__C': 5.994842503189409, 'poly__degree': 2}\n",
      "0.729 (+/-0.073) for {'logistic__C': 5.994842503189409, 'poly__degree': 3}\n",
      "0.707 (+/-0.058) for {'logistic__C': 5.994842503189409, 'poly__degree': 4}\n",
      "0.754 (+/-0.059) for {'logistic__C': 10.0, 'poly__degree': 2}\n",
      "0.724 (+/-0.075) for {'logistic__C': 10.0, 'poly__degree': 3}\n",
      "0.705 (+/-0.057) for {'logistic__C': 10.0, 'poly__degree': 4}\n",
      "\n"
     ]
    }
   ],
   "source": [
    "print(\"Grid scores on development set:\")\n",
    "print()\n",
    "# print(search.cv_results_)\n",
    "means = search.cv_results_[\"mean_test_score\"]\n",
    "stds = search.cv_results_[\"std_test_score\"]\n",
    "for mean, std, params in zip(means, stds, search.cv_results_[\"params\"]):\n",
    "    print(\"%0.3f (+/-%0.03f) for %r\" % (mean, std * 2, params))\n",
    "print()"
   ]
  },
  {
   "cell_type": "code",
   "execution_count": 42,
   "metadata": {},
   "outputs": [
    {
     "data": {
      "text/html": [
       "<div>\n",
       "<style scoped>\n",
       "    .dataframe tbody tr th:only-of-type {\n",
       "        vertical-align: middle;\n",
       "    }\n",
       "\n",
       "    .dataframe tbody tr th {\n",
       "        vertical-align: top;\n",
       "    }\n",
       "\n",
       "    .dataframe thead th {\n",
       "        text-align: right;\n",
       "    }\n",
       "</style>\n",
       "<table border=\"1\" class=\"dataframe\">\n",
       "  <thead>\n",
       "    <tr style=\"text-align: right;\">\n",
       "      <th></th>\n",
       "      <th>params</th>\n",
       "      <th>rank_test_score</th>\n",
       "      <th>mean_test_score</th>\n",
       "      <th>std_test_score</th>\n",
       "    </tr>\n",
       "    <tr>\n",
       "      <th>kernel</th>\n",
       "      <th></th>\n",
       "      <th></th>\n",
       "      <th></th>\n",
       "      <th></th>\n",
       "    </tr>\n",
       "  </thead>\n",
       "  <tbody>\n",
       "    <tr>\n",
       "      <th>0.46415888336127786_2</th>\n",
       "      <td>{'logistic__C': 0.46415888336127786, 'poly__de...</td>\n",
       "      <td>1</td>\n",
       "      <td>0.771258</td>\n",
       "      <td>0.034402</td>\n",
       "    </tr>\n",
       "    <tr>\n",
       "      <th>0.16681005372000587_2</th>\n",
       "      <td>{'logistic__C': 0.16681005372000587, 'poly__de...</td>\n",
       "      <td>2</td>\n",
       "      <td>0.769927</td>\n",
       "      <td>0.031300</td>\n",
       "    </tr>\n",
       "    <tr>\n",
       "      <th>0.1_2</th>\n",
       "      <td>{'logistic__C': 0.1, 'poly__degree': 2}</td>\n",
       "      <td>3</td>\n",
       "      <td>0.769602</td>\n",
       "      <td>0.030849</td>\n",
       "    </tr>\n",
       "    <tr>\n",
       "      <th>0.2782559402207124_2</th>\n",
       "      <td>{'logistic__C': 0.2782559402207124, 'poly__deg...</td>\n",
       "      <td>4</td>\n",
       "      <td>0.768919</td>\n",
       "      <td>0.033891</td>\n",
       "    </tr>\n",
       "    <tr>\n",
       "      <th>1.291549665014884_2</th>\n",
       "      <td>{'logistic__C': 1.291549665014884, 'poly__degr...</td>\n",
       "      <td>5</td>\n",
       "      <td>0.768591</td>\n",
       "      <td>0.033094</td>\n",
       "    </tr>\n",
       "    <tr>\n",
       "      <th>0.774263682681127_2</th>\n",
       "      <td>{'logistic__C': 0.774263682681127, 'poly__degr...</td>\n",
       "      <td>6</td>\n",
       "      <td>0.767919</td>\n",
       "      <td>0.034155</td>\n",
       "    </tr>\n",
       "    <tr>\n",
       "      <th>0.1_3</th>\n",
       "      <td>{'logistic__C': 0.1, 'poly__degree': 3}</td>\n",
       "      <td>7</td>\n",
       "      <td>0.767896</td>\n",
       "      <td>0.031970</td>\n",
       "    </tr>\n",
       "    <tr>\n",
       "      <th>2.1544346900318834_2</th>\n",
       "      <td>{'logistic__C': 2.1544346900318834, 'poly__deg...</td>\n",
       "      <td>8</td>\n",
       "      <td>0.767585</td>\n",
       "      <td>0.031757</td>\n",
       "    </tr>\n",
       "    <tr>\n",
       "      <th>3.593813663804626_2</th>\n",
       "      <td>{'logistic__C': 3.593813663804626, 'poly__degr...</td>\n",
       "      <td>9</td>\n",
       "      <td>0.763588</td>\n",
       "      <td>0.032713</td>\n",
       "    </tr>\n",
       "    <tr>\n",
       "      <th>0.16681005372000587_3</th>\n",
       "      <td>{'logistic__C': 0.16681005372000587, 'poly__de...</td>\n",
       "      <td>10</td>\n",
       "      <td>0.761555</td>\n",
       "      <td>0.029611</td>\n",
       "    </tr>\n",
       "    <tr>\n",
       "      <th>5.994842503189409_2</th>\n",
       "      <td>{'logistic__C': 5.994842503189409, 'poly__degr...</td>\n",
       "      <td>11</td>\n",
       "      <td>0.759244</td>\n",
       "      <td>0.030719</td>\n",
       "    </tr>\n",
       "    <tr>\n",
       "      <th>10.0_2</th>\n",
       "      <td>{'logistic__C': 10.0, 'poly__degree': 2}</td>\n",
       "      <td>12</td>\n",
       "      <td>0.755569</td>\n",
       "      <td>0.028666</td>\n",
       "    </tr>\n",
       "    <tr>\n",
       "      <th>0.2782559402207124_3</th>\n",
       "      <td>{'logistic__C': 0.2782559402207124, 'poly__deg...</td>\n",
       "      <td>13</td>\n",
       "      <td>0.754541</td>\n",
       "      <td>0.029930</td>\n",
       "    </tr>\n",
       "    <tr>\n",
       "      <th>0.46415888336127786_3</th>\n",
       "      <td>{'logistic__C': 0.46415888336127786, 'poly__de...</td>\n",
       "      <td>14</td>\n",
       "      <td>0.753538</td>\n",
       "      <td>0.032207</td>\n",
       "    </tr>\n",
       "    <tr>\n",
       "      <th>0.1_4</th>\n",
       "      <td>{'logistic__C': 0.1, 'poly__degree': 4}</td>\n",
       "      <td>15</td>\n",
       "      <td>0.746196</td>\n",
       "      <td>0.035373</td>\n",
       "    </tr>\n",
       "    <tr>\n",
       "      <th>0.774263682681127_3</th>\n",
       "      <td>{'logistic__C': 0.774263682681127, 'poly__degr...</td>\n",
       "      <td>16</td>\n",
       "      <td>0.745193</td>\n",
       "      <td>0.031836</td>\n",
       "    </tr>\n",
       "    <tr>\n",
       "      <th>0.16681005372000587_4</th>\n",
       "      <td>{'logistic__C': 0.16681005372000587, 'poly__de...</td>\n",
       "      <td>17</td>\n",
       "      <td>0.742849</td>\n",
       "      <td>0.035856</td>\n",
       "    </tr>\n",
       "    <tr>\n",
       "      <th>0.2782559402207124_4</th>\n",
       "      <td>{'logistic__C': 0.2782559402207124, 'poly__deg...</td>\n",
       "      <td>18</td>\n",
       "      <td>0.741176</td>\n",
       "      <td>0.036716</td>\n",
       "    </tr>\n",
       "    <tr>\n",
       "      <th>1.291549665014884_3</th>\n",
       "      <td>{'logistic__C': 1.291549665014884, 'poly__degr...</td>\n",
       "      <td>19</td>\n",
       "      <td>0.738866</td>\n",
       "      <td>0.032004</td>\n",
       "    </tr>\n",
       "    <tr>\n",
       "      <th>0.46415888336127786_4</th>\n",
       "      <td>{'logistic__C': 0.46415888336127786, 'poly__de...</td>\n",
       "      <td>20</td>\n",
       "      <td>0.736176</td>\n",
       "      <td>0.037696</td>\n",
       "    </tr>\n",
       "    <tr>\n",
       "      <th>2.1544346900318834_3</th>\n",
       "      <td>{'logistic__C': 2.1544346900318834, 'poly__deg...</td>\n",
       "      <td>21</td>\n",
       "      <td>0.734527</td>\n",
       "      <td>0.032800</td>\n",
       "    </tr>\n",
       "    <tr>\n",
       "      <th>3.593813663804626_3</th>\n",
       "      <td>{'logistic__C': 3.593813663804626, 'poly__degr...</td>\n",
       "      <td>22</td>\n",
       "      <td>0.730857</td>\n",
       "      <td>0.032206</td>\n",
       "    </tr>\n",
       "    <tr>\n",
       "      <th>0.774263682681127_4</th>\n",
       "      <td>{'logistic__C': 0.774263682681127, 'poly__degr...</td>\n",
       "      <td>23</td>\n",
       "      <td>0.729838</td>\n",
       "      <td>0.039010</td>\n",
       "    </tr>\n",
       "    <tr>\n",
       "      <th>5.994842503189409_3</th>\n",
       "      <td>{'logistic__C': 5.994842503189409, 'poly__degr...</td>\n",
       "      <td>24</td>\n",
       "      <td>0.729515</td>\n",
       "      <td>0.034545</td>\n",
       "    </tr>\n",
       "    <tr>\n",
       "      <th>1.291549665014884_4</th>\n",
       "      <td>{'logistic__C': 1.291549665014884, 'poly__degr...</td>\n",
       "      <td>25</td>\n",
       "      <td>0.724499</td>\n",
       "      <td>0.039003</td>\n",
       "    </tr>\n",
       "    <tr>\n",
       "      <th>10.0_3</th>\n",
       "      <td>{'logistic__C': 10.0, 'poly__degree': 3}</td>\n",
       "      <td>26</td>\n",
       "      <td>0.723504</td>\n",
       "      <td>0.038103</td>\n",
       "    </tr>\n",
       "    <tr>\n",
       "      <th>2.1544346900318834_4</th>\n",
       "      <td>{'logistic__C': 2.1544346900318834, 'poly__deg...</td>\n",
       "      <td>27</td>\n",
       "      <td>0.718479</td>\n",
       "      <td>0.034666</td>\n",
       "    </tr>\n",
       "    <tr>\n",
       "      <th>3.593813663804626_4</th>\n",
       "      <td>{'logistic__C': 3.593813663804626, 'poly__degr...</td>\n",
       "      <td>28</td>\n",
       "      <td>0.712146</td>\n",
       "      <td>0.032459</td>\n",
       "    </tr>\n",
       "    <tr>\n",
       "      <th>5.994842503189409_4</th>\n",
       "      <td>{'logistic__C': 5.994842503189409, 'poly__degr...</td>\n",
       "      <td>29</td>\n",
       "      <td>0.708818</td>\n",
       "      <td>0.029987</td>\n",
       "    </tr>\n",
       "    <tr>\n",
       "      <th>10.0_4</th>\n",
       "      <td>{'logistic__C': 10.0, 'poly__degree': 4}</td>\n",
       "      <td>30</td>\n",
       "      <td>0.702473</td>\n",
       "      <td>0.029948</td>\n",
       "    </tr>\n",
       "  </tbody>\n",
       "</table>\n",
       "</div>"
      ],
      "text/plain": [
       "                                                                  params  \\\n",
       "kernel                                                                     \n",
       "0.46415888336127786_2  {'logistic__C': 0.46415888336127786, 'poly__de...   \n",
       "0.16681005372000587_2  {'logistic__C': 0.16681005372000587, 'poly__de...   \n",
       "0.1_2                            {'logistic__C': 0.1, 'poly__degree': 2}   \n",
       "0.2782559402207124_2   {'logistic__C': 0.2782559402207124, 'poly__deg...   \n",
       "1.291549665014884_2    {'logistic__C': 1.291549665014884, 'poly__degr...   \n",
       "0.774263682681127_2    {'logistic__C': 0.774263682681127, 'poly__degr...   \n",
       "0.1_3                            {'logistic__C': 0.1, 'poly__degree': 3}   \n",
       "2.1544346900318834_2   {'logistic__C': 2.1544346900318834, 'poly__deg...   \n",
       "3.593813663804626_2    {'logistic__C': 3.593813663804626, 'poly__degr...   \n",
       "0.16681005372000587_3  {'logistic__C': 0.16681005372000587, 'poly__de...   \n",
       "5.994842503189409_2    {'logistic__C': 5.994842503189409, 'poly__degr...   \n",
       "10.0_2                          {'logistic__C': 10.0, 'poly__degree': 2}   \n",
       "0.2782559402207124_3   {'logistic__C': 0.2782559402207124, 'poly__deg...   \n",
       "0.46415888336127786_3  {'logistic__C': 0.46415888336127786, 'poly__de...   \n",
       "0.1_4                            {'logistic__C': 0.1, 'poly__degree': 4}   \n",
       "0.774263682681127_3    {'logistic__C': 0.774263682681127, 'poly__degr...   \n",
       "0.16681005372000587_4  {'logistic__C': 0.16681005372000587, 'poly__de...   \n",
       "0.2782559402207124_4   {'logistic__C': 0.2782559402207124, 'poly__deg...   \n",
       "1.291549665014884_3    {'logistic__C': 1.291549665014884, 'poly__degr...   \n",
       "0.46415888336127786_4  {'logistic__C': 0.46415888336127786, 'poly__de...   \n",
       "2.1544346900318834_3   {'logistic__C': 2.1544346900318834, 'poly__deg...   \n",
       "3.593813663804626_3    {'logistic__C': 3.593813663804626, 'poly__degr...   \n",
       "0.774263682681127_4    {'logistic__C': 0.774263682681127, 'poly__degr...   \n",
       "5.994842503189409_3    {'logistic__C': 5.994842503189409, 'poly__degr...   \n",
       "1.291549665014884_4    {'logistic__C': 1.291549665014884, 'poly__degr...   \n",
       "10.0_3                          {'logistic__C': 10.0, 'poly__degree': 3}   \n",
       "2.1544346900318834_4   {'logistic__C': 2.1544346900318834, 'poly__deg...   \n",
       "3.593813663804626_4    {'logistic__C': 3.593813663804626, 'poly__degr...   \n",
       "5.994842503189409_4    {'logistic__C': 5.994842503189409, 'poly__degr...   \n",
       "10.0_4                          {'logistic__C': 10.0, 'poly__degree': 4}   \n",
       "\n",
       "                       rank_test_score  mean_test_score  std_test_score  \n",
       "kernel                                                                   \n",
       "0.46415888336127786_2                1         0.771258        0.034402  \n",
       "0.16681005372000587_2                2         0.769927        0.031300  \n",
       "0.1_2                                3         0.769602        0.030849  \n",
       "0.2782559402207124_2                 4         0.768919        0.033891  \n",
       "1.291549665014884_2                  5         0.768591        0.033094  \n",
       "0.774263682681127_2                  6         0.767919        0.034155  \n",
       "0.1_3                                7         0.767896        0.031970  \n",
       "2.1544346900318834_2                 8         0.767585        0.031757  \n",
       "3.593813663804626_2                  9         0.763588        0.032713  \n",
       "0.16681005372000587_3               10         0.761555        0.029611  \n",
       "5.994842503189409_2                 11         0.759244        0.030719  \n",
       "10.0_2                              12         0.755569        0.028666  \n",
       "0.2782559402207124_3                13         0.754541        0.029930  \n",
       "0.46415888336127786_3               14         0.753538        0.032207  \n",
       "0.1_4                               15         0.746196        0.035373  \n",
       "0.774263682681127_3                 16         0.745193        0.031836  \n",
       "0.16681005372000587_4               17         0.742849        0.035856  \n",
       "0.2782559402207124_4                18         0.741176        0.036716  \n",
       "1.291549665014884_3                 19         0.738866        0.032004  \n",
       "0.46415888336127786_4               20         0.736176        0.037696  \n",
       "2.1544346900318834_3                21         0.734527        0.032800  \n",
       "3.593813663804626_3                 22         0.730857        0.032206  \n",
       "0.774263682681127_4                 23         0.729838        0.039010  \n",
       "5.994842503189409_3                 24         0.729515        0.034545  \n",
       "1.291549665014884_4                 25         0.724499        0.039003  \n",
       "10.0_3                              26         0.723504        0.038103  \n",
       "2.1544346900318834_4                27         0.718479        0.034666  \n",
       "3.593813663804626_4                 28         0.712146        0.032459  \n",
       "5.994842503189409_4                 29         0.708818        0.029987  \n",
       "10.0_4                              30         0.702473        0.029948  "
      ]
     },
     "execution_count": 42,
     "metadata": {},
     "output_type": "execute_result"
    }
   ],
   "source": [
    "results_df = pd.DataFrame(search.cv_results_)\n",
    "results_df = results_df.sort_values(by=[\"rank_test_score\"])\n",
    "results_df = results_df.set_index(\n",
    "    results_df[\"params\"].apply(lambda x: \"_\".join(str(val) for val in x.values()))\n",
    ").rename_axis(\"kernel\")\n",
    "results_df[[\"params\", \"rank_test_score\", \"mean_test_score\", \"std_test_score\"]]"
   ]
  },
  {
   "cell_type": "code",
   "execution_count": 89,
   "metadata": {},
   "outputs": [
    {
     "name": "stdout",
     "output_type": "stream",
     "text": [
      "LogisticRegression(C=0.46415888336127786, max_iter=7000, random_state=4,\n",
      "                   solver='liblinear')\n"
     ]
    }
   ],
   "source": [
    "# logistic__C = search.best_params_[\"logistic__C\"]\n",
    "# logistic__class_weight = search.best_params_[\"logistic__class_weight\"]\n",
    "# logistic__penalty = search.best_params_[\"logistic__penalty\"]\n",
    "# poly_degree = search.best_params_[\"poly__degree\"]\n",
    "# best_logisticReg = LogisticRegression(\n",
    "#     penalty= logistic__penalty,\n",
    "#     C= logistic__C,\n",
    "#     class_weight=logistic__class_weight,\n",
    "#     random_state=4,\n",
    "#     solver= solver,\n",
    "#     max_iter=7000\n",
    "# )\n",
    "# poly = PolynomialFeatures(degree=poly_degree)\n",
    "\n",
    "best_logisticReg = LogisticRegression(\n",
    "    penalty= \"l2\",\n",
    "    C=0.46415888336127786,\n",
    "    random_state=4,\n",
    "    solver= solver,\n",
    "    max_iter=7000\n",
    ")\n",
    "poly = PolynomialFeatures(degree=2)\n",
    "print(best_logisticReg)"
   ]
  },
  {
   "cell_type": "code",
   "execution_count": 87,
   "metadata": {},
   "outputs": [],
   "source": [
    "best_logistic_pipe = Pipeline(steps=[(\"poly\",poly),(\"scaler\", scaler), (\"model\",best_logisticReg)])"
   ]
  },
  {
   "cell_type": "code",
   "execution_count": 45,
   "metadata": {},
   "outputs": [
    {
     "name": "stdout",
     "output_type": "stream",
     "text": [
      "              precision    recall  f1-score   support\n",
      "\n",
      "           0       0.82      0.84      0.83        81\n",
      "           1       0.65      0.62      0.63        39\n",
      "\n",
      "    accuracy                           0.77       120\n",
      "   macro avg       0.73      0.73      0.73       120\n",
      "weighted avg       0.76      0.77      0.77       120\n",
      "\n"
     ]
    },
    {
     "data": {
      "image/png": "[encoded data removed]",
      "text/plain": [
       "<Figure size 432x288 with 2 Axes>"
      ]
     },
     "metadata": {
      "needs_background": "light"
     },
     "output_type": "display_data"
    },
    {
     "name": "stdout",
     "output_type": "stream",
     "text": [
      "Model AUC score: 0.846\n"
     ]
    },
    {
     "data": {
      "image/png": "[encoded data removed]",
      "text/plain": [
       "<Figure size 432x288 with 1 Axes>"
      ]
     },
     "metadata": {
      "needs_background": "light"
     },
     "output_type": "display_data"
    }
   ],
   "source": [
    "print_hold_out_evaluation(best_logistic_pipe, X, Y)"
   ]
  },
  {
   "cell_type": "code",
   "execution_count": 50,
   "metadata": {},
   "outputs": [
    {
     "name": "stdout",
     "output_type": "stream",
     "text": [
      "F1-score: 0.617\n",
      "Precision score: 0.708\n",
      "Recall score: 0.555\n"
     ]
    }
   ],
   "source": [
    "print_cross_validate(best_logistic_pipe)\n"
   ]
  },
  {
   "cell_type": "markdown",
   "metadata": {},
   "source": [
    "## 2. Decision Tree"
   ]
  },
  {
   "cell_type": "code",
   "execution_count": 141,
   "metadata": {},
   "outputs": [],
   "source": [
    "from sklearn.tree import DecisionTreeClassifier\n",
    "from imblearn.pipeline import Pipeline\n",
    "\n",
    "\n",
    "dtree_model = DecisionTreeClassifier(max_features=\"sqrt\", random_state=4, ccp_alpha=0.0032, min_samples_split=2)\n",
    "steps = [('model', dtree_model)]\n",
    "dtree_pipe = Pipeline(steps=steps)"
   ]
  },
  {
   "cell_type": "code",
   "execution_count": 37,
   "metadata": {},
   "outputs": [
    {
     "name": "stdout",
     "output_type": "stream",
     "text": [
      "Best parameter (CV score=0.717):\n",
      "{'model__ccp_alpha': 0.001, 'model__class_weight': {0: 0.5, 1: 0.5}, 'model__max_depth': 4, 'model__min_samples_leaf': 3, 'model__min_samples_split': 2}\n"
     ]
    }
   ],
   "source": [
    "from sklearn.model_selection import RepeatedKFold, GridSearchCV\n",
    "param_grid = {\n",
    "    # \"model__class_weight\": [{0:0.4,1:0.6}, {0:0.42,1:0.58},{0:0.45,1:0.55},{0:0.5,1:0.5}],\n",
    "    \"model__class_weight\": [\"balanced\", {0:0.4,1:0.6}, {0:0.5,1:0.5}],\n",
    "    \"model__ccp_alpha\": np.logspace(-3,1,10),\n",
    "    \"model__max_depth\": [2,3,4],\n",
    "    \"model__min_samples_leaf\": [1,2,3,4,5],\n",
    "    \"model__min_samples_split\": [2,3,4,5],\n",
    "\n",
    "}\n",
    "cv = RepeatedKFold(n_splits=5, n_repeats=5, random_state=4)\n",
    "search = GridSearchCV(dtree_pipe, param_grid, scoring=\"f1_micro\",cv=cv, error_score=\"raise\")\n",
    "search.fit(X, Y)\n",
    "print(\"Best parameter (CV score=%0.3f):\" % search.best_score_)\n",
    "print(search.best_params_)"
   ]
  },
  {
   "cell_type": "code",
   "execution_count": 142,
   "metadata": {},
   "outputs": [],
   "source": [
    "# b_params = search.best_params_\n",
    "# model__class_weight = b_params[\"model__class_weight\"]\n",
    "# model__ccp_alpha = b_params[\"model__ccp_alpha\"]\n",
    "# model__max_depth = b_params[\"model__max_depth\"]\n",
    "# model__min_samples_leaf = b_params[\"model__min_samples_leaf\"]\n",
    "\n",
    "# dtree_model = DecisionTreeClassifier(max_features=\"sqrt\",\n",
    "# class_weight=model__class_weight, \n",
    "# random_state=4, \n",
    "# ccp_alpha=model__ccp_alpha,\n",
    "# max_depth=model__max_depth,\n",
    "# min_samples_leaf=model__min_samples_leaf)\n",
    "\n",
    "dtree_model = DecisionTreeClassifier(max_features=\"sqrt\",\n",
    "class_weight={0: 0.5, 1: 0.5}, \n",
    "random_state=4, \n",
    "ccp_alpha=0.001,\n",
    "max_depth=4,\n",
    "min_samples_leaf=4,\n",
    "min_samples_split=2)\n",
    "\n",
    "steps = [('model', dtree_model)]\n",
    "\n",
    "dtree_pipe = Pipeline(steps=steps)\n"
   ]
  },
  {
   "cell_type": "code",
   "execution_count": 39,
   "metadata": {},
   "outputs": [
    {
     "name": "stdout",
     "output_type": "stream",
     "text": [
      "              precision    recall  f1-score   support\n",
      "\n",
      "           0       0.83      0.85      0.84        81\n",
      "           1       0.68      0.64      0.66        39\n",
      "\n",
      "    accuracy                           0.78       120\n",
      "   macro avg       0.75      0.75      0.75       120\n",
      "weighted avg       0.78      0.78      0.78       120\n",
      "\n"
     ]
    },
    {
     "data": {
      "image/png": "[encoded data removed]",
      "text/plain": [
       "<Figure size 432x288 with 2 Axes>"
      ]
     },
     "metadata": {
      "needs_background": "light"
     },
     "output_type": "display_data"
    }
   ],
   "source": [
    "print_hold_out_evaluation(dtree_pipe, X, Y)"
   ]
  },
  {
   "cell_type": "code",
   "execution_count": 40,
   "metadata": {},
   "outputs": [
    {
     "name": "stdout",
     "output_type": "stream",
     "text": [
      "F1-score: 0.552\n",
      "Accuracy score: 0.705\n",
      "Recall score: 0.536\n"
     ]
    }
   ],
   "source": [
    "print_cross_validate(dtree_pipe)"
   ]
  },
  {
   "cell_type": "markdown",
   "metadata": {},
   "source": [
    "## 4. Random Forest"
   ]
  },
  {
   "cell_type": "code",
   "execution_count": 134,
   "metadata": {},
   "outputs": [],
   "source": [
    "from sklearn.ensemble import RandomForestClassifier\n",
    "rf_model = RandomForestClassifier(max_features=\"sqrt\",random_state=3,class_weight={0:0.22, 1: 0.78}, n_jobs=-1)"
   ]
  },
  {
   "cell_type": "code",
   "execution_count": 46,
   "metadata": {},
   "outputs": [
    {
     "name": "stdout",
     "output_type": "stream",
     "text": [
      "Best parameter (CV score=0.765):\n",
      "{'ccp_alpha': 0.01, 'class_weight': 'balanced', 'max_depth': 4, 'min_samples_split': 5, 'n_estimators': 150}\n"
     ]
    }
   ],
   "source": [
    "from sklearn.model_selection import RepeatedKFold, GridSearchCV\n",
    "param_grid = {\n",
    "    \"n_estimators\": [100,150,200],\n",
    "    # \"class_weight\": [{0:0.4,1:0.6}, {0:0.42,1:0.58},{0:0.45,1:0.55},{0:0.5,1:0.5}],\n",
    "    \"class_weight\": [\"balanced\"],\n",
    "    \"ccp_alpha\": np.logspace(-3,1,5),\n",
    "    \"max_depth\": [2,3,4],\n",
    "    \"min_samples_split\": [2,3,4,5]\n",
    "\n",
    "}\n",
    "cv = RepeatedKFold(n_splits=5, n_repeats=5, random_state=4)\n",
    "search = GridSearchCV(rf_model, param_grid, scoring=\"f1_micro\",cv=5, error_score=\"raise\")\n",
    "search.fit(X, Y)\n",
    "print(\"Best parameter (CV score=%0.3f):\" % search.best_score_)\n",
    "print(search.best_params_)"
   ]
  },
  {
   "cell_type": "code",
   "execution_count": 135,
   "metadata": {},
   "outputs": [],
   "source": [
    "# b_params = search.best_params_\n",
    "# n_estimators = b_params[\"n_estimators\"]\n",
    "# class_weight = b_params[\"class_weight\"]\n",
    "# ccp_alpha = b_params[\"ccp_alpha\"]\n",
    "# max_depth = b_params[\"max_depth\"]\n",
    "# min_samples_leaf = b_params[\"min_samples_leaf\"]\n",
    "# min_samples_split = b_params[\"min_samples_split\"]\n",
    "\n",
    "# rf_model = RandomForestClassifier(max_features=\"sqrt\",\n",
    "#                             random_state=3,\n",
    "#                             class_weight=class_weight, \n",
    "#                             ccp_alpha= ccp_alpha,\n",
    "#                             max_depth= max_depth,\n",
    "#                             min_samples_leaf= min_samples_leaf,\n",
    "#                             min_samples_split= min_samples_split,\n",
    "#                             n_jobs=-1)\n",
    "\n",
    "rf_model = RandomForestClassifier(\n",
    "                            max_features=\"sqrt\",\n",
    "                            random_state=3,\n",
    "                            n_estimators=150,\n",
    "                            class_weight=\"balanced\", \n",
    "                            ccp_alpha= 0.01,\n",
    "                            max_depth= 4,\n",
    "                            min_samples_split= 5,\n",
    "                            n_jobs=-1)"
   ]
  },
  {
   "cell_type": "code",
   "execution_count": 53,
   "metadata": {},
   "outputs": [
    {
     "name": "stdout",
     "output_type": "stream",
     "text": [
      "              precision    recall  f1-score   support\n",
      "\n",
      "           0       0.86      0.74      0.79        81\n",
      "           1       0.58      0.74      0.65        39\n",
      "\n",
      "    accuracy                           0.74       120\n",
      "   macro avg       0.72      0.74      0.72       120\n",
      "weighted avg       0.77      0.74      0.75       120\n",
      "\n"
     ]
    },
    {
     "data": {
      "image/png": "[encoded data removed]",
      "text/plain": [
       "<Figure size 432x288 with 2 Axes>"
      ]
     },
     "metadata": {
      "needs_background": "light"
     },
     "output_type": "display_data"
    }
   ],
   "source": [
    "print_hold_out_evaluation(rf_model, X, Y)\n"
   ]
  },
  {
   "cell_type": "code",
   "execution_count": 54,
   "metadata": {},
   "outputs": [
    {
     "name": "stdout",
     "output_type": "stream",
     "text": [
      "F1-score: 0.675\n",
      "Precision score: 0.620\n",
      "Recall score: 0.749\n"
     ]
    }
   ],
   "source": [
    "print_cross_validate(rf_model)"
   ]
  },
  {
   "cell_type": "markdown",
   "metadata": {},
   "source": [
    "## 5. Boosting\n"
   ]
  },
  {
   "cell_type": "code",
   "execution_count": 39,
   "metadata": {},
   "outputs": [],
   "source": [
    "from sklearn.ensemble import GradientBoostingClassifier\n",
    "\n",
    "clf = GradientBoostingClassifier(n_estimators=250, learning_rate=0.5, max_depth=1, random_state=0, tol=0.001)\n"
   ]
  },
  {
   "cell_type": "code",
   "execution_count": 41,
   "metadata": {},
   "outputs": [
    {
     "name": "stdout",
     "output_type": "stream",
     "text": [
      "Best parameter (CV score=0.827):\n",
      "{'ccp_alpha': 0.001, 'max_depth': 1, 'max_features': 'sqrt', 'min_samples_split': 2, 'n_estimators': 100}\n"
     ]
    }
   ],
   "source": [
    "from sklearn.model_selection import RepeatedKFold, GridSearchCV\n",
    "param_grid = {\n",
    "    \"n_estimators\": [100,200, 150],\n",
    "    \"max_depth\": [1,2,3],\n",
    "    \"ccp_alpha\": np.logspace(-3,1,10),\n",
    "    \"max_features\": [\"sqrt\"],\n",
    "    \"min_samples_split\": [2,3],\n",
    "\n",
    "}\n",
    "cv = RepeatedStratifiedKFold(n_splits=5, n_repeats=3, random_state=4)\n",
    "search = GridSearchCV(clf, param_grid, scoring=\"roc_auc\",cv=10, error_score=\"raise\")\n",
    "search.fit(X, Y)\n",
    "print(\"Best parameter (CV score=%0.3f):\" % search.best_score_)\n",
    "print(search.best_params_)"
   ]
  },
  {
   "cell_type": "code",
   "execution_count": 42,
   "metadata": {},
   "outputs": [
    {
     "data": {
      "text/html": [
       "<div>\n",
       "<style scoped>\n",
       "    .dataframe tbody tr th:only-of-type {\n",
       "        vertical-align: middle;\n",
       "    }\n",
       "\n",
       "    .dataframe tbody tr th {\n",
       "        vertical-align: top;\n",
       "    }\n",
       "\n",
       "    .dataframe thead th {\n",
       "        text-align: right;\n",
       "    }\n",
       "</style>\n",
       "<table border=\"1\" class=\"dataframe\">\n",
       "  <thead>\n",
       "    <tr style=\"text-align: right;\">\n",
       "      <th></th>\n",
       "      <th>params</th>\n",
       "      <th>rank_test_score</th>\n",
       "      <th>mean_test_score</th>\n",
       "      <th>std_test_score</th>\n",
       "    </tr>\n",
       "    <tr>\n",
       "      <th>settings</th>\n",
       "      <th></th>\n",
       "      <th></th>\n",
       "      <th></th>\n",
       "      <th></th>\n",
       "    </tr>\n",
       "  </thead>\n",
       "  <tbody>\n",
       "    <tr>\n",
       "      <th>0.001_1_sqrt_2_100</th>\n",
       "      <td>{'ccp_alpha': 0.001, 'max_depth': 1, 'max_feat...</td>\n",
       "      <td>1</td>\n",
       "      <td>0.827207</td>\n",
       "      <td>0.057899</td>\n",
       "    </tr>\n",
       "    <tr>\n",
       "      <th>0.001_1_sqrt_2_200</th>\n",
       "      <td>{'ccp_alpha': 0.001, 'max_depth': 1, 'max_feat...</td>\n",
       "      <td>1</td>\n",
       "      <td>0.827207</td>\n",
       "      <td>0.057899</td>\n",
       "    </tr>\n",
       "    <tr>\n",
       "      <th>0.001_1_sqrt_2_150</th>\n",
       "      <td>{'ccp_alpha': 0.001, 'max_depth': 1, 'max_feat...</td>\n",
       "      <td>1</td>\n",
       "      <td>0.827207</td>\n",
       "      <td>0.057899</td>\n",
       "    </tr>\n",
       "    <tr>\n",
       "      <th>0.001_1_sqrt_3_100</th>\n",
       "      <td>{'ccp_alpha': 0.001, 'max_depth': 1, 'max_feat...</td>\n",
       "      <td>1</td>\n",
       "      <td>0.827207</td>\n",
       "      <td>0.057899</td>\n",
       "    </tr>\n",
       "    <tr>\n",
       "      <th>0.001_1_sqrt_3_200</th>\n",
       "      <td>{'ccp_alpha': 0.001, 'max_depth': 1, 'max_feat...</td>\n",
       "      <td>1</td>\n",
       "      <td>0.827207</td>\n",
       "      <td>0.057899</td>\n",
       "    </tr>\n",
       "    <tr>\n",
       "      <th>...</th>\n",
       "      <td>...</td>\n",
       "      <td>...</td>\n",
       "      <td>...</td>\n",
       "      <td>...</td>\n",
       "    </tr>\n",
       "    <tr>\n",
       "      <th>1.0_1_sqrt_3_100</th>\n",
       "      <td>{'ccp_alpha': 1.0, 'max_depth': 1, 'max_featur...</td>\n",
       "      <td>37</td>\n",
       "      <td>0.500000</td>\n",
       "      <td>0.000000</td>\n",
       "    </tr>\n",
       "    <tr>\n",
       "      <th>1.0_1_sqrt_3_200</th>\n",
       "      <td>{'ccp_alpha': 1.0, 'max_depth': 1, 'max_featur...</td>\n",
       "      <td>37</td>\n",
       "      <td>0.500000</td>\n",
       "      <td>0.000000</td>\n",
       "    </tr>\n",
       "    <tr>\n",
       "      <th>1.0_1_sqrt_3_150</th>\n",
       "      <td>{'ccp_alpha': 1.0, 'max_depth': 1, 'max_featur...</td>\n",
       "      <td>37</td>\n",
       "      <td>0.500000</td>\n",
       "      <td>0.000000</td>\n",
       "    </tr>\n",
       "    <tr>\n",
       "      <th>0.1_3_sqrt_2_100</th>\n",
       "      <td>{'ccp_alpha': 0.1, 'max_depth': 3, 'max_featur...</td>\n",
       "      <td>37</td>\n",
       "      <td>0.500000</td>\n",
       "      <td>0.000000</td>\n",
       "    </tr>\n",
       "    <tr>\n",
       "      <th>10.0_3_sqrt_3_150</th>\n",
       "      <td>{'ccp_alpha': 10.0, 'max_depth': 3, 'max_featu...</td>\n",
       "      <td>37</td>\n",
       "      <td>0.500000</td>\n",
       "      <td>0.000000</td>\n",
       "    </tr>\n",
       "  </tbody>\n",
       "</table>\n",
       "<p>90 rows × 4 columns</p>\n",
       "</div>"
      ],
      "text/plain": [
       "                                                               params  \\\n",
       "settings                                                                \n",
       "0.001_1_sqrt_2_100  {'ccp_alpha': 0.001, 'max_depth': 1, 'max_feat...   \n",
       "0.001_1_sqrt_2_200  {'ccp_alpha': 0.001, 'max_depth': 1, 'max_feat...   \n",
       "0.001_1_sqrt_2_150  {'ccp_alpha': 0.001, 'max_depth': 1, 'max_feat...   \n",
       "0.001_1_sqrt_3_100  {'ccp_alpha': 0.001, 'max_depth': 1, 'max_feat...   \n",
       "0.001_1_sqrt_3_200  {'ccp_alpha': 0.001, 'max_depth': 1, 'max_feat...   \n",
       "...                                                               ...   \n",
       "1.0_1_sqrt_3_100    {'ccp_alpha': 1.0, 'max_depth': 1, 'max_featur...   \n",
       "1.0_1_sqrt_3_200    {'ccp_alpha': 1.0, 'max_depth': 1, 'max_featur...   \n",
       "1.0_1_sqrt_3_150    {'ccp_alpha': 1.0, 'max_depth': 1, 'max_featur...   \n",
       "0.1_3_sqrt_2_100    {'ccp_alpha': 0.1, 'max_depth': 3, 'max_featur...   \n",
       "10.0_3_sqrt_3_150   {'ccp_alpha': 10.0, 'max_depth': 3, 'max_featu...   \n",
       "\n",
       "                    rank_test_score  mean_test_score  std_test_score  \n",
       "settings                                                              \n",
       "0.001_1_sqrt_2_100                1         0.827207        0.057899  \n",
       "0.001_1_sqrt_2_200                1         0.827207        0.057899  \n",
       "0.001_1_sqrt_2_150                1         0.827207        0.057899  \n",
       "0.001_1_sqrt_3_100                1         0.827207        0.057899  \n",
       "0.001_1_sqrt_3_200                1         0.827207        0.057899  \n",
       "...                             ...              ...             ...  \n",
       "1.0_1_sqrt_3_100                 37         0.500000        0.000000  \n",
       "1.0_1_sqrt_3_200                 37         0.500000        0.000000  \n",
       "1.0_1_sqrt_3_150                 37         0.500000        0.000000  \n",
       "0.1_3_sqrt_2_100                 37         0.500000        0.000000  \n",
       "10.0_3_sqrt_3_150                37         0.500000        0.000000  \n",
       "\n",
       "[90 rows x 4 columns]"
      ]
     },
     "execution_count": 42,
     "metadata": {},
     "output_type": "execute_result"
    }
   ],
   "source": [
    "results_df = pd.DataFrame(search.cv_results_)\n",
    "results_df = results_df.sort_values(by=[\"rank_test_score\"])\n",
    "results_df = results_df.set_index(\n",
    "    results_df[\"params\"].apply(lambda x: \"_\".join(str(val) for val in x.values()))\n",
    ").rename_axis(\"settings\")\n",
    "results_df[[\"params\", \"rank_test_score\", \"mean_test_score\", \"std_test_score\"]]"
   ]
  },
  {
   "cell_type": "code",
   "execution_count": 43,
   "metadata": {},
   "outputs": [],
   "source": [
    "clf = GradientBoostingClassifier(\n",
    "        n_estimators=100, \n",
    "        learning_rate=0.5, \n",
    "        max_depth=1, \n",
    "        random_state=0, \n",
    "        max_features=\"sqrt\",\n",
    "        min_samples_split=2,\n",
    "        ccp_alpha=0.001,\n",
    "        tol=0.001)\n"
   ]
  },
  {
   "cell_type": "code",
   "execution_count": 60,
   "metadata": {},
   "outputs": [
    {
     "name": "stdout",
     "output_type": "stream",
     "text": [
      "              precision    recall  f1-score   support\n",
      "\n",
      "           0       0.83      0.80      0.82        81\n",
      "           1       0.62      0.67      0.64        39\n",
      "\n",
      "    accuracy                           0.76       120\n",
      "   macro avg       0.73      0.73      0.73       120\n",
      "weighted avg       0.76      0.76      0.76       120\n",
      "\n"
     ]
    },
    {
     "data": {
      "image/png": "[encoded data removed]",
      "text/plain": [
       "<Figure size 432x288 with 2 Axes>"
      ]
     },
     "metadata": {
      "needs_background": "light"
     },
     "output_type": "display_data"
    },
    {
     "name": "stdout",
     "output_type": "stream",
     "text": [
      "Logistic ROC AUC 0.853\n"
     ]
    },
    {
     "data": {
      "image/png": "[encoded data removed]",
      "text/plain": [
       "<Figure size 432x288 with 1 Axes>"
      ]
     },
     "metadata": {
      "needs_background": "light"
     },
     "output_type": "display_data"
    }
   ],
   "source": [
    "print_hold_out_evaluation(clf, X, Y)"
   ]
  },
  {
   "cell_type": "code",
   "execution_count": 45,
   "metadata": {},
   "outputs": [
    {
     "name": "stdout",
     "output_type": "stream",
     "text": [
      "F1-score: 0.609\n",
      "Precision score: 0.699\n",
      "Recall score: 0.550\n"
     ]
    }
   ],
   "source": [
    "print_cross_validate(clf)"
   ]
  },
  {
   "cell_type": "markdown",
   "metadata": {},
   "source": [
    "# 3. Test Model"
   ]
  },
  {
   "cell_type": "code",
   "execution_count": 143,
   "metadata": {},
   "outputs": [],
   "source": [
    "the_best = dtree_model"
   ]
  },
  {
   "cell_type": "code",
   "execution_count": 144,
   "metadata": {},
   "outputs": [
    {
     "data": {
      "text/html": [
       "<div>\n",
       "<style scoped>\n",
       "    .dataframe tbody tr th:only-of-type {\n",
       "        vertical-align: middle;\n",
       "    }\n",
       "\n",
       "    .dataframe tbody tr th {\n",
       "        vertical-align: top;\n",
       "    }\n",
       "\n",
       "    .dataframe thead th {\n",
       "        text-align: right;\n",
       "    }\n",
       "</style>\n",
       "<table border=\"1\" class=\"dataframe\">\n",
       "  <thead>\n",
       "    <tr style=\"text-align: right;\">\n",
       "      <th></th>\n",
       "      <th>ID</th>\n",
       "      <th>BGlucose</th>\n",
       "      <th>B1</th>\n",
       "      <th>BPressure</th>\n",
       "      <th>B2</th>\n",
       "      <th>B3</th>\n",
       "      <th>BMI</th>\n",
       "      <th>B4</th>\n",
       "      <th>Age</th>\n",
       "      <th>Insurance</th>\n",
       "    </tr>\n",
       "  </thead>\n",
       "  <tbody>\n",
       "    <tr>\n",
       "      <th>0</th>\n",
       "      <td>ICU200609</td>\n",
       "      <td>1</td>\n",
       "      <td>109</td>\n",
       "      <td>38</td>\n",
       "      <td>18</td>\n",
       "      <td>120</td>\n",
       "      <td>23.1</td>\n",
       "      <td>0.407</td>\n",
       "      <td>26</td>\n",
       "      <td>1</td>\n",
       "    </tr>\n",
       "    <tr>\n",
       "      <th>1</th>\n",
       "      <td>ICU200610</td>\n",
       "      <td>1</td>\n",
       "      <td>108</td>\n",
       "      <td>88</td>\n",
       "      <td>19</td>\n",
       "      <td>0</td>\n",
       "      <td>27.1</td>\n",
       "      <td>0.400</td>\n",
       "      <td>24</td>\n",
       "      <td>1</td>\n",
       "    </tr>\n",
       "    <tr>\n",
       "      <th>2</th>\n",
       "      <td>ICU200611</td>\n",
       "      <td>6</td>\n",
       "      <td>96</td>\n",
       "      <td>0</td>\n",
       "      <td>0</td>\n",
       "      <td>0</td>\n",
       "      <td>23.7</td>\n",
       "      <td>0.190</td>\n",
       "      <td>28</td>\n",
       "      <td>1</td>\n",
       "    </tr>\n",
       "    <tr>\n",
       "      <th>3</th>\n",
       "      <td>ICU200612</td>\n",
       "      <td>1</td>\n",
       "      <td>124</td>\n",
       "      <td>74</td>\n",
       "      <td>36</td>\n",
       "      <td>0</td>\n",
       "      <td>27.8</td>\n",
       "      <td>0.100</td>\n",
       "      <td>30</td>\n",
       "      <td>1</td>\n",
       "    </tr>\n",
       "    <tr>\n",
       "      <th>4</th>\n",
       "      <td>ICU200613</td>\n",
       "      <td>7</td>\n",
       "      <td>150</td>\n",
       "      <td>78</td>\n",
       "      <td>29</td>\n",
       "      <td>126</td>\n",
       "      <td>35.2</td>\n",
       "      <td>0.692</td>\n",
       "      <td>54</td>\n",
       "      <td>0</td>\n",
       "    </tr>\n",
       "  </tbody>\n",
       "</table>\n",
       "</div>"
      ],
      "text/plain": [
       "          ID  BGlucose   B1  BPressure  B2   B3   BMI     B4  Age  Insurance\n",
       "0  ICU200609         1  109         38  18  120  23.1  0.407   26          1\n",
       "1  ICU200610         1  108         88  19    0  27.1  0.400   24          1\n",
       "2  ICU200611         6   96          0   0    0  23.7  0.190   28          1\n",
       "3  ICU200612         1  124         74  36    0  27.8  0.100   30          1\n",
       "4  ICU200613         7  150         78  29  126  35.2  0.692   54          0"
      ]
     },
     "execution_count": 144,
     "metadata": {},
     "output_type": "execute_result"
    }
   ],
   "source": [
    "testset = pd.read_csv(\"Paitients_Files_Test.csv\")\n",
    "testset.rename(columns=column_names, inplace=True)\n",
    "testset.head()"
   ]
  },
  {
   "cell_type": "code",
   "execution_count": 145,
   "metadata": {},
   "outputs": [],
   "source": [
    "id_col = testset[\"ID\"]\n",
    "testset.drop(columns=[\"ID\",\"Insurance\"], inplace=True)"
   ]
  },
  {
   "cell_type": "code",
   "execution_count": 146,
   "metadata": {},
   "outputs": [
    {
     "data": {
      "text/plain": [
       "DecisionTreeClassifier(ccp_alpha=0.001, class_weight={0: 0.5, 1: 0.5},\n",
       "                       max_depth=4, max_features='sqrt', min_samples_leaf=4,\n",
       "                       random_state=4)"
      ]
     },
     "execution_count": 146,
     "metadata": {},
     "output_type": "execute_result"
    }
   ],
   "source": [
    "the_best.fit(X, Y)\n"
   ]
  },
  {
   "cell_type": "code",
   "execution_count": 147,
   "metadata": {},
   "outputs": [],
   "source": [
    "pred_test = the_best.predict(testset)"
   ]
  },
  {
   "cell_type": "code",
   "execution_count": 148,
   "metadata": {},
   "outputs": [
    {
     "data": {
      "text/html": [
       "<div>\n",
       "<style scoped>\n",
       "    .dataframe tbody tr th:only-of-type {\n",
       "        vertical-align: middle;\n",
       "    }\n",
       "\n",
       "    .dataframe tbody tr th {\n",
       "        vertical-align: top;\n",
       "    }\n",
       "\n",
       "    .dataframe thead th {\n",
       "        text-align: right;\n",
       "    }\n",
       "</style>\n",
       "<table border=\"1\" class=\"dataframe\">\n",
       "  <thead>\n",
       "    <tr style=\"text-align: right;\">\n",
       "      <th></th>\n",
       "      <th>ID</th>\n",
       "      <th>0</th>\n",
       "    </tr>\n",
       "  </thead>\n",
       "  <tbody>\n",
       "    <tr>\n",
       "      <th>0</th>\n",
       "      <td>ICU200609</td>\n",
       "      <td>0</td>\n",
       "    </tr>\n",
       "    <tr>\n",
       "      <th>1</th>\n",
       "      <td>ICU200610</td>\n",
       "      <td>0</td>\n",
       "    </tr>\n",
       "    <tr>\n",
       "      <th>2</th>\n",
       "      <td>ICU200611</td>\n",
       "      <td>0</td>\n",
       "    </tr>\n",
       "    <tr>\n",
       "      <th>3</th>\n",
       "      <td>ICU200612</td>\n",
       "      <td>1</td>\n",
       "    </tr>\n",
       "    <tr>\n",
       "      <th>4</th>\n",
       "      <td>ICU200613</td>\n",
       "      <td>1</td>\n",
       "    </tr>\n",
       "    <tr>\n",
       "      <th>...</th>\n",
       "      <td>...</td>\n",
       "      <td>...</td>\n",
       "    </tr>\n",
       "    <tr>\n",
       "      <th>164</th>\n",
       "      <td>ICU200773</td>\n",
       "      <td>1</td>\n",
       "    </tr>\n",
       "    <tr>\n",
       "      <th>165</th>\n",
       "      <td>ICU200774</td>\n",
       "      <td>0</td>\n",
       "    </tr>\n",
       "    <tr>\n",
       "      <th>166</th>\n",
       "      <td>ICU200775</td>\n",
       "      <td>0</td>\n",
       "    </tr>\n",
       "    <tr>\n",
       "      <th>167</th>\n",
       "      <td>ICU200776</td>\n",
       "      <td>1</td>\n",
       "    </tr>\n",
       "    <tr>\n",
       "      <th>168</th>\n",
       "      <td>ICU200777</td>\n",
       "      <td>0</td>\n",
       "    </tr>\n",
       "  </tbody>\n",
       "</table>\n",
       "<p>169 rows × 2 columns</p>\n",
       "</div>"
      ],
      "text/plain": [
       "            ID  0\n",
       "0    ICU200609  0\n",
       "1    ICU200610  0\n",
       "2    ICU200611  0\n",
       "3    ICU200612  1\n",
       "4    ICU200613  1\n",
       "..         ... ..\n",
       "164  ICU200773  1\n",
       "165  ICU200774  0\n",
       "166  ICU200775  0\n",
       "167  ICU200776  1\n",
       "168  ICU200777  0\n",
       "\n",
       "[169 rows x 2 columns]"
      ]
     },
     "execution_count": 148,
     "metadata": {},
     "output_type": "execute_result"
    }
   ],
   "source": [
    "result_to_csv = pd.concat([id_col, pd.Series(pred_test)], axis=1)\n",
    "result_to_csv"
   ]
  },
  {
   "cell_type": "code",
   "execution_count": 121,
   "metadata": {},
   "outputs": [],
   "source": [
    "result_to_csv.to_csv(\"S3804803_predictions.csv\")"
   ]
  },
  {
   "cell_type": "code",
   "execution_count": 149,
   "metadata": {},
   "outputs": [
    {
     "data": {
      "text/html": [
       "<div>\n",
       "<style scoped>\n",
       "    .dataframe tbody tr th:only-of-type {\n",
       "        vertical-align: middle;\n",
       "    }\n",
       "\n",
       "    .dataframe tbody tr th {\n",
       "        vertical-align: top;\n",
       "    }\n",
       "\n",
       "    .dataframe thead th {\n",
       "        text-align: right;\n",
       "    }\n",
       "</style>\n",
       "<table border=\"1\" class=\"dataframe\">\n",
       "  <thead>\n",
       "    <tr style=\"text-align: right;\">\n",
       "      <th></th>\n",
       "      <th>ID</th>\n",
       "    </tr>\n",
       "    <tr>\n",
       "      <th>0</th>\n",
       "      <th></th>\n",
       "    </tr>\n",
       "  </thead>\n",
       "  <tbody>\n",
       "    <tr>\n",
       "      <th>0</th>\n",
       "      <td>111</td>\n",
       "    </tr>\n",
       "    <tr>\n",
       "      <th>1</th>\n",
       "      <td>58</td>\n",
       "    </tr>\n",
       "  </tbody>\n",
       "</table>\n",
       "</div>"
      ],
      "text/plain": [
       "    ID\n",
       "0     \n",
       "0  111\n",
       "1   58"
      ]
     },
     "execution_count": 149,
     "metadata": {},
     "output_type": "execute_result"
    }
   ],
   "source": [
    "result_to_csv.groupby(0).count()"
   ]
  },
  {
   "cell_type": "code",
   "execution_count": null,
   "metadata": {},
   "outputs": [],
   "source": []
  }
 ],
 "metadata": {
  "interpreter": {
   "hash": "3c1a2142b08d95de69327be0de44667eac47bb927009047124a79e569957d679"
  },
  "kernelspec": {
   "display_name": "Python 3.9.10 64-bit",
   "language": "python",
   "name": "python3"
  },
  "language_info": {
   "codemirror_mode": {
    "name": "ipython",
    "version": 3
   },
   "file_extension": ".py",
   "mimetype": "text/x-python",
   "name": "python",
   "nbconvert_exporter": "python",
   "pygments_lexer": "ipython3",
   "version": "3.9.7"
  },
  "orig_nbformat": 4
 },
 "nbformat": 4,
 "nbformat_minor": 2
}
