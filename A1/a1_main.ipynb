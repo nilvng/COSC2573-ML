{
 "cells": [
  {
   "cell_type": "code",
   "execution_count": 412,
   "metadata": {},
   "outputs": [],
   "source": [
    "import sklearn as sk\n",
    "import pandas as pd\n",
    "import matplotlib.pyplot as plt\n",
    "import numpy as np\n",
    "import seaborn as sns"
   ]
  },
  {
   "cell_type": "code",
   "execution_count": 413,
   "metadata": {},
   "outputs": [
    {
     "data": {
      "text/html": [
       "<div>\n",
       "<style scoped>\n",
       "    .dataframe tbody tr th:only-of-type {\n",
       "        vertical-align: middle;\n",
       "    }\n",
       "\n",
       "    .dataframe tbody tr th {\n",
       "        vertical-align: top;\n",
       "    }\n",
       "\n",
       "    .dataframe thead th {\n",
       "        text-align: right;\n",
       "    }\n",
       "</style>\n",
       "<table border=\"1\" class=\"dataframe\">\n",
       "  <thead>\n",
       "    <tr style=\"text-align: right;\">\n",
       "      <th></th>\n",
       "      <th>ID</th>\n",
       "      <th>PRG</th>\n",
       "      <th>PL</th>\n",
       "      <th>PR</th>\n",
       "      <th>SK</th>\n",
       "      <th>TS</th>\n",
       "      <th>M11</th>\n",
       "      <th>BD2</th>\n",
       "      <th>Age</th>\n",
       "      <th>Insurance</th>\n",
       "      <th>Sepssis</th>\n",
       "    </tr>\n",
       "  </thead>\n",
       "  <tbody>\n",
       "    <tr>\n",
       "      <th>0</th>\n",
       "      <td>ICU200010</td>\n",
       "      <td>6</td>\n",
       "      <td>148</td>\n",
       "      <td>72</td>\n",
       "      <td>35</td>\n",
       "      <td>0</td>\n",
       "      <td>33.6</td>\n",
       "      <td>0.627</td>\n",
       "      <td>50</td>\n",
       "      <td>0</td>\n",
       "      <td>Positive</td>\n",
       "    </tr>\n",
       "    <tr>\n",
       "      <th>1</th>\n",
       "      <td>ICU200011</td>\n",
       "      <td>1</td>\n",
       "      <td>85</td>\n",
       "      <td>66</td>\n",
       "      <td>29</td>\n",
       "      <td>0</td>\n",
       "      <td>26.6</td>\n",
       "      <td>0.351</td>\n",
       "      <td>31</td>\n",
       "      <td>0</td>\n",
       "      <td>Negative</td>\n",
       "    </tr>\n",
       "    <tr>\n",
       "      <th>2</th>\n",
       "      <td>ICU200012</td>\n",
       "      <td>8</td>\n",
       "      <td>183</td>\n",
       "      <td>64</td>\n",
       "      <td>0</td>\n",
       "      <td>0</td>\n",
       "      <td>23.3</td>\n",
       "      <td>0.672</td>\n",
       "      <td>32</td>\n",
       "      <td>1</td>\n",
       "      <td>Positive</td>\n",
       "    </tr>\n",
       "    <tr>\n",
       "      <th>3</th>\n",
       "      <td>ICU200013</td>\n",
       "      <td>1</td>\n",
       "      <td>89</td>\n",
       "      <td>66</td>\n",
       "      <td>23</td>\n",
       "      <td>94</td>\n",
       "      <td>28.1</td>\n",
       "      <td>0.167</td>\n",
       "      <td>21</td>\n",
       "      <td>1</td>\n",
       "      <td>Negative</td>\n",
       "    </tr>\n",
       "    <tr>\n",
       "      <th>4</th>\n",
       "      <td>ICU200014</td>\n",
       "      <td>0</td>\n",
       "      <td>137</td>\n",
       "      <td>40</td>\n",
       "      <td>35</td>\n",
       "      <td>168</td>\n",
       "      <td>43.1</td>\n",
       "      <td>2.288</td>\n",
       "      <td>33</td>\n",
       "      <td>1</td>\n",
       "      <td>Positive</td>\n",
       "    </tr>\n",
       "  </tbody>\n",
       "</table>\n",
       "</div>"
      ],
      "text/plain": [
       "          ID  PRG   PL  PR  SK   TS   M11    BD2  Age  Insurance   Sepssis\n",
       "0  ICU200010    6  148  72  35    0  33.6  0.627   50          0  Positive\n",
       "1  ICU200011    1   85  66  29    0  26.6  0.351   31          0  Negative\n",
       "2  ICU200012    8  183  64   0    0  23.3  0.672   32          1  Positive\n",
       "3  ICU200013    1   89  66  23   94  28.1  0.167   21          1  Negative\n",
       "4  ICU200014    0  137  40  35  168  43.1  2.288   33          1  Positive"
      ]
     },
     "execution_count": 413,
     "metadata": {},
     "output_type": "execute_result"
    }
   ],
   "source": [
    "# Loading data and check if it's loaded properly\n",
    "df = pd.read_csv(\"Paitients_Files_Train.csv\", delimiter=\",\")\n",
    "df.head()"
   ]
  },
  {
   "cell_type": "code",
   "execution_count": 414,
   "metadata": {},
   "outputs": [],
   "source": [
    "# drop 2 irrelevant columns: ID and Insurance\n",
    "df.drop(columns=\"ID\", inplace=True)\n",
    "df.drop(columns=\"Insurance\", inplace=True)"
   ]
  },
  {
   "cell_type": "code",
   "execution_count": 415,
   "metadata": {},
   "outputs": [],
   "source": [
    "# rename the column so that it's easier to evaluate them later\n",
    "df = df.rename(columns={\n",
    "    \"PRG\": \"BGlucose\",\n",
    "    \"PR\": \"BPressure\",\n",
    "    \"PL\": \"B1\",\n",
    "    \"SK\": \"B2\",\n",
    "    \"TS\": \"B3\",\n",
    "    \"BD2\": \"B4\",\n",
    "    \"M11\": \"BMI\"\n",
    "})"
   ]
  },
  {
   "cell_type": "markdown",
   "metadata": {},
   "source": [
    "# EDA"
   ]
  },
  {
   "cell_type": "code",
   "execution_count": 416,
   "metadata": {},
   "outputs": [
    {
     "name": "stdout",
     "output_type": "stream",
     "text": [
      "<class 'pandas.core.frame.DataFrame'>\n",
      "RangeIndex: 599 entries, 0 to 598\n",
      "Data columns (total 9 columns):\n",
      " #   Column     Non-Null Count  Dtype  \n",
      "---  ------     --------------  -----  \n",
      " 0   BGlucose   599 non-null    int64  \n",
      " 1   B1         599 non-null    int64  \n",
      " 2   BPressure  599 non-null    int64  \n",
      " 3   B2         599 non-null    int64  \n",
      " 4   B3         599 non-null    int64  \n",
      " 5   BMI        599 non-null    float64\n",
      " 6   B4         599 non-null    float64\n",
      " 7   Age        599 non-null    int64  \n",
      " 8   Sepssis    599 non-null    object \n",
      "dtypes: float64(2), int64(6), object(1)\n",
      "memory usage: 42.2+ KB\n"
     ]
    }
   ],
   "source": [
    "# Inspect data types of the dataset\n",
    "df.info()"
   ]
  },
  {
   "cell_type": "code",
   "execution_count": 417,
   "metadata": {},
   "outputs": [
    {
     "data": {
      "text/plain": [
       "BGlucose     0\n",
       "B1           0\n",
       "BPressure    0\n",
       "B2           0\n",
       "B3           0\n",
       "BMI          0\n",
       "B4           0\n",
       "Age          0\n",
       "Sepssis      0\n",
       "dtype: int64"
      ]
     },
     "execution_count": 417,
     "metadata": {},
     "output_type": "execute_result"
    }
   ],
   "source": [
    "pd.isna(df).sum()"
   ]
  },
  {
   "cell_type": "code",
   "execution_count": 418,
   "metadata": {},
   "outputs": [
    {
     "data": {
      "text/html": [
       "<div>\n",
       "<style scoped>\n",
       "    .dataframe tbody tr th:only-of-type {\n",
       "        vertical-align: middle;\n",
       "    }\n",
       "\n",
       "    .dataframe tbody tr th {\n",
       "        vertical-align: top;\n",
       "    }\n",
       "\n",
       "    .dataframe thead th {\n",
       "        text-align: right;\n",
       "    }\n",
       "</style>\n",
       "<table border=\"1\" class=\"dataframe\">\n",
       "  <thead>\n",
       "    <tr style=\"text-align: right;\">\n",
       "      <th></th>\n",
       "      <th>BGlucose</th>\n",
       "      <th>B1</th>\n",
       "      <th>BPressure</th>\n",
       "      <th>B2</th>\n",
       "      <th>B3</th>\n",
       "      <th>BMI</th>\n",
       "      <th>B4</th>\n",
       "      <th>Age</th>\n",
       "    </tr>\n",
       "  </thead>\n",
       "  <tbody>\n",
       "    <tr>\n",
       "      <th>count</th>\n",
       "      <td>599.000000</td>\n",
       "      <td>599.000000</td>\n",
       "      <td>599.000000</td>\n",
       "      <td>599.000000</td>\n",
       "      <td>599.000000</td>\n",
       "      <td>599.000000</td>\n",
       "      <td>599.000000</td>\n",
       "      <td>599.000000</td>\n",
       "    </tr>\n",
       "    <tr>\n",
       "      <th>mean</th>\n",
       "      <td>3.824708</td>\n",
       "      <td>120.153589</td>\n",
       "      <td>68.732888</td>\n",
       "      <td>20.562604</td>\n",
       "      <td>79.460768</td>\n",
       "      <td>31.920033</td>\n",
       "      <td>0.481187</td>\n",
       "      <td>33.290484</td>\n",
       "    </tr>\n",
       "    <tr>\n",
       "      <th>std</th>\n",
       "      <td>3.362839</td>\n",
       "      <td>32.682364</td>\n",
       "      <td>19.335675</td>\n",
       "      <td>16.017622</td>\n",
       "      <td>116.576176</td>\n",
       "      <td>8.008227</td>\n",
       "      <td>0.337552</td>\n",
       "      <td>11.828446</td>\n",
       "    </tr>\n",
       "    <tr>\n",
       "      <th>min</th>\n",
       "      <td>0.000000</td>\n",
       "      <td>0.000000</td>\n",
       "      <td>0.000000</td>\n",
       "      <td>0.000000</td>\n",
       "      <td>0.000000</td>\n",
       "      <td>0.000000</td>\n",
       "      <td>0.078000</td>\n",
       "      <td>21.000000</td>\n",
       "    </tr>\n",
       "    <tr>\n",
       "      <th>25%</th>\n",
       "      <td>1.000000</td>\n",
       "      <td>99.000000</td>\n",
       "      <td>64.000000</td>\n",
       "      <td>0.000000</td>\n",
       "      <td>0.000000</td>\n",
       "      <td>27.100000</td>\n",
       "      <td>0.248000</td>\n",
       "      <td>24.000000</td>\n",
       "    </tr>\n",
       "    <tr>\n",
       "      <th>50%</th>\n",
       "      <td>3.000000</td>\n",
       "      <td>116.000000</td>\n",
       "      <td>70.000000</td>\n",
       "      <td>23.000000</td>\n",
       "      <td>36.000000</td>\n",
       "      <td>32.000000</td>\n",
       "      <td>0.383000</td>\n",
       "      <td>29.000000</td>\n",
       "    </tr>\n",
       "    <tr>\n",
       "      <th>75%</th>\n",
       "      <td>6.000000</td>\n",
       "      <td>140.000000</td>\n",
       "      <td>80.000000</td>\n",
       "      <td>32.000000</td>\n",
       "      <td>123.500000</td>\n",
       "      <td>36.550000</td>\n",
       "      <td>0.647000</td>\n",
       "      <td>40.000000</td>\n",
       "    </tr>\n",
       "    <tr>\n",
       "      <th>max</th>\n",
       "      <td>17.000000</td>\n",
       "      <td>198.000000</td>\n",
       "      <td>122.000000</td>\n",
       "      <td>99.000000</td>\n",
       "      <td>846.000000</td>\n",
       "      <td>67.100000</td>\n",
       "      <td>2.420000</td>\n",
       "      <td>81.000000</td>\n",
       "    </tr>\n",
       "  </tbody>\n",
       "</table>\n",
       "</div>"
      ],
      "text/plain": [
       "         BGlucose          B1   BPressure          B2          B3         BMI  \\\n",
       "count  599.000000  599.000000  599.000000  599.000000  599.000000  599.000000   \n",
       "mean     3.824708  120.153589   68.732888   20.562604   79.460768   31.920033   \n",
       "std      3.362839   32.682364   19.335675   16.017622  116.576176    8.008227   \n",
       "min      0.000000    0.000000    0.000000    0.000000    0.000000    0.000000   \n",
       "25%      1.000000   99.000000   64.000000    0.000000    0.000000   27.100000   \n",
       "50%      3.000000  116.000000   70.000000   23.000000   36.000000   32.000000   \n",
       "75%      6.000000  140.000000   80.000000   32.000000  123.500000   36.550000   \n",
       "max     17.000000  198.000000  122.000000   99.000000  846.000000   67.100000   \n",
       "\n",
       "               B4         Age  \n",
       "count  599.000000  599.000000  \n",
       "mean     0.481187   33.290484  \n",
       "std      0.337552   11.828446  \n",
       "min      0.078000   21.000000  \n",
       "25%      0.248000   24.000000  \n",
       "50%      0.383000   29.000000  \n",
       "75%      0.647000   40.000000  \n",
       "max      2.420000   81.000000  "
      ]
     },
     "execution_count": 418,
     "metadata": {},
     "output_type": "execute_result"
    }
   ],
   "source": [
    "df.describe()"
   ]
  },
  {
   "cell_type": "markdown",
   "metadata": {},
   "source": [
    "# Preprocessing"
   ]
  },
  {
   "cell_type": "markdown",
   "metadata": {},
   "source": [
    "## Spliting depedent and independent variables"
   ]
  },
  {
   "cell_type": "code",
   "execution_count": 419,
   "metadata": {},
   "outputs": [
    {
     "name": "stdout",
     "output_type": "stream",
     "text": [
      "(599, 8)\n",
      "(599, 1)\n"
     ]
    }
   ],
   "source": [
    "X = df.drop(columns=\"Sepssis\")\n",
    "X = X.reset_index(drop=True)\n",
    "\n",
    "Y = df[['Sepssis']]\n",
    "\n",
    "print(X.shape)\n",
    "print(Y.shape)"
   ]
  },
  {
   "cell_type": "code",
   "execution_count": 420,
   "metadata": {},
   "outputs": [
    {
     "name": "stdout",
     "output_type": "stream",
     "text": [
      "[1 0 1 0 1]\n"
     ]
    }
   ],
   "source": [
    "# Encode target value\n",
    "\n",
    "from sklearn.preprocessing import LabelEncoder\n",
    "\n",
    "label_encoder = LabelEncoder()\n",
    "Y = label_encoder.fit_transform(Y.values.ravel())\n",
    "\n",
    "\n",
    "print(Y[:5])"
   ]
  },
  {
   "cell_type": "markdown",
   "metadata": {},
   "source": [
    "## Outliers"
   ]
  },
  {
   "cell_type": "code",
   "execution_count": 421,
   "metadata": {},
   "outputs": [],
   "source": [
    "import numpy as np\n",
    "for col in X.columns:\n",
    "    percentiles = X[col].quantile([0.01, 0.99]).values\n",
    "    X[col] = np.clip(X[col], percentiles[0], percentiles[1])"
   ]
  },
  {
   "cell_type": "code",
   "execution_count": 422,
   "metadata": {},
   "outputs": [],
   "source": [
    "from imblearn.over_sampling import SMOTE, SVMSMOTE\n",
    "over = SMOTE(sampling_strategy=\"minority\",random_state=3)\n",
    "X_over, Y_over = over.fit_resample(X,Y)\n"
   ]
  },
  {
   "cell_type": "markdown",
   "metadata": {},
   "source": [
    "# Models Development"
   ]
  },
  {
   "cell_type": "markdown",
   "metadata": {},
   "source": [
    "**Miscelleous codes**"
   ]
  },
  {
   "cell_type": "code",
   "execution_count": 321,
   "metadata": {},
   "outputs": [],
   "source": [
    "from sklearn.linear_model import LogisticRegression\n",
    "from sklearn.preprocessing import RobustScaler, MinMaxScaler, StandardScaler\n",
    "from imblearn.pipeline import Pipeline as ImPipeline"
   ]
  },
  {
   "cell_type": "code",
   "execution_count": 342,
   "metadata": {},
   "outputs": [],
   "source": [
    "def draw_confusion_matrix(cnf_matrix):\n",
    "    class_names=[\"Positive\",\"Negative\"] # name  of classes\n",
    "    fig, ax = plt.subplots()\n",
    "    tick_marks = np.arange(len(class_names))\n",
    "    plt.xticks(tick_marks, class_names)\n",
    "    plt.yticks(tick_marks, class_names)\n",
    "    # create heatmap\n",
    "    sns.heatmap(pd.DataFrame(cnf_matrix), annot=True, cmap=\"YlGnBu\" ,fmt='g')\n",
    "    ax.xaxis.set_label_position(\"top\")\n",
    "    plt.tight_layout()\n",
    "    plt.title('Confusion matrix', y=1.1)\n",
    "    plt.ylabel('Actual label')\n",
    "    plt.xlabel('Predicted label')"
   ]
  },
  {
   "cell_type": "code",
   "execution_count": 323,
   "metadata": {},
   "outputs": [],
   "source": [
    "def print_evaluate_score(y_test, y_pred):\n",
    "    cnf = confusion_matrix(y_test, y_pred)\n",
    "    print(classification_report(y_test, y_pred))\n",
    "    draw_confusion_matrix(cnf)"
   ]
  },
  {
   "cell_type": "code",
   "execution_count": 431,
   "metadata": {},
   "outputs": [],
   "source": [
    "from sklearn.metrics import make_scorer, accuracy_score, precision_score, recall_score, f1_score\n",
    "from sklearn.model_selection import RepeatedStratifiedKFold, cross_validate\n",
    "\n",
    "from sklearn import model_selection\n",
    "def print_cross_validate(model):\n",
    "    scoring = {'accuracy' : make_scorer(accuracy_score), \n",
    "           'precision' : make_scorer(precision_score),\n",
    "           'recall' : make_scorer(recall_score), \n",
    "           'f1_score' : make_scorer(f1_score)}\n",
    "\n",
    "    kfold = RepeatedStratifiedKFold(n_splits=10, n_repeats=5, random_state=42)\n",
    "\n",
    "    results = model_selection.cross_validate(estimator=model,\n",
    "                                            X=X,\n",
    "                                            y=Y,\n",
    "                                            cv=kfold,\n",
    "                                            scoring=scoring, return_train_score=False)\n",
    "                                            \n",
    "    print(\"F1-score: %.3f\"%results[\"test_f1_score\"].mean())\n",
    "    print(\"Accuracy score: %.3f\"%results[\"test_accuracy\"].mean())\n",
    "    print(\"Recall score: %.3f\"%results[\"test_recall\"].mean())"
   ]
  },
  {
   "cell_type": "code",
   "execution_count": 324,
   "metadata": {},
   "outputs": [],
   "source": [
    "from sklearn.pipeline import Pipeline\n",
    "from sklearn.model_selection import KFold, RepeatedKFold, RepeatedStratifiedKFold\n",
    "from sklearn.metrics import confusion_matrix,f1_score, classification_report\n",
    "\n",
    "def get_best_model(model, trainX, trainY):\n",
    "\n",
    "    fold_number = 5\n",
    "    fold_repeat = 10\n",
    "    kf = RepeatedKFold(n_splits=fold_number, n_repeats=fold_repeat, random_state=4)\n",
    "\n",
    "    best_f1 = 0.0\n",
    "    s = 0\n",
    "    best_pred = None\n",
    "    best_y_test = None\n",
    "\n",
    "    for train_index, test_index in kf.split(trainX):\n",
    "        X_train, X_test = trainX.iloc[train_index], trainX.iloc[test_index]\n",
    "        y_train, y_test = trainY[train_index], trainY[test_index]\n",
    "\n",
    "        model.fit(X_train,y_train)\n",
    "        pred = model.predict(X_test)\n",
    "\n",
    "        f1_sc = f1_score(y_test, pred)\n",
    "        if f1_sc > best_f1:\n",
    "            best_f1 = f1_sc\n",
    "            best_pred = pred\n",
    "            best_y_test = y_test\n",
    "    print_evaluate_score(best_y_test, best_pred)\n"
   ]
  },
  {
   "cell_type": "markdown",
   "metadata": {},
   "source": [
    "## 1. Logistic Regression"
   ]
  },
  {
   "cell_type": "code",
   "execution_count": 325,
   "metadata": {},
   "outputs": [],
   "source": [
    "# use polynomial to improve model fitting\n",
    "from sklearn.preprocessing import PolynomialFeatures\n",
    "\n",
    "poly = PolynomialFeatures(degree=1)\n",
    "\n",
    "# instantiate the model (using the default parameters)\n",
    "solver = \"liblinear\"\n",
    "lr_model = LogisticRegression(C=1, solver= solver, \n",
    "max_iter=7000, tol=0.01,\n",
    "penalty=\"l1\", random_state=4)\n",
    "\n",
    "scaler = RobustScaler()\n",
    "\n",
    "lr_pipe = ImPipeline(steps=[(\"poly\",poly),\n",
    "                            (\"scaler\",scaler),\n",
    "                            (\"logistic\",lr_model)])"
   ]
  },
  {
   "cell_type": "code",
   "execution_count": 343,
   "metadata": {},
   "outputs": [
    {
     "name": "stdout",
     "output_type": "stream",
     "text": [
      "Best parameter (CV score=0.760):\n",
      "{'logistic__C': 4.6415888336127775, 'logistic__class_weight': 'balanced', 'logistic__penalty': 'l1', 'poly__degree': 3}\n"
     ]
    }
   ],
   "source": [
    "# SearchGrid CV\n",
    "from sklearn.model_selection import GridSearchCV\n",
    "param_grid = {\n",
    "    \"logistic__C\":np.logspace(-1, 2, 10),\n",
    "    \"logistic__class_weight\": [\"balanced\"],\n",
    "    \"logistic__penalty\":[\"l1\",\"l2\"],\n",
    "    \"poly__degree\":[1,2,3,4]\n",
    "\n",
    "}\n",
    "search = GridSearchCV(lr_pipe, param_grid, scoring=\"f1\",cv=RepeatedKFold(n_splits=10, n_repeats=3, random_state=4))\n",
    "search.fit(X_over, Y_over)\n",
    "print(\"Best parameter (CV score=%0.3f):\" % search.best_score_)\n",
    "print(search.best_params_)"
   ]
  },
  {
   "cell_type": "code",
   "execution_count": 344,
   "metadata": {},
   "outputs": [
    {
     "name": "stdout",
     "output_type": "stream",
     "text": [
      "LogisticRegression(C=4.6415888336127775, class_weight='balanced', max_iter=7000,\n",
      "                   penalty='l1', random_state=4, solver='liblinear')\n"
     ]
    }
   ],
   "source": [
    "logistic__C = search.best_params_[\"logistic__C\"]\n",
    "logistic__class_weight = search.best_params_[\"logistic__class_weight\"]\n",
    "logistic__penalty = search.best_params_[\"logistic__penalty\"]\n",
    "poly_degree = search.best_params_[\"poly__degree\"]\n",
    "best_logisticReg = LogisticRegression(\n",
    "    penalty= logistic__penalty,\n",
    "    C= logistic__C,\n",
    "    class_weight=logistic__class_weight,\n",
    "    random_state=4,\n",
    "    solver= solver,\n",
    "    max_iter=7000\n",
    ")\n",
    "poly = PolynomialFeatures(degree=poly_degree)\n",
    "\n",
    "print(best_logisticReg)"
   ]
  },
  {
   "cell_type": "code",
   "execution_count": 345,
   "metadata": {},
   "outputs": [],
   "source": [
    "best_logistic_pipe = Pipeline(steps=[(\"poly\",poly),(\"scaler\", scaler), (\"model\",best_logisticReg)])"
   ]
  },
  {
   "cell_type": "code",
   "execution_count": 346,
   "metadata": {},
   "outputs": [
    {
     "name": "stdout",
     "output_type": "stream",
     "text": [
      "              precision    recall  f1-score   support\n",
      "\n",
      "           0       0.85      0.81      0.83        74\n",
      "           1       0.71      0.76      0.74        46\n",
      "\n",
      "    accuracy                           0.79       120\n",
      "   macro avg       0.78      0.79      0.78       120\n",
      "weighted avg       0.79      0.79      0.79       120\n",
      "\n"
     ]
    },
    {
     "data": {
      "image/png": "[encoded data removed]",
      "text/plain": [
       "<Figure size 432x288 with 2 Axes>"
      ]
     },
     "metadata": {
      "needs_background": "light"
     },
     "output_type": "display_data"
    }
   ],
   "source": [
    "best_logisticReg = get_best_model(best_logistic_pipe, X, Y)"
   ]
  },
  {
   "cell_type": "code",
   "execution_count": 432,
   "metadata": {},
   "outputs": [
    {
     "name": "stdout",
     "output_type": "stream",
     "text": [
      "F1-score: 0.631\n",
      "Accuracy score: 0.727\n",
      "Recall score: 0.671\n"
     ]
    }
   ],
   "source": [
    "print_cross_validate(best_logistic_pipe)\n"
   ]
  },
  {
   "cell_type": "markdown",
   "metadata": {},
   "source": [
    "## 2. Ridge Regression"
   ]
  },
  {
   "cell_type": "code",
   "execution_count": null,
   "metadata": {},
   "outputs": [],
   "source": []
  },
  {
   "cell_type": "markdown",
   "metadata": {},
   "source": [
    "## 3. Decision Tree"
   ]
  },
  {
   "cell_type": "code",
   "execution_count": 423,
   "metadata": {},
   "outputs": [],
   "source": [
    "df[\"Sepssis\"] = np.where(df[\"Sepssis\"].str.contains(\"Positive\"), 1, 0)\n"
   ]
  },
  {
   "cell_type": "code",
   "execution_count": 424,
   "metadata": {},
   "outputs": [
    {
     "data": {
      "text/plain": [
       "[<matplotlib.lines.Line2D at 0x7f8a74d3f340>]"
      ]
     },
     "execution_count": 424,
     "metadata": {},
     "output_type": "execute_result"
    },
    {
     "data": {
      "image/png": "[encoded data removed]",
      "text/plain": [
       "<Figure size 432x288 with 1 Axes>"
      ]
     },
     "metadata": {
      "needs_background": "light"
     },
     "output_type": "display_data"
    }
   ],
   "source": [
    "from sklearn.decomposition import PCA\n",
    "pca = PCA(n_components=8)\n",
    "pca.fit(df)\n",
    "#The amount of variance that each PC explains\n",
    "var= pca.explained_variance_ratio_\n",
    "\n",
    "#Cumulative Variance explains\n",
    "var1=np.cumsum(np.round(pca.explained_variance_ratio_, decimals=4)*100)\n",
    "\n",
    "plt.plot(var1)"
   ]
  },
  {
   "cell_type": "code",
   "execution_count": 442,
   "metadata": {},
   "outputs": [],
   "source": [
    "from sklearn.tree import DecisionTreeClassifier\n",
    "from imblearn.pipeline import Pipeline\n",
    "\n",
    "from sklearn.decomposition import PCA\n",
    "pca = PCA(n_components=5)\n",
    "\n",
    "# under = NeighbourhoodCleaningRule(n_neighbors=4, threshold_cleaning=0.5)\n",
    "# under = RandomUnderSampler(random_state=1)\n",
    "\n",
    "dtree_model = DecisionTreeClassifier(max_features=\"sqrt\", random_state=4, ccp_alpha=0.0032)\n",
    "steps = [('pca', pca),('model', dtree_model)]\n",
    "dtree_pipe = Pipeline(steps=steps)"
   ]
  },
  {
   "cell_type": "code",
   "execution_count": 443,
   "metadata": {},
   "outputs": [
    {
     "name": "stdout",
     "output_type": "stream",
     "text": [
      "Best parameter (CV score=0.741):\n",
      "{'model__ccp_alpha': 0.0027825594022071257, 'model__class_weight': {0: 0.45, 1: 0.55}, 'model__max_depth': 4, 'model__min_samples_leaf': 5}\n"
     ]
    }
   ],
   "source": [
    "param_grid = {\n",
    "    \"model__class_weight\": [{0:0.4,1:0.6}, {0:0.42,1:0.58},{0:0.45,1:0.55},{0:0.5,1:0.5}],\n",
    "    \"model__ccp_alpha\": np.logspace(-3,1,10),\n",
    "    \"model__max_depth\": [2,3,4],\n",
    "    \"model__min_samples_leaf\": [1,2,3,4,5],\n",
    "\n",
    "}\n",
    "cv = RepeatedKFold(n_splits=5, n_repeats=8, random_state=4)\n",
    "search = GridSearchCV(dtree_pipe, param_grid, scoring=\"f1\",cv=10, error_score=\"raise\")\n",
    "search.fit(X_over, Y_over)\n",
    "print(\"Best parameter (CV score=%0.3f):\" % search.best_score_)\n",
    "print(search.best_params_)"
   ]
  },
  {
   "cell_type": "code",
   "execution_count": 444,
   "metadata": {},
   "outputs": [],
   "source": [
    "b_params = search.best_params_\n",
    "model__class_weight = b_params[\"model__class_weight\"]\n",
    "model__ccp_alpha = b_params[\"model__ccp_alpha\"]\n",
    "model__max_depth = b_params[\"model__max_depth\"]\n",
    "model__min_samples_leaf = b_params[\"model__min_samples_leaf\"]\n",
    "\n",
    "dtree_model = DecisionTreeClassifier(max_features=\"sqrt\",\n",
    "class_weight=model__class_weight, \n",
    "random_state=4, \n",
    "ccp_alpha=model__ccp_alpha,\n",
    "max_depth=model__max_depth,\n",
    "min_samples_leaf=model__min_samples_leaf)\n",
    "\n",
    "steps = [('pca', pca), ('model', dtree_model)]\n",
    "\n",
    "dtree_pipe = Pipeline(steps=steps)\n"
   ]
  },
  {
   "cell_type": "code",
   "execution_count": 445,
   "metadata": {},
   "outputs": [
    {
     "name": "stdout",
     "output_type": "stream",
     "text": [
      "              precision    recall  f1-score   support\n",
      "\n",
      "           0       0.83      0.79      0.81        75\n",
      "           1       0.67      0.73      0.70        45\n",
      "\n",
      "    accuracy                           0.77       120\n",
      "   macro avg       0.75      0.76      0.76       120\n",
      "weighted avg       0.77      0.77      0.77       120\n",
      "\n"
     ]
    },
    {
     "data": {
      "image/png": "[encoded data removed]",
      "text/plain": [
       "<Figure size 432x288 with 2 Axes>"
      ]
     },
     "metadata": {
      "needs_background": "light"
     },
     "output_type": "display_data"
    }
   ],
   "source": [
    "get_best_model(dtree_pipe, X, Y)"
   ]
  },
  {
   "cell_type": "code",
   "execution_count": 446,
   "metadata": {},
   "outputs": [
    {
     "name": "stdout",
     "output_type": "stream",
     "text": [
      "F1-score: 0.586\n",
      "Accuracy score: 0.710\n",
      "Recall score: 0.601\n"
     ]
    }
   ],
   "source": [
    "print_cross_validate(dtree_pipe)"
   ]
  },
  {
   "cell_type": "markdown",
   "metadata": {},
   "source": [
    "## 4. Random Forest"
   ]
  },
  {
   "cell_type": "code",
   "execution_count": null,
   "metadata": {},
   "outputs": [],
   "source": []
  },
  {
   "cell_type": "markdown",
   "metadata": {},
   "source": [
    "## 5. Boosting\n"
   ]
  },
  {
   "cell_type": "code",
   "execution_count": 454,
   "metadata": {},
   "outputs": [
    {
     "name": "stdout",
     "output_type": "stream",
     "text": [
      "              precision    recall  f1-score   support\n",
      "\n",
      "           0       0.79      0.85      0.82        66\n",
      "           1       0.88      0.83      0.86        90\n",
      "\n",
      "    accuracy                           0.84       156\n",
      "   macro avg       0.84      0.84      0.84       156\n",
      "weighted avg       0.84      0.84      0.84       156\n",
      "\n"
     ]
    },
    {
     "data": {
      "image/png": "[encoded data removed]",
      "text/plain": [
       "<Figure size 432x288 with 2 Axes>"
      ]
     },
     "metadata": {
      "needs_background": "light"
     },
     "output_type": "display_data"
    }
   ],
   "source": [
    "from sklearn.ensemble import GradientBoostingClassifier\n",
    "\n",
    "clf = GradientBoostingClassifier(n_estimators=250, learning_rate=0.8, max_depth=1, random_state=0).fit(X_over, Y_over)\n",
    "get_best_model(clf, X_over, Y_over)"
   ]
  },
  {
   "cell_type": "code",
   "execution_count": 455,
   "metadata": {},
   "outputs": [
    {
     "name": "stdout",
     "output_type": "stream",
     "text": [
      "F1-score: 0.596\n",
      "Accuracy score: 0.735\n",
      "Recall score: 0.567\n"
     ]
    }
   ],
   "source": [
    "print_cross_validate(clf)"
   ]
  },
  {
   "cell_type": "code",
   "execution_count": null,
   "metadata": {},
   "outputs": [],
   "source": []
  }
 ],
 "metadata": {
  "interpreter": {
   "hash": "3c1a2142b08d95de69327be0de44667eac47bb927009047124a79e569957d679"
  },
  "kernelspec": {
   "display_name": "Python 3.9.10 64-bit",
   "language": "python",
   "name": "python3"
  },
  "language_info": {
   "codemirror_mode": {
    "name": "ipython",
    "version": 3
   },
   "file_extension": ".py",
   "mimetype": "text/x-python",
   "name": "python",
   "nbconvert_exporter": "python",
   "pygments_lexer": "ipython3",
   "version": "3.9.7"
  },
  "orig_nbformat": 4
 },
 "nbformat": 4,
 "nbformat_minor": 2
}
