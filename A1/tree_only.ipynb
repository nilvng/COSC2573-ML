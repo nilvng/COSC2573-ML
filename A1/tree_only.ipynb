{
 "cells": [
  {
   "cell_type": "code",
   "execution_count": 12,
   "metadata": {},
   "outputs": [],
   "source": [
    "import sklearn as sk\n",
    "import pandas as pd\n",
    "import matplotlib.pyplot as plt\n",
    "import numpy as np\n",
    "import seaborn as sns"
   ]
  },
  {
   "cell_type": "code",
   "execution_count": 92,
   "metadata": {},
   "outputs": [
    {
     "name": "stdout",
     "output_type": "stream",
     "text": [
      "          ID  PRG   PL  PR  SK   TS   M11    BD2  Age  Insurance   Sepssis\n",
      "0  ICU200010    6  148  72  35    0  33.6  0.627   50          0  Positive\n",
      "1  ICU200011    1   85  66  29    0  26.6  0.351   31          0  Negative\n",
      "2  ICU200012    8  183  64   0    0  23.3  0.672   32          1  Positive\n",
      "3  ICU200013    1   89  66  23   94  28.1  0.167   21          1  Negative\n",
      "4  ICU200014    0  137  40  35  168  43.1  2.288   33          1  Positive\n"
     ]
    }
   ],
   "source": [
    "# Loading data and check if it's loaded properly\n",
    "df = pd.read_csv(\"Paitients_Files_Train.csv\", delimiter=\",\")\n",
    "print(df.head(5))"
   ]
  },
  {
   "cell_type": "code",
   "execution_count": 14,
   "metadata": {},
   "outputs": [],
   "source": [
    "# drop 2 irrelevant columns: ID and Insurance\n",
    "df.drop(columns=\"ID\", inplace=True)\n",
    "df.drop(columns=\"Insurance\", inplace=True)"
   ]
  },
  {
   "cell_type": "code",
   "execution_count": 15,
   "metadata": {},
   "outputs": [],
   "source": [
    "X = df.drop(columns=\"Sepssis\")\n",
    "Y = df[[\"Sepssis\"]]"
   ]
  },
  {
   "cell_type": "code",
   "execution_count": 90,
   "metadata": {},
   "outputs": [
    {
     "data": {
      "text/plain": [
       "Sepssis \n",
       "Negative    391\n",
       "Positive    208\n",
       "dtype: int64"
      ]
     },
     "execution_count": 90,
     "metadata": {},
     "output_type": "execute_result"
    }
   ],
   "source": [
    "Y.value_counts()"
   ]
  },
  {
   "cell_type": "code",
   "execution_count": 16,
   "metadata": {},
   "outputs": [
    {
     "name": "stdout",
     "output_type": "stream",
     "text": [
      "Training X: (449, 8)\n",
      "Testing X:  (150, 8)\n",
      "Train Y:  (449, 1)\n"
     ]
    }
   ],
   "source": [
    "# spliting\n",
    "from sklearn.model_selection import train_test_split\n",
    "X_train, X_test, y_train, y_test = train_test_split(X, Y, random_state=6)\n",
    "print(\"Training X:\", X_train.shape)\n",
    "print(\"Testing X: \",X_test.shape)\n",
    "print(\"Train Y: \",y_train.shape)"
   ]
  },
  {
   "cell_type": "code",
   "execution_count": 85,
   "metadata": {},
   "outputs": [
    {
     "name": "stdout",
     "output_type": "stream",
     "text": [
      "Accuracy: 0.767\n"
     ]
    }
   ],
   "source": [
    "from sklearn.tree import DecisionTreeClassifier\n",
    "from sklearn import tree\n",
    "from sklearn import metrics\n",
    "dtf = DecisionTreeClassifier(criterion=\"gini\",max_features=2/3, max_depth=5, random_state=3, class_weight={\"Negative\":1, \"Positive\": 2})\n",
    "# fit model\n",
    "\n",
    "dtf.fit(X_train, y_train)\n",
    "# make predictions\n",
    "\n",
    "yhat = dtf.predict(X_test)\n",
    "\n",
    "# calculate accuracy\n",
    "\n",
    "accuracy = metrics.accuracy_score(yhat, y_test)\n",
    "\n",
    "print('Accuracy: %.3f' % dtf.score(X_test, y_test))"
   ]
  },
  {
   "cell_type": "code",
   "execution_count": 86,
   "metadata": {},
   "outputs": [
    {
     "name": "stdout",
     "output_type": "stream",
     "text": [
      "|--- BMI <= 30.25\n",
      "|   |--- B1 <= 103.50\n",
      "|   |   |--- BGlucose <= 11.50\n",
      "|   |   |   |--- BMI <= 28.95\n",
      "|   |   |   |   |--- class: Negative\n",
      "|   |   |   |--- BMI >  28.95\n",
      "|   |   |   |   |--- BMI <= 29.10\n",
      "|   |   |   |   |   |--- class: Negative\n",
      "|   |   |   |   |--- BMI >  29.10\n",
      "|   |   |   |   |   |--- class: Negative\n",
      "|   |   |--- BGlucose >  11.50\n",
      "|   |   |   |--- class: Positive\n",
      "|   |--- B1 >  103.50\n",
      "|   |   |--- BMI <= 25.45\n",
      "|   |   |   |--- B1 <= 177.50\n",
      "|   |   |   |   |--- BMI <= 9.20\n",
      "|   |   |   |   |   |--- class: Positive\n",
      "|   |   |   |   |--- BMI >  9.20\n",
      "|   |   |   |   |   |--- class: Negative\n",
      "|   |   |   |--- B1 >  177.50\n",
      "|   |   |   |   |--- class: Positive\n",
      "|   |   |--- BMI >  25.45\n",
      "|   |   |   |--- Age <= 62.50\n",
      "|   |   |   |   |--- B4 <= 0.25\n",
      "|   |   |   |   |   |--- class: Negative\n",
      "|   |   |   |   |--- B4 >  0.25\n",
      "|   |   |   |   |   |--- class: Positive\n",
      "|   |   |   |--- Age >  62.50\n",
      "|   |   |   |   |--- class: Negative\n",
      "|--- BMI >  30.25\n",
      "|   |--- B1 <= 127.50\n",
      "|   |   |--- Age <= 30.50\n",
      "|   |   |   |--- BMI <= 45.40\n",
      "|   |   |   |   |--- BMI <= 38.35\n",
      "|   |   |   |   |   |--- class: Negative\n",
      "|   |   |   |   |--- BMI >  38.35\n",
      "|   |   |   |   |   |--- class: Negative\n",
      "|   |   |   |--- BMI >  45.40\n",
      "|   |   |   |   |--- class: Positive\n",
      "|   |   |--- Age >  30.50\n",
      "|   |   |   |--- B3 <= 132.00\n",
      "|   |   |   |   |--- B1 <= 100.50\n",
      "|   |   |   |   |   |--- class: Negative\n",
      "|   |   |   |   |--- B1 >  100.50\n",
      "|   |   |   |   |   |--- class: Positive\n",
      "|   |   |   |--- B3 >  132.00\n",
      "|   |   |   |   |--- B1 <= 122.50\n",
      "|   |   |   |   |   |--- class: Positive\n",
      "|   |   |   |   |--- B1 >  122.50\n",
      "|   |   |   |   |   |--- class: Negative\n",
      "|   |--- B1 >  127.50\n",
      "|   |   |--- B3 <= 629.50\n",
      "|   |   |   |--- BPressure <= 61.00\n",
      "|   |   |   |   |--- class: Positive\n",
      "|   |   |   |--- BPressure >  61.00\n",
      "|   |   |   |   |--- B1 <= 154.50\n",
      "|   |   |   |   |   |--- class: Positive\n",
      "|   |   |   |   |--- B1 >  154.50\n",
      "|   |   |   |   |   |--- class: Positive\n",
      "|   |   |--- B3 >  629.50\n",
      "|   |   |   |--- class: Negative\n",
      "\n"
     ]
    }
   ],
   "source": [
    "text_ = tree.export_text(dtf,feature_names=['BGlucose', 'B1', 'BPressure', 'B2', 'B3', 'BMI', 'B4', 'Age'])\n",
    "print(text_)"
   ]
  },
  {
   "cell_type": "code",
   "execution_count": 87,
   "metadata": {},
   "outputs": [
    {
     "name": "stdout",
     "output_type": "stream",
     "text": [
      "0.8445236680530799\n"
     ]
    }
   ],
   "source": [
    "f_probs = dtf.predict_proba(X_test)\n",
    "f_probs = f_probs[:,1]\n",
    "print(metrics.roc_auc_score(y_test, f_probs))"
   ]
  },
  {
   "cell_type": "code",
   "execution_count": 88,
   "metadata": {},
   "outputs": [
    {
     "name": "stdout",
     "output_type": "stream",
     "text": [
      "              precision    recall  f1-score   support\n",
      "\n",
      "    Negative       0.90      0.73      0.80        99\n",
      "    Positive       0.61      0.84      0.71        51\n",
      "\n",
      "    accuracy                           0.77       150\n",
      "   macro avg       0.76      0.79      0.76       150\n",
      "weighted avg       0.80      0.77      0.77       150\n",
      "\n"
     ]
    }
   ],
   "source": [
    "print(metrics.classification_report(y_test, yhat))"
   ]
  },
  {
   "cell_type": "code",
   "execution_count": null,
   "metadata": {},
   "outputs": [],
   "source": []
  }
 ],
 "metadata": {
  "interpreter": {
   "hash": "ae5e6dd5896681063d24cbfb179503b398deae949aacdf9655b1a7be467fbaeb"
  },
  "kernelspec": {
   "display_name": "Python 3.9.7 64-bit ('base': conda)",
   "language": "python",
   "name": "python3"
  },
  "language_info": {
   "codemirror_mode": {
    "name": "ipython",
    "version": 3
   },
   "file_extension": ".py",
   "mimetype": "text/x-python",
   "name": "python",
   "nbconvert_exporter": "python",
   "pygments_lexer": "ipython3",
   "version": "3.9.7"
  },
  "orig_nbformat": 4
 },
 "nbformat": 4,
 "nbformat_minor": 2
}
