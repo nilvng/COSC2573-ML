{
 "cells": [
  {
   "cell_type": "code",
   "execution_count": 322,
   "metadata": {},
   "outputs": [],
   "source": [
    "import sklearn as sk\n",
    "import pandas as pd\n",
    "import matplotlib.pyplot as plt\n",
    "import numpy as np\n",
    "import seaborn as sns"
   ]
  },
  {
   "cell_type": "code",
   "execution_count": 323,
   "metadata": {},
   "outputs": [
    {
     "name": "stdout",
     "output_type": "stream",
     "text": [
      "          ID  PRG   PL  PR  SK   TS   M11    BD2  Age  Insurance   Sepssis\n",
      "0  ICU200010    6  148  72  35    0  33.6  0.627   50          0  Positive\n",
      "1  ICU200011    1   85  66  29    0  26.6  0.351   31          0  Negative\n",
      "2  ICU200012    8  183  64   0    0  23.3  0.672   32          1  Positive\n",
      "3  ICU200013    1   89  66  23   94  28.1  0.167   21          1  Negative\n",
      "4  ICU200014    0  137  40  35  168  43.1  2.288   33          1  Positive\n"
     ]
    }
   ],
   "source": [
    "# Loading data and check if it's loaded properly\n",
    "df = pd.read_csv(\"Paitients_Files_Train.csv\", delimiter=\",\")\n",
    "print(df.head(5))"
   ]
  },
  {
   "cell_type": "code",
   "execution_count": 324,
   "metadata": {},
   "outputs": [],
   "source": [
    "# drop 2 irrelevant columns: ID and Insurance\n",
    "df.drop(columns=\"ID\", inplace=True)\n",
    "df.drop(columns=\"Insurance\", inplace=True)"
   ]
  },
  {
   "cell_type": "code",
   "execution_count": 325,
   "metadata": {},
   "outputs": [],
   "source": [
    "X = df.drop(columns=\"Sepssis\")\n",
    "Y = df[[\"Sepssis\"]]"
   ]
  },
  {
   "cell_type": "code",
   "execution_count": 326,
   "metadata": {},
   "outputs": [
    {
     "data": {
      "text/plain": [
       "Sepssis \n",
       "Negative    391\n",
       "Positive    208\n",
       "dtype: int64"
      ]
     },
     "execution_count": 326,
     "metadata": {},
     "output_type": "execute_result"
    }
   ],
   "source": [
    "Y.value_counts()"
   ]
  },
  {
   "cell_type": "code",
   "execution_count": 327,
   "metadata": {},
   "outputs": [],
   "source": [
    "import numpy as np\n",
    "for col in X.columns:\n",
    "    percentiles = X[col].quantile([0.01, 0.99]).values\n",
    "    df[col] = np.clip(X[col], percentiles[0], percentiles[1])"
   ]
  },
  {
   "cell_type": "code",
   "execution_count": 328,
   "metadata": {},
   "outputs": [
    {
     "data": {
      "text/plain": [
       "Sepssis \n",
       "Negative    391\n",
       "Positive    208\n",
       "dtype: int64"
      ]
     },
     "execution_count": 328,
     "metadata": {},
     "output_type": "execute_result"
    }
   ],
   "source": [
    "Y.value_counts()"
   ]
  },
  {
   "cell_type": "code",
   "execution_count": 329,
   "metadata": {},
   "outputs": [
    {
     "name": "stdout",
     "output_type": "stream",
     "text": [
      "Training X: (479, 8)\n",
      "Testing X:  (120, 8)\n",
      "Train Y:  (479, 1)\n"
     ]
    }
   ],
   "source": [
    "# spliting\n",
    "from sklearn.model_selection import train_test_split\n",
    "X_train, X_test, y_train, y_test = train_test_split(X, Y, random_state=6, test_size=0.2)\n",
    "print(\"Training X:\", X_train.shape)\n",
    "print(\"Testing X: \",X_test.shape)\n",
    "print(\"Train Y: \",y_train.shape)"
   ]
  },
  {
   "cell_type": "code",
   "execution_count": 330,
   "metadata": {},
   "outputs": [
    {
     "name": "stdout",
     "output_type": "stream",
     "text": [
      "Accuracy: 0.767\n"
     ]
    }
   ],
   "source": [
    "from sklearn.tree import DecisionTreeClassifier\n",
    "from sklearn import tree\n",
    "from sklearn import metrics\n",
    "dtf = DecisionTreeClassifier(criterion=\"gini\",max_features=5/6, max_depth=5,\n",
    "random_state=3, class_weight={\"Negative\":0.22, \"Positive\": 0.78})\n",
    "# fit model\n",
    "\n",
    "dtf.fit(X_train, y_train)\n",
    "# make predictions\n",
    "\n",
    "yhat = dtf.predict(X_test)\n",
    "\n",
    "# calculate accuracy\n",
    "\n",
    "accuracy = metrics.accuracy_score(yhat, y_test)\n",
    "\n",
    "print('Accuracy: %.3f' % dtf.score(X_test, y_test))"
   ]
  },
  {
   "cell_type": "code",
   "execution_count": 331,
   "metadata": {},
   "outputs": [
    {
     "name": "stdout",
     "output_type": "stream",
     "text": [
      "|--- BMI <= 28.85\n",
      "|   |--- Age <= 27.50\n",
      "|   |   |--- BGlucose <= 2.50\n",
      "|   |   |   |--- class: Negative\n",
      "|   |   |--- BGlucose >  2.50\n",
      "|   |   |   |--- B4 <= 0.40\n",
      "|   |   |   |   |--- class: Negative\n",
      "|   |   |   |--- B4 >  0.40\n",
      "|   |   |   |   |--- B2 <= 15.50\n",
      "|   |   |   |   |   |--- class: Positive\n",
      "|   |   |   |   |--- B2 >  15.50\n",
      "|   |   |   |   |   |--- class: Negative\n",
      "|   |--- Age >  27.50\n",
      "|   |   |--- B3 <= 112.00\n",
      "|   |   |   |--- Age <= 62.50\n",
      "|   |   |   |   |--- Age <= 58.50\n",
      "|   |   |   |   |   |--- class: Negative\n",
      "|   |   |   |   |--- Age >  58.50\n",
      "|   |   |   |   |   |--- class: Positive\n",
      "|   |   |   |--- Age >  62.50\n",
      "|   |   |   |   |--- class: Negative\n",
      "|   |   |--- B3 >  112.00\n",
      "|   |   |   |--- BPressure <= 61.00\n",
      "|   |   |   |   |--- class: Negative\n",
      "|   |   |   |--- BPressure >  61.00\n",
      "|   |   |   |   |--- BPressure <= 83.00\n",
      "|   |   |   |   |   |--- class: Positive\n",
      "|   |   |   |   |--- BPressure >  83.00\n",
      "|   |   |   |   |   |--- class: Negative\n",
      "|--- BMI >  28.85\n",
      "|   |--- Age <= 30.50\n",
      "|   |   |--- B1 <= 127.50\n",
      "|   |   |   |--- BMI <= 45.40\n",
      "|   |   |   |   |--- BMI <= 38.35\n",
      "|   |   |   |   |   |--- class: Negative\n",
      "|   |   |   |   |--- BMI >  38.35\n",
      "|   |   |   |   |   |--- class: Negative\n",
      "|   |   |   |--- BMI >  45.40\n",
      "|   |   |   |   |--- Age <= 24.50\n",
      "|   |   |   |   |   |--- class: Positive\n",
      "|   |   |   |   |--- Age >  24.50\n",
      "|   |   |   |   |   |--- class: Positive\n",
      "|   |   |--- B1 >  127.50\n",
      "|   |   |   |--- B1 <= 165.50\n",
      "|   |   |   |   |--- B3 <= 252.50\n",
      "|   |   |   |   |   |--- class: Positive\n",
      "|   |   |   |   |--- B3 >  252.50\n",
      "|   |   |   |   |   |--- class: Negative\n",
      "|   |   |   |--- B1 >  165.50\n",
      "|   |   |   |   |--- class: Positive\n",
      "|   |--- Age >  30.50\n",
      "|   |   |--- B1 <= 107.50\n",
      "|   |   |   |--- B2 <= 17.00\n",
      "|   |   |   |   |--- Age <= 37.00\n",
      "|   |   |   |   |   |--- class: Positive\n",
      "|   |   |   |   |--- Age >  37.00\n",
      "|   |   |   |   |   |--- class: Negative\n",
      "|   |   |   |--- B2 >  17.00\n",
      "|   |   |   |   |--- B4 <= 0.22\n",
      "|   |   |   |   |   |--- class: Negative\n",
      "|   |   |   |   |--- B4 >  0.22\n",
      "|   |   |   |   |   |--- class: Positive\n",
      "|   |   |--- B1 >  107.50\n",
      "|   |   |   |--- Age <= 61.50\n",
      "|   |   |   |   |--- B3 <= 643.50\n",
      "|   |   |   |   |   |--- class: Positive\n",
      "|   |   |   |   |--- B3 >  643.50\n",
      "|   |   |   |   |   |--- class: Negative\n",
      "|   |   |   |--- Age >  61.50\n",
      "|   |   |   |   |--- Age <= 65.50\n",
      "|   |   |   |   |   |--- class: Negative\n",
      "|   |   |   |   |--- Age >  65.50\n",
      "|   |   |   |   |   |--- class: Positive\n",
      "\n"
     ]
    }
   ],
   "source": [
    "text_ = tree.export_text(dtf,feature_names=['BGlucose', 'B1', 'BPressure', 'B2', 'B3', 'BMI', 'B4', 'Age'])\n",
    "print(text_)"
   ]
  },
  {
   "cell_type": "code",
   "execution_count": 332,
   "metadata": {},
   "outputs": [
    {
     "name": "stdout",
     "output_type": "stream",
     "text": [
      "0.7880658436213992\n"
     ]
    }
   ],
   "source": [
    "f_probs = dtf.predict_proba(X_test)\n",
    "f_probs = f_probs[:,1]\n",
    "print(metrics.roc_auc_score(y_test, f_probs))"
   ]
  },
  {
   "cell_type": "code",
   "execution_count": 333,
   "metadata": {},
   "outputs": [
    {
     "name": "stdout",
     "output_type": "stream",
     "text": [
      "              precision    recall  f1-score   support\n",
      "\n",
      "    Negative       0.88      0.75      0.81        81\n",
      "    Positive       0.61      0.79      0.69        39\n",
      "\n",
      "    accuracy                           0.77       120\n",
      "   macro avg       0.75      0.77      0.75       120\n",
      "weighted avg       0.79      0.77      0.77       120\n",
      "\n"
     ]
    },
    {
     "data": {
      "text/plain": [
       "<AxesSubplot:>"
      ]
     },
     "execution_count": 333,
     "metadata": {},
     "output_type": "execute_result"
    },
    {
     "data": {
      "image/png": "[encoded data removed]",
      "text/plain": [
       "<Figure size 432x288 with 2 Axes>"
      ]
     },
     "metadata": {
      "needs_background": "light"
     },
     "output_type": "display_data"
    }
   ],
   "source": [
    "print(metrics.classification_report(y_test, yhat))\n",
    "fr_pred = dtf.predict(X_test)\n",
    "cnf_matrix = confusion_matrix(y_test, fr_pred)\n",
    "class_names=[\"Positive\",\"Negative\"] # name  of classes\n",
    "fig, ax = plt.subplots()\n",
    "tick_marks = np.arange(len(class_names))\n",
    "plt.xticks(tick_marks, class_names)\n",
    "plt.yticks(tick_marks, class_names)\n",
    "# create heatmap\n",
    "sns.heatmap(pd.DataFrame(cnf_matrix), annot=True, cmap=\"YlGnBu\" ,fmt='g')"
   ]
  },
  {
   "cell_type": "code",
   "execution_count": 335,
   "metadata": {},
   "outputs": [
    {
     "name": "stdout",
     "output_type": "stream",
     "text": [
      "F1 Score: 0.629\n"
     ]
    }
   ],
   "source": [
    "# define pipeline\n",
    "from numpy import mean\n",
    "from sklearn.model_selection import cross_val_score\n",
    "from sklearn.model_selection import RepeatedStratifiedKFold\n",
    "from sklearn.tree import DecisionTreeClassifier, DecisionTreeRegressor\n",
    "from imblearn.pipeline import Pipeline\n",
    "from imblearn.over_sampling import ADASYN, SVMSMOTE, SMOTE\n",
    "steps = [('over', ADASYN()), ('model', dtf)]\n",
    "pipeline = Pipeline(steps=steps)\n",
    "# evaluate pipeline\n",
    "cv = RepeatedStratifiedKFold(n_splits=10, n_repeats=3, random_state=1)\n",
    "scores = cross_val_score(pipeline, X_train, y_train, scoring='f1_macro', cv=cv, n_jobs=-1)\n",
    "score = mean(scores)\n",
    "print('F1 Score: %.3f' % score)"
   ]
  },
  {
   "cell_type": "markdown",
   "metadata": {},
   "source": [
    "# Random Forest"
   ]
  },
  {
   "cell_type": "code",
   "execution_count": 337,
   "metadata": {},
   "outputs": [
    {
     "data": {
      "text/plain": [
       "RandomForestClassifier(class_weight={'Negative': 0.22, 'Positive': 0.78},\n",
       "                       max_features=0.8333333333333334, random_state=3)"
      ]
     },
     "execution_count": 337,
     "metadata": {},
     "output_type": "execute_result"
    }
   ],
   "source": [
    "from sklearn.ensemble import RandomForestClassifier\n",
    "rf = RandomForestClassifier(max_features=5/6,random_state=3,class_weight={\"Negative\":0.22, \"Positive\": 0.78})\n",
    "rf.fit(X_train, y_train.to_numpy().ravel())"
   ]
  },
  {
   "cell_type": "code",
   "execution_count": 338,
   "metadata": {},
   "outputs": [
    {
     "name": "stdout",
     "output_type": "stream",
     "text": [
      "Random Forest: AUROC = 0.808\n"
     ]
    }
   ],
   "source": [
    "rf_probs = rf.predict_proba(X_test)\n",
    "\n",
    "rf_probs = rf_probs[:, 1]\n",
    "rf_auc = roc_auc_score(y_test, rf_probs)\n",
    "print('Random Forest: AUROC = %.3f' % (rf_auc))\n"
   ]
  },
  {
   "cell_type": "code",
   "execution_count": 343,
   "metadata": {},
   "outputs": [
    {
     "data": {
      "image/png": "[encoded data removed]",
      "text/plain": [
       "<Figure size 432x288 with 1 Axes>"
      ]
     },
     "metadata": {
      "needs_background": "light"
     },
     "output_type": "display_data"
    }
   ],
   "source": [
    "from sklearn.metrics import roc_curve, roc_auc_score\n",
    "\n",
    "rf_fpr, rf_tpr, _ = roc_curve(y_test, rf_probs, pos_label=\"Positive\")\n",
    "fpr, tpr, _ = roc_curve(y_test, f_probs,pos_label=\"Positive\")\n",
    "auc = roc_auc_score(y_test, f_probs)\n",
    "\n",
    "plt.plot(rf_fpr, rf_tpr, marker='.', label='Random Forest (AUROC = %0.3f)' % rf_auc)\n",
    "plt.plot(fpr, tpr, marker=\">\", label='Decision Tree (AUROC = %0.3f)' % auc)\n",
    "\n",
    "# Title\n",
    "plt.title('ROC Plot')\n",
    "# Axis labels\n",
    "plt.xlabel('False Positive Rate')\n",
    "plt.ylabel('True Positive Rate')\n",
    "# Show legend\n",
    "plt.legend() # \n",
    "# Show plot\n",
    "plt.show()"
   ]
  },
  {
   "cell_type": "code",
   "execution_count": 344,
   "metadata": {},
   "outputs": [
    {
     "data": {
      "image/png": "[encoded data removed]",
      "text/plain": [
       "<Figure size 432x288 with 1 Axes>"
      ]
     },
     "metadata": {
      "needs_background": "light"
     },
     "output_type": "display_data"
    }
   ],
   "source": [
    "from sklearn.metrics import roc_curve, roc_auc_score\n",
    "\n",
    "rf_fpr, rf_tpr, _ = roc_curve(y_test, rf_probs, pos_label=\"Negative\")\n",
    "fpr, tpr, _ = roc_curve(y_test, f_probs,pos_label=\"Negative\")\n",
    "auc = roc_auc_score(y_test, f_probs)\n",
    "\n",
    "plt.plot(rf_fpr, rf_tpr, marker='.', label='Random Forest (AUROC = %0.3f)' % rf_auc)\n",
    "plt.plot(fpr, tpr, marker=\">\", label='Decision Tree (AUROC = %0.3f)' % auc)\n",
    "\n",
    "# Title\n",
    "plt.title('ROC Plot')\n",
    "# Axis labels\n",
    "plt.xlabel('False Positive Rate')\n",
    "plt.ylabel('True Positive Rate')\n",
    "# Show legend\n",
    "plt.legend() # \n",
    "# Show plot\n",
    "plt.show()"
   ]
  },
  {
   "cell_type": "code",
   "execution_count": 340,
   "metadata": {},
   "outputs": [
    {
     "name": "stdout",
     "output_type": "stream",
     "text": [
      "              precision    recall  f1-score   support\n",
      "\n",
      "    Negative       0.83      0.89      0.86        81\n",
      "    Positive       0.73      0.62      0.67        39\n",
      "\n",
      "    accuracy                           0.80       120\n",
      "   macro avg       0.78      0.75      0.76       120\n",
      "weighted avg       0.79      0.80      0.80       120\n",
      "\n"
     ]
    },
    {
     "data": {
      "image/png": "[encoded data removed]",
      "text/plain": [
       "<Figure size 432x288 with 2 Axes>"
      ]
     },
     "metadata": {
      "needs_background": "light"
     },
     "output_type": "display_data"
    }
   ],
   "source": [
    "from sklearn.metrics import confusion_matrix\n",
    "fr_pred = rf.predict(X_test)\n",
    "cnf_matrix = confusion_matrix(y_test, fr_pred)\n",
    "class_names=[\"Positive\",\"Negative\"] # name  of classes\n",
    "fig, ax = plt.subplots()\n",
    "tick_marks = np.arange(len(class_names))\n",
    "plt.xticks(tick_marks, class_names)\n",
    "plt.yticks(tick_marks, class_names)\n",
    "# create heatmap\n",
    "sns.heatmap(pd.DataFrame(cnf_matrix), annot=True, cmap=\"YlGnBu\" ,fmt='g')\n",
    "ax.xaxis.set_label_position(\"top\")\n",
    "plt.tight_layout()\n",
    "plt.title('Confusion matrix', y=1.1)\n",
    "plt.ylabel('Actual label')\n",
    "plt.xlabel('Predicted label')\n",
    "print(metrics.classification_report(y_test, fr_pred))"
   ]
  },
  {
   "cell_type": "code",
   "execution_count": null,
   "metadata": {},
   "outputs": [],
   "source": []
  }
 ],
 "metadata": {
  "interpreter": {
   "hash": "ae5e6dd5896681063d24cbfb179503b398deae949aacdf9655b1a7be467fbaeb"
  },
  "kernelspec": {
   "display_name": "Python 3.9.7 64-bit ('base': conda)",
   "language": "python",
   "name": "python3"
  },
  "language_info": {
   "codemirror_mode": {
    "name": "ipython",
    "version": 3
   },
   "file_extension": ".py",
   "mimetype": "text/x-python",
   "name": "python",
   "nbconvert_exporter": "python",
   "pygments_lexer": "ipython3",
   "version": "3.9.7"
  },
  "orig_nbformat": 4
 },
 "nbformat": 4,
 "nbformat_minor": 2
}
