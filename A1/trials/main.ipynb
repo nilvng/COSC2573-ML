{
 "cells": [
  {
   "cell_type": "markdown",
   "id": "abc51e76-4ba4-49f5-95af-e1c9f92553a8",
   "metadata": {},
   "source": [
    "# Students info\n",
    "- Student number: s3804803\n",
    "- Student name: Nguyen Bao Ngan"
   ]
  },
  {
   "cell_type": "markdown",
   "id": "7db478be-309a-4e94-a858-9343dcd46011",
   "metadata": {},
   "source": [
    "# 1. Preprocessing"
   ]
  },
  {
   "cell_type": "code",
   "execution_count": 34,
   "id": "20518618-aec9-44b6-8da0-c2805b756e90",
   "metadata": {},
   "outputs": [],
   "source": [
    "import sklearn as sk\n",
    "import pandas as pd\n",
    "import matplotlib.pyplot as plt\n",
    "import numpy as np\n",
    "import seaborn as sns"
   ]
  },
  {
   "cell_type": "code",
   "execution_count": 35,
   "id": "8016d210-f413-4f44-a2c3-3a1debd99824",
   "metadata": {},
   "outputs": [
    {
     "data": {
      "text/html": [
       "<div>\n",
       "<style scoped>\n",
       "    .dataframe tbody tr th:only-of-type {\n",
       "        vertical-align: middle;\n",
       "    }\n",
       "\n",
       "    .dataframe tbody tr th {\n",
       "        vertical-align: top;\n",
       "    }\n",
       "\n",
       "    .dataframe thead th {\n",
       "        text-align: right;\n",
       "    }\n",
       "</style>\n",
       "<table border=\"1\" class=\"dataframe\">\n",
       "  <thead>\n",
       "    <tr style=\"text-align: right;\">\n",
       "      <th></th>\n",
       "      <th>ID</th>\n",
       "      <th>PRG</th>\n",
       "      <th>PL</th>\n",
       "      <th>PR</th>\n",
       "      <th>SK</th>\n",
       "      <th>TS</th>\n",
       "      <th>M11</th>\n",
       "      <th>BD2</th>\n",
       "      <th>Age</th>\n",
       "      <th>Insurance</th>\n",
       "      <th>Sepssis</th>\n",
       "    </tr>\n",
       "  </thead>\n",
       "  <tbody>\n",
       "    <tr>\n",
       "      <th>0</th>\n",
       "      <td>ICU200010</td>\n",
       "      <td>6</td>\n",
       "      <td>148</td>\n",
       "      <td>72</td>\n",
       "      <td>35</td>\n",
       "      <td>0</td>\n",
       "      <td>33.6</td>\n",
       "      <td>0.627</td>\n",
       "      <td>50</td>\n",
       "      <td>0</td>\n",
       "      <td>Positive</td>\n",
       "    </tr>\n",
       "    <tr>\n",
       "      <th>1</th>\n",
       "      <td>ICU200011</td>\n",
       "      <td>1</td>\n",
       "      <td>85</td>\n",
       "      <td>66</td>\n",
       "      <td>29</td>\n",
       "      <td>0</td>\n",
       "      <td>26.6</td>\n",
       "      <td>0.351</td>\n",
       "      <td>31</td>\n",
       "      <td>0</td>\n",
       "      <td>Negative</td>\n",
       "    </tr>\n",
       "    <tr>\n",
       "      <th>2</th>\n",
       "      <td>ICU200012</td>\n",
       "      <td>8</td>\n",
       "      <td>183</td>\n",
       "      <td>64</td>\n",
       "      <td>0</td>\n",
       "      <td>0</td>\n",
       "      <td>23.3</td>\n",
       "      <td>0.672</td>\n",
       "      <td>32</td>\n",
       "      <td>1</td>\n",
       "      <td>Positive</td>\n",
       "    </tr>\n",
       "    <tr>\n",
       "      <th>3</th>\n",
       "      <td>ICU200013</td>\n",
       "      <td>1</td>\n",
       "      <td>89</td>\n",
       "      <td>66</td>\n",
       "      <td>23</td>\n",
       "      <td>94</td>\n",
       "      <td>28.1</td>\n",
       "      <td>0.167</td>\n",
       "      <td>21</td>\n",
       "      <td>1</td>\n",
       "      <td>Negative</td>\n",
       "    </tr>\n",
       "    <tr>\n",
       "      <th>4</th>\n",
       "      <td>ICU200014</td>\n",
       "      <td>0</td>\n",
       "      <td>137</td>\n",
       "      <td>40</td>\n",
       "      <td>35</td>\n",
       "      <td>168</td>\n",
       "      <td>43.1</td>\n",
       "      <td>2.288</td>\n",
       "      <td>33</td>\n",
       "      <td>1</td>\n",
       "      <td>Positive</td>\n",
       "    </tr>\n",
       "    <tr>\n",
       "      <th>5</th>\n",
       "      <td>ICU200015</td>\n",
       "      <td>5</td>\n",
       "      <td>116</td>\n",
       "      <td>74</td>\n",
       "      <td>0</td>\n",
       "      <td>0</td>\n",
       "      <td>25.6</td>\n",
       "      <td>0.201</td>\n",
       "      <td>30</td>\n",
       "      <td>1</td>\n",
       "      <td>Negative</td>\n",
       "    </tr>\n",
       "    <tr>\n",
       "      <th>6</th>\n",
       "      <td>ICU200016</td>\n",
       "      <td>3</td>\n",
       "      <td>78</td>\n",
       "      <td>50</td>\n",
       "      <td>32</td>\n",
       "      <td>88</td>\n",
       "      <td>31.0</td>\n",
       "      <td>0.248</td>\n",
       "      <td>26</td>\n",
       "      <td>0</td>\n",
       "      <td>Positive</td>\n",
       "    </tr>\n",
       "    <tr>\n",
       "      <th>7</th>\n",
       "      <td>ICU200017</td>\n",
       "      <td>10</td>\n",
       "      <td>115</td>\n",
       "      <td>0</td>\n",
       "      <td>0</td>\n",
       "      <td>0</td>\n",
       "      <td>35.3</td>\n",
       "      <td>0.134</td>\n",
       "      <td>29</td>\n",
       "      <td>1</td>\n",
       "      <td>Negative</td>\n",
       "    </tr>\n",
       "    <tr>\n",
       "      <th>8</th>\n",
       "      <td>ICU200018</td>\n",
       "      <td>2</td>\n",
       "      <td>197</td>\n",
       "      <td>70</td>\n",
       "      <td>45</td>\n",
       "      <td>543</td>\n",
       "      <td>30.5</td>\n",
       "      <td>0.158</td>\n",
       "      <td>53</td>\n",
       "      <td>1</td>\n",
       "      <td>Positive</td>\n",
       "    </tr>\n",
       "    <tr>\n",
       "      <th>9</th>\n",
       "      <td>ICU200019</td>\n",
       "      <td>8</td>\n",
       "      <td>125</td>\n",
       "      <td>96</td>\n",
       "      <td>0</td>\n",
       "      <td>0</td>\n",
       "      <td>0.0</td>\n",
       "      <td>0.232</td>\n",
       "      <td>54</td>\n",
       "      <td>1</td>\n",
       "      <td>Positive</td>\n",
       "    </tr>\n",
       "    <tr>\n",
       "      <th>10</th>\n",
       "      <td>ICU200020</td>\n",
       "      <td>4</td>\n",
       "      <td>110</td>\n",
       "      <td>92</td>\n",
       "      <td>0</td>\n",
       "      <td>0</td>\n",
       "      <td>37.6</td>\n",
       "      <td>0.191</td>\n",
       "      <td>30</td>\n",
       "      <td>0</td>\n",
       "      <td>Negative</td>\n",
       "    </tr>\n",
       "    <tr>\n",
       "      <th>11</th>\n",
       "      <td>ICU200021</td>\n",
       "      <td>10</td>\n",
       "      <td>168</td>\n",
       "      <td>74</td>\n",
       "      <td>0</td>\n",
       "      <td>0</td>\n",
       "      <td>38.0</td>\n",
       "      <td>0.537</td>\n",
       "      <td>34</td>\n",
       "      <td>0</td>\n",
       "      <td>Positive</td>\n",
       "    </tr>\n",
       "    <tr>\n",
       "      <th>12</th>\n",
       "      <td>ICU200022</td>\n",
       "      <td>10</td>\n",
       "      <td>139</td>\n",
       "      <td>80</td>\n",
       "      <td>0</td>\n",
       "      <td>0</td>\n",
       "      <td>27.1</td>\n",
       "      <td>1.441</td>\n",
       "      <td>57</td>\n",
       "      <td>1</td>\n",
       "      <td>Negative</td>\n",
       "    </tr>\n",
       "    <tr>\n",
       "      <th>13</th>\n",
       "      <td>ICU200023</td>\n",
       "      <td>1</td>\n",
       "      <td>189</td>\n",
       "      <td>60</td>\n",
       "      <td>23</td>\n",
       "      <td>846</td>\n",
       "      <td>30.1</td>\n",
       "      <td>0.398</td>\n",
       "      <td>59</td>\n",
       "      <td>1</td>\n",
       "      <td>Positive</td>\n",
       "    </tr>\n",
       "    <tr>\n",
       "      <th>14</th>\n",
       "      <td>ICU200024</td>\n",
       "      <td>5</td>\n",
       "      <td>166</td>\n",
       "      <td>72</td>\n",
       "      <td>19</td>\n",
       "      <td>175</td>\n",
       "      <td>25.8</td>\n",
       "      <td>0.587</td>\n",
       "      <td>51</td>\n",
       "      <td>1</td>\n",
       "      <td>Positive</td>\n",
       "    </tr>\n",
       "  </tbody>\n",
       "</table>\n",
       "</div>"
      ],
      "text/plain": [
       "           ID  PRG   PL  PR  SK   TS   M11    BD2  Age  Insurance   Sepssis\n",
       "0   ICU200010    6  148  72  35    0  33.6  0.627   50          0  Positive\n",
       "1   ICU200011    1   85  66  29    0  26.6  0.351   31          0  Negative\n",
       "2   ICU200012    8  183  64   0    0  23.3  0.672   32          1  Positive\n",
       "3   ICU200013    1   89  66  23   94  28.1  0.167   21          1  Negative\n",
       "4   ICU200014    0  137  40  35  168  43.1  2.288   33          1  Positive\n",
       "5   ICU200015    5  116  74   0    0  25.6  0.201   30          1  Negative\n",
       "6   ICU200016    3   78  50  32   88  31.0  0.248   26          0  Positive\n",
       "7   ICU200017   10  115   0   0    0  35.3  0.134   29          1  Negative\n",
       "8   ICU200018    2  197  70  45  543  30.5  0.158   53          1  Positive\n",
       "9   ICU200019    8  125  96   0    0   0.0  0.232   54          1  Positive\n",
       "10  ICU200020    4  110  92   0    0  37.6  0.191   30          0  Negative\n",
       "11  ICU200021   10  168  74   0    0  38.0  0.537   34          0  Positive\n",
       "12  ICU200022   10  139  80   0    0  27.1  1.441   57          1  Negative\n",
       "13  ICU200023    1  189  60  23  846  30.1  0.398   59          1  Positive\n",
       "14  ICU200024    5  166  72  19  175  25.8  0.587   51          1  Positive"
      ]
     },
     "execution_count": 35,
     "metadata": {},
     "output_type": "execute_result"
    }
   ],
   "source": [
    "# Loading data and check if it's loaded properly\n",
    "df = pd.read_csv(\"Paitients_Files_Train.csv\", delimiter=\",\")\n",
    "df.head(15) "
   ]
  },
  {
   "cell_type": "code",
   "execution_count": 36,
   "id": "ebf0ea31-0e04-430c-9539-f096ec8a56d9",
   "metadata": {},
   "outputs": [],
   "source": [
    "# drop 2 irrelevant columns: ID and Insurance\n",
    "df.drop(columns=\"ID\", inplace=True)\n",
    "df.drop(columns=\"Insurance\", inplace=True)"
   ]
  },
  {
   "cell_type": "code",
   "execution_count": 37,
   "id": "718d095d-b3fb-4909-ace7-152c70659591",
   "metadata": {},
   "outputs": [],
   "source": [
    "# rename the column so that it's easier to evaluate them later\n",
    "df = df.rename(columns={\n",
    "    \"PRG\": \"BGlucose\",\n",
    "    \"PL\": \"B1\",\n",
    "    \"PR\": \"BPressure\",\n",
    "    \"SK\": \"B2\",\n",
    "    \"TS\": \"B3\",\n",
    "    \"M11\": \"BMI\",\n",
    "    \"BD2\": \"B4\",\n",
    "})"
   ]
  },
  {
   "cell_type": "markdown",
   "id": "df146150-36d1-4cf4-8ce8-eff6e0473d5e",
   "metadata": {
    "tags": []
   },
   "source": [
    "## 1.1 Check data types, null values\n",
    "- According to the below table, 10 features don't have any missing values, 599 out 599 is non-null. However, in the first 15 records, we see that there are some value = 0 ?, so we need look it up to see if 0 is valid value for those columns."
   ]
  },
  {
   "cell_type": "code",
   "execution_count": 38,
   "id": "6eac7212-bbd1-4e0e-b373-407c814fe77c",
   "metadata": {},
   "outputs": [
    {
     "name": "stdout",
     "output_type": "stream",
     "text": [
      "<class 'pandas.core.frame.DataFrame'>\n",
      "RangeIndex: 599 entries, 0 to 598\n",
      "Data columns (total 9 columns):\n",
      " #   Column     Non-Null Count  Dtype  \n",
      "---  ------     --------------  -----  \n",
      " 0   BGlucose   599 non-null    int64  \n",
      " 1   B1         599 non-null    int64  \n",
      " 2   BPressure  599 non-null    int64  \n",
      " 3   B2         599 non-null    int64  \n",
      " 4   B3         599 non-null    int64  \n",
      " 5   BMI        599 non-null    float64\n",
      " 6   B4         599 non-null    float64\n",
      " 7   Age        599 non-null    int64  \n",
      " 8   Sepssis    599 non-null    object \n",
      "dtypes: float64(2), int64(6), object(1)\n",
      "memory usage: 42.2+ KB\n"
     ]
    }
   ],
   "source": [
    "# Inspect data types of the dataset\n",
    "df.info()"
   ]
  },
  {
   "cell_type": "code",
   "execution_count": 39,
   "id": "f713e5d8",
   "metadata": {},
   "outputs": [
    {
     "data": {
      "text/plain": [
       "BGlucose     0\n",
       "B1           0\n",
       "BPressure    0\n",
       "B2           0\n",
       "B3           0\n",
       "BMI          0\n",
       "B4           0\n",
       "Age          0\n",
       "Sepssis      0\n",
       "dtype: int64"
      ]
     },
     "execution_count": 39,
     "metadata": {},
     "output_type": "execute_result"
    }
   ],
   "source": [
    "pd.isna(df).sum()"
   ]
  },
  {
   "cell_type": "code",
   "execution_count": 40,
   "id": "2aaf7bc5-1b12-43cf-9ebd-44750cd18536",
   "metadata": {},
   "outputs": [
    {
     "data": {
      "text/html": [
       "<div>\n",
       "<style scoped>\n",
       "    .dataframe tbody tr th:only-of-type {\n",
       "        vertical-align: middle;\n",
       "    }\n",
       "\n",
       "    .dataframe tbody tr th {\n",
       "        vertical-align: top;\n",
       "    }\n",
       "\n",
       "    .dataframe thead th {\n",
       "        text-align: right;\n",
       "    }\n",
       "</style>\n",
       "<table border=\"1\" class=\"dataframe\">\n",
       "  <thead>\n",
       "    <tr style=\"text-align: right;\">\n",
       "      <th></th>\n",
       "      <th>BGlucose</th>\n",
       "      <th>B1</th>\n",
       "      <th>BPressure</th>\n",
       "      <th>B2</th>\n",
       "      <th>B3</th>\n",
       "      <th>BMI</th>\n",
       "      <th>B4</th>\n",
       "      <th>Age</th>\n",
       "    </tr>\n",
       "  </thead>\n",
       "  <tbody>\n",
       "    <tr>\n",
       "      <th>count</th>\n",
       "      <td>599.000000</td>\n",
       "      <td>599.000000</td>\n",
       "      <td>599.000000</td>\n",
       "      <td>599.000000</td>\n",
       "      <td>599.000000</td>\n",
       "      <td>599.000000</td>\n",
       "      <td>599.000000</td>\n",
       "      <td>599.000000</td>\n",
       "    </tr>\n",
       "    <tr>\n",
       "      <th>mean</th>\n",
       "      <td>3.824708</td>\n",
       "      <td>120.153589</td>\n",
       "      <td>68.732888</td>\n",
       "      <td>20.562604</td>\n",
       "      <td>79.460768</td>\n",
       "      <td>31.920033</td>\n",
       "      <td>0.481187</td>\n",
       "      <td>33.290484</td>\n",
       "    </tr>\n",
       "    <tr>\n",
       "      <th>std</th>\n",
       "      <td>3.362839</td>\n",
       "      <td>32.682364</td>\n",
       "      <td>19.335675</td>\n",
       "      <td>16.017622</td>\n",
       "      <td>116.576176</td>\n",
       "      <td>8.008227</td>\n",
       "      <td>0.337552</td>\n",
       "      <td>11.828446</td>\n",
       "    </tr>\n",
       "    <tr>\n",
       "      <th>min</th>\n",
       "      <td>0.000000</td>\n",
       "      <td>0.000000</td>\n",
       "      <td>0.000000</td>\n",
       "      <td>0.000000</td>\n",
       "      <td>0.000000</td>\n",
       "      <td>0.000000</td>\n",
       "      <td>0.078000</td>\n",
       "      <td>21.000000</td>\n",
       "    </tr>\n",
       "    <tr>\n",
       "      <th>25%</th>\n",
       "      <td>1.000000</td>\n",
       "      <td>99.000000</td>\n",
       "      <td>64.000000</td>\n",
       "      <td>0.000000</td>\n",
       "      <td>0.000000</td>\n",
       "      <td>27.100000</td>\n",
       "      <td>0.248000</td>\n",
       "      <td>24.000000</td>\n",
       "    </tr>\n",
       "    <tr>\n",
       "      <th>50%</th>\n",
       "      <td>3.000000</td>\n",
       "      <td>116.000000</td>\n",
       "      <td>70.000000</td>\n",
       "      <td>23.000000</td>\n",
       "      <td>36.000000</td>\n",
       "      <td>32.000000</td>\n",
       "      <td>0.383000</td>\n",
       "      <td>29.000000</td>\n",
       "    </tr>\n",
       "    <tr>\n",
       "      <th>75%</th>\n",
       "      <td>6.000000</td>\n",
       "      <td>140.000000</td>\n",
       "      <td>80.000000</td>\n",
       "      <td>32.000000</td>\n",
       "      <td>123.500000</td>\n",
       "      <td>36.550000</td>\n",
       "      <td>0.647000</td>\n",
       "      <td>40.000000</td>\n",
       "    </tr>\n",
       "    <tr>\n",
       "      <th>max</th>\n",
       "      <td>17.000000</td>\n",
       "      <td>198.000000</td>\n",
       "      <td>122.000000</td>\n",
       "      <td>99.000000</td>\n",
       "      <td>846.000000</td>\n",
       "      <td>67.100000</td>\n",
       "      <td>2.420000</td>\n",
       "      <td>81.000000</td>\n",
       "    </tr>\n",
       "  </tbody>\n",
       "</table>\n",
       "</div>"
      ],
      "text/plain": [
       "         BGlucose          B1   BPressure          B2          B3         BMI  \\\n",
       "count  599.000000  599.000000  599.000000  599.000000  599.000000  599.000000   \n",
       "mean     3.824708  120.153589   68.732888   20.562604   79.460768   31.920033   \n",
       "std      3.362839   32.682364   19.335675   16.017622  116.576176    8.008227   \n",
       "min      0.000000    0.000000    0.000000    0.000000    0.000000    0.000000   \n",
       "25%      1.000000   99.000000   64.000000    0.000000    0.000000   27.100000   \n",
       "50%      3.000000  116.000000   70.000000   23.000000   36.000000   32.000000   \n",
       "75%      6.000000  140.000000   80.000000   32.000000  123.500000   36.550000   \n",
       "max     17.000000  198.000000  122.000000   99.000000  846.000000   67.100000   \n",
       "\n",
       "               B4         Age  \n",
       "count  599.000000  599.000000  \n",
       "mean     0.481187   33.290484  \n",
       "std      0.337552   11.828446  \n",
       "min      0.078000   21.000000  \n",
       "25%      0.248000   24.000000  \n",
       "50%      0.383000   29.000000  \n",
       "75%      0.647000   40.000000  \n",
       "max      2.420000   81.000000  "
      ]
     },
     "execution_count": 40,
     "metadata": {},
     "output_type": "execute_result"
    }
   ],
   "source": [
    "df.describe()"
   ]
  },
  {
   "cell_type": "markdown",
   "id": "304fa796-11ee-45d0-ae8f-ea42413e441f",
   "metadata": {},
   "source": [
    "### Data Analysis\n",
    "- There is lots of missing values that need to be replaced.\n",
    "\n",
    "- **Mass Index**:Mostly overweight.\n",
    "- **Age**: very young age group. Usually sepsis is detected in patient over 50 years"
   ]
  },
  {
   "cell_type": "code",
   "execution_count": 41,
   "id": "4e380a69-1587-4d66-baa2-3438c607cda7",
   "metadata": {},
   "outputs": [
    {
     "data": {
      "image/png": "[encoded data removed]",
      "text/plain": [
       "<Figure size 1440x1440 with 9 Axes>"
      ]
     },
     "metadata": {
      "needs_background": "light"
     },
     "output_type": "display_data"
    }
   ],
   "source": [
    "# More visualization to analysis dataset\n",
    "plt.figure(figsize= (20,20))\n",
    "n = len(df.columns)\n",
    "\n",
    "for i, col in enumerate(df.columns):\n",
    "    plt.subplot(4,5,i+1)\n",
    "    plt.hist(df[col], alpha=0.3, color=\"r\")\n",
    "    plt.title(col)"
   ]
  },
  {
   "cell_type": "code",
   "execution_count": 42,
   "id": "b80ee345-eff2-474f-b248-077f50ec48c5",
   "metadata": {},
   "outputs": [
    {
     "name": "stdout",
     "output_type": "stream",
     "text": [
      "[1 0 1 0 1]\n"
     ]
    },
    {
     "name": "stderr",
     "output_type": "stream",
     "text": [
      "/Users/lap11353-local/opt/anaconda3/lib/python3.9/site-packages/sklearn/preprocessing/_label.py:115: DataConversionWarning: A column-vector y was passed when a 1d array was expected. Please change the shape of y to (n_samples, ), for example using ravel().\n",
      "  y = column_or_1d(y, warn=True)\n"
     ]
    }
   ],
   "source": [
    "# Encode target value\n",
    "\n",
    "from sklearn.preprocessing import LabelEncoder\n",
    "\n",
    "Y = df[[\"Sepssis\"]]\n",
    "label_encoder = LabelEncoder()\n",
    "Y = label_encoder.fit_transform(Y)\n",
    "\n",
    "print(Y[:5])"
   ]
  },
  {
   "cell_type": "code",
   "execution_count": 43,
   "id": "4ed17aa3-75f7-4047-a36e-5623cc7d8466",
   "metadata": {},
   "outputs": [],
   "source": [
    "# drop target column\n",
    "X = df.drop(columns=\"Sepssis\")"
   ]
  },
  {
   "cell_type": "code",
   "execution_count": 44,
   "id": "96d9dbf5-43cf-4465-9a42-92e84f7085f3",
   "metadata": {},
   "outputs": [
    {
     "data": {
      "image/png": "[encoded data removed]",
      "text/plain": [
       "<Figure size 720x720 with 8 Axes>"
      ]
     },
     "metadata": {
      "needs_background": "light"
     },
     "output_type": "display_data"
    }
   ],
   "source": [
    "\n",
    "# Boxplot for a range of value\n",
    "import math\n",
    "fig, ax = plt.subplots(2,4,figsize=(10,10))\n",
    "\n",
    "n = len(X.columns)\n",
    "for i, col in enumerate(X.columns):\n",
    "    if math.floor(i / 4) >= len(ax):\n",
    "        continue\n",
    "    ax_col = ax[math.floor(i / 4), i % 4]\n",
    "    ax_col.boxplot(X[col])\n",
    "    ax_col.set_title(col)\n"
   ]
  },
  {
   "cell_type": "markdown",
   "id": "78058c53-1e3c-46bf-9b81-b74ee7b76869",
   "metadata": {},
   "source": [
    "Why there are so many outliers...? How should we handle them, because they also appear in test file..."
   ]
  },
  {
   "cell_type": "code",
   "execution_count": 45,
   "id": "ea60a569",
   "metadata": {},
   "outputs": [
    {
     "name": "stdout",
     "output_type": "stream",
     "text": [
      "Outliers of BGlucose: 4\n",
      "Outliers of B1: 9\n",
      "Outliers of BPressure: 37\n",
      "Outliers of B2: 38\n",
      "Outliers of B3: 52\n",
      "Outliers of BMI: 63\n",
      "Outliers of B4: 72\n",
      "Outliers of Age: 75\n"
     ]
    }
   ],
   "source": [
    "# Outliers\n",
    "import numpy as np\n",
    "outliers = []\n",
    "def detect_outliers_zscore(data):\n",
    "    thres = 3\n",
    "    mean = np.mean(data)\n",
    "    std = np.std(data)\n",
    "    # print(mean, std)\n",
    "    for i in data:\n",
    "        z_score = (i-mean)/std\n",
    "        if (np.abs(z_score) > thres):\n",
    "            outliers.append(i)\n",
    "    return outliers# Driver code\n",
    "def detect_outliers_iqr(data):\n",
    "    data = sorted(data)\n",
    "    q1 = np.percentile(data, 25)\n",
    "    q3 = np.percentile(data, 75)\n",
    "    # print(q1, q3)\n",
    "    IQR = q3-q1\n",
    "    lwr_bound = q1-(1.5*IQR)\n",
    "    upr_bound = q3+(1.5*IQR)\n",
    "    # print(lwr_bound, upr_bound)\n",
    "    for i in data: \n",
    "        if (i<lwr_bound or i>upr_bound):\n",
    "            outliers.append(i)\n",
    "    return outliers# Driver code\n",
    "for col in X.columns:\n",
    "    sample_outliers = detect_outliers_zscore(X[col])\n",
    "    print(f\"Outliers of {col}: {len(sample_outliers)}\")"
   ]
  },
  {
   "cell_type": "code",
   "execution_count": 46,
   "id": "f3dd2ab2",
   "metadata": {},
   "outputs": [],
   "source": [
    "from sklearn.cluster import KMeans\n",
    "def kmeans_missing(X, n_clusters, max_iter=10):\n",
    "    \"\"\"Perform K-Means clustering on data with missing values.\n",
    "\n",
    "    Args:\n",
    "      X: An [n_samples, n_features] array of data to cluster.\n",
    "      n_clusters: Number of clusters to form.\n",
    "      max_iter: Maximum number of EM iterations to perform.\n",
    "\n",
    "    Returns:\n",
    "      labels: An [n_samples] vector of integer labels.\n",
    "      centroids: An [n_clusters, n_features] array of cluster centroids.\n",
    "      X_hat: Copy of X with the missing values filled in.\n",
    "    \"\"\"\n",
    "\n",
    "    # Initialize missing values to their column means\n",
    "    missing = 0\n",
    "    mu = np.nanmean(X, 0, keepdims=1)\n",
    "    X_hat = np.where(missing, mu, X)\n",
    "\n",
    "    for i in range(max_iter):\n",
    "        if i > 0:\n",
    "            # initialize KMeans with the previous set of centroids. this is much\n",
    "            # faster and makes it easier to check convergence (since labels\n",
    "            # won't be permuted on every iteration), but might be more prone to\n",
    "            # getting stuck in local minima.\n",
    "            cls = KMeans(n_clusters, init=prev_centroids)\n",
    "        else:\n",
    "            # do multiple random initializations in parallel\n",
    "            cls = KMeans(n_clusters)\n",
    "\n",
    "        # perform clustering on the filled-in data\n",
    "        labels = cls.fit_predict(X_hat)\n",
    "        centroids = cls.cluster_centers_\n",
    "\n",
    "        # fill in the missing values based on their cluster centroids\n",
    "        X_hat[missing] = centroids[labels][missing]\n",
    "\n",
    "        # when the labels have stopped changing then we have converged\n",
    "        if i > 0 and np.all(labels == prev_labels):\n",
    "            break\n",
    "\n",
    "        prev_labels = labels\n",
    "        prev_centroids = cls.cluster_centers_\n",
    "\n",
    "    return labels, centroids, X_hat"
   ]
  },
  {
   "cell_type": "code",
   "execution_count": 47,
   "id": "4841c3d1",
   "metadata": {},
   "outputs": [],
   "source": [
    "# from sklearn.impute import KNNImputer\n",
    "# from sklearn.compose import ColumnTransformer\n",
    "\n",
    "# X[\"BMI\"].replace({0:np.nan}, inplace=True)\n",
    "\n",
    "# imputer = KNNImputer(n_neighbors=2)\n",
    "\n",
    "# transformer = ColumnTransformer([(\"imputer\",imputer, \"BMI\" )])\n",
    "\n",
    "# X_imput = transformer.fit_transform(X)\n",
    "# X_imput = pd.DataFrame(X_imput).head(5)\n",
    "\n",
    "# After capping outliers, how many zero do we have left?\n",
    "# print number of 0\n",
    "# for col in X_imput.columns:\n",
    "#     print(f\"{col}: {X_imput[col].isin([0]).sum()}\")\n",
    "# X = pd.DataFrame(X_imput)"
   ]
  },
  {
   "cell_type": "code",
   "execution_count": 48,
   "id": "c138b23c",
   "metadata": {},
   "outputs": [],
   "source": [
    "import numpy as np\n",
    "for col in X.columns:\n",
    "    percentiles = X[col].quantile([0.01, 0.99]).values\n",
    "    X[col] = np.clip(X[col], percentiles[0], percentiles[1])"
   ]
  },
  {
   "cell_type": "code",
   "execution_count": 49,
   "id": "cf5d5072",
   "metadata": {},
   "outputs": [
    {
     "data": {
      "image/png": "[encoded data removed]",
      "text/plain": [
       "<Figure size 720x720 with 8 Axes>"
      ]
     },
     "metadata": {
      "needs_background": "light"
     },
     "output_type": "display_data"
    }
   ],
   "source": [
    "# Boxplot after removing outliers\n",
    "import math\n",
    "fig, ax = plt.subplots(2,4,figsize=(10,10))\n",
    "\n",
    "n = len(X.columns)\n",
    "for i, col in enumerate(X.columns):\n",
    "    if math.floor(i / 4) >= len(ax):\n",
    "        continue\n",
    "    ax_col = ax[math.floor(i / 4), i % 4]\n",
    "    ax_col.boxplot(X[col])\n",
    "    ax_col.set_title(col)"
   ]
  },
  {
   "cell_type": "code",
   "execution_count": 50,
   "id": "f8d0480b",
   "metadata": {},
   "outputs": [
    {
     "data": {
      "text/html": [
       "<div>\n",
       "<style scoped>\n",
       "    .dataframe tbody tr th:only-of-type {\n",
       "        vertical-align: middle;\n",
       "    }\n",
       "\n",
       "    .dataframe tbody tr th {\n",
       "        vertical-align: top;\n",
       "    }\n",
       "\n",
       "    .dataframe thead th {\n",
       "        text-align: right;\n",
       "    }\n",
       "</style>\n",
       "<table border=\"1\" class=\"dataframe\">\n",
       "  <thead>\n",
       "    <tr style=\"text-align: right;\">\n",
       "      <th></th>\n",
       "      <th>BGlucose</th>\n",
       "      <th>B1</th>\n",
       "      <th>BPressure</th>\n",
       "      <th>B2</th>\n",
       "      <th>B3</th>\n",
       "      <th>BMI</th>\n",
       "      <th>B4</th>\n",
       "      <th>Age</th>\n",
       "    </tr>\n",
       "  </thead>\n",
       "  <tbody>\n",
       "    <tr>\n",
       "      <th>count</th>\n",
       "      <td>599.000000</td>\n",
       "      <td>599.000000</td>\n",
       "      <td>599.000000</td>\n",
       "      <td>599.000000</td>\n",
       "      <td>599.000000</td>\n",
       "      <td>599.000000</td>\n",
       "      <td>599.000000</td>\n",
       "      <td>599.000000</td>\n",
       "    </tr>\n",
       "    <tr>\n",
       "      <th>mean</th>\n",
       "      <td>3.811352</td>\n",
       "      <td>120.638464</td>\n",
       "      <td>68.660234</td>\n",
       "      <td>20.439466</td>\n",
       "      <td>78.232454</td>\n",
       "      <td>31.876461</td>\n",
       "      <td>0.477130</td>\n",
       "      <td>33.245609</td>\n",
       "    </tr>\n",
       "    <tr>\n",
       "      <th>std</th>\n",
       "      <td>3.320576</td>\n",
       "      <td>31.245890</td>\n",
       "      <td>19.182127</td>\n",
       "      <td>15.644498</td>\n",
       "      <td>110.398214</td>\n",
       "      <td>7.866771</td>\n",
       "      <td>0.318419</td>\n",
       "      <td>11.683879</td>\n",
       "    </tr>\n",
       "    <tr>\n",
       "      <th>min</th>\n",
       "      <td>0.000000</td>\n",
       "      <td>56.740000</td>\n",
       "      <td>0.000000</td>\n",
       "      <td>0.000000</td>\n",
       "      <td>0.000000</td>\n",
       "      <td>0.000000</td>\n",
       "      <td>0.088980</td>\n",
       "      <td>21.000000</td>\n",
       "    </tr>\n",
       "    <tr>\n",
       "      <th>25%</th>\n",
       "      <td>1.000000</td>\n",
       "      <td>99.000000</td>\n",
       "      <td>64.000000</td>\n",
       "      <td>0.000000</td>\n",
       "      <td>0.000000</td>\n",
       "      <td>27.100000</td>\n",
       "      <td>0.248000</td>\n",
       "      <td>24.000000</td>\n",
       "    </tr>\n",
       "    <tr>\n",
       "      <th>50%</th>\n",
       "      <td>3.000000</td>\n",
       "      <td>116.000000</td>\n",
       "      <td>70.000000</td>\n",
       "      <td>23.000000</td>\n",
       "      <td>36.000000</td>\n",
       "      <td>32.000000</td>\n",
       "      <td>0.383000</td>\n",
       "      <td>29.000000</td>\n",
       "    </tr>\n",
       "    <tr>\n",
       "      <th>75%</th>\n",
       "      <td>6.000000</td>\n",
       "      <td>140.000000</td>\n",
       "      <td>80.000000</td>\n",
       "      <td>32.000000</td>\n",
       "      <td>123.500000</td>\n",
       "      <td>36.550000</td>\n",
       "      <td>0.647000</td>\n",
       "      <td>40.000000</td>\n",
       "    </tr>\n",
       "    <tr>\n",
       "      <th>max</th>\n",
       "      <td>13.000000</td>\n",
       "      <td>196.000000</td>\n",
       "      <td>104.080000</td>\n",
       "      <td>52.040000</td>\n",
       "      <td>543.040000</td>\n",
       "      <td>52.300000</td>\n",
       "      <td>1.732000</td>\n",
       "      <td>66.020000</td>\n",
       "    </tr>\n",
       "  </tbody>\n",
       "</table>\n",
       "</div>"
      ],
      "text/plain": [
       "         BGlucose          B1   BPressure          B2          B3         BMI  \\\n",
       "count  599.000000  599.000000  599.000000  599.000000  599.000000  599.000000   \n",
       "mean     3.811352  120.638464   68.660234   20.439466   78.232454   31.876461   \n",
       "std      3.320576   31.245890   19.182127   15.644498  110.398214    7.866771   \n",
       "min      0.000000   56.740000    0.000000    0.000000    0.000000    0.000000   \n",
       "25%      1.000000   99.000000   64.000000    0.000000    0.000000   27.100000   \n",
       "50%      3.000000  116.000000   70.000000   23.000000   36.000000   32.000000   \n",
       "75%      6.000000  140.000000   80.000000   32.000000  123.500000   36.550000   \n",
       "max     13.000000  196.000000  104.080000   52.040000  543.040000   52.300000   \n",
       "\n",
       "               B4         Age  \n",
       "count  599.000000  599.000000  \n",
       "mean     0.477130   33.245609  \n",
       "std      0.318419   11.683879  \n",
       "min      0.088980   21.000000  \n",
       "25%      0.248000   24.000000  \n",
       "50%      0.383000   29.000000  \n",
       "75%      0.647000   40.000000  \n",
       "max      1.732000   66.020000  "
      ]
     },
     "execution_count": 50,
     "metadata": {},
     "output_type": "execute_result"
    }
   ],
   "source": [
    "X.describe()"
   ]
  },
  {
   "cell_type": "code",
   "execution_count": 51,
   "id": "860d0623-d109-4e13-9ede-d673ee9e1d76",
   "metadata": {},
   "outputs": [
    {
     "data": {
      "image/png": "[encoded data removed]",
      "text/plain": [
       "<Figure size 800x800 with 2 Axes>"
      ]
     },
     "metadata": {
      "needs_background": "light"
     },
     "output_type": "display_data"
    }
   ],
   "source": [
    "# heatmap\n",
    "correlations = X.corr()\n",
    "fig = plt.figure(figsize=(10, 10), dpi=80)\n",
    "ax = fig.add_subplot(111)\n",
    "cax = ax.matshow(correlations, vmin=-1, vmax=1, cmap=plt.cm.coolwarm)\n",
    "fig.colorbar(cax)\n",
    "ticks = np.arange(0,n,1)\n",
    "ax.set_xticks(ticks)\n",
    "ax.set_yticks(ticks)\n",
    "ax.set_xticklabels(X.columns)\n",
    "ax.set_yticklabels(X.columns)\n",
    "plt.show()"
   ]
  },
  {
   "cell_type": "markdown",
   "id": "c40517d8-88cd-46a8-aaf0-88d93f34e598",
   "metadata": {},
   "source": [
    "Comment: No depedence detected"
   ]
  },
  {
   "cell_type": "code",
   "execution_count": 17,
   "id": "d424b8e0",
   "metadata": {},
   "outputs": [
    {
     "data": {
      "text/plain": [
       "Text(0.5, 1.0, 'Age by Passenger Class, Titanic')"
      ]
     },
     "execution_count": 17,
     "metadata": {},
     "output_type": "execute_result"
    },
    {
     "data": {
      "image/png": "[encoded data removed]",
      "text/plain": [
       "<Figure size 576x360 with 1 Axes>"
      ]
     },
     "metadata": {
      "needs_background": "light"
     },
     "output_type": "display_data"
    }
   ],
   "source": [
    "plt.figure(figsize=(8,5))\n",
    "sns.boxplot(x='Sepssis',y='B3',data=df, palette='rainbow')\n",
    "plt.title(\"Age by Passenger Class, Titanic\")"
   ]
  },
  {
   "cell_type": "markdown",
   "id": "7fa70df0",
   "metadata": {},
   "source": [
    "### Normalization and Spliting"
   ]
  },
  {
   "cell_type": "code",
   "execution_count": 18,
   "id": "185698cc",
   "metadata": {},
   "outputs": [
    {
     "name": "stdout",
     "output_type": "stream",
     "text": [
      "(599, 165)\n"
     ]
    }
   ],
   "source": [
    "# use polynomial to improve model fitting\n",
    "from sklearn.preprocessing import PolynomialFeatures\n",
    "poly = PolynomialFeatures(3)\n",
    "df_poly = poly.fit_transform(X)\n",
    "print(df_poly.shape) # testing"
   ]
  },
  {
   "cell_type": "markdown",
   "id": "ae213461-c10a-4178-992f-69c913258560",
   "metadata": {},
   "source": [
    "# 2. Model Development"
   ]
  },
  {
   "cell_type": "markdown",
   "id": "50aafc82-6dba-41a8-905c-27fa9570555d",
   "metadata": {},
   "source": [
    "## 2.1 Logistic Regression"
   ]
  },
  {
   "cell_type": "code",
   "execution_count": 43,
   "id": "2cb888e4-05aa-43c6-a131-489f231671f0",
   "metadata": {},
   "outputs": [],
   "source": [
    "from sklearn.linear_model import LogisticRegression\n",
    "from sklearn.preprocessing import RobustScaler, MinMaxScaler\n",
    "from imblearn.pipeline import Pipeline\n",
    "from imblearn.over_sampling import SMOTE,SVMSMOTE\n",
    "from imblearn.under_sampling import RandomUnderSampler\n",
    "\n",
    "# instantiate the model (using the default parameters)\n",
    "\n",
    "lr_model = LogisticRegression(C=1, solver=\"liblinear\", \n",
    "max_iter=7000, tol=0.01,\n",
    "penalty=\"l1\", random_state=4)\n",
    "\n",
    "scaler = RobustScaler()\n",
    "\n",
    "over = SMOTE(sampling_strategy=\"minority\",random_state=3)\n",
    "X_train_over, y_train_over = over.fit_resample(X,Y)\n",
    "lr_pipe = Pipeline(steps=[(\"scaler\",scaler),(\"logistic\",lr_model) ])"
   ]
  },
  {
   "cell_type": "code",
   "execution_count": 44,
   "id": "95b5e2af",
   "metadata": {},
   "outputs": [
    {
     "name": "stdout",
     "output_type": "stream",
     "text": [
      "Best parameter (CV score=0.758):\n",
      "{'logistic__C': 100.0, 'logistic__class_weight': {0: 0.3, 1: 0.7}, 'logistic__penalty': 'l2'}\n"
     ]
    }
   ],
   "source": [
    "# SearchGrid CV\n",
    "from sklearn.model_selection import GridSearchCV\n",
    "param_grid = {\n",
    "    \"logistic__C\":np.logspace(-4, 2, 4),\n",
    "    \"logistic__class_weight\": [{0:0.2, 1: 0.8},{0:0.3,1:0.7},{0:0.4,1:0.6}, {0:0.5,1:0.5}],\n",
    "    \"logistic__penalty\":[\"l1\",\"l2\"]\n",
    "}\n",
    "search = GridSearchCV(lr_pipe, param_grid, scoring=\"f1\",cv=10)\n",
    "search.fit(X_train_over, y_train_over)\n",
    "print(\"Best parameter (CV score=%0.3f):\" % search.best_score_)\n",
    "print(search.best_params_)"
   ]
  },
  {
   "cell_type": "code",
   "execution_count": 45,
   "id": "1898f333",
   "metadata": {},
   "outputs": [
    {
     "name": "stdout",
     "output_type": "stream",
     "text": [
      "Testing accuracy: 0.733\n"
     ]
    }
   ],
   "source": [
    "lr_model = LogisticRegression(C=100, solver=\"liblinear\", \n",
    "max_iter=7000, tol=0.01,\n",
    "class_weight={0:0.3, 1:0.7},\n",
    "penalty=\"l2\", random_state=4)\n",
    "lr_pipe = Pipeline(steps=[(\"scaler\",scaler),(\"logistic\",lr_model) ])\n",
    "lr_pipe.fit(X_train, y_train)\n",
    "print(\"Testing accuracy: %.3f\"%lr_pipe.score(X_test, y_test))"
   ]
  },
  {
   "cell_type": "code",
   "execution_count": 46,
   "id": "95ee0628-64cf-464c-90c4-7977095c7c5b",
   "metadata": {},
   "outputs": [],
   "source": [
    "from sklearn.metrics import confusion_matrix\n",
    "lr_pred = lr_pipe.predict(X_test)\n",
    "cnf_matrix = confusion_matrix(y_test, lr_pred)"
   ]
  },
  {
   "cell_type": "code",
   "execution_count": 47,
   "id": "00fb86e1-8648-4270-8d7d-a61b52b00fe7",
   "metadata": {},
   "outputs": [
    {
     "data": {
      "text/plain": [
       "Text(0.5, 257.44, 'Predicted label')"
      ]
     },
     "execution_count": 47,
     "metadata": {},
     "output_type": "execute_result"
    },
    {
     "data": {
      "image/png": "[encoded data removed]",
      "text/plain": [
       "<Figure size 432x288 with 2 Axes>"
      ]
     },
     "metadata": {
      "needs_background": "light"
     },
     "output_type": "display_data"
    }
   ],
   "source": [
    "class_names=[\"Positive\",\"Negative\"] # name  of classes\n",
    "fig, ax = plt.subplots()\n",
    "tick_marks = np.arange(len(class_names))\n",
    "plt.xticks(tick_marks, class_names)\n",
    "plt.yticks(tick_marks, class_names)\n",
    "# create heatmap\n",
    "sns.heatmap(pd.DataFrame(cnf_matrix), annot=True, cmap=\"YlGnBu\" ,fmt='g')\n",
    "ax.xaxis.set_label_position(\"top\")\n",
    "plt.tight_layout()\n",
    "plt.title('Confusion matrix', y=1.1)\n",
    "plt.ylabel('Actual label')\n",
    "plt.xlabel('Predicted label')"
   ]
  },
  {
   "cell_type": "code",
   "execution_count": 48,
   "id": "70ac3fe1-3e5c-417e-a636-a016bc40d2d5",
   "metadata": {},
   "outputs": [
    {
     "name": "stdout",
     "output_type": "stream",
     "text": [
      "              precision    recall  f1-score   support\n",
      "\n",
      "           0       0.92      0.67      0.77        81\n",
      "           1       0.56      0.87      0.68        39\n",
      "\n",
      "    accuracy                           0.73       120\n",
      "   macro avg       0.74      0.77      0.73       120\n",
      "weighted avg       0.80      0.73      0.74       120\n",
      "\n"
     ]
    }
   ],
   "source": [
    "# Evaluation framework\n",
    "from sklearn import metrics\n",
    "# print(\"Accuracy:\",metrics.accuracy_score(y_test, lr_pred))\n",
    "# print(\"Precision:\",metrics.precision_score(y_test, lr_pred))\n",
    "# print(\"Recall:\",metrics.recall_score(y_test, lr_pred))\n",
    "print(metrics.classification_report(y_test, lr_pred))"
   ]
  },
  {
   "cell_type": "markdown",
   "id": "6ca31629-b2c9-4d43-978b-57ac2852e099",
   "metadata": {},
   "source": [
    "**Comments**: \n",
    "- The accuracy of the model on validation data set is 76%. \n",
    "- The model is better in predict negative sepsis than the positive one. Is that a good thing?"
   ]
  },
  {
   "cell_type": "code",
   "execution_count": 104,
   "id": "1982a520-60d6-4e14-821b-f64bd9d3dcf4",
   "metadata": {},
   "outputs": [
    {
     "data": {
      "text/plain": [
       "<matplotlib.legend.Legend at 0x7fd9ec6f17f0>"
      ]
     },
     "execution_count": 104,
     "metadata": {},
     "output_type": "execute_result"
    },
    {
     "data": {
      "image/png": "[encoded data removed]",
      "text/plain": [
       "<Figure size 432x288 with 1 Axes>"
      ]
     },
     "metadata": {
      "needs_background": "light"
     },
     "output_type": "display_data"
    }
   ],
   "source": [
    "# plot auc, roc\n",
    "from sklearn.metrics import roc_auc_score, roc_curve\n",
    "model_probs = lr_pipe.predict_proba(X_test)\n",
    "y_score = model_probs[:, 1]\n",
    "fpr, tpr, _ = roc_curve(y_test, y_score)\n",
    "auc = roc_auc_score(y_test, y_score)\n",
    "\n",
    "plt.plot(fpr, tpr, marker='.', label= 'ROC curve (area = %0.3f)' % auc)\n",
    "plt.xlabel('False Positive Rate')\n",
    "plt.ylabel('True Positive Rate')\n",
    "plt.legend(loc='lower right')"
   ]
  },
  {
   "cell_type": "markdown",
   "id": "b23276bb-addc-4737-801c-86861dab8b2c",
   "metadata": {},
   "source": [
    "## 2.2 Ridge Regression\n"
   ]
  },
  {
   "cell_type": "code",
   "execution_count": 31,
   "id": "3e48e660-de76-4ecc-9eb6-61f3e24b66e8",
   "metadata": {},
   "outputs": [
    {
     "name": "stdout",
     "output_type": "stream",
     "text": [
      "Training Accuracy:  0.7916666666666666\n"
     ]
    }
   ],
   "source": [
    "from sklearn.linear_model import RidgeClassifier\n",
    "from sklearn.preprocessing import MinMaxScaler\n",
    "from imblearn.over_sampling import SVMSMOTE\n",
    "from imblearn.pipeline import Pipeline\n",
    "# Using polynomial features up to 5 gave false negative = 9\n",
    "ridge_model = RidgeClassifier(\n",
    "    alpha=0.0001, random_state=3, class_weight=\"balanced\"\n",
    ")\n",
    "over = SVMSMOTE(sampling_strategy=\"minority\",random_state=3)\n",
    "# over =  RandomOverSampler(sampling_strategy=0.3)\n",
    "# under = RandomUnderSampler(sampling_strategy=0.7)\n",
    "ridge_pipe = Pipeline(steps=[(\"over\",over),(\"scaler\", MinMaxScaler()),(\"ridge\",ridge_model) ])\n",
    "ridge_pipe.fit(X_train, y_train)\n",
    "print(\"Training Accuracy: \", ridge_pipe.score(X_test, y_test))"
   ]
  },
  {
   "cell_type": "code",
   "execution_count": 30,
   "id": "09374191",
   "metadata": {},
   "outputs": [
    {
     "name": "stdout",
     "output_type": "stream",
     "text": [
      "Best parameter (CV score=0.666):\n",
      "{'ridge__alpha': 0.0001}\n"
     ]
    }
   ],
   "source": [
    "from sklearn.model_selection import GridSearchCV\n",
    "param_grid = {\n",
    "    \"ridge__alpha\":np.logspace(-4, 2, 4),\n",
    "}\n",
    "search = GridSearchCV(ridge_pipe, param_grid, scoring=\"f1\",cv=10)\n",
    "search.fit(X_train, y_train)\n",
    "print(\"Best parameter (CV score=%0.3f):\" % search.best_score_)\n",
    "print(search.best_params_)"
   ]
  },
  {
   "cell_type": "code",
   "execution_count": 32,
   "id": "16e2d725-8c64-4413-a5c3-2114d7caef19",
   "metadata": {},
   "outputs": [
    {
     "data": {
      "text/plain": [
       "Text(0.5, 257.44, 'Predicted label')"
      ]
     },
     "execution_count": 32,
     "metadata": {},
     "output_type": "execute_result"
    },
    {
     "data": {
      "image/png": "[encoded data removed]",
      "text/plain": [
       "<Figure size 432x288 with 2 Axes>"
      ]
     },
     "metadata": {
      "needs_background": "light"
     },
     "output_type": "display_data"
    }
   ],
   "source": [
    "from sklearn import metrics\n",
    "\n",
    "ridge_pred = ridge_pipe.predict(X_test)\n",
    "# confusion matrix\n",
    "cnf_matrix = metrics.confusion_matrix(y_test, ridge_pred)\n",
    "class_names=[\"Positive\",\"Negative\"] # name  of classes\n",
    "fig, ax = plt.subplots()\n",
    "tick_marks = np.arange(len(class_names))\n",
    "plt.xticks(tick_marks, class_names)\n",
    "plt.yticks(tick_marks, class_names)\n",
    "# create heatmap\n",
    "sns.heatmap(pd.DataFrame(cnf_matrix), annot=True, cmap=\"YlGnBu\" ,fmt='g')\n",
    "ax.xaxis.set_label_position(\"top\")\n",
    "plt.tight_layout()\n",
    "plt.title('Confusion matrix', y=1.1)\n",
    "plt.ylabel('Actual label')\n",
    "plt.xlabel('Predicted label')\n"
   ]
  },
  {
   "cell_type": "code",
   "execution_count": 113,
   "metadata": {},
   "outputs": [
    {
     "name": "stdout",
     "output_type": "stream",
     "text": [
      "Model coefficients:\n",
      "\n",
      "BGlucose = 0.8732\n",
      "B1 = 2.4376\n",
      "BPressure = -0.4606\n",
      "B2 = 0.2161\n",
      "B3 = -0.2334\n",
      "BMI = 2.1055\n",
      "B4 = 1.0798\n",
      "Age = 0.2268\n"
     ]
    }
   ],
   "source": [
    "print(\"Model coefficients:\\n\")\n",
    "for i in range(X.shape[1]):\n",
    "    print(X.columns[i], \"=\", ridge_model.coef_[0][i].round(4))"
   ]
  },
  {
   "cell_type": "markdown",
   "id": "29dd06ad-bac3-4916-a125-3e3ee6ec5f1b",
   "metadata": {},
   "source": [
    "## 2.3 Decision Tree Classifier"
   ]
  }
 ],
 "metadata": {
  "kernelspec": {
   "display_name": "Python 3 (ipykernel)",
   "language": "python",
   "name": "python3"
  },
  "language_info": {
   "codemirror_mode": {
    "name": "ipython",
    "version": 3
   },
   "file_extension": ".py",
   "mimetype": "text/x-python",
   "name": "python",
   "nbconvert_exporter": "python",
   "pygments_lexer": "ipython3",
   "version": "3.9.7"
  }
 },
 "nbformat": 4,
 "nbformat_minor": 5
}
