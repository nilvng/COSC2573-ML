{
 "cells": [
  {
   "cell_type": "code",
   "execution_count": 46,
   "id": "f9d2d4b8-311b-46f8-80b6-3ef1ea9ccfde",
   "metadata": {},
   "outputs": [],
   "source": [
    "import sklearn as sk\n",
    "import pandas as pd\n",
    "import matplotlib.pyplot as plt\n",
    "import numpy as np\n",
    "import seaborn as sns"
   ]
  },
  {
   "cell_type": "code",
   "execution_count": 47,
   "id": "07127587-3c90-44c6-b849-2f6e196f65e4",
   "metadata": {},
   "outputs": [],
   "source": [
    "boston_df = pd.read_csv(\"housing.data.csv\", delimiter=\"\\s+\")"
   ]
  },
  {
   "cell_type": "markdown",
   "id": "5a164ef2-f177-4e46-bc34-3588aae9c8bb",
   "metadata": {},
   "source": [
    "The Boston data frame has 506 rows and 14 columns.\n",
    "\n",
    "This data frame contains the following columns:\n",
    "\n",
    "crim: per capita crime rate by town.\n",
    "\n",
    "zn: proportion of residential land zoned for lots over 25,000 sq.ft.\n",
    "\n",
    "indus: proportion of non-retail business acres per town.\n",
    "\n",
    "chas: Charles River dummy variable (= 1 if tract bounds river; 0 otherwise).\n",
    "\n",
    "nox: nitrogen oxides concentration (parts per 10 million).\n",
    "\n",
    "rm: average number of rooms per dwelling.\n",
    "\n",
    "age: proportion of owner-occupied units built prior to 1940.\n",
    "\n",
    "dis: weighted mean of distances to five Boston employment centres.\n",
    "\n",
    "rad: index of accessibility to radial highways.\n",
    "\n",
    "tax: full-value property-tax rate per \\$10,000.\n",
    "\n",
    "ptratio: pupil-teacher ratio by town.\n",
    "\n",
    "black: 1000(Bk - 0.63)^2 where Bk is the proportion of blacks by town.\n",
    "\n",
    "lstat: lower status of the population (percent).\n",
    "\n",
    "medv: median value of owner-occupied homes in \\$1000s"
   ]
  },
  {
   "cell_type": "code",
   "execution_count": 48,
   "id": "f2e0bdb1-554d-49d5-ab87-f261368df3cd",
   "metadata": {},
   "outputs": [
    {
     "data": {
      "text/html": [
       "<div>\n",
       "<style scoped>\n",
       "    .dataframe tbody tr th:only-of-type {\n",
       "        vertical-align: middle;\n",
       "    }\n",
       "\n",
       "    .dataframe tbody tr th {\n",
       "        vertical-align: top;\n",
       "    }\n",
       "\n",
       "    .dataframe thead th {\n",
       "        text-align: right;\n",
       "    }\n",
       "</style>\n",
       "<table border=\"1\" class=\"dataframe\">\n",
       "  <thead>\n",
       "    <tr style=\"text-align: right;\">\n",
       "      <th></th>\n",
       "      <th>CRIM</th>\n",
       "      <th>ZN</th>\n",
       "      <th>INDUS</th>\n",
       "      <th>CHAS</th>\n",
       "      <th>NOX</th>\n",
       "      <th>RM</th>\n",
       "      <th>AGE</th>\n",
       "      <th>DIS</th>\n",
       "      <th>RAD</th>\n",
       "      <th>TAX</th>\n",
       "      <th>PTRATIO</th>\n",
       "      <th>B</th>\n",
       "      <th>LSTAT</th>\n",
       "      <th>MEDV</th>\n",
       "    </tr>\n",
       "  </thead>\n",
       "  <tbody>\n",
       "    <tr>\n",
       "      <th>0</th>\n",
       "      <td>0.00632</td>\n",
       "      <td>18.0</td>\n",
       "      <td>2.31</td>\n",
       "      <td>0</td>\n",
       "      <td>0.538</td>\n",
       "      <td>6.575</td>\n",
       "      <td>65.2</td>\n",
       "      <td>4.0900</td>\n",
       "      <td>1</td>\n",
       "      <td>296.0</td>\n",
       "      <td>15.3</td>\n",
       "      <td>396.90</td>\n",
       "      <td>4.98</td>\n",
       "      <td>24.0</td>\n",
       "    </tr>\n",
       "    <tr>\n",
       "      <th>1</th>\n",
       "      <td>0.02731</td>\n",
       "      <td>0.0</td>\n",
       "      <td>7.07</td>\n",
       "      <td>0</td>\n",
       "      <td>0.469</td>\n",
       "      <td>6.421</td>\n",
       "      <td>78.9</td>\n",
       "      <td>4.9671</td>\n",
       "      <td>2</td>\n",
       "      <td>242.0</td>\n",
       "      <td>17.8</td>\n",
       "      <td>396.90</td>\n",
       "      <td>9.14</td>\n",
       "      <td>21.6</td>\n",
       "    </tr>\n",
       "    <tr>\n",
       "      <th>2</th>\n",
       "      <td>0.02729</td>\n",
       "      <td>0.0</td>\n",
       "      <td>7.07</td>\n",
       "      <td>0</td>\n",
       "      <td>0.469</td>\n",
       "      <td>7.185</td>\n",
       "      <td>61.1</td>\n",
       "      <td>4.9671</td>\n",
       "      <td>2</td>\n",
       "      <td>242.0</td>\n",
       "      <td>17.8</td>\n",
       "      <td>392.83</td>\n",
       "      <td>4.03</td>\n",
       "      <td>34.7</td>\n",
       "    </tr>\n",
       "    <tr>\n",
       "      <th>3</th>\n",
       "      <td>0.03237</td>\n",
       "      <td>0.0</td>\n",
       "      <td>2.18</td>\n",
       "      <td>0</td>\n",
       "      <td>0.458</td>\n",
       "      <td>6.998</td>\n",
       "      <td>45.8</td>\n",
       "      <td>6.0622</td>\n",
       "      <td>3</td>\n",
       "      <td>222.0</td>\n",
       "      <td>18.7</td>\n",
       "      <td>394.63</td>\n",
       "      <td>2.94</td>\n",
       "      <td>33.4</td>\n",
       "    </tr>\n",
       "    <tr>\n",
       "      <th>4</th>\n",
       "      <td>0.06905</td>\n",
       "      <td>0.0</td>\n",
       "      <td>2.18</td>\n",
       "      <td>0</td>\n",
       "      <td>0.458</td>\n",
       "      <td>7.147</td>\n",
       "      <td>54.2</td>\n",
       "      <td>6.0622</td>\n",
       "      <td>3</td>\n",
       "      <td>222.0</td>\n",
       "      <td>18.7</td>\n",
       "      <td>396.90</td>\n",
       "      <td>5.33</td>\n",
       "      <td>36.2</td>\n",
       "    </tr>\n",
       "  </tbody>\n",
       "</table>\n",
       "</div>"
      ],
      "text/plain": [
       "      CRIM    ZN  INDUS  CHAS    NOX     RM   AGE     DIS  RAD    TAX  \\\n",
       "0  0.00632  18.0   2.31     0  0.538  6.575  65.2  4.0900    1  296.0   \n",
       "1  0.02731   0.0   7.07     0  0.469  6.421  78.9  4.9671    2  242.0   \n",
       "2  0.02729   0.0   7.07     0  0.469  7.185  61.1  4.9671    2  242.0   \n",
       "3  0.03237   0.0   2.18     0  0.458  6.998  45.8  6.0622    3  222.0   \n",
       "4  0.06905   0.0   2.18     0  0.458  7.147  54.2  6.0622    3  222.0   \n",
       "\n",
       "   PTRATIO       B  LSTAT  MEDV  \n",
       "0     15.3  396.90   4.98  24.0  \n",
       "1     17.8  396.90   9.14  21.6  \n",
       "2     17.8  392.83   4.03  34.7  \n",
       "3     18.7  394.63   2.94  33.4  \n",
       "4     18.7  396.90   5.33  36.2  "
      ]
     },
     "execution_count": 48,
     "metadata": {},
     "output_type": "execute_result"
    }
   ],
   "source": [
    "boston_df.head()"
   ]
  },
  {
   "cell_type": "code",
   "execution_count": 49,
   "id": "c3f607ec-ec52-4b9f-9ef8-a8b31f4bf3ac",
   "metadata": {},
   "outputs": [
    {
     "data": {
      "text/plain": [
       "CRIM       float64\n",
       "ZN         float64\n",
       "INDUS      float64\n",
       "CHAS         int64\n",
       "NOX        float64\n",
       "RM         float64\n",
       "AGE        float64\n",
       "DIS        float64\n",
       "RAD          int64\n",
       "TAX        float64\n",
       "PTRATIO    float64\n",
       "B          float64\n",
       "LSTAT      float64\n",
       "MEDV       float64\n",
       "dtype: object"
      ]
     },
     "execution_count": 49,
     "metadata": {},
     "output_type": "execute_result"
    }
   ],
   "source": [
    "# Try to print all data types of dataset\n",
    "boston_df.dtypes"
   ]
  },
  {
   "cell_type": "markdown",
   "id": "0d6da30c-43e8-4fae-80c1-700da6e81b33",
   "metadata": {},
   "source": [
    "## 1.Univariate Regression\n",
    "We will create a model to predict house price (MEDV) using number of rooms (RM)\n",
    "### 1a. Extract feature we use to predict \n",
    "1. using square brackets []\n",
    "2. using the pandas function .loc, and \n",
    "3. using the pandas function .iloc. \n",
    "\n",
    "What are the differences?"
   ]
  },
  {
   "cell_type": "code",
   "execution_count": 61,
   "id": "6177f80a-e1e0-4f31-ae1d-1f05fe1283d7",
   "metadata": {},
   "outputs": [
    {
     "name": "stdout",
     "output_type": "stream",
     "text": [
      "0      24.0\n",
      "1      21.6\n",
      "2      34.7\n",
      "3      33.4\n",
      "4      36.2\n",
      "       ... \n",
      "501    22.4\n",
      "502    20.6\n",
      "503    23.9\n",
      "504    22.0\n",
      "505    11.9\n",
      "Name: MEDV, Length: 506, dtype: float64\n",
      "(506, 1)\n"
     ]
    }
   ],
   "source": [
    "rm_x = boston_df[['RM']]\n",
    "medv_y = boston_df['MEDV']\n",
    "print(medv_y)\n",
    "print(rm_x.shape)"
   ]
  },
  {
   "cell_type": "markdown",
   "id": "3526311f-ad8c-49c7-b7e8-1c294ee7eed7",
   "metadata": {},
   "source": [
    "### 1b. Split dataset into training set and testing set"
   ]
  },
  {
   "cell_type": "code",
   "execution_count": 62,
   "id": "5e4afc82-04da-4383-acd6-50ea8dd669dd",
   "metadata": {},
   "outputs": [
    {
     "name": "stdout",
     "output_type": "stream",
     "text": [
      "(404, 1)\n",
      "(102, 1)\n",
      "(404,)\n",
      "(102,)\n"
     ]
    }
   ],
   "source": [
    "# create testing and training data for RM variable\n",
    "from sklearn.model_selection import train_test_split\n",
    "trainX, testX, trainY, testY = train_test_split(np.array(rm_x), np.array(medv_y), test_size=0.2)\n",
    "print(trainX.shape)\n",
    "print(testX.shape)\n",
    "print(trainY.shape)\n",
    "print(testY.shape)"
   ]
  },
  {
   "cell_type": "markdown",
   "id": "592ed170-8957-4209-b389-9cd702baa837",
   "metadata": {},
   "source": [
    "### 1c. Train model"
   ]
  },
  {
   "cell_type": "code",
   "execution_count": 63,
   "id": "a9d3cf49-3d4e-427c-9709-c2c879ba7ca2",
   "metadata": {},
   "outputs": [
    {
     "data": {
      "text/plain": [
       "LinearRegression()"
      ]
     },
     "execution_count": 63,
     "metadata": {},
     "output_type": "execute_result"
    }
   ],
   "source": [
    "from sklearn import linear_model\n",
    "linReg = linear_model.LinearRegression()\n",
    "linReg.fit(trainX, trainY)"
   ]
  },
  {
   "cell_type": "markdown",
   "id": "6fc93c50-eead-40ee-9a6a-2242f93bc0d7",
   "metadata": {},
   "source": [
    "### 1d. Evaluate Trained Model\n",
    "- Use MSE to estimate the error\n",
    "- Plotting the testing data against the model/hypothesis\n",
    "- the residual plot, which shows what is the difference in predicted and actual values, across different X values, for the testing data"
   ]
  },
  {
   "cell_type": "code",
   "execution_count": 64,
   "id": "fd21c13f-0018-4500-b478-e3e1ac8b2957",
   "metadata": {},
   "outputs": [],
   "source": [
    "pred_uniRM_y = linReg.predict(testX)"
   ]
  },
  {
   "cell_type": "code",
   "execution_count": 66,
   "id": "f54d4301-9a5f-434c-a992-ec811d49fc58",
   "metadata": {},
   "outputs": [
    {
     "name": "stdout",
     "output_type": "stream",
     "text": [
      "Mean squared error  45.52079561051845\n"
     ]
    }
   ],
   "source": [
    "from sklearn.metrics import mean_squared_error\n",
    "print('Mean squared error ', mean_squared_error(testY, pred_uniRM_y))"
   ]
  },
  {
   "cell_type": "code",
   "execution_count": 67,
   "id": "87c465f8-015d-4d10-9715-5ae19e6f0c9c",
   "metadata": {},
   "outputs": [
    {
     "data": {
      "text/plain": [
       "[<matplotlib.lines.Line2D at 0x7feb742ae2e0>]"
      ]
     },
     "execution_count": 67,
     "metadata": {},
     "output_type": "execute_result"
    },
    {
     "data": {
      "image/png": "[encoded data removed]",
      "text/plain": [
       "<Figure size 432x288 with 1 Axes>"
      ]
     },
     "metadata": {
      "needs_background": "light"
     },
     "output_type": "display_data"
    }
   ],
   "source": [
    "plt.scatter(testX, testY, color='black')\n",
    "plt.plot(testX, pred_uniRM_y, color='blue', linewidth=3)"
   ]
  },
  {
   "cell_type": "code",
   "execution_count": 68,
   "id": "309da7c0-b3f0-4949-85e2-76f9baa0c428",
   "metadata": {},
   "outputs": [
    {
     "data": {
      "text/plain": [
       "<matplotlib.collections.LineCollection at 0x7feb742cd760>"
      ]
     },
     "execution_count": 68,
     "metadata": {},
     "output_type": "execute_result"
    },
    {
     "data": {
      "image/png": "[encoded data removed]",
      "text/plain": [
       "<Figure size 432x288 with 1 Axes>"
      ]
     },
     "metadata": {
      "needs_background": "light"
     },
     "output_type": "display_data"
    }
   ],
   "source": [
    "plt.scatter(testX, linReg.predict(testX) - testY, c='g', s=40)\n",
    "plt.hlines(y=0, xmin=3.5, xmax=9)"
   ]
  },
  {
   "cell_type": "markdown",
   "id": "bc01428d-6206-47e1-bb2a-d6c9e81dd12b",
   "metadata": {},
   "source": [
    "**With your dataframe slicing skill, can you count the number of residuals that are larger than zero and those that are smaller than zero?**"
   ]
  },
  {
   "cell_type": "code",
   "execution_count": null,
   "id": "a0e0c65b-2039-4baf-9018-bab204c5d7ec",
   "metadata": {},
   "outputs": [],
   "source": []
  },
  {
   "cell_type": "markdown",
   "id": "e51e5079-f0b2-4439-9cb6-3494b01448ec",
   "metadata": {},
   "source": [
    "**Use the seaborn package to visualise the correlation plot and identify the next potential predictor of the house price. You should identify 'LSTAT' as the next potential predictor. Why is it?**"
   ]
  },
  {
   "cell_type": "code",
   "execution_count": null,
   "id": "fcc640d6-f82a-46fe-bd53-b140cc77aa6c",
   "metadata": {},
   "outputs": [],
   "source": []
  },
  {
   "cell_type": "markdown",
   "id": "0751a47a-604b-4284-be56-2c1d35916814",
   "metadata": {},
   "source": [
    "## 2. Multivariate \n",
    "Do the same steps and use the same functions\n"
   ]
  },
  {
   "cell_type": "code",
   "execution_count": 71,
   "id": "92f9a367-c10c-4146-b124-e1130f698ce1",
   "metadata": {},
   "outputs": [],
   "source": [
    "X = boston_df.drop('MEDV', axis=1)\n",
    "Y = boston_df[['MEDV']]"
   ]
  },
  {
   "cell_type": "code",
   "execution_count": 77,
   "id": "42970457-47c8-40b1-8054-601359fbdcc5",
   "metadata": {},
   "outputs": [
    {
     "name": "stdout",
     "output_type": "stream",
     "text": [
      "(404, 13)\n",
      "(102, 13)\n",
      "(404, 1)\n",
      "(102, 1)\n"
     ]
    }
   ],
   "source": [
    "from sklearn.model_selection import train_test_split\n",
    "mtrainX, mtestX, mtrainY, mtestY = train_test_split(np.array(X), np.array(Y), test_size=0.2)\n",
    "print(mtrainX.shape)\n",
    "print(mtestX.shape)\n",
    "print(mtrainY.shape)\n",
    "print(mtestY.shape)"
   ]
  },
  {
   "cell_type": "code",
   "execution_count": 78,
   "id": "55cd530e-c730-4b19-afac-3e231e7ec33f",
   "metadata": {},
   "outputs": [
    {
     "data": {
      "text/plain": [
       "LinearRegression()"
      ]
     },
     "execution_count": 78,
     "metadata": {},
     "output_type": "execute_result"
    }
   ],
   "source": [
    "from sklearn import linear_model\n",
    "linReg = linear_model.LinearRegression()\n",
    "linReg.fit(mtrainX, mtrainY)\n"
   ]
  },
  {
   "cell_type": "code",
   "execution_count": 79,
   "id": "cb6faaba-c9f7-42b6-aa75-5c2d56ad1917",
   "metadata": {},
   "outputs": [
    {
     "name": "stdout",
     "output_type": "stream",
     "text": [
      "[36.37374109]\n",
      "[[-1.15031016e-01  4.74619640e-02  1.51651754e-02  3.26688237e+00\n",
      "  -1.74239958e+01  3.61496600e+00  1.13784028e-02 -1.41232077e+00\n",
      "   3.08914911e-01 -1.01950453e-02 -9.33458294e-01  9.12506089e-03\n",
      "  -5.93033533e-01]]\n",
      "Mean squared error  23.532664503369926\n"
     ]
    }
   ],
   "source": [
    "pred_y = linReg.predict(mtestX)\n",
    "print(linReg.intercept_)\n",
    "print(linReg.coef_)\n",
    "from sklearn.metrics import mean_squared_error\n",
    "print('Mean squared error ', mean_squared_error(mtestY, pred_y))"
   ]
  },
  {
   "cell_type": "code",
   "execution_count": null,
   "id": "1ec389cb-33e5-45a7-8e47-ff9eacbcb72d",
   "metadata": {},
   "outputs": [],
   "source": [
    "# Multivariate with feature scaling\n"
   ]
  }
 ],
 "metadata": {
  "kernelspec": {
   "display_name": "Python 3 (ipykernel)",
   "language": "python",
   "name": "python3"
  },
  "language_info": {
   "codemirror_mode": {
    "name": "ipython",
    "version": 3
   },
   "file_extension": ".py",
   "mimetype": "text/x-python",
   "name": "python",
   "nbconvert_exporter": "python",
   "pygments_lexer": "ipython3",
   "version": "3.9.7"
  }
 },
 "nbformat": 4,
 "nbformat_minor": 5
}
