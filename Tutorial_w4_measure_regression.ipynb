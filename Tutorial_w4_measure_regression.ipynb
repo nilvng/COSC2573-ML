{
 "cells": [
  {
   "cell_type": "markdown",
   "metadata": {},
   "source": [
    "---\n",
    "# <div align=\"center\"><font color='green'> COSC 2753 | Machine Learning  </font></div>\n",
    "## <div align=\"center\"> <font color='green'> Week 4 Lab Exercises: **Polynominal Regression and k-fold Cross Validation**</font></div>\n",
    "---"
   ]
  },
  {
   "cell_type": "markdown",
   "metadata": {},
   "source": [
    "# Introduction\n",
    "\n",
    "Last weeks we learned how to read the data, do exploratory data analysis (EDA), split data, feed the data to a learning algorithm. \n",
    "\n",
    "The lab assumes that you have completed ``Week 02 lab: Reading data & Exploratory Data Analysis (EDA)`` and ``Week 03 lab: Training a Regression Model``. If you haven't yet, please do so before attempting this lab. \n",
    "\n",
    "In this lab, we will practise performing k-fold cross validation and use it to find the best regularisation parameter for a lasso polynomial regression model.\n",
    "\n",
    "> **<span style=\"font-size:1.5em;\">⚠</span> Warning: Starting this week, we will progressively provide less code, and would like you to use previous labs and what you know to perform the tasks. This will help you to become proficient at this.**\n",
    "\n",
    "The lab can be executed on either your own machine (with anaconda installation) or computer lab. \n",
    "- Please refer canvas for instructions on installing anaconda python\n",
    "\n",
    "\n",
    "## Objective\n",
    "\n",
    "- Continue to familiarise with Python and other ML packages\n",
    "- Practice polynomial regression\n",
    "- Practice performing k-fold cross validation\n",
    "- Use validation set to find best regularisation parameter\n",
    "\n",
    "\n",
    "## Dataset\n",
    "\n",
    "\n",
    "We contineously examine two regression based datasets in this lab. The first one is to do with house prices, some factors\n",
    "associated with the prices and trying to predict house prices. The second dataset is predicting the amount of\n",
    "share bikes hired every day in Washington D.C., USA, based on time of the year, day of the week and weather\n",
    "factors. These datasets are available in `housing.data.csv` and `bikeShareDay.csv` in the code repository. \n",
    "\n",
    "First, ensure the two data files are located within the Jupyter workspace. \n",
    "\n",
    "- If you are on the local machine copy the two data data directories (`BostonHousingPrice`,`Bike-Sharing-Dataset`) to your current folder.\n",
    "\n",
    "In this course we mostly use datasets that are collected by a third party. If you are interested in collecting your own data for your project, some useful information can be found at: [Introduction to Constructing Your Dataset](https://developers.google.com/machine-learning/data-prep/construct/construct-intro) "
   ]
  },
  {
   "cell_type": "markdown",
   "metadata": {},
   "source": [
    "# Problem Formulation\n",
    "\n",
    "The first step in developing a model is to formulate the problem in a way that we can apply machine learning. To reiterate, the `task` in the Boston house price dataset is to predict the house price (`MEDV`), using some attributes of the house and neighbourhood. \n",
    "\n",
    "<span style=\"font-size:1.5em;\">�</span> Observe the data and see if there is a pattern that would allow us to predict the house price using the attributes given? You can use the observations from the EDA for this.\n",
    "\n",
    "<span style=\"font-size:1.5em;\">�</span> What category does the task belong to?\n",
    "> <span style=\"font-size:1em;\">✔</span> **Task category:** \n",
    "> - supervised, univariate/multivariate regression \n",
    "\n",
    "> - We should use the insights gained from observing the data (EDA) in selecting the performance measure. e.g. are there outliers in target?"
   ]
  },
  {
   "cell_type": "markdown",
   "metadata": {},
   "source": [
    "# Load dataset \n",
    "\n",
    "Start a new Jupyter notebook session. Load the dataset ‘housing.data.csv’in bostonHouseFrame"
   ]
  },
  {
   "cell_type": "code",
   "execution_count": 126,
   "metadata": {},
   "outputs": [
    {
     "name": "stdout",
     "output_type": "stream",
     "text": [
      "        CRIM    ZN  INDUS  CHAS    NOX     RM   AGE     DIS  RAD    TAX  \\\n",
      "0    0.00632  18.0   2.31     0  0.538  6.575  65.2  4.0900    1  296.0   \n",
      "1    0.02731   0.0   7.07     0  0.469  6.421  78.9  4.9671    2  242.0   \n",
      "2    0.02729   0.0   7.07     0  0.469  7.185  61.1  4.9671    2  242.0   \n",
      "3    0.03237   0.0   2.18     0  0.458  6.998  45.8  6.0622    3  222.0   \n",
      "4    0.06905   0.0   2.18     0  0.458  7.147  54.2  6.0622    3  222.0   \n",
      "..       ...   ...    ...   ...    ...    ...   ...     ...  ...    ...   \n",
      "501  0.06263   0.0  11.93     0  0.573  6.593  69.1  2.4786    1  273.0   \n",
      "502  0.04527   0.0  11.93     0  0.573  6.120  76.7  2.2875    1  273.0   \n",
      "503  0.06076   0.0  11.93     0  0.573  6.976  91.0  2.1675    1  273.0   \n",
      "504  0.10959   0.0  11.93     0  0.573  6.794  89.3  2.3889    1  273.0   \n",
      "505  0.04741   0.0  11.93     0  0.573  6.030  80.8  2.5050    1  273.0   \n",
      "\n",
      "     PTRATIO       B  LSTAT  MEDV  \n",
      "0       15.3  396.90   4.98  24.0  \n",
      "1       17.8  396.90   9.14  21.6  \n",
      "2       17.8  392.83   4.03  34.7  \n",
      "3       18.7  394.63   2.94  33.4  \n",
      "4       18.7  396.90   5.33  36.2  \n",
      "..       ...     ...    ...   ...  \n",
      "501     21.0  391.99   9.67  22.4  \n",
      "502     21.0  396.90   9.08  20.6  \n",
      "503     21.0  396.90   5.64  23.9  \n",
      "504     21.0  393.45   6.48  22.0  \n",
      "505     21.0  396.90   7.88  11.9  \n",
      "\n",
      "[506 rows x 14 columns]\n"
     ]
    }
   ],
   "source": [
    "import pandas as pd\n",
    "import matplotlib.pyplot as plt\n",
    "import numpy as np\n",
    "\n",
    "## TODO\n",
    "bostonHouseFrame = pd.read_csv(\"housing.data.csv\", delimiter=\"\\s+\")\n",
    "print(bostonHouseFrame)\n"
   ]
  },
  {
   "cell_type": "markdown",
   "metadata": {},
   "source": [
    "# Univariate Regression\n",
    "We will first study how to do univariate regression.\n",
    "\n",
    "If you recall from the last lab, we found that possibly the ‘RM’ (number of rooms) and ‘LSTAT’ (unsure) variables seem to have a linear relationship with the house price (‘MEDV’). Hence, we will try these variables as the independent variable to predict the house price, i.e., the dependent variable.\n"
   ]
  },
  {
   "cell_type": "markdown",
   "metadata": {},
   "source": [
    "\n",
    "- Create an independent variable that is just based on the ‘RM’ column and a dependent variable of ‘MEDV’. \n",
    "- Assign the values of the 'RM' column to a variable named 'house_uniRM_x' and assign the values of the 'MEDV' column to a variable named 'house_y'.\n",
    "\n",
    "<span style=\"font-size:1.5em;\">�</span> There are at least three ways to create the house_uniRM_x and house_y variables based on those columns. Do some quick online research to slice the bostonHousePrice dataset and extract the two columns, by using the following methods: \n",
    "- (1) using square brackets []\n",
    "- (2) using the pandas function .loc\n",
    "- (3) using the pandas function .iloc"
   ]
  },
  {
   "cell_type": "code",
   "execution_count": 127,
   "metadata": {},
   "outputs": [],
   "source": [
    "#print(bostonHouseFrame)\n",
    "#house_uniRM_x = bostonHouseFrame.loc[:,'RM']\n",
    "#house_uniRM_x= house_uniRM_x.values.reshape(-1,1)\n",
    "house_uniRM_x = bostonHouseFrame[['RM']]\n",
    "house_y = bostonHouseFrame['MEDV']"
   ]
  },
  {
   "cell_type": "code",
   "execution_count": 128,
   "metadata": {},
   "outputs": [
    {
     "name": "stdout",
     "output_type": "stream",
     "text": [
      "0      24.0\n",
      "1      21.6\n",
      "2      34.7\n",
      "3      33.4\n",
      "4      36.2\n",
      "       ... \n",
      "501    22.4\n",
      "502    20.6\n",
      "503    23.9\n",
      "504    22.0\n",
      "505    11.9\n",
      "Name: MEDV, Length: 506, dtype: float64\n",
      "(506, 1)\n"
     ]
    }
   ],
   "source": [
    "print(house_y)\n",
    "print(house_uniRM_x.shape)"
   ]
  },
  {
   "cell_type": "markdown",
   "metadata": {},
   "source": [
    "# Hold-out Validation \n",
    "\n",
    "As we have discussed in the lecture, in supervised learning we are interested in learning a model using our dataset that can predict the target value for unseen data (Not in the training set). This is called **generalization**. How can we test if the model we developed with our training data would generalize? One approach we can use is to **hold some data from the training process - hold-out validation** (Hypothetical unseen data). This hold out data subset (split) is called the `\"Test set\"` and the remaining data is called the `”Training set\"`. The training set may be further subdivided, but more on this later in the regularization lecture. We can use the \"Test set\" at the end of the development phase to test our model and see if it generalizes.  \n",
    "\n",
    "- **Training set:** Is applied to train, or fit, your model. For example, you use the training set to find the optimal weights, or coefficients, for linear regression, logistic regression, or neural networks.\n",
    "- **Test set:** Needed for an unbiased evaluation of the final model.\n",
    "\n",
    "\n",
    "> **<span style=\"font-size:1.5em;\">⚠</span> Warning: The test set should be independent and identically distributed with respect to the training data**  \n",
    "> - Should make sure that there is no leakage between the two sets (overlapped train and test instances). This will give unrealistically high performance metric values for your model. e.g. In house price prediction, there may be a house that was sold multiple times and, you might include some instances of this house in the train set and some in the test set. This will result in data leakage.  \n",
    "> - There should be no underlying differences between the two distributions. In other words the characteristics of the test set should not be different to that of the train set. For example all the houses sold in winter in train set and all the houses sold on summer in another set (generally, there is a difference in house prices sold in winter vs summer).\n",
    "> - More on this in the lectures. \n",
    "\n",
    "> **<span style=\"font-size:1.5em;\">⚠</span> Warning: The test data should NOT be used for any aspect of the model development process (training).**  \n",
    "> This includes hyper parameter tuning and model selection (a separate validation set should be used for them).  "
   ]
  },
  {
   "cell_type": "markdown",
   "metadata": {},
   "source": [
    "Next, we want to create some data to train the model, and some other data to evaluate how good the model is. We may be tempted to use 100% of the data for training, then select a subset for evaluation (say 20% of the data). However, we will find out later that this isn’t a good idea generally, as the data we use to test is the same we use to train, and likely to cause overfitting and what is called bias. We will discuss this more in a later week, but for now, just note that it isn’t a good idea to do so. \n",
    "\n",
    "Instead, we will split the data into a training set, which we use to fit the model/hypothesis, and a testing set, which we will use to evaluate the performance of the fitted model/hypothesis. There should be no overlap between the two sets. How we achieve this is typically randomly split the data, say 80% for training and 20% for testing. We can do this ourselves, but like many machine learning functionality these days, they are already implemented, and of course, they are available in the libraries we have imported."
   ]
  },
  {
   "cell_type": "markdown",
   "metadata": {},
   "source": [
    "The scikit-learn Python machine learning library provides an implementation of the train-test splitting via function `train_test_split()`. Lets use this to randomly split our data to 80% train set and 20% test set."
   ]
  },
  {
   "cell_type": "code",
   "execution_count": 129,
   "metadata": {},
   "outputs": [
    {
     "name": "stdout",
     "output_type": "stream",
     "text": [
      "(404, 1)\n",
      "(102, 1)\n",
      "(404,)\n",
      "(102,)\n"
     ]
    }
   ],
   "source": [
    "# create testing and training data for RM variable\n",
    "from sklearn.model_selection import train_test_split\n",
    "trainX, testX, trainY, testY = train_test_split(house_uniRM_x, house_y, test_size=0.2,shuffle=True)\n",
    "print(trainX.shape)\n",
    "print(testX.shape)\n",
    "print(trainY.shape)\n",
    "print(testY.shape)"
   ]
  },
  {
   "cell_type": "markdown",
   "metadata": {},
   "source": [
    "The function that does the work is ‘train_test_split()’, part of sklearn.model_selection package. It essentially does what we desire, with the first two arguments to it are the X and Y variable datasets respectively (they must be of the same number of rows/instances), and a test_size parameter which specifies how big the test dataset is (in this case, 20% of the data, which is a typical setting for this). This function returns ‘trainX’ (training data of the X variable), ‘testX’ (testing data of X), ‘trainY’ (training data of Y) and ‘testY’ (testing data of Y). The last four statements just print out the size of the resulting training and testing datasets to show you that the training (test) datasets contain the same number of rows. We will use trainX and trainY to train the linear regression model, then textX and testY for testing and evaluation.\n"
   ]
  },
  {
   "cell_type": "markdown",
   "metadata": {},
   "source": [
    "We are now ready to construct the linear regression model/hypothesis and fit the theta parameters.\n",
    "\n",
    "## Polynomial Regression\n",
    "\n",
    "Now, implement two linear regression models:\n",
    " - One with order 1 polynomial (i.e., the simplest model) \n",
    " - And the other with order 4 polynomial. \n",
    "To implement the latter, please have a look at this documentation: http://scikit-learn.org/stable/modules/generated/sklearn.preprocessing.PolynomialFeatures.html"
   ]
  },
  {
   "cell_type": "markdown",
   "metadata": {},
   "source": [
    "### Order 1 Polynomial Regression\n",
    "\n",
    "Now, implement order 1 polynomial - linear regression models"
   ]
  },
  {
   "cell_type": "code",
   "execution_count": 130,
   "metadata": {},
   "outputs": [],
   "source": [
    "from sklearn import linear_model\n",
    "linReg = linear_model.LinearRegression()"
   ]
  },
  {
   "cell_type": "markdown",
   "metadata": {},
   "source": [
    "This constructs the linear regression model object, assigned to variable ‘linReg’. We then fit the training data to the model:\n",
    "\n"
   ]
  },
  {
   "cell_type": "code",
   "execution_count": 131,
   "metadata": {},
   "outputs": [
    {
     "data": {
      "text/plain": [
       "LinearRegression()"
      ]
     },
     "execution_count": 131,
     "metadata": {},
     "output_type": "execute_result"
    }
   ],
   "source": [
    "linReg.fit(trainX, trainY)"
   ]
  },
  {
   "cell_type": "markdown",
   "metadata": {},
   "source": [
    "linReg.fit() fits the X and Y training data and optimises the parameters to minimise the loss function. It might not exactly use gradient descent, but the ideas are similar and as stated in lectures, gradient descent as a general optimisation is the crux of many optimisation and parameter fitting algorithms.\n",
    "\n",
    "\n"
   ]
  },
  {
   "cell_type": "markdown",
   "metadata": {},
   "source": [
    "Let's have a look at what the parameters look like:"
   ]
  },
  {
   "cell_type": "code",
   "execution_count": 132,
   "metadata": {},
   "outputs": [
    {
     "name": "stdout",
     "output_type": "stream",
     "text": [
      "-33.0276549030696\n",
      "[8.87275386]\n"
     ]
    }
   ],
   "source": [
    "print(linReg.intercept_)\n",
    "print(linReg.coef_)"
   ]
  },
  {
   "cell_type": "markdown",
   "metadata": {},
   "source": [
    "linReg.intercept_ is the y-intercept, or essentially the theta parameter. \n",
    "\n",
    "linReg.coef_ is the slope of the univariate linear regression line or the theta_one variable.\n",
    "\n",
    "With a model/hypothesis, we can now do prediction! We use the testing data for that:"
   ]
  },
  {
   "cell_type": "code",
   "execution_count": 133,
   "metadata": {},
   "outputs": [],
   "source": [
    "pred_uniRM_y = linReg.predict(testX)"
   ]
  },
  {
   "cell_type": "markdown",
   "metadata": {},
   "source": [
    "Okay, we now have predictions, but how did we go? What we want to do is to compare the predicted value from our model (given testX) with the actual Y values (testY). We can estimate the error (using the mean squared error loss function we been discussing in lectures for fitting the parameters), as follows:"
   ]
  },
  {
   "cell_type": "code",
   "execution_count": 134,
   "metadata": {},
   "outputs": [
    {
     "name": "stdout",
     "output_type": "stream",
     "text": [
      "Mean squared error  29.455859184444655\n"
     ]
    }
   ],
   "source": [
    "from sklearn.metrics import mean_squared_error\n",
    "print('Mean squared error ', mean_squared_error(testY, pred_uniRM_y))"
   ]
  },
  {
   "cell_type": "markdown",
   "metadata": {},
   "source": [
    "What is the mean squared error value you obtained?\n",
    "\n",
    "In addition, it is useful for regression to plot the testing data against the model/hypothesis, which is a line in our univariable linear regression. Type in the following:"
   ]
  },
  {
   "cell_type": "code",
   "execution_count": 135,
   "metadata": {},
   "outputs": [
    {
     "data": {
      "text/plain": [
       "[<matplotlib.lines.Line2D at 0x128aa6850>]"
      ]
     },
     "execution_count": 135,
     "metadata": {},
     "output_type": "execute_result"
    },
    {
     "data": {
      "image/png": "[encoded data removed]",
      "text/plain": [
       "<Figure size 1080x648 with 1 Axes>"
      ]
     },
     "metadata": {
      "needs_background": "light"
     },
     "output_type": "display_data"
    }
   ],
   "source": [
    "plt.figure(figsize=(15,9))\n",
    "plt.scatter(testX, testY, color='grey')\n",
    "plt.plot(testX, pred_uniRM_y, color='red', linewidth=2)"
   ]
  },
  {
   "cell_type": "markdown",
   "metadata": {},
   "source": [
    "This uses our reliable plotting package matplotlib and pyplot to first, produce a scatterplot of our testing data (X,Y) pairs, then draw a blue line for our model/hypothesis. What information does the plot visualise?\n",
    "\n",
    "Another interesting visualisation and based on the same information is the residual plot, which shows what is the difference in predicted and actual values, across different X values, for the testing data;"
   ]
  },
  {
   "cell_type": "markdown",
   "metadata": {},
   "source": [
    "### Order 4 Polynomial Regression\n",
    "\n",
    "To implement order 4 Polynomial Regression, please have a look at this documentation: http://scikit-learn.org/stable/modules/generated/sklearn.preprocessing.PolynomialFeatures.html"
   ]
  },
  {
   "cell_type": "markdown",
   "metadata": {},
   "source": [
    "First,  import PolynomialFeatures"
   ]
  },
  {
   "cell_type": "code",
   "execution_count": 136,
   "metadata": {},
   "outputs": [],
   "source": [
    "from sklearn.preprocessing import PolynomialFeatures"
   ]
  },
  {
   "cell_type": "markdown",
   "metadata": {},
   "source": [
    "#### STEP #1: Determining the degree of the polynomial"
   ]
  },
  {
   "cell_type": "code",
   "execution_count": 137,
   "metadata": {},
   "outputs": [],
   "source": [
    "poly_feature=PolynomialFeatures(degree=4)"
   ]
  },
  {
   "cell_type": "markdown",
   "metadata": {},
   "source": [
    "'''degree''' sets the degree of our polynomial function. degree=4 means that we want to work with a 4th degree polynomial! RECALL what is the formulation of 4th degree polynominal???"
   ]
  },
  {
   "cell_type": "markdown",
   "metadata": {},
   "source": [
    "#### STEP #2: Creating the new features\n",
    "\n",
    "There’s only one method – fit_transform() – but in fact it’s an amalgam of two separate methods: fit() and transform(). fit_transform() is a shortcut for using both at the same time, because they’re often used together.\n",
    "\n",
    "Since I want you to understand what’s happening under the hood, I’ll show them to you separately.\n",
    "\n",
    "With fit() we basically just declare what feature we want to transform:"
   ]
  },
  {
   "cell_type": "code",
   "execution_count": 138,
   "metadata": {},
   "outputs": [],
   "source": [
    "X_poly=poly_feature.fit_transform(trainX)"
   ]
  },
  {
   "cell_type": "markdown",
   "metadata": {},
   "source": [
    "There’s only one method – fit_transform() – but in fact it’s an amalgam of two separate methods: fit() and transform(). fit_transform() is a shortcut for using both at the same time, because they’re often used together.\n",
    "\n",
    "Since I want you to understand what’s happening under the hood, we try them separately.\n",
    "\n",
    "With fit() we basically just declare what feature we want to transform:"
   ]
  },
  {
   "cell_type": "code",
   "execution_count": 139,
   "metadata": {},
   "outputs": [
    {
     "data": {
      "text/plain": [
       "PolynomialFeatures(degree=4)"
      ]
     },
     "execution_count": 139,
     "metadata": {},
     "output_type": "execute_result"
    }
   ],
   "source": [
    "poly_feature.fit(trainX)"
   ]
  },
  {
   "cell_type": "markdown",
   "metadata": {},
   "source": [
    "transform() performs the actual transformation:"
   ]
  },
  {
   "cell_type": "code",
   "execution_count": 140,
   "metadata": {},
   "outputs": [
    {
     "data": {
      "text/plain": [
       "array([[1.00000000e+00, 7.80200000e+00, 6.08712040e+01, 4.74917134e+02,\n",
       "        3.70530348e+03],\n",
       "       [1.00000000e+00, 5.71300000e+00, 3.26383690e+01, 1.86463002e+02,\n",
       "        1.06526313e+03],\n",
       "       [1.00000000e+00, 6.38200000e+00, 4.07299240e+01, 2.59938375e+02,\n",
       "        1.65892671e+03],\n",
       "       ...,\n",
       "       [1.00000000e+00, 5.88800000e+00, 3.46685440e+01, 2.04128387e+02,\n",
       "        1.20190794e+03],\n",
       "       [1.00000000e+00, 5.80300000e+00, 3.36748090e+01, 1.95414917e+02,\n",
       "        1.13399276e+03],\n",
       "       [1.00000000e+00, 4.62800000e+00, 2.14183840e+01, 9.91242812e+01,\n",
       "        4.58747173e+02]])"
      ]
     },
     "execution_count": 140,
     "metadata": {},
     "output_type": "execute_result"
    }
   ],
   "source": [
    "poly_feature.transform(trainX)"
   ]
  },
  {
   "cell_type": "markdown",
   "metadata": {},
   "source": [
    "What are these numbers? Well, remind that we wanted to create x^4 values from our x values. In the second column we have our values for x. In the second column we have our values for x squared, ect.\n",
    "\n",
    "Looks familiar? Our 4th degree polynomial formula, again:\n",
    "\n",
    "y = theta_0 + theta_1*x + theta_2*x^2 + theta_3*x^3 + theta_4*x^4\n",
    "\n",
    " We save the result to X_poly:"
   ]
  },
  {
   "cell_type": "code",
   "execution_count": 141,
   "metadata": {},
   "outputs": [
    {
     "name": "stdout",
     "output_type": "stream",
     "text": [
      "[[1.00000000e+00 7.80200000e+00 6.08712040e+01 4.74917134e+02\n",
      "  3.70530348e+03]\n",
      " [1.00000000e+00 5.71300000e+00 3.26383690e+01 1.86463002e+02\n",
      "  1.06526313e+03]\n",
      " [1.00000000e+00 6.38200000e+00 4.07299240e+01 2.59938375e+02\n",
      "  1.65892671e+03]\n",
      " ...\n",
      " [1.00000000e+00 5.88800000e+00 3.46685440e+01 2.04128387e+02\n",
      "  1.20190794e+03]\n",
      " [1.00000000e+00 5.80300000e+00 3.36748090e+01 1.95414917e+02\n",
      "  1.13399276e+03]\n",
      " [1.00000000e+00 4.62800000e+00 2.14183840e+01 9.91242812e+01\n",
      "  4.58747173e+02]]\n"
     ]
    }
   ],
   "source": [
    "#poly_reg.fit(X_poly,trainY)\n",
    "X_poly=poly_feature.fit_transform(trainX)\n",
    "print(X_poly)"
   ]
  },
  {
   "cell_type": "markdown",
   "metadata": {},
   "source": [
    "#### STEP #3: Creating the polynomial regression model\n",
    "\n",
    "Now it’s time to create our machine learning model. Of course, we need to import it first:"
   ]
  },
  {
   "cell_type": "code",
   "execution_count": 142,
   "metadata": {},
   "outputs": [],
   "source": [
    "from sklearn.linear_model import LinearRegression"
   ]
  },
  {
   "cell_type": "markdown",
   "metadata": {},
   "source": [
    "Hold up a minute! 😮 Isn’t this tutorial supposed to be about polynomial regression? Why are we importing LinearRegression then?\n",
    "\n",
    "Just think back to what you’ve read not so long ago: polynomial regression is a linear model, that’s why we import LinearRegression. 🙂\n",
    "\n",
    "Let’s save an instance of LinearRegression to a variable:"
   ]
  },
  {
   "cell_type": "code",
   "execution_count": 143,
   "metadata": {},
   "outputs": [],
   "source": [
    "polyReg = LinearRegression()"
   ]
  },
  {
   "cell_type": "markdown",
   "metadata": {},
   "source": [
    "Then we fit our model to our data:"
   ]
  },
  {
   "cell_type": "code",
   "execution_count": 144,
   "metadata": {},
   "outputs": [
    {
     "data": {
      "text/plain": [
       "LinearRegression()"
      ]
     },
     "execution_count": 144,
     "metadata": {},
     "output_type": "execute_result"
    }
   ],
   "source": [
    "polyReg.fit(X_poly, trainY)"
   ]
  },
  {
   "cell_type": "code",
   "execution_count": 145,
   "metadata": {},
   "outputs": [
    {
     "name": "stdout",
     "output_type": "stream",
     "text": [
      "-437.28644342944864\n",
      "[   0.          356.56643183 -100.51437085   12.03366699   -0.51261655]\n"
     ]
    }
   ],
   "source": [
    "print(polyReg.intercept_)\n",
    "print(polyReg.coef_)"
   ]
  },
  {
   "cell_type": "markdown",
   "metadata": {},
   "source": [
    "Now that our model is properly trained, we can put it to work by instructing it to predict the responses (y_predicted) based on poly_feature, and the coefficients it had estimated."
   ]
  },
  {
   "cell_type": "markdown",
   "metadata": {},
   "source": [
    "Prepare the data of test for Polynomial!!!"
   ]
  },
  {
   "cell_type": "code",
   "execution_count": 146,
   "metadata": {},
   "outputs": [
    {
     "name": "stdout",
     "output_type": "stream",
     "text": [
      "[[1.00000000e+00 6.11400000e+00 3.73809960e+01 2.28547410e+02\n",
      "  1.39733886e+03]\n",
      " [1.00000000e+00 6.51100000e+00 4.23931210e+01 2.76021611e+02\n",
      "  1.79717671e+03]\n",
      " [1.00000000e+00 6.10800000e+00 3.73076640e+01 2.27875212e+02\n",
      "  1.39186179e+03]\n",
      " [1.00000000e+00 5.98100000e+00 3.57723610e+01 2.13954491e+02\n",
      "  1.27966181e+03]\n",
      " [1.00000000e+00 6.34300000e+00 4.02336490e+01 2.55202036e+02\n",
      "  1.61874651e+03]\n",
      " [1.00000000e+00 5.92700000e+00 3.51293290e+01 2.08211533e+02\n",
      "  1.23406976e+03]\n",
      " [1.00000000e+00 6.45800000e+00 4.17057640e+01 2.69335824e+02\n",
      "  1.73937075e+03]\n",
      " [1.00000000e+00 6.49500000e+00 4.21850250e+01 2.73991737e+02\n",
      "  1.77957633e+03]\n",
      " [1.00000000e+00 6.43300000e+00 4.13834890e+01 2.66219985e+02\n",
      "  1.71259316e+03]\n",
      " [1.00000000e+00 6.38900000e+00 4.08193210e+01 2.60794642e+02\n",
      "  1.66621697e+03]\n",
      " [1.00000000e+00 6.84900000e+00 4.69088010e+01 3.21278378e+02\n",
      "  2.20043561e+03]\n",
      " [1.00000000e+00 6.27900000e+00 3.94258410e+01 2.47554856e+02\n",
      "  1.55439694e+03]\n",
      " [1.00000000e+00 6.81600000e+00 4.64578560e+01 3.16656746e+02\n",
      "  2.15833238e+03]\n",
      " [1.00000000e+00 6.60400000e+00 4.36128160e+01 2.88019037e+02\n",
      "  1.90207772e+03]\n",
      " [1.00000000e+00 8.03400000e+00 6.45451560e+01 5.18555783e+02\n",
      "  4.16607716e+03]\n",
      " [1.00000000e+00 7.17800000e+00 5.15236840e+01 3.69837004e+02\n",
      "  2.65469001e+03]\n",
      " [1.00000000e+00 6.12000000e+00 3.74544000e+01 2.29220928e+02\n",
      "  1.40283208e+03]\n",
      " [1.00000000e+00 6.77000000e+00 4.58329000e+01 3.10288733e+02\n",
      "  2.10065472e+03]\n",
      " [1.00000000e+00 7.82000000e+00 6.11524000e+01 4.78211768e+02\n",
      "  3.73961603e+03]\n",
      " [1.00000000e+00 6.71500000e+00 4.50912250e+01 3.02787576e+02\n",
      "  2.03321857e+03]\n",
      " [1.00000000e+00 6.63500000e+00 4.40232250e+01 2.92094098e+02\n",
      "  1.93804434e+03]\n",
      " [1.00000000e+00 5.89800000e+00 3.47864040e+01 2.05170211e+02\n",
      "  1.21009390e+03]\n",
      " [1.00000000e+00 5.68200000e+00 3.22851240e+01 1.83444075e+02\n",
      "  1.04232923e+03]\n",
      " [1.00000000e+00 7.13500000e+00 5.09082250e+01 3.63230185e+02\n",
      "  2.59164737e+03]\n",
      " [1.00000000e+00 6.09200000e+00 3.71124640e+01 2.26089131e+02\n",
      "  1.37733498e+03]\n",
      " [1.00000000e+00 5.72700000e+00 3.27985290e+01 1.87837176e+02\n",
      "  1.07574350e+03]\n",
      " [1.00000000e+00 5.70900000e+00 3.25926810e+01 1.86071616e+02\n",
      "  1.06228285e+03]\n",
      " [1.00000000e+00 6.64900000e+00 4.42092010e+01 2.93946977e+02\n",
      "  1.95445345e+03]\n",
      " [1.00000000e+00 6.31600000e+00 3.98918560e+01 2.51956962e+02\n",
      "  1.59136018e+03]\n",
      " [1.00000000e+00 6.43600000e+00 4.14220960e+01 2.66592610e+02\n",
      "  1.71579004e+03]\n",
      " [1.00000000e+00 6.78100000e+00 4.59819610e+01 3.11803678e+02\n",
      "  2.11434074e+03]\n",
      " [1.00000000e+00 5.96000000e+00 3.55216000e+01 2.11708736e+02\n",
      "  1.26178407e+03]\n",
      " [1.00000000e+00 5.91400000e+00 3.49753960e+01 2.06844492e+02\n",
      "  1.22327833e+03]\n",
      " [1.00000000e+00 6.14000000e+00 3.76996000e+01 2.31475544e+02\n",
      "  1.42125984e+03]\n",
      " [1.00000000e+00 6.09600000e+00 3.71612160e+01 2.26534773e+02\n",
      "  1.38095597e+03]\n",
      " [1.00000000e+00 7.68600000e+00 5.90745960e+01 4.54047345e+02\n",
      "  3.48980789e+03]\n",
      " [1.00000000e+00 6.10800000e+00 3.73076640e+01 2.27875212e+02\n",
      "  1.39186179e+03]\n",
      " [1.00000000e+00 5.79000000e+00 3.35241000e+01 1.94104539e+02\n",
      "  1.12386528e+03]\n",
      " [1.00000000e+00 6.95700000e+00 4.83998490e+01 3.36717749e+02\n",
      "  2.34254538e+03]\n",
      " [1.00000000e+00 5.99800000e+00 3.59760040e+01 2.15784072e+02\n",
      "  1.29427286e+03]\n",
      " [1.00000000e+00 6.31500000e+00 3.98792250e+01 2.51837306e+02\n",
      "  1.59035259e+03]\n",
      " [1.00000000e+00 6.39500000e+00 4.08960250e+01 2.61530080e+02\n",
      "  1.67248486e+03]\n",
      " [1.00000000e+00 5.75900000e+00 3.31660810e+01 1.91003460e+02\n",
      "  1.09998893e+03]\n",
      " [1.00000000e+00 6.86100000e+00 4.70733210e+01 3.22970055e+02\n",
      "  2.21589755e+03]\n",
      " [1.00000000e+00 6.16700000e+00 3.80318890e+01 2.34542659e+02\n",
      "  1.44642458e+03]\n",
      " [1.00000000e+00 5.59700000e+00 3.13264090e+01 1.75333911e+02\n",
      "  9.81343901e+02]\n",
      " [1.00000000e+00 6.01900000e+00 3.62283610e+01 2.18058505e+02\n",
      "  1.31249414e+03]\n",
      " [1.00000000e+00 6.22900000e+00 3.88004410e+01 2.41687947e+02\n",
      "  1.50547422e+03]\n",
      " [1.00000000e+00 7.06100000e+00 4.98577210e+01 3.52045368e+02\n",
      "  2.48579234e+03]\n",
      " [1.00000000e+00 6.19500000e+00 3.83780250e+01 2.37751865e+02\n",
      "  1.47287280e+03]\n",
      " [1.00000000e+00 6.31200000e+00 3.98413440e+01 2.51478563e+02\n",
      "  1.58733269e+03]\n",
      " [1.00000000e+00 6.41700000e+00 4.11778890e+01 2.64238514e+02\n",
      "  1.69561854e+03]\n",
      " [1.00000000e+00 5.81300000e+00 3.37909690e+01 1.96426903e+02\n",
      "  1.14182959e+03]\n",
      " [1.00000000e+00 6.60600000e+00 4.36392360e+01 2.88280793e+02\n",
      "  1.90438292e+03]\n",
      " [1.00000000e+00 5.98700000e+00 3.58441690e+01 2.14599040e+02\n",
      "  1.28480445e+03]\n",
      " [1.00000000e+00 6.15200000e+00 3.78471040e+01 2.32835384e+02\n",
      "  1.43240328e+03]\n",
      " [1.00000000e+00 5.88900000e+00 3.46803210e+01 2.04232410e+02\n",
      "  1.20272466e+03]\n",
      " [1.00000000e+00 6.13000000e+00 3.75769000e+01 2.30346397e+02\n",
      "  1.41202341e+03]\n",
      " [1.00000000e+00 5.56900000e+00 3.10137610e+01 1.72715635e+02\n",
      "  9.61853371e+02]\n",
      " [1.00000000e+00 5.96600000e+00 3.55931560e+01 2.12348769e+02\n",
      "  1.26687275e+03]\n",
      " [1.00000000e+00 6.98200000e+00 4.87483240e+01 3.40360798e+02\n",
      "  2.37639909e+03]\n",
      " [1.00000000e+00 5.83700000e+00 3.40705690e+01 1.98869911e+02\n",
      "  1.16080367e+03]\n",
      " [1.00000000e+00 6.56300000e+00 4.30729690e+01 2.82687896e+02\n",
      "  1.85528066e+03]\n",
      " [1.00000000e+00 5.85400000e+00 3.42693160e+01 2.00612576e+02\n",
      "  1.17438602e+03]\n",
      " [1.00000000e+00 6.14200000e+00 3.77241640e+01 2.31701815e+02\n",
      "  1.42311255e+03]\n",
      " [1.00000000e+00 5.89500000e+00 3.47510250e+01 2.04857292e+02\n",
      "  1.20763374e+03]\n",
      " [1.00000000e+00 6.05900000e+00 3.67114810e+01 2.22434863e+02\n",
      "  1.34773284e+03]\n",
      " [1.00000000e+00 5.86800000e+00 3.44334240e+01 2.02055332e+02\n",
      "  1.18566069e+03]\n",
      " [1.00000000e+00 5.96600000e+00 3.55931560e+01 2.12348769e+02\n",
      "  1.26687275e+03]\n",
      " [1.00000000e+00 6.69600000e+00 4.48364160e+01 3.00224642e+02\n",
      "  2.01030420e+03]\n",
      " [1.00000000e+00 6.25100000e+00 3.90750010e+01 2.44257831e+02\n",
      "  1.52685570e+03]\n",
      " [1.00000000e+00 6.34800000e+00 4.02971040e+01 2.55806016e+02\n",
      "  1.62385659e+03]\n",
      " [1.00000000e+00 4.13800000e+00 1.71230440e+01 7.08551561e+01\n",
      "  2.93198636e+02]\n",
      " [1.00000000e+00 5.09300000e+00 2.59386490e+01 1.32105539e+02\n",
      "  6.72813512e+02]\n",
      " [1.00000000e+00 6.43700000e+00 4.14349690e+01 2.66716895e+02\n",
      "  1.71685666e+03]\n",
      " [1.00000000e+00 5.03600000e+00 2.53612960e+01 1.27719487e+02\n",
      "  6.43195335e+02]\n",
      " [1.00000000e+00 6.18500000e+00 3.82542250e+01 2.36602382e+02\n",
      "  1.46338573e+03]\n",
      " [1.00000000e+00 6.48200000e+00 4.20163240e+01 2.72349812e+02\n",
      "  1.76537148e+03]\n",
      " [1.00000000e+00 6.63000000e+00 4.39569000e+01 2.91434247e+02\n",
      "  1.93220906e+03]\n",
      " [1.00000000e+00 6.01200000e+00 3.61441440e+01 2.17298594e+02\n",
      "  1.30639915e+03]\n",
      " [1.00000000e+00 6.30200000e+00 3.97152040e+01 2.50285216e+02\n",
      "  1.57729743e+03]\n",
      " [1.00000000e+00 6.41700000e+00 4.11778890e+01 2.64238514e+02\n",
      "  1.69561854e+03]\n",
      " [1.00000000e+00 8.33700000e+00 6.95055690e+01 5.79467929e+02\n",
      "  4.83102412e+03]\n",
      " [1.00000000e+00 6.57900000e+00 4.32832410e+01 2.84760443e+02\n",
      "  1.87343895e+03]\n",
      " [1.00000000e+00 6.20200000e+00 3.84648040e+01 2.38558714e+02\n",
      "  1.47954115e+03]\n",
      " [1.00000000e+00 6.85200000e+00 4.69499040e+01 3.21700742e+02\n",
      "  2.20429349e+03]\n",
      " [1.00000000e+00 6.12200000e+00 3.74788840e+01 2.29445728e+02\n",
      "  1.40466675e+03]\n",
      " [1.00000000e+00 6.17200000e+00 3.80935840e+01 2.35113600e+02\n",
      "  1.45112114e+03]\n",
      " [1.00000000e+00 4.92600000e+00 2.42654760e+01 1.19531735e+02\n",
      "  5.88813326e+02]\n",
      " [1.00000000e+00 6.41500000e+00 4.11522250e+01 2.63991523e+02\n",
      "  1.69350562e+03]\n",
      " [1.00000000e+00 6.05100000e+00 3.66146010e+01 2.21554951e+02\n",
      "  1.34062901e+03]\n",
      " [1.00000000e+00 6.08600000e+00 3.70393960e+01 2.25421764e+02\n",
      "  1.37191686e+03]\n",
      " [1.00000000e+00 6.59300000e+00 4.34676490e+01 2.86582210e+02\n",
      "  1.88943651e+03]\n",
      " [1.00000000e+00 7.18500000e+00 5.16242250e+01 3.70920057e+02\n",
      "  2.66506061e+03]\n",
      " [1.00000000e+00 5.39000000e+00 2.90521000e+01 1.56590819e+02\n",
      "  8.44024514e+02]\n",
      " [1.00000000e+00 6.57500000e+00 4.32306250e+01 2.84241359e+02\n",
      "  1.86888694e+03]\n",
      " [1.00000000e+00 8.37500000e+00 7.01406250e+01 5.87427734e+02\n",
      "  4.91970728e+03]\n",
      " [1.00000000e+00 6.79400000e+00 4.61584360e+01 3.13600414e+02\n",
      "  2.13060121e+03]\n",
      " [1.00000000e+00 6.15100000e+00 3.78348010e+01 2.32721861e+02\n",
      "  1.43147217e+03]\n",
      " [1.00000000e+00 6.74900000e+00 4.55490010e+01 3.07410208e+02\n",
      "  2.07471149e+03]\n",
      " [1.00000000e+00 6.59000000e+00 4.34281000e+01 2.86191179e+02\n",
      "  1.88599987e+03]\n",
      " [1.00000000e+00 5.45300000e+00 2.97352090e+01 1.62146095e+02\n",
      "  8.84182654e+02]]\n"
     ]
    }
   ],
   "source": [
    "X_test_poly=poly_feature.fit_transform(testX)\n",
    "print(X_test_poly)"
   ]
  },
  {
   "cell_type": "code",
   "execution_count": 40,
   "metadata": {},
   "outputs": [],
   "source": [
    "pred_uniRM_y_poly = polyReg.predict(X_test_poly)"
   ]
  },
  {
   "cell_type": "markdown",
   "metadata": {},
   "source": [
    "### Fit the two models and evaluate their MSE. Which model performs better and why?"
   ]
  },
  {
   "cell_type": "code",
   "execution_count": 79,
   "metadata": {},
   "outputs": [
    {
     "name": "stdout",
     "output_type": "stream",
     "text": [
      "Mean squared error of linear regression  33.43158389456608\n",
      "Mean squared error of 4th order polynominal regression  33.00778361135058\n"
     ]
    }
   ],
   "source": [
    "from sklearn.metrics import mean_squared_error\n",
    "print('Mean squared error of linear regression ', mean_squared_error(testY, pred_uniRM_y))\n",
    "print('Mean squared error of 4th order polynominal regression ', mean_squared_error(testY, pred_uniRM_y_poly))"
   ]
  },
  {
   "cell_type": "markdown",
   "metadata": {},
   "source": [
    "### Let’s do some dataviz to see what our model looks like"
   ]
  },
  {
   "cell_type": "code",
   "execution_count": 80,
   "metadata": {},
   "outputs": [
    {
     "data": {
      "text/plain": [
       "[<matplotlib.lines.Line2D at 0x1239535e0>]"
      ]
     },
     "execution_count": 80,
     "metadata": {},
     "output_type": "execute_result"
    },
    {
     "data": {
      "image/png": "[encoded data removed]",
      "text/plain": [
       "<Figure size 1080x648 with 1 Axes>"
      ]
     },
     "metadata": {
      "needs_background": "light"
     },
     "output_type": "display_data"
    }
   ],
   "source": [
    "plt.figure(figsize=(15,9))\n",
    "\n",
    "#plot the linear model\n",
    "plt.scatter(testX, testY, color='grey')\n",
    "plt.plot(testX, pred_uniRM_y, color='red', linewidth=1.5)\n"
   ]
  },
  {
   "cell_type": "code",
   "execution_count": 147,
   "metadata": {},
   "outputs": [
    {
     "name": "stdout",
     "output_type": "stream",
     "text": [
      "4.138 8.375\n"
     ]
    }
   ],
   "source": [
    "x_min = min(testX.iloc[:,:].values)[0]\n",
    "x_max = max(testX.iloc[:,:].values)[0]\n",
    "print(x_min, x_max) \n",
    "X_grid=np.arange(x_min,x_max,0.1)\n",
    "X_grid=X_grid.reshape((len(X_grid),1))"
   ]
  },
  {
   "cell_type": "code",
   "execution_count": 150,
   "metadata": {},
   "outputs": [
    {
     "data": {
      "text/plain": [
       "<matplotlib.legend.Legend at 0x127fc6100>"
      ]
     },
     "execution_count": 150,
     "metadata": {},
     "output_type": "execute_result"
    },
    {
     "data": {
      "image/png": "[encoded data removed]",
      "text/plain": [
       "<Figure size 1080x648 with 1 Axes>"
      ]
     },
     "metadata": {
      "needs_background": "light"
     },
     "output_type": "display_data"
    }
   ],
   "source": [
    "plt.figure(figsize=(15,9))\n",
    "\n",
    "#plot the linear model\n",
    "plt.scatter(testX, testY, color='grey')\n",
    "plt.plot(testX, pred_uniRM_y, color='red', linewidth=1.5)\n",
    "\n",
    "#plot the 4th order polynominal model\n",
    "X_grid_poly= poly_feature.fit_transform(X_grid)\n",
    "pred_uniRM_y_grid_poly = polyReg.predict(X_grid_poly)\n",
    "plt.plot(X_grid, pred_uniRM_y_grid_poly, color='green', linewidth=2)\n",
    "plt.legend(['linear','polynominal', 'data'])"
   ]
  },
  {
   "cell_type": "code",
   "execution_count": 151,
   "metadata": {},
   "outputs": [
    {
     "data": {
      "text/plain": [
       "<matplotlib.legend.Legend at 0x127937370>"
      ]
     },
     "execution_count": 151,
     "metadata": {},
     "output_type": "execute_result"
    },
    {
     "data": {
      "image/png": "[encoded data removed]",
      "text/plain": [
       "<Figure size 1080x648 with 1 Axes>"
      ]
     },
     "metadata": {
      "needs_background": "light"
     },
     "output_type": "display_data"
    }
   ],
   "source": [
    "plt.figure(figsize=(15,9))\n",
    "plt.hlines(y=0, xmin=3.5, xmax=9, colors = 'red')\n",
    "plt.scatter(testX, linReg.predict(testX) - testY, c='g', s=40)\n",
    "plt.scatter(testX, pred_uniRM_y_poly - testY, c='b', s=40)\n",
    "plt.legend(['line zero','linear', 'polynominal'])"
   ]
  },
  {
   "cell_type": "markdown",
   "metadata": {},
   "source": [
    "If the model is perfect, then for each testing data then there is 0 residual (or 0 error between predicted versus actual), which is represented by the horizontal line in the diagram. If the model under-estimates the actual value, it will be below this horizontal line, and if over-estimates, than above. This plot can quickly give you a sense of where the errors are occurring and whether there are outlier points that are causing large errors (we will examine this later in the course and ways to deal with this)."
   ]
  },
  {
   "cell_type": "markdown",
   "metadata": {},
   "source": [
    "\n",
    "> **<font color='red'><span style=\"font-size:1.5em;\">☞</span> With your dataframe slicing skill, can you count the number of residuals that are larger than zero and those that are smaller than zero?\n",
    "\n"
   ]
  },
  {
   "cell_type": "markdown",
   "metadata": {},
   "source": [
    "\n",
    "\n",
    "## Further exercies\n",
    "We have fitted a linear regression model/hypothesis for the ‘RM’ variable. Use the seaborn package to visualise the correlation plot and identify the next potential predictor of the house price. You should identify 'LSTAT' as the next potential predictor. Why is it?\n",
    "\n",
    "Repeat the above analysis using the ‘LSTAT’ variable, and comment on which predictor you think is performing better. LSTAT variable has a negative (inverse) linear relationship with ‘MEDV’, where when LSTAT increases MEDV decreases – do you think it matters?\n",
    "\n"
   ]
  },
  {
   "cell_type": "markdown",
   "metadata": {},
   "source": [
    "\n",
    "\n",
    "## Multivariate Regression\n",
    "\n",
    "So far, we have only used one X variable to predict MEDV. What if we used all the variables? To create such data, we first do the following:\n",
    "\n"
   ]
  },
  {
   "cell_type": "code",
   "execution_count": 17,
   "metadata": {},
   "outputs": [],
   "source": [
    "house_multi_X = bostonHouseFrame.drop('MEDV', axis=1)\n",
    "house_multi_Y = bostonHouseFrame[['MEDV']]"
   ]
  },
  {
   "cell_type": "code",
   "execution_count": 18,
   "metadata": {},
   "outputs": [
    {
     "name": "stdout",
     "output_type": "stream",
     "text": [
      "(506, 13)\n",
      "(506, 1)\n"
     ]
    }
   ],
   "source": [
    "print(house_multi_X.shape)\n",
    "print(house_multi_Y.shape)"
   ]
  },
  {
   "cell_type": "code",
   "execution_count": 20,
   "metadata": {},
   "outputs": [],
   "source": [
    "train_multi_X, test_multi_X, train_multi_Y, test_multi_Y = train_test_split(house_multi_X, house_multi_Y, test_size=0.2,shuffle=True)"
   ]
  },
  {
   "cell_type": "markdown",
   "metadata": {},
   "source": [
    "The Y variable is the same, but the X variable is interesting. We use the drop() method of data frames, which essentially drops a column from it – in our case, we drop the ‘MEDV’ column. X is now a data frame without the MEDV column, print it out the check.\n",
    "\n",
    "Now repeat the same analysis, noting that train_test_split(), linReg.fit() and linReg.predict() can work with multivariate linear regression (i.e. where we have multiple X variables) as well. Make sure you print out the intercept and coefficients, print(linReg.intercept_) print(linReg.coef_), to see what are the fits and do the mean squared error."
   ]
  },
  {
   "cell_type": "code",
   "execution_count": 31,
   "metadata": {},
   "outputs": [],
   "source": [
    "from sklearn import linear_model\n",
    "multi_linReg = linear_model.LinearRegression()"
   ]
  },
  {
   "cell_type": "code",
   "execution_count": 32,
   "metadata": {},
   "outputs": [],
   "source": [
    "history = multi_linReg.fit(train_multi_X, train_multi_Y)"
   ]
  },
  {
   "cell_type": "code",
   "execution_count": 33,
   "metadata": {},
   "outputs": [
    {
     "name": "stdout",
     "output_type": "stream",
     "text": [
      "LinearRegression()\n"
     ]
    }
   ],
   "source": [
    "print(history)"
   ]
  },
  {
   "cell_type": "markdown",
   "metadata": {},
   "source": [
    "# Regularization - Lasso Polynomial Regression \n",
    "\n",
    "> **<font color='red'><span style=\"font-size:1.5em;\">☞</span> Goal: Do some regularization techniques on polynomial regression. \n",
    "    \n",
    "We will be using the Lasso polynomial regression model. Recall that Lasso regularisation (L1) has a regularisation weight that determines the weighting placed on regularisation. We use the following regularisation weights to evaluate which one is best for the regularisation weight in your constructed lasso polynomial regression.\n",
    "\n",
    "- alpha = 0.01\n",
    "- alpha = 0.05\n",
    "- alpha = 0.1\n",
    "- alpha = 0.25\n",
    "- alpha = 0.5\n",
    "- alpha = 0.75\n",
    "- alpha = 1\n",
    "\n",
    "Refer to the documentation about L1 regularisation to understand how to modify the polyminal regression model with the alpha parameter: https://scikit-learn.org/stable/modules/generated/sklearn.linear_model.Lasso.html\n",
    "\n",
    "> **<font color='red'><span style=\"font-size:1.5em;\">☞</span> Task: Build seven different Lasso polynomial regression models with the above alpha parameters and evaluate which one works best (based on MSE).</font>**\n",
    "    \n",
    "> **<font color='red'><span style=\"font-size:1.5em;\">☞</span> Question: Keep the order of polynomial the same (i.e., 4). What is the alpha parameter that leads to the best model? </font>**"
   ]
  },
  {
   "cell_type": "markdown",
   "metadata": {},
   "source": [
    "In order to do model selection with different regularisation alpha values, we first store the alpha values in a list:"
   ]
  },
  {
   "cell_type": "code",
   "execution_count": 90,
   "metadata": {},
   "outputs": [],
   "source": [
    "alpha_RegPara = [0.01, 0.05, 0.1, 0.25, 0.5, 0.75, 1]"
   ]
  },
  {
   "cell_type": "code",
   "execution_count": 93,
   "metadata": {},
   "outputs": [],
   "source": [
    "#just remind that we already have X_train, Y_train\n",
    "from sklearn.model_selection import train_test_split\n",
    "X_train, X_test, Y_train, Y_test = train_test_split(house_uniRM_x, house_y, test_size=0.2,shuffle=True)"
   ]
  },
  {
   "cell_type": "markdown",
   "metadata": {},
   "source": [
    "First, we need to import Lasso from linear regesstion model"
   ]
  },
  {
   "cell_type": "code",
   "execution_count": 91,
   "metadata": {},
   "outputs": [],
   "source": [
    "from sklearn.linear_model import Lasso"
   ]
  },
  {
   "cell_type": "markdown",
   "metadata": {},
   "source": [
    "And prapare data for training and validation"
   ]
  },
  {
   "cell_type": "code",
   "execution_count": 107,
   "metadata": {},
   "outputs": [
    {
     "name": "stdout",
     "output_type": "stream",
     "text": [
      "(404, 1)\n",
      "(404, 1)\n"
     ]
    }
   ],
   "source": [
    "# We need to have lists to store our results\n",
    "final_results = []\n",
    "\n",
    "# Create the train and the validation sets based on the existing training set\n",
    "#for trainIndex, validIndex in kFold.split(X_train, Y_train):\n",
    "# Use 20% of the existing train set to make the validation set\n",
    "trainX = np.array(X_train.iloc[:])\n",
    "trainY = np.array(Y_train.iloc[:])\n",
    "validX = np.array(X_train.iloc[:])\n",
    "validY = np.array(Y_train.iloc[:])\n",
    "\n",
    "print(trainX.shape)\n",
    "print(validX.shape)\n",
    "#print(trainX)\n",
    "#print(validX)  \n"
   ]
  },
  {
   "cell_type": "code",
   "execution_count": 113,
   "metadata": {},
   "outputs": [
    {
     "name": "stdout",
     "output_type": "stream",
     "text": [
      "[0.01, 0.05, 0.1, 0.25, 0.5, 0.75, 1]\n",
      "---------------------------------------------------\n",
      "\n"
     ]
    },
    {
     "data": {
      "text/plain": [
       "[<matplotlib.lines.Line2D at 0x1269c3b20>]"
      ]
     },
     "execution_count": 113,
     "metadata": {},
     "output_type": "execute_result"
    },
    {
     "data": {
      "image/png": "[encoded data removed]",
      "text/plain": [
       "<Figure size 1152x360 with 1 Axes>"
      ]
     },
     "metadata": {
      "needs_background": "light"
     },
     "output_type": "display_data"
    }
   ],
   "source": [
    "# We have the training and validation data now\n",
    "# We gonna train each model with each alphas by using these training data\n",
    "# And then we are going to evaluate MSE of the models by applying them on the validation data\n",
    "# To store the results of each alphas\n",
    "lResults = []\n",
    "lModels = []\n",
    "for regPara in alpha_RegPara:\n",
    "    ### TRAINING THE LASSO MODEL\n",
    "    # Create the polynomial regression object\n",
    "    polyLassoReg = Lasso(alpha = regPara, normalize = True)\n",
    "\n",
    "    # Create, then fit and transform at the same time trainX by using the poly_feat object\n",
    "    polyFitTrainX = poly_feature.fit_transform(trainX)\n",
    "    \n",
    "    # Fit the model\n",
    "    polyLassoReg.fit(polyFitTrainX, trainY)\n",
    "\n",
    "    ### VALIDATE THE LASSO MODEL WITH THE VALIDATION DATA\n",
    "    # Create, then fit and transform at the same time validationX by using the poly_feat object\n",
    "    \n",
    "    polyFitValidX = poly_feature.fit_transform(validX)\n",
    "    # Predict Y by using the validation set\n",
    "    \n",
    "    predY = polyLassoReg.predict(polyFitValidX)\n",
    "    # Calculate the MSE\n",
    "    \n",
    "    mse = mean_squared_error(predY, validY)\n",
    "    # Store the MSE result of the current model\n",
    "    lResults.append(mse)\n",
    "    \n",
    "print(alpha_RegPara)\n",
    "print(\"---------------------------------------------------\")\n",
    "print(\"\")\n",
    "final_results.append(lResults)\n",
    "plt.figure(figsize=(16,5))\n",
    "plt.plot(alpha_RegPara, lResults)"
   ]
  },
  {
   "cell_type": "markdown",
   "metadata": {},
   "source": [
    "## K-Fold Cross Validation\n",
    "\n",
    "We will now use k-fold cross validation to evaluate parameters and to perform testing performance. \n",
    "\n",
    "Consider the following code to setup 5-fold cross validation:"
   ]
  },
  {
   "cell_type": "code",
   "execution_count": 110,
   "metadata": {},
   "outputs": [],
   "source": [
    "from sklearn import model_selection\n",
    "\n",
    "kFold = model_selection.KFold(n_splits=5, shuffle=True)"
   ]
  },
  {
   "cell_type": "markdown",
   "metadata": {},
   "source": [
    "The shuffle parameter of KFold() randomly shuffles the data before performing the splits. You may want to do some extra reading to understand how to use KFold()."
   ]
  },
  {
   "cell_type": "code",
   "execution_count": 121,
   "metadata": {},
   "outputs": [
    {
     "name": "stdout",
     "output_type": "stream",
     "text": [
      "[0.01, 0.05, 0.1, 0.25, 0.5, 0.75, 1]\n",
      "Fold 1 [43.472378535703044, 43.86368953301328, 45.84184473710903, 61.02691184502629, 81.9132176794942, 81.9132176794942, 81.9132176794942]\n",
      "---------------------------------------------------\n",
      "\n",
      "[0.01, 0.05, 0.1, 0.25, 0.5, 0.75, 1]\n",
      "Fold 2 [32.473640332921754, 33.307011222614925, 35.27775494629084, 47.38352019438167, 64.00090527129927, 64.00090527129927, 64.00090527129927]\n",
      "---------------------------------------------------\n",
      "\n",
      "[0.01, 0.05, 0.1, 0.25, 0.5, 0.75, 1]\n",
      "Fold 3 [71.56703248311118, 69.23527029882041, 68.8819257143263, 84.89761293330662, 113.13951085058673, 113.13951085058673, 113.13951085058673]\n",
      "---------------------------------------------------\n",
      "\n",
      "[0.01, 0.05, 0.1, 0.25, 0.5, 0.75, 1]\n",
      "Fold 4 [36.074473886609276, 36.53182555555119, 38.09960955972529, 49.44359102555895, 66.25649762402865, 66.25649762402865, 66.25649762402865]\n",
      "---------------------------------------------------\n",
      "\n",
      "[0.01, 0.05, 0.1, 0.25, 0.5, 0.75, 1]\n",
      "Fold 5 [35.328619622680684, 39.328203647988026, 45.993471757525995, 77.09452993883197, 101.15517781207134, 101.15517781207134, 101.15517781207134]\n",
      "---------------------------------------------------\n",
      "\n"
     ]
    },
    {
     "data": {
      "image/png": "[encoded data removed]",
      "text/plain": [
       "<Figure size 1152x648 with 1 Axes>"
      ]
     },
     "metadata": {
      "needs_background": "light"
     },
     "output_type": "display_data"
    }
   ],
   "source": [
    "# We need to have lists to store our results\n",
    "final_results = []\n",
    "i = 0\n",
    "plt.figure(figsize=(16,9))\n",
    "# Create the train and the validation sets based on the existing training set\n",
    "for trainIndex, validIndex in kFold.split(X_train, Y_train):\n",
    "    # Use 20% of the existing train set to make the validation set\n",
    "    trainX = np.array(X_train.iloc[trainIndex])\n",
    "    trainY = np.array(Y_train.iloc[trainIndex])\n",
    "    validX = np.array(X_train.iloc[validIndex])\n",
    "    validY = np.array(Y_train.iloc[validIndex])\n",
    "    \n",
    "    #print(trainX.shape)\n",
    "    #print(validX.shape)\n",
    "    #print(trainX)\n",
    "    #print(validX)\n",
    "    \n",
    "    # We have the training and validation data now\n",
    "    # We gonna train each model with each alphas by using these training data\n",
    "    # And then we are going to evaluate MSE of the models by applying them on the validation data\n",
    "    \n",
    "    # To store the results of each alphas\n",
    "    lResults = []\n",
    "    lModels = []\n",
    "    \n",
    "    for regPara in alpha_RegPara:\n",
    "        ### TRAINING THE LASSO MODEL\n",
    "        # Create the polynomial regression object\n",
    "        polyLassoReg = Lasso(alpha = regPara, normalize = True)\n",
    "        \n",
    "        # Create, then fit and transform at the same time trainX by using the poly_feat object\n",
    "        polyFitTrainX = poly_feature.fit_transform(trainX)\n",
    "        \n",
    "        # Fit the model\n",
    "        polyLassoReg.fit(polyFitTrainX, trainY)\n",
    "        \n",
    "        ### VALIDATE THE LASSO MODEL WITH THE VALIDATION DATA\n",
    "        # Create, then fit and transform at the same time validationX by using the poly_feat object\n",
    "        polyFitValidX = poly_feature.fit_transform(validX)\n",
    "        \n",
    "        # Predict Y by using the validation set\n",
    "        predY = polyLassoReg.predict(polyFitValidX)\n",
    "        \n",
    "        # Calculate the MSE\n",
    "        mse = mean_squared_error(predY, validY)\n",
    "        \n",
    "        # Store the MSE result of the current model\n",
    "        lResults.append(mse)\n",
    "        \n",
    "    i = i + 1\n",
    "    \n",
    "    print(alpha_RegPara)\n",
    "    print(\"Fold\",i,lResults)\n",
    "    print(\"---------------------------------------------------\")\n",
    "    print(\"\")\n",
    "    final_results.append(lResults)\n",
    "    plt.plot(alpha_RegPara, lResults)\n",
    "    plt.legend(['fold ' + str(i) for i in range(5)])"
   ]
  },
  {
   "cell_type": "code",
   "execution_count": 120,
   "metadata": {},
   "outputs": [
    {
     "name": "stdout",
     "output_type": "stream",
     "text": [
      "['fold 0', 'fold 1', 'fold 2', 'fold 3', 'fold 4']\n"
     ]
    }
   ],
   "source": [
    "print(['fold ' + str(i) for i in range(5)])"
   ]
  },
  {
   "cell_type": "markdown",
   "metadata": {},
   "source": [
    "Modify the code above to output an average (and std. dev.) of the results and plot it. \n",
    "Use this result to help select the regularisation parameter setting. \n",
    "\n",
    "> **<font color='red'><span style=\"font-size:1.5em;\">☞</span> What is the alpha value that we should use for our Lasso polynomial model and why?</font>**\n",
    "\n",
    "> **<font color='red'><span style=\"font-size:1.5em;\">☞</span>Your next task is to adjust the order of polynomial to 2 and 3 and evaluate the results. Do these models perform better than the order 4 polynomial model?</font>**"
   ]
  },
  {
   "cell_type": "markdown",
   "metadata": {},
   "source": [
    "> **<font color='red'><span style=\"font-size:1.5em;\">☞</span> Task: Work with multivariate regresstion!!!</font>**  "
   ]
  },
  {
   "cell_type": "markdown",
   "metadata": {},
   "source": [
    "# Exercise: Work on the Bike Share Data\n",
    "\n",
    "> **<font color='red'><span style=\"font-size:1.5em;\">☞</span> Task: Do the linear regression on the Bike Share Data.</font>**  \n",
    "> Now you seen how to do this task for the house price dataset. Repeat the same process for the Daily\n",
    "Bike Share rental data.\n"
   ]
  },
  {
   "cell_type": "code",
   "execution_count": null,
   "metadata": {},
   "outputs": [],
   "source": []
  }
 ],
 "metadata": {
  "kernelspec": {
   "display_name": "Python 3 (ipykernel)",
   "language": "python",
   "name": "python3"
  },
  "language_info": {
   "codemirror_mode": {
    "name": "ipython",
    "version": 3
   },
   "file_extension": ".py",
   "mimetype": "text/x-python",
   "name": "python",
   "nbconvert_exporter": "python",
   "pygments_lexer": "ipython3",
   "version": "3.9.7"
  }
 },
 "nbformat": 4,
 "nbformat_minor": 4
}
